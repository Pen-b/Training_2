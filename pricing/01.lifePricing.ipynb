{
 "cells": [
  {
   "cell_type": "markdown",
   "metadata": {},
   "source": [
    "# Actuarial Applicaiton of Monte Carlo\n",
    "\n",
    "Demonstrate Monte Carlo analysis to price life insurance risk. \n",
    "\n",
    "## Problem statement:\n",
    "A man and wife couple are looking to purchase a life insurance policy for:\n",
    "- Policy term of 20 years or until death.\n",
    "- payout $300,000\n",
    "- monthly premiums\n",
    "\n",
    "If a number ($n$) of policies are to be sold on the LI book each year, what is the monthly premium required per policy to ensure that the total premium collected exceeds the expected value of claims paid?"
   ]
  },
  {
   "cell_type": "code",
   "execution_count": 16,
   "metadata": {},
   "outputs": [],
   "source": [
    "import numpy as np\n",
    "import pandas as pd\n",
    "import matplotlib.pyplot as plt"
   ]
  },
  {
   "cell_type": "markdown",
   "metadata": {},
   "source": [
    "# Males\n",
    "- coverage avaliable to males aged 30 - 70\n",
    "- typically age of male at purchase is 50.\n",
    "- younger insureds generally purchase 40-year terms. \n",
    "- older insured purchase 20-year terms.\n",
    "- male insured age follow a normal distributions\n",
    "\n",
    "$mA = N(\\mu=45,\\sigma=5)$\n",
    "\n"
   ]
  },
  {
   "cell_type": "code",
   "execution_count": 17,
   "metadata": {},
   "outputs": [
    {
     "name": "stdout",
     "output_type": "stream",
     "text": [
      "Sample mean: 44.96\n",
      "Sample StdDev: 7.47\n"
     ]
    },
    {
     "data": {
      "image/png": "[encoded data removed]",
      "text/plain": [
       "<Figure size 432x288 with 1 Axes>"
      ]
     },
     "metadata": {},
     "output_type": "display_data"
    }
   ],
   "source": [
    "maleMu = 45\n",
    "maleSigma = 7.5\n",
    "maleAges = list()\n",
    "\n",
    "for i in range(10000):\n",
    "    maleAges.append(np.random.normal(maleMu,maleSigma))\n",
    "\n",
    "plt.title('Male age');\n",
    "plt.hist(maleAges, bins=np.arange(0,71,1), color='grey');\n",
    "plt.xlim(30,70);\n",
    "print('Sample mean: {:.2f}\\nSample StdDev: {:.2f}'.format(np.mean(maleAges),np.std(maleAges)))"
   ]
  },
  {
   "cell_type": "markdown",
   "metadata": {},
   "source": [
    "# Age of wife\n",
    "the ages of wives are given relative to the age of the husband. \n",
    "- 32.4 % are the same age as husbands. \n",
    "- 55.4 % are younger than husbands. \n",
    "- 12.3 % are older than husbands. \n",
    "- on average wifes are 2.3 years younger than husbands $\\sigma = 5.5$. \n",
    "- for older husbands, 1-17 years makes up 99.7 % ($3\\sigma$)\n",
    "- for older wives, 1-7 years makes up 99.7 % ($3\\sigma$)"
   ]
  },
  {
   "cell_type": "code",
   "execution_count": 18,
   "metadata": {},
   "outputs": [],
   "source": [
    "wifeRelative = pd.DataFrame(index=['m70','m20-69','m15-19','m10-14','m6-9','m4-5','m2-3','mw1',\n",
    "                    'w2-3','w4-5','w6-9','w10-14','w15-19','w20-69','w70'],\n",
    "             columns=['pOlder'],\n",
    "             data=[0,0.8,1.5,4.9,12.3,13.8,22.1,32.4,5.9,2.9,2.2,0.9,0.2,0.2,0])"
   ]
  },
  {
   "cell_type": "code",
   "execution_count": 19,
   "metadata": {},
   "outputs": [],
   "source": [
    "# calculate wifes age relative to hubands\n",
    "femaleAges = list()\n",
    "ageDif = list()\n",
    "wifeYounger = list()\n",
    "sameAge = list()\n",
    "\n",
    "for n,e in enumerate(maleAges):\n",
    "    sameAge.append(np.random.binomial(1,0.324)) # is wife is same age?\n",
    "    if sameAge[n] == 1: # if same age\n",
    "        ageDif.append(0)\n",
    "        wifeYounger.append(0)\n",
    "        \n",
    "    else: # if not same age\n",
    "        wifeYounger.append(np.random.binomial(1,0.554)) # is wife younger?\n",
    "        if wifeYounger[n] == 1:\n",
    "            ageDif.append(-1*abs(np.random.normal(0,5.5))) # younger age dif\n",
    "        else: # if older\n",
    "            ageDif.append(abs(np.random.normal(0,2.5))) # olfer age dif\n",
    "    \n",
    "    femaleAges.append(maleAges[n]+ageDif[n])"
   ]
  },
  {
   "cell_type": "code",
   "execution_count": 20,
   "metadata": {},
   "outputs": [
    {
     "data": {
      "image/png": "[encoded data removed]",
      "text/plain": [
       "<Figure size 432x288 with 1 Axes>"
      ]
     },
     "metadata": {},
     "output_type": "display_data"
    }
   ],
   "source": [
    "plt.title('Male & Female age');\n",
    "plt.hist(maleAges, bins=np.arange(0,71,1), alpha=1, color='grey');\n",
    "plt.hist(femaleAges, bins=np.arange(0,71,1), alpha=0.5, color='red');\n",
    "plt.xlim(20,70);"
   ]
  },
  {
   "cell_type": "markdown",
   "metadata": {},
   "source": [
    "# Male Mortality\n",
    "- mean age of death is 76 \n",
    "- ages 65 - 100 account for 99.7 % of deaths\n",
    "- the distribution of males deaths is normal to the mean 76, and then exponentional"
   ]
  },
  {
   "cell_type": "code",
   "execution_count": 21,
   "metadata": {},
   "outputs": [
    {
     "data": {
      "image/png": "[encoded data removed]",
      "text/plain": [
       "<Figure size 432x288 with 1 Axes>"
      ]
     },
     "metadata": {},
     "output_type": "display_data"
    }
   ],
   "source": [
    "mort = 76\n",
    "maleAboveMean = list()\n",
    "maleAOD = list()\n",
    "\n",
    "for i in range(10000):\n",
    "    maleAboveMean.append(np.random.binomial(1,0.5))\n",
    "    if maleAboveMean[i] == 1: # if male is > 76 y.o\n",
    "        maleAOD.append(mort + np.random.exponential(4.167))\n",
    "    else: # if male below 76 y.o\n",
    "        maleAOD.append(mort - abs(np.random.normal(0,3.667)))\n",
    "    \n",
    "plt.hist(maleAOD, bins=np.arange(0,100,1),alpha=1, color='grey');\n",
    "plt.title('Male Death Age');\n",
    "plt.xlim(50,110);"
   ]
  },
  {
   "cell_type": "markdown",
   "metadata": {},
   "source": [
    "# Femal Mortality\n",
    "- mean age of death is 81 \n",
    "- ages 65 - 100 account for 99.7 % of deaths\n",
    "- the distribution of males deaths is normal to the mean 81, and then exponentional."
   ]
  },
  {
   "cell_type": "code",
   "execution_count": 22,
   "metadata": {},
   "outputs": [
    {
     "data": {
      "image/png": "[encoded data removed]",
      "text/plain": [
       "<Figure size 432x288 with 1 Axes>"
      ]
     },
     "metadata": {},
     "output_type": "display_data"
    }
   ],
   "source": [
    "mort = 81\n",
    "maleAboveMean = list()\n",
    "femaleAOD = list()\n",
    "\n",
    "for i in range(10000):\n",
    "    maleAboveMean.append(np.random.binomial(1,0.5))\n",
    "    if maleAboveMean[i] == 1: # if male is > 76 y.o\n",
    "        femaleAOD.append(mort + np.random.exponential(3.271))\n",
    "    else: # if male below 76 y.o\n",
    "        femaleAOD.append(mort - abs(np.random.normal(0,5.333)))\n",
    "    \n",
    "plt.hist(femaleAOD, bins=np.arange(0,100,1),alpha=1, color='grey');\n",
    "plt.title('Female Death Age');\n",
    "plt.xlim(50,110);"
   ]
  },
  {
   "cell_type": "markdown",
   "metadata": {},
   "source": [
    "# Expected policy lifespans (years of cover or to death)"
   ]
  },
  {
   "cell_type": "code",
   "execution_count": 23,
   "metadata": {},
   "outputs": [
    {
     "data": {
      "image/png": "[encoded data removed]",
      "text/plain": [
       "<Figure size 432x288 with 1 Axes>"
      ]
     },
     "metadata": {},
     "output_type": "display_data"
    }
   ],
   "source": [
    "mPolicyYears = list()\n",
    "fPolicyYears = list()\n",
    "for n in range(10000):\n",
    "    mPolicyYears.append(maleAOD[n] - maleAges[n])\n",
    "    fPolicyYears.append(femaleAOD[n] - femaleAges[n])\n",
    "\n",
    "plt.title('Policy Years of Male & Females');\n",
    "plt.hist(mPolicyYears, bins=np.arange(0,71,1), alpha=1, color='grey');\n",
    "plt.hist(fPolicyYears, bins=np.arange(0,71,1), alpha=0.5, color='red');\n",
    "plt.xlim(0,80);"
   ]
  },
  {
   "cell_type": "markdown",
   "metadata": {},
   "source": [
    "# Scenarios of Premiums vs. Claims \n",
    "\n",
    "| Scenario| Claim | Profit |\n",
    "| --- | --- | --- |\n",
    "| Husband survives | \\$ 250,000 | Premium *Months Female Lived - \\$250,000 |\n",
    "| Wife survives | \\$ 250,000 | Premium * Months Male Lived - \\$250,000 |\n",
    "| Both survive | \\$ 0 | Premium * Months|"
   ]
  },
  {
   "cell_type": "code",
   "execution_count": 50,
   "metadata": {},
   "outputs": [],
   "source": [
    "POC = list() # premiums over claims (profit/loss)\n",
    "\n",
    "for year in range(1): # years\n",
    "    numClaims = 0 # total number of claims\n",
    "    numPrems = list()  # total number of prems\n",
    "    claims = list() # claims values\n",
    "    prems = list() # prem values\n",
    "    \n",
    "    for i in range(10000): # policies\n",
    "        \n",
    "        # Male survives term\n",
    "        if mPolicyYears[i] < 20: # if male dies during term\n",
    "            if mPolicyYears[i] > fPolicyYears[i]: # and male outlives wife\n",
    "                numClaims += 1 # claims made (for wifes death)\n",
    "                numPrems.append(12*fPolicyYears[i]) # months for years alive\n",
    "                claims.append(250000)\n",
    "                prems.append(100*fPolicyYears[i])\n",
    "                \n",
    "        # Female survives term\n",
    "        elif fPolicyYears[i] < 20: # if male survives, and female dies\n",
    "            if fPolicyYears[i] > mPolicyYears[i]: # and female outlive male\n",
    "                numClaims += 1 # claims made (for wifes death)\n",
    "                numPrems.append(12*mPolicyYears[i]) # months for years alive\n",
    "                claims.append(250000)\n",
    "                prems.append(100*mPolicyYears[i])\n",
    "        \n",
    "        # Both live (yay!)     \n",
    "        else: \n",
    "            prems.append(100*12*20) # premiums collected\n",
    "            claims.append(0) # no claim made\n",
    "    \n",
    "        #POC.append(prems[i]-claims[i])"
   ]
  },
  {
   "cell_type": "code",
   "execution_count": 51,
   "metadata": {},
   "outputs": [
    {
     "data": {
      "text/plain": [
       "(24500000, 213711881.8932334)"
      ]
     },
     "execution_count": 51,
     "metadata": {},
     "output_type": "execute_result"
    }
   ],
   "source": [
    "sum(claims), sum(prems)"
   ]
  },
  {
   "cell_type": "code",
   "execution_count": null,
   "metadata": {},
   "outputs": [],
   "source": []
  }
 ],
 "metadata": {
  "kernelspec": {
   "display_name": "Python [default]",
   "language": "python",
   "name": "python3"
  },
  "language_info": {
   "codemirror_mode": {
    "name": "ipython",
    "version": 3
   },
   "file_extension": ".py",
   "mimetype": "text/x-python",
   "name": "python",
   "nbconvert_exporter": "python",
   "pygments_lexer": "ipython3",
   "version": "3.6.5"
  }
 },
 "nbformat": 4,
 "nbformat_minor": 2
}
