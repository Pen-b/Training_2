{
  "nbformat": 4,
  "nbformat_minor": 0,
  "metadata": {
    "colab": {
      "name": "Sigmoid",
      "provenance": [],
      "collapsed_sections": [],
      "include_colab_link": true
    },
    "kernelspec": {
      "name": "python3",
      "display_name": "Python 3"
    }
  },
  "cells": [
    {
      "cell_type": "markdown",
      "metadata": {
        "id": "view-in-github",
        "colab_type": "text"
      },
      "source": [
        "<a href=\"https://colab.research.google.com/github/bpostance/training.data_science/blob/master/Sigmoid.ipynb\" target=\"_parent\"><img src=\"https://colab.research.google.com/assets/colab-badge.svg\" alt=\"Open In Colab\"/></a>"
      ]
    },
    {
      "cell_type": "code",
      "metadata": {
        "id": "lkKHDfxC6kRY",
        "colab_type": "code",
        "colab": {}
      },
      "source": [
        "#!pip install python-louvain\n",
        "#import networkx as nx\n",
        "#import community\n",
        "\n",
        "import matplotlib.pyplot as plt\n",
        "import numpy as np\n",
        "import pandas as pd\n",
        "import string\n",
        "%matplotlib inline"
      ],
      "execution_count": 0,
      "outputs": []
    },
    {
      "cell_type": "code",
      "metadata": {
        "id": "GDIYppmYRR-u",
        "colab_type": "code",
        "outputId": "4afc7e44-e1cf-4f95-b7bb-4341321a6101",
        "colab": {
          "base_uri": "https://localhost:8080/",
          "height": 34
        }
      },
      "source": [
        "arr = np.random.rand(10,2)\n",
        "len(arr)\n",
        "arr.shape"
      ],
      "execution_count": 0,
      "outputs": [
        {
          "output_type": "execute_result",
          "data": {
            "text/plain": [
              "(10, 2)"
            ]
          },
          "metadata": {
            "tags": []
          },
          "execution_count": 11
        }
      ]
    },
    {
      "cell_type": "code",
      "metadata": {
        "id": "PXt-iboKRcNb",
        "colab_type": "code",
        "outputId": "91971dd1-b2c7-412d-af75-00b3504fd24f",
        "colab": {
          "base_uri": "https://localhost:8080/",
          "height": 359
        }
      },
      "source": [
        "df = pd.DataFrame(arr, columns=['v1', 'v2'], index=range(len(arr)))\n",
        "df"
      ],
      "execution_count": 0,
      "outputs": [
        {
          "output_type": "execute_result",
          "data": {
            "text/html": [
              "<div>\n",
              "<style scoped>\n",
              "    .dataframe tbody tr th:only-of-type {\n",
              "        vertical-align: middle;\n",
              "    }\n",
              "\n",
              "    .dataframe tbody tr th {\n",
              "        vertical-align: top;\n",
              "    }\n",
              "\n",
              "    .dataframe thead th {\n",
              "        text-align: right;\n",
              "    }\n",
              "</style>\n",
              "<table border=\"1\" class=\"dataframe\">\n",
              "  <thead>\n",
              "    <tr style=\"text-align: right;\">\n",
              "      <th></th>\n",
              "      <th>v1</th>\n",
              "      <th>v2</th>\n",
              "    </tr>\n",
              "  </thead>\n",
              "  <tbody>\n",
              "    <tr>\n",
              "      <th>0</th>\n",
              "      <td>0.944982</td>\n",
              "      <td>0.146171</td>\n",
              "    </tr>\n",
              "    <tr>\n",
              "      <th>1</th>\n",
              "      <td>0.789730</td>\n",
              "      <td>0.640832</td>\n",
              "    </tr>\n",
              "    <tr>\n",
              "      <th>2</th>\n",
              "      <td>0.636518</td>\n",
              "      <td>0.925249</td>\n",
              "    </tr>\n",
              "    <tr>\n",
              "      <th>3</th>\n",
              "      <td>0.580055</td>\n",
              "      <td>0.778295</td>\n",
              "    </tr>\n",
              "    <tr>\n",
              "      <th>4</th>\n",
              "      <td>0.911698</td>\n",
              "      <td>0.434882</td>\n",
              "    </tr>\n",
              "    <tr>\n",
              "      <th>5</th>\n",
              "      <td>0.770583</td>\n",
              "      <td>0.483705</td>\n",
              "    </tr>\n",
              "    <tr>\n",
              "      <th>6</th>\n",
              "      <td>0.031173</td>\n",
              "      <td>0.356758</td>\n",
              "    </tr>\n",
              "    <tr>\n",
              "      <th>7</th>\n",
              "      <td>0.505596</td>\n",
              "      <td>0.592865</td>\n",
              "    </tr>\n",
              "    <tr>\n",
              "      <th>8</th>\n",
              "      <td>0.035610</td>\n",
              "      <td>0.958912</td>\n",
              "    </tr>\n",
              "    <tr>\n",
              "      <th>9</th>\n",
              "      <td>0.564968</td>\n",
              "      <td>0.478070</td>\n",
              "    </tr>\n",
              "  </tbody>\n",
              "</table>\n",
              "</div>"
            ],
            "text/plain": [
              "         v1        v2\n",
              "0  0.944982  0.146171\n",
              "1  0.789730  0.640832\n",
              "2  0.636518  0.925249\n",
              "3  0.580055  0.778295\n",
              "4  0.911698  0.434882\n",
              "5  0.770583  0.483705\n",
              "6  0.031173  0.356758\n",
              "7  0.505596  0.592865\n",
              "8  0.035610  0.958912\n",
              "9  0.564968  0.478070"
            ]
          },
          "metadata": {
            "tags": []
          },
          "execution_count": 15
        }
      ]
    },
    {
      "cell_type": "code",
      "metadata": {
        "id": "d7rdn3yN7Q8O",
        "colab_type": "code",
        "outputId": "82fad9c9-ed90-4037-9f67-5d4582ea4af2",
        "colab": {
          "base_uri": "https://localhost:8080/",
          "height": 268
        }
      },
      "source": [
        "df.plot();"
      ],
      "execution_count": 0,
      "outputs": [
        {
          "output_type": "display_data",
          "data": {
            "image/png": "[encoded data removed]",
            "text/plain": [
              "<matplotlib.figure.Figure at 0x7f7b2db67358>"
            ]
          },
          "metadata": {
            "tags": []
          }
        }
      ]
    },
    {
      "cell_type": "markdown",
      "metadata": {
        "id": "4Z9RofPU4tSW",
        "colab_type": "text"
      },
      "source": [
        "# Sigmoid [wiki](https://datascience.stackexchange.com/questions/17986/sigmoid-function)"
      ]
    },
    {
      "cell_type": "code",
      "metadata": {
        "id": "1ztXfZgf4o6j",
        "colab_type": "code",
        "colab": {}
      },
      "source": [
        "import math"
      ],
      "execution_count": 0,
      "outputs": []
    },
    {
      "cell_type": "code",
      "metadata": {
        "id": "I1LS8i2r4wnJ",
        "colab_type": "code",
        "colab": {}
      },
      "source": [
        "def sigmoid(x, L):\n",
        "  y = L / (1 + math.exp(-x))\n",
        "  return y"
      ],
      "execution_count": 0,
      "outputs": []
    },
    {
      "cell_type": "code",
      "metadata": {
        "id": "4EkqgSkvEbW7",
        "colab_type": "code",
        "outputId": "3587f9fd-90f6-4c20-bc7e-ee18b121bdd5",
        "colab": {
          "base_uri": "https://localhost:8080/",
          "height": 35
        }
      },
      "source": [
        "y = sigmoid(2.0, 400)\n",
        "y"
      ],
      "execution_count": 0,
      "outputs": [
        {
          "output_type": "execute_result",
          "data": {
            "text/plain": [
              "352.3188311911529"
            ]
          },
          "metadata": {
            "tags": []
          },
          "execution_count": 174
        }
      ]
    },
    {
      "cell_type": "code",
      "metadata": {
        "id": "tOAzGeanHEgV",
        "colab_type": "code",
        "colab": {}
      },
      "source": [
        "# https://stackoverflow.com/questions/10097891/inverse-logistic-function-reverse-sigmoid-function\n",
        "def invSigmoid(y, L):\n",
        "  x = np.log(y/(L-y))\n",
        "  return x"
      ],
      "execution_count": 0,
      "outputs": []
    },
    {
      "cell_type": "code",
      "metadata": {
        "id": "M1Hbc4iWK9op",
        "colab_type": "code",
        "outputId": "6389be33-8023-4527-d926-3411417680b4",
        "colab": {
          "base_uri": "https://localhost:8080/",
          "height": 35
        }
      },
      "source": [
        "x = invSigmoid(y, 400)\n",
        "x"
      ],
      "execution_count": 0,
      "outputs": [
        {
          "output_type": "execute_result",
          "data": {
            "text/plain": [
              "1.9999999999999987"
            ]
          },
          "metadata": {
            "tags": []
          },
          "execution_count": 176
        }
      ]
    },
    {
      "cell_type": "markdown",
      "metadata": {
        "id": "1RVKsgGgIoyL",
        "colab_type": "text"
      },
      "source": [
        "\n",
        "### Exponential Function\n",
        "Raises a $e$ to power n:<br>\n",
        "=  $e^n$<br>\n",
        "= $2.718^n$\n",
        "\n"
      ]
    },
    {
      "cell_type": "code",
      "metadata": {
        "id": "3LRDbKsdHWcN",
        "colab_type": "code",
        "outputId": "6c6fe535-b8b3-4435-f002-e0a8b3c9b3ca",
        "colab": {
          "base_uri": "https://localhost:8080/",
          "height": 35
        }
      },
      "source": [
        "n = 2\n",
        "exp = np.exp(n) \n",
        "print('exp({}) = {:.4}'.format(n,exp))"
      ],
      "execution_count": 0,
      "outputs": [
        {
          "output_type": "stream",
          "text": [
            "exp(2) = 7.389\n"
          ],
          "name": "stdout"
        }
      ]
    },
    {
      "cell_type": "markdown",
      "metadata": {
        "id": "bQhIbM5qJDU-",
        "colab_type": "text"
      },
      "source": [
        "### Natural Logartihm \n",
        "Inverse of $e^n$:<br>\n",
        "= $ln(e^n)$"
      ]
    },
    {
      "cell_type": "code",
      "metadata": {
        "id": "Kc7K3_r6HboO",
        "colab_type": "code",
        "outputId": "8670aea2-537a-4b80-dae6-6421f9964199",
        "colab": {
          "base_uri": "https://localhost:8080/",
          "height": 35
        }
      },
      "source": [
        "print('Inverse exp({:.4}) = {}'.format(exp,np.log(exp)))"
      ],
      "execution_count": 0,
      "outputs": [
        {
          "output_type": "stream",
          "text": [
            "Inverse exp(7.389) = 2.0\n"
          ],
          "name": "stdout"
        }
      ]
    },
    {
      "cell_type": "markdown",
      "metadata": {
        "id": "M8U0iprbJ9bk",
        "colab_type": "text"
      },
      "source": [
        "## Plots"
      ]
    },
    {
      "cell_type": "code",
      "metadata": {
        "id": "R0xsnp4m8RWg",
        "colab_type": "code",
        "outputId": "61f4f5b6-6b4a-4bb8-87eb-a64556b3d220",
        "colab": {
          "base_uri": "https://localhost:8080/",
          "height": 335
        }
      },
      "source": [
        "fig, axs = plt.subplots(1,4, figsize=(20,5))\n",
        "\n",
        "X = np.random.normal(loc=0, scale=4, size=10000)\n",
        "S = [sigmoid(x,1) for x in X]\n",
        "iS = [invSigmoid(x,1) for x in S]\n",
        " \n",
        "axs[0].hist(X);\n",
        "axs[1].plot(np.sort(X));\n",
        "axs[2].plot(np.sort(S));\n",
        "axs[3].plot(np.sort(iS));\n",
        "\n",
        "for ax,title in zip(axs,['hist','raw', 'Sigmoid', 'InvSigmoid > Raw']):\n",
        "  ax.set_title(title)"
      ],
      "execution_count": 0,
      "outputs": [
        {
          "output_type": "display_data",
          "data": {
            "image/png": "[encoded data removed]",
            "text/plain": [
              "<matplotlib.figure.Figure at 0x7f8789c396d8>"
            ]
          },
          "metadata": {
            "tags": []
          }
        }
      ]
    },
    {
      "cell_type": "code",
      "metadata": {
        "id": "r9Nz-AnN4eTI",
        "colab_type": "code",
        "colab": {}
      },
      "source": [
        ""
      ],
      "execution_count": 0,
      "outputs": []
    },
    {
      "cell_type": "code",
      "metadata": {
        "id": "OuRCpUnHARS1",
        "colab_type": "code",
        "colab": {}
      },
      "source": [
        ""
      ],
      "execution_count": 0,
      "outputs": []
    },
    {
      "cell_type": "code",
      "metadata": {
        "id": "DQ7x5m4vASMt",
        "colab_type": "code",
        "colab": {}
      },
      "source": [
        ""
      ],
      "execution_count": 0,
      "outputs": []
    }
  ]
}