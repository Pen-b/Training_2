{
 "cells": [
  {
   "cell_type": "code",
   "execution_count": 1,
   "metadata": {},
   "outputs": [],
   "source": [
    "import os\n",
    "import pandas as pd\n",
    "import numpy as np\n",
    "import networkx as nx\n",
    "import matplotlib.pyplot as plt\n",
    "import pickle"
   ]
  },
  {
   "cell_type": "markdown",
   "metadata": {},
   "source": [
    "***Guides***\n",
    "- https://towardsdatascience.com/learning-in-graphs-with-python-part-3-8d5513eef62d\n",
    "- https://networkx.github.io/documentation/networkx-1.10/tutorial/tutorial.html#graph-generators-and-graph-operations\n",
    "\n",
    "***Datasets***\n",
    "\n",
    "- [CiteSeer author citation dataset](http://networkrepository.com/citeseer.php)\n",
    "- [General Relativity and Quantum Cosmology collaboration network](http://snap.stanford.edu/data/ca-GrQc.html)"
   ]
  },
  {
   "cell_type": "code",
   "execution_count": 2,
   "metadata": {},
   "outputs": [],
   "source": [
    "# citeseer data\n",
    "edges = pd.read_csv('./data/citeseer.edges',header=None,names=['s','t','w'])\n",
    "nodes = pd.read_csv('./data/citeseer.node_labels',header=None,names=['node','y'])"
   ]
  },
  {
   "cell_type": "markdown",
   "metadata": {},
   "source": [
    "***Create undirected graph of the CiteSeer data***\n",
    "\n",
    "- Nodes are authors\n",
    "- Edges indicate a co-authored publications, are un-weighted (=1) and un-directed. "
   ]
  },
  {
   "cell_type": "code",
   "execution_count": 55,
   "metadata": {},
   "outputs": [
    {
     "name": "stdout",
     "output_type": "stream",
     "text": [
      "Graph : citeseer\n",
      "Nodes : 3264\n",
      "Edges : 4536\n"
     ]
    }
   ],
   "source": [
    "G=nx.Graph(name='citeseer')\n",
    "for x in list(nodes['node'].unique()): G.add_node(x) \n",
    "G.add_edges_from([(i,e,{'weight':1}) for i,e in edges[['s','t']].values])\n",
    "\n",
    "# view\n",
    "print(f'Graph : {G.graph[\"name\"]}')\n",
    "print(f'Nodes : {len(G)}')\n",
    "print(f'Edges : {len(G.edges)}')\n",
    "#G.edges(data=True)"
   ]
  },
  {
   "cell_type": "markdown",
   "metadata": {},
   "source": [
    "***Node degree distribution***"
   ]
  },
  {
   "cell_type": "code",
   "execution_count": 88,
   "metadata": {},
   "outputs": [
    {
     "data": {
      "image/png": "[encoded data removed]",
      "text/plain": [
       "<Figure size 432x288 with 1 Axes>"
      ]
     },
     "metadata": {
      "needs_background": "light"
     },
     "output_type": "display_data"
    }
   ],
   "source": [
    "degree = [i for i in nx.degree(G)]\n",
    "degree_df = pd.DataFrame(degree,columns=['node','degree'])\n",
    "degree_df['bin'] = pd.cut(degree_df['degree'],bins=[0,1,5,10,25,50,100],\n",
    "                          labels=[1,2,3,4,5,10]) # labels=['1','2-5','6-10','11-25','26-50','51-100'])\n",
    "degree_df['degree'].plot.hist(density=True,bins=np.arange(0,101,1));"
   ]
  },
  {
   "cell_type": "markdown",
   "metadata": {},
   "source": [
    "***Connected components / subgraphs***"
   ]
  },
  {
   "cell_type": "code",
   "execution_count": 136,
   "metadata": {},
   "outputs": [
    {
     "name": "stdout",
     "output_type": "stream",
     "text": [
      "Subgraphs: 390\n",
      "Max size (item): 2110 (0)\n"
     ]
    },
    {
     "data": {
      "text/html": [
       "<div>\n",
       "<style scoped>\n",
       "    .dataframe tbody tr th:only-of-type {\n",
       "        vertical-align: middle;\n",
       "    }\n",
       "\n",
       "    .dataframe tbody tr th {\n",
       "        vertical-align: top;\n",
       "    }\n",
       "\n",
       "    .dataframe thead th {\n",
       "        text-align: right;\n",
       "    }\n",
       "</style>\n",
       "<table border=\"1\" class=\"dataframe\">\n",
       "  <thead>\n",
       "    <tr style=\"text-align: right;\">\n",
       "      <th></th>\n",
       "      <th>count</th>\n",
       "      <th>mean</th>\n",
       "      <th>std</th>\n",
       "      <th>min</th>\n",
       "      <th>25%</th>\n",
       "      <th>50%</th>\n",
       "      <th>75%</th>\n",
       "      <th>max</th>\n",
       "    </tr>\n",
       "  </thead>\n",
       "  <tbody>\n",
       "    <tr>\n",
       "      <th>0</th>\n",
       "      <td>390.0</td>\n",
       "      <td>8.369231</td>\n",
       "      <td>106.714751</td>\n",
       "      <td>2.0</td>\n",
       "      <td>2.0</td>\n",
       "      <td>2.0</td>\n",
       "      <td>3.0</td>\n",
       "      <td>2110.0</td>\n",
       "    </tr>\n",
       "  </tbody>\n",
       "</table>\n",
       "</div>"
      ],
      "text/plain": [
       "   count      mean         std  min  25%  50%  75%     max\n",
       "0  390.0  8.369231  106.714751  2.0  2.0  2.0  3.0  2110.0"
      ]
     },
     "execution_count": 136,
     "metadata": {},
     "output_type": "execute_result"
    }
   ],
   "source": [
    "sg = [G.subgraph(c) for c in nx.connected_components(G)]\n",
    "sg_size = np.array([len(g) for g in sg])\n",
    "\n",
    "print(f'Subgraphs: {len(sg)}')\n",
    "print(f'Max size (item): {max(sg_size)} ({np.argmax(sg_size)})')\n",
    "pd.DataFrame(sg_size).describe().T"
   ]
  },
  {
   "cell_type": "code",
   "execution_count": 140,
   "metadata": {},
   "outputs": [
    {
     "data": {
      "text/plain": [
       "[(0, 2110),\n",
       " (36, 12),\n",
       " (46, 13),\n",
       " (55, 17),\n",
       " (56, 18),\n",
       " (59, 11),\n",
       " (109, 12),\n",
       " (125, 15)]"
      ]
     },
     "execution_count": 140,
     "metadata": {},
     "output_type": "execute_result"
    }
   ],
   "source": [
    "# all sub-graphs larger than n\n",
    "n = 10\n",
    "[(e,len(g)) for e,g in enumerate(sg) if len(g)>n]"
   ]
  },
  {
   "cell_type": "markdown",
   "metadata": {},
   "source": [
    "***View the lagest sub-graph***"
   ]
  },
  {
   "cell_type": "code",
   "execution_count": 143,
   "metadata": {},
   "outputs": [
    {
     "data": {
      "image/png": "[encoded data removed]",
      "text/plain": [
       "<Figure size 720x720 with 1 Axes>"
      ]
     },
     "metadata": {},
     "output_type": "display_data"
    }
   ],
   "source": [
    "fig,ax = plt.subplots(1,1, figsize=(10,10))\n",
    "g = sg[56]\n",
    "dg = dict(nx.degree(g))\n",
    "\n",
    "pos = nx.spring_layout(g,seed=2)\n",
    "\n",
    "nx.draw(g, \n",
    "        ax=ax,\n",
    "        pos=pos,\n",
    "        nodelist=dg.keys(),\n",
    "        node_size=[v * 100 for v in dg.values()],\n",
    "        with_labels=True,\n",
    "        cmap = plt.get_cmap('jet'),\n",
    "        #node_color = values,\n",
    "        width=0.1)"
   ]
  },
  {
   "cell_type": "markdown",
   "metadata": {},
   "source": [
    "### Node2Vec\n",
    "\n",
    "The node2vec framework learns low-dimensional representations for nodes in a graph by optimizing a neighborhood preserving objective. The objective is flexible, and the algorithm accomodates for various definitions of network neighborhoods by simulating biased random walks. Specifically, it provides a way of balancing the exploration-exploitation tradeoff that in turn leads to representations obeying a spectrum of equivalences from homophily to structural equivalence. [ref](https://snap.stanford.edu/node2vec/)\n",
    "\n",
    " - https://github.com/eliorc/node2vec\n",
    " - [snap implementation](https://snap.stanford.edu/node2vec/)\n",
    " \n",
    "[*node2vec: Scalable Feature Learning for Networks. A. Grover, J. Leskovec. ACM SIGKDD International Conference on Knowledge Discovery and Data Mining (KDD), 2016.*](http://arxiv.org/abs/1607.00653)\n"
   ]
  },
  {
   "cell_type": "code",
   "execution_count": null,
   "metadata": {},
   "outputs": [],
   "source": [
    "from node2vec import Node2Vec"
   ]
  },
  {
   "cell_type": "code",
   "execution_count": null,
   "metadata": {},
   "outputs": [],
   "source": [
    "# load or train\n",
    "try: \n",
    "    node2vec = pickle.load(open( \"n2v-node2vec.p\", \"rb\" ))\n",
    "    model = pickle.load(open( \"n2v-model.p\", \"rb\" ))\n",
    "    print('Loaded n2v and model')\n",
    "    \n",
    "except:\n",
    "    print('Training: node2vec...')\n",
    "    # pre-compute the probabilities and generate walks :\n",
    "    node2vec = Node2Vec(G, dimensions=64, walk_length=30, num_walks=200, workers=4)\n",
    "    pickle.dump(node2vec, open( \"n2v-node2vec.p\", \"wb\" ))\n",
    "    \n",
    "    \n",
    "    # We can then embed the nodes\n",
    "    model = node2vec.fit(window=10, min_count=1, batch_words=4)\n",
    "    pickle.dump(model, open( \"n2v-model-nodes.p\", \"wb\" ))"
   ]
  },
  {
   "cell_type": "markdown",
   "metadata": {},
   "source": [
    "It has a length of 64 since we defined the dimension as 64 above. What can we do with this embedding? One of the first options is for example to identify the most similar node!"
   ]
  },
  {
   "cell_type": "code",
   "execution_count": null,
   "metadata": {},
   "outputs": [],
   "source": [
    "# find similar nodes to specific node\n",
    "nid = 5\n",
    "print(model.wv.get_vector(f'{nid}'))\n",
    "nids = [int(x[0]) for x in model.wv.most_similar(f'{nid}')]+[int(nid)]\n",
    "node_degree.loc[node_degree['node'].isin(nids)]"
   ]
  },
  {
   "cell_type": "markdown",
   "metadata": {},
   "source": [
    "If the nodes have labels, we can train an algorithm based on the embedding and attach a label (node labeling, most similar node…)"
   ]
  },
  {
   "cell_type": "markdown",
   "metadata": {},
   "source": [
    "***Edge Embedding***\n",
    "\n",
    "Edges can also be embedded, and the embedding can be further used for classification."
   ]
  },
  {
   "cell_type": "code",
   "execution_count": null,
   "metadata": {},
   "outputs": [],
   "source": [
    "from node2vec.edges import HadamardEmbedder"
   ]
  },
  {
   "cell_type": "code",
   "execution_count": null,
   "metadata": {},
   "outputs": [],
   "source": [
    "edges_embs = HadamardEmbedder(keyed_vectors=model.wv)"
   ]
  },
  {
   "cell_type": "code",
   "execution_count": null,
   "metadata": {},
   "outputs": [],
   "source": [
    "#Then, retrieve the vectors by specifying the name of the 2 linked nodes :\n",
    "edges_embs[('1','100')]"
   ]
  },
  {
   "cell_type": "code",
   "execution_count": null,
   "metadata": {},
   "outputs": [],
   "source": [
    "# Again, we can retrieve the most similar edge, which can be used for missing \n",
    "# edges prediction for example :\n",
    "try: \n",
    "    edges_kv = pickle.load(open( \"n2v-model-edges.p\", \"rb\" ))\n",
    "    print('Loaded n2v edge embedding')\n",
    "    \n",
    "except:\n",
    "    print('Training: n2v edge embedding...')\n",
    "    # pre-compute the probabilities and generate walks :\n",
    "    edges_kv = edges_embs.as_keyed_vectors()\n",
    "    pickle.dump(edges_kv, open( \"n2v-model-edges.p\", \"wb\" ))"
   ]
  },
  {
   "cell_type": "code",
   "execution_count": null,
   "metadata": {},
   "outputs": [],
   "source": [
    "edges_kv.most_similar(str(('1', '2')))"
   ]
  },
  {
   "cell_type": "code",
   "execution_count": null,
   "metadata": {},
   "outputs": [],
   "source": []
  }
 ],
 "metadata": {
  "kernelspec": {
   "display_name": "Python [conda env:machine-learning]",
   "language": "python",
   "name": "conda-env-machine-learning-py"
  },
  "language_info": {
   "codemirror_mode": {
    "name": "ipython",
    "version": 3
   },
   "file_extension": ".py",
   "mimetype": "text/x-python",
   "name": "python",
   "nbconvert_exporter": "python",
   "pygments_lexer": "ipython3",
   "version": "3.7.5"
  }
 },
 "nbformat": 4,
 "nbformat_minor": 4
}
