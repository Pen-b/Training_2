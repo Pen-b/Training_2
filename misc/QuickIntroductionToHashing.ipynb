{
 "cells": [
  {
   "cell_type": "markdown",
   "metadata": {},
   "source": [
    "# Zero2Basic - Hash Functions\n",
    "I as recently working on a data mining task at work where I had a list of \n",
    "\n",
    "\n",
    "This post is intended to provide a quick introduction to hash functions and to discuss some of the practical use cases of hashes in data mining and machine learning. As with my other Zero2Basic posts, my aim is to provide a basic introduction to the concept and to demonstrate practical use cases.\n",
    "\n",
    "### So what is a hash function?\n",
    "*\"A hash function is a deterministic function that maps inputs of arbitrary sizes to outputs of a fixed size.\" [Wiki](https://en.wikipedia.org/wiki/Hash_function)*\n"
   ]
  },
  {
   "cell_type": "code",
   "execution_count": 5,
   "metadata": {},
   "outputs": [],
   "source": [
    "names = ['bog iger','bob seager','bob dole','{','123']"
   ]
  },
  {
   "cell_type": "markdown",
   "metadata": {},
   "source": [
    "# Method 1\n",
    "- Internal python **hash()**\n",
    "- Doesnt work. Python 3 seeds randomly on each instance"
   ]
  },
  {
   "cell_type": "code",
   "execution_count": 6,
   "metadata": {},
   "outputs": [
    {
     "data": {
      "text/plain": [
       "[-8683157934459847274,\n",
       " -6525526042096646315,\n",
       " 1347967004138474686,\n",
       " -7898148401109211603,\n",
       " 5195192002307663527]"
      ]
     },
     "execution_count": 6,
     "metadata": {},
     "output_type": "execute_result"
    }
   ],
   "source": [
    "[hash(name) for name in names]"
   ]
  },
  {
   "cell_type": "code",
   "execution_count": 7,
   "metadata": {},
   "outputs": [
    {
     "data": {
      "text/plain": [
       "[-8683157934459847274,\n",
       " -6525526042096646315,\n",
       " 1347967004138474686,\n",
       " -7898148401109211603,\n",
       " 5195192002307663527]"
      ]
     },
     "execution_count": 7,
     "metadata": {},
     "output_type": "execute_result"
    }
   ],
   "source": [
    "# post restart kernel\n",
    "[hash(name) for name in names]"
   ]
  },
  {
   "cell_type": "markdown",
   "metadata": {},
   "source": [
    "# [Method 2](https://stackoverflow.com/questions/31701991/string-of-text-to-unique-integer-method)\n",
    "\n",
    " - two-way hash\n",
    " - not secure"
   ]
  },
  {
   "cell_type": "code",
   "execution_count": 9,
   "metadata": {},
   "outputs": [],
   "source": [
    "import math\n",
    "def convertToNumber (s):\n",
    "    return int.from_bytes(s.encode(), byteorder='little')\n",
    "\n",
    "def convertFromNumber (n):\n",
    "    return n.to_bytes(math.ceil(n.bit_length() / 8), byteorder='little').decode()"
   ]
  },
  {
   "cell_type": "code",
   "execution_count": 10,
   "metadata": {},
   "outputs": [
    {
     "data": {
      "text/plain": [
       "[8243108394184437602,\n",
       " 540220349545388005551970,\n",
       " 7308338771146207074,\n",
       " 123,\n",
       " 3355185]"
      ]
     },
     "execution_count": 10,
     "metadata": {},
     "output_type": "execute_result"
    }
   ],
   "source": [
    "names_bytes = [convertToNumber(name) for name in names]\n",
    "names_bytes"
   ]
  },
  {
   "cell_type": "code",
   "execution_count": 11,
   "metadata": {},
   "outputs": [
    {
     "data": {
      "text/plain": [
       "'{'"
      ]
     },
     "execution_count": 11,
     "metadata": {},
     "output_type": "execute_result"
    }
   ],
   "source": [
    "# test single\n",
    "(123).to_bytes(math.ceil((123).bit_length() / 8), byteorder='little').decode()"
   ]
  },
  {
   "cell_type": "code",
   "execution_count": 12,
   "metadata": {},
   "outputs": [
    {
     "data": {
      "text/plain": [
       "['bog iger', 'bob seager', 'bob dole', '{', '123']"
      ]
     },
     "execution_count": 12,
     "metadata": {},
     "output_type": "execute_result"
    }
   ],
   "source": [
    "[convertFromNumber(name) for name in names_bytes]"
   ]
  },
  {
   "cell_type": "markdown",
   "metadata": {},
   "source": [
    "# [Method 3](https://stackoverflow.com/questions/14023350/cheap-mapping-of-string-to-small-fixed-length-string)\n",
    "\n",
    "- unlikley to collide. [Birthday Problem](https://stackoverflow.com/questions/30561096/chance-of-a-duplicate-hash-when-using-first-8-characters-of-sha1)\n",
    "- secure. cannot be reversed!"
   ]
  },
  {
   "cell_type": "code",
   "execution_count": 20,
   "metadata": {},
   "outputs": [],
   "source": [
    "import hashlib\n",
    "\n",
    "def compute_cheap_hash(txt, length=6):\n",
    "    # This is just a hash for debugging purposes.\n",
    "    #    It does not need to be unique, just fast and short.\n",
    "    hash = hashlib.sha1()\n",
    "    hash.update(txt)\n",
    "    return hash.hexdigest()[:length]"
   ]
  },
  {
   "cell_type": "code",
   "execution_count": 25,
   "metadata": {},
   "outputs": [
    {
     "data": {
      "text/plain": [
       "['138a914dd', '137b17bdf', '92fbeb339', '60ba4b2da', '40bd00156']"
      ]
     },
     "execution_count": 25,
     "metadata": {},
     "output_type": "execute_result"
    }
   ],
   "source": [
    "[compute_cheap_hash(name.encode(),9) for name in names]"
   ]
  },
  {
   "cell_type": "code",
   "execution_count": 24,
   "metadata": {},
   "outputs": [
    {
     "data": {
      "text/plain": [
       "['138a914dd', '137b17bdf', '92fbeb339', '60ba4b2da', '40bd00156']"
      ]
     },
     "execution_count": 24,
     "metadata": {},
     "output_type": "execute_result"
    }
   ],
   "source": [
    "[compute_cheap_hash(name.encode(),9) for name in names]"
   ]
  },
  {
   "cell_type": "code",
   "execution_count": 44,
   "metadata": {},
   "outputs": [
    {
     "name": "stdout",
     "output_type": "stream",
     "text": [
      "4294.967296\n"
     ]
    }
   ],
   "source": []
  },
  {
   "cell_type": "markdown",
   "metadata": {},
   "source": [
    "### [Birthday Problem](https://stackoverflow.com/questions/30561096/chance-of-a-duplicate-hash-when-using-first-8-characters-of-sha1)"
   ]
  },
  {
   "cell_type": "code",
   "execution_count": 46,
   "metadata": {},
   "outputs": [],
   "source": [
    "import numpy as np\n",
    "import matplotlib.pyplot as plt\n",
    "%matplotlib inline"
   ]
  },
  {
   "cell_type": "code",
   "execution_count": 104,
   "metadata": {},
   "outputs": [
    {
     "name": "stdout",
     "output_type": "stream",
     "text": [
      "For 140638 items expect 90.0 % chance of collision using an 8 length SHA1 hash\n"
     ]
    }
   ],
   "source": [
    "p=0.9\n",
    "i = 8.0\n",
    "d = 16**i\n",
    "collision = np.sqrt(2*d*np.log(1/(1-p)))\n",
    "print(f'For {int(collision)} items expect {p*100} % chance of collision using an {int(i)} length SHA1 hash')"
   ]
  },
  {
   "cell_type": "code",
   "execution_count": 118,
   "metadata": {},
   "outputs": [
    {
     "name": "stderr",
     "output_type": "stream",
     "text": [
      "C:\\ProgramData\\Anaconda3\\lib\\site-packages\\ipykernel_launcher.py:5: RuntimeWarning: divide by zero encountered in double_scalars\n",
      "  \"\"\"\n"
     ]
    },
    {
     "data": {
      "image/png": "[encoded data removed]",
      "text/plain": [
       "<Figure size 432x288 with 1 Axes>"
      ]
     },
     "metadata": {
      "needs_background": "light"
     },
     "output_type": "display_data"
    }
   ],
   "source": [
    "p = np.arange(0.01,1.01,0.01)\n",
    "\n",
    "for k in np.arange(8,22,2):\n",
    "    de = 16**float(k)\n",
    "    plt.plot(1-p,[1000000/np.sqrt(2*de*np.log(1/(1-i))) for i in p], label='hash {}'.format(k))\n",
    "\n",
    "plt.plot([0.5,0.5],[0,1],'r--')\n",
    "plt.xlabel('$P$ of collision')\n",
    "plt.ylabel('n items\\n(millions)')\n",
    "plt.xlim(0,1)\n",
    "#plt.ylim(0,.5)\n",
    "plt.legend();"
   ]
  },
  {
   "cell_type": "code",
   "execution_count": null,
   "metadata": {},
   "outputs": [],
   "source": []
  }
 ],
 "metadata": {
  "kernelspec": {
   "display_name": "Python 3",
   "language": "python",
   "name": "python3"
  },
  "language_info": {
   "codemirror_mode": {
    "name": "ipython",
    "version": 3
   },
   "file_extension": ".py",
   "mimetype": "text/x-python",
   "name": "python",
   "nbconvert_exporter": "python",
   "pygments_lexer": "ipython3",
   "version": "3.7.0"
  }
 },
 "nbformat": 4,
 "nbformat_minor": 2
}
