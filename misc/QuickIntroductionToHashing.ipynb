{
 "cells": [
  {
   "cell_type": "markdown",
   "metadata": {},
   "source": [
    "# Zero2Basic - Hash Functions\n",
    "This post is intended to provide a quick introduction to hash functions and to discuss some practical applications of hashes in data mining and machine learning. As with my other Zero2Basic posts my aim is to provide a basic level of understanding of the concept and to demonstrate a real world use case.\n",
    "\n",
    "Want to cut to the chase?<br> \n",
    "Heres how to implement a variety of common hash funcitons using [hashlib](https://docs.python.org/3/library/hashlib.html) in Python."
   ]
  },
  {
   "cell_type": "code",
   "execution_count": 141,
   "metadata": {},
   "outputs": [
    {
     "name": "stdout",
     "output_type": "stream",
     "text": [
      "\"My first hash\"\t>sha1>\t\"f367b9519a72e7c2c5452ed73705a66cc78fee6b\"\n"
     ]
    }
   ],
   "source": [
    "import hashlib\n",
    "\n",
    "txt = \"My first hash\"\n",
    "hash = hashlib.sha1() # avaliable hashes: md5(), sha1(), sha224(), sha256(), sha384(), and sha512()\n",
    "hash.update(txt.encode()) # encode to product utf-8 bytes object\n",
    "print(f'\"{txt}\"\\t>sha1>\\t\"{hash.hexdigest()}\"')"
   ]
  },
  {
   "cell_type": "markdown",
   "metadata": {},
   "source": [
    "Recently I was working on a text data-mining task at work. For context, the client had been keeping an unstructured and unmastered record of around 3 million contacts including customers, leads, contacts, etc. To make matters worse they were adding some 5000+ entries to this list per day. Whilst they are in the process of investing in a master data management solution, this is not going to be implemented for some time and will do little to resolve the 20 year backlog of noisy data and that is critical for continued business operation.<br><br>\n",
    "\n",
    "Ok so this isnt my irst rodeo. Let's face it messy data is everywhere in business. Most people working as data engineers, analysts, scientists and machine learners are likely familar with this problem and fortunately there is an arsenal tools at our disposal. Including: text manipulation and standardisation [e.g. cleanco, regex](); clustering [\"post on clustering\"](); and machine learning techniques[entitiy resolution, record linkage and de-duplication]().I need to write a post on those [duke, dedupe, zentity]().<br><br>\n",
    "For my scenario I needed a a solution that could: i) create a unique identifier of each record, and ii) be used to efficiently indicate wether or not any new records were duplicates of exisiting ones. Cue a hash function.\n",
    "\n",
    "### So what is a hash function?\n",
    "*\"A hash function is a deterministic function that maps inputs of arbitrary sizes to outputs of a fixed size.\" [Wiki](https://en.wikipedia.org/wiki/Hash_function)*<br> \n",
    "Some important properties of Hash functions are:\n",
    " - They are quick to compute.\n",
    " - They are determistic, i.e. they are non-random and repeatable. \n",
    " - Even if the inputs are similar such as \"ABC\" and \"ACB\", the outputs should be uncorrelated.\n",
    " - It is practically infeasible to predict the output of a hash function, or to [reverse](https://crypto.stackexchange.com/questions/45377/why-cant-we-reverse-hashes) a hash value to its original value.\n",
    " - They can map an infinite number of inputs, and of any length, to outputs of fixed length.\n",
    " - Therefore a hash function generates a finite number of outputs. Longer hash functions having more possible outputs. \n",
    " \n",
    "### What are they used for?\n",
    "Common hash function [applications](https://en.wikipedia.org/wiki/Hash_function#Uses) include cryptography and creating hash-tables for indexing and searching data.<br><br>\n",
    "For instance, when performing a query on a database for the string \"Apple Computer\", a hash may be used to create a hash-table that can be used to quickly indicate the records that contain the substring \"A\" or \"Apple\" or \"Computer\". Boolean operations are computationally cheap and therefore hash-tables greatly reduce the search space to a subset list of candidate records. Avoiding the need to evaluate every single record in the database. A [hash-table](https://en.wikipedia.org/wiki/Hash_function#Hash_tables) is simply a table of boolean values (True or False) for wether or not a string contains a substring or not - or rather the hash of the string or substring. <br><br>\n",
    "In cryptogrpahy, a hash function may be used to convert a bank account holders raw password (e.g. \"Mittens1998\") to a hash value. The banks website and mobile applications each use the same hash function and therefore the bank only needs to keep a record of the password's hash value, never revealing the users password to anyone not even the bank. The login system applies the same hash function to every password entered and so even if someone were to leak the hashed values of the user passwords, these would be converted to another hash value if they were used to login.<br><br>\n",
    "Subsequently the Hash functions that are generally suitable for application to information retrieval, text mining and data indexing are  quite different [crytogrpahic hash functions](https://en.wikipedia.org/wiki/Cryptographic_hash_function).\n",
    "<br><br>\n",
    "So lets begin."
   ]
  },
  {
   "cell_type": "markdown",
   "metadata": {},
   "source": [
    "As above we'll use the [sha-1](https://en.wikipedia.org/wiki/SHA-1) hash function.\n",
    "\n",
    " - sha-1 hash values are 160 binary bits in length.\n",
    " - The hash values are typically written as a 40 digit hexidecimal string.\n",
    " - A single hexidecimal character can only represent 16 different values 0-9 and A-F. E.g. the hex digits \"0F\" represents two sets of 4 binary bits \"0000 1111\" (see the [wiki on hexidecimals]([hexidecimal](https://en.wikipedia.org/wiki/Hexadecimal))).\n",
    " - Therefore there are a total $16^{40} = 2^{160}$ sha-1 hash values in existance. Or\n",
    " \n",
    "*\"one quindecillion, four hundred sixty-one quattuordecillion, five hundred one tredecillion, six hundred thirty-seven duodecillion, three hundred thirty undecillion, nine hundred two decillion, nine hundred eighteen nonillion, two hundred three octillion, six hundred eighty-four septillion, eight hundred thirty-two sextillion, seven hundred sixteen quintillion, two hundred eighty-three quadrillion, nineteen trillion, six hundred fifty-five billion, nine hundred thirty-two million, five hundred forty-two thousand, nine hundred seventy-six\"*[rbn](http://www.mathcats.com/explore/reallybignumbers.html)\n",
    "\n",
    "Thats a lot! Surely we would never find a duplicate? Would we? More on that in a minute so lets also wrap the hash into a function that allows us to slice the hash to a given length. "
   ]
  },
  {
   "cell_type": "code",
   "execution_count": 1,
   "metadata": {},
   "outputs": [],
   "source": [
    "import hashlib\n",
    "\n",
    "def hash_of_length(txt, length=40):\n",
    "    \"\"\"Function to sha-256 hash strings to a certain length\"\"\"\n",
    "    hash = hashlib.sha1()\n",
    "    hash.update(txt.encode())\n",
    "    return hash.hexdigest()[:length]"
   ]
  },
  {
   "cell_type": "code",
   "execution_count": 2,
   "metadata": {},
   "outputs": [
    {
     "name": "stdout",
     "output_type": "stream",
     "text": [
      "\"Bob Iger\"\t>sha1>\t\"175aa5c4ad84e07322d1e6d569c76af0fa1f40e1\"\n",
      "\"bob iger\"\t>sha1>\t\"46132fd9df433a3b6171511c4f27efcae283a1a0\"\n",
      "\"bob seager\"\t>sha1>\t\"137b17bdfdd8e0ec7194b8213734ea1fcaf33a2b\"\n",
      "\"bob dole\"\t>sha1>\t\"92fbeb33968659b487521261436f590f2dbf16bc\"\n",
      "\"bod geldoff\"\t>sha1>\t\"05a3abd740c56c88c2042000b57894f71b0fef28\"\n",
      "\"bob marley\"\t>sha1>\t\"7d8e97df8cd7d090da958fe7779924785b0baa06\"\n",
      "\"bob ross\"\t>sha1>\t\"4cf9d0f31cd664b4174ad5699d9700b1e38da01b\"\n",
      "\"bob dylan\"\t>sha1>\t\"bc85844ebeb428aa23e8d822d800df18e32fff13\"\n",
      "\"alan jackson\"\t>sha1>\t\"355dce7e8e09cb6dc07d45b77c4c36942eca140e\"\n"
     ]
    }
   ],
   "source": [
    "# define some strings to test\n",
    "some_people = ['Bob Iger','bob iger','bob seager','bob dole','bod geldoff','bob marley','bob ross','bob dylan','alan jackson']\n",
    "hashes = list()\n",
    "\n",
    "# hash the strings\n",
    "for name in some_people:\n",
    "    hash_ = hash_of_length(name)\n",
    "    hashes.append(hash_)\n",
    "    print(f'\"{name}\"\\t>sha1>\\t\"{hash_}\"')"
   ]
  },
  {
   "cell_type": "markdown",
   "metadata": {},
   "source": [
    "Ok we have sucessfully hashed our initial list of name strings.<br>\n",
    "Some time passes and we receive some new names in our list. Lets hash these and examine all the names in a table. "
   ]
  },
  {
   "cell_type": "code",
   "execution_count": 3,
   "metadata": {},
   "outputs": [],
   "source": [
    "some_more_people = ['Bob Iger','bob iger ','Bob Dylan']\n",
    "\n",
    "# hash the strings\n",
    "for name in some_more_people:\n",
    "    hash_ = hash_of_length(name)\n",
    "    hashes.append(hash_)"
   ]
  },
  {
   "cell_type": "code",
   "execution_count": 5,
   "metadata": {},
   "outputs": [
    {
     "data": {
      "text/html": [
       "<div>\n",
       "<style scoped>\n",
       "    .dataframe tbody tr th:only-of-type {\n",
       "        vertical-align: middle;\n",
       "    }\n",
       "\n",
       "    .dataframe tbody tr th {\n",
       "        vertical-align: top;\n",
       "    }\n",
       "\n",
       "    .dataframe thead th {\n",
       "        text-align: right;\n",
       "    }\n",
       "</style>\n",
       "<table border=\"1\" class=\"dataframe\">\n",
       "  <thead>\n",
       "    <tr style=\"text-align: right;\">\n",
       "      <th></th>\n",
       "      <th>name</th>\n",
       "      <th>hash</th>\n",
       "      <th>id</th>\n",
       "    </tr>\n",
       "  </thead>\n",
       "  <tbody>\n",
       "    <tr>\n",
       "      <th>0</th>\n",
       "      <td>Bob Iger</td>\n",
       "      <td>175aa5c4ad84e07322d1e6d569c76af0fa1f40e1</td>\n",
       "      <td>0</td>\n",
       "    </tr>\n",
       "    <tr>\n",
       "      <th>9</th>\n",
       "      <td>Bob Iger</td>\n",
       "      <td>175aa5c4ad84e07322d1e6d569c76af0fa1f40e1</td>\n",
       "      <td>0</td>\n",
       "    </tr>\n",
       "    <tr>\n",
       "      <th>1</th>\n",
       "      <td>bob iger</td>\n",
       "      <td>46132fd9df433a3b6171511c4f27efcae283a1a0</td>\n",
       "      <td>1</td>\n",
       "    </tr>\n",
       "    <tr>\n",
       "      <th>2</th>\n",
       "      <td>bob seager</td>\n",
       "      <td>137b17bdfdd8e0ec7194b8213734ea1fcaf33a2b</td>\n",
       "      <td>2</td>\n",
       "    </tr>\n",
       "    <tr>\n",
       "      <th>3</th>\n",
       "      <td>bob dole</td>\n",
       "      <td>92fbeb33968659b487521261436f590f2dbf16bc</td>\n",
       "      <td>3</td>\n",
       "    </tr>\n",
       "    <tr>\n",
       "      <th>4</th>\n",
       "      <td>bod geldoff</td>\n",
       "      <td>05a3abd740c56c88c2042000b57894f71b0fef28</td>\n",
       "      <td>4</td>\n",
       "    </tr>\n",
       "    <tr>\n",
       "      <th>5</th>\n",
       "      <td>bob marley</td>\n",
       "      <td>7d8e97df8cd7d090da958fe7779924785b0baa06</td>\n",
       "      <td>5</td>\n",
       "    </tr>\n",
       "    <tr>\n",
       "      <th>6</th>\n",
       "      <td>bob ross</td>\n",
       "      <td>4cf9d0f31cd664b4174ad5699d9700b1e38da01b</td>\n",
       "      <td>6</td>\n",
       "    </tr>\n",
       "    <tr>\n",
       "      <th>7</th>\n",
       "      <td>bob dylan</td>\n",
       "      <td>bc85844ebeb428aa23e8d822d800df18e32fff13</td>\n",
       "      <td>7</td>\n",
       "    </tr>\n",
       "    <tr>\n",
       "      <th>8</th>\n",
       "      <td>alan jackson</td>\n",
       "      <td>355dce7e8e09cb6dc07d45b77c4c36942eca140e</td>\n",
       "      <td>8</td>\n",
       "    </tr>\n",
       "    <tr>\n",
       "      <th>10</th>\n",
       "      <td>bob iger</td>\n",
       "      <td>4c13e2eab49c70dca6528c75fc051bbca0888102</td>\n",
       "      <td>9</td>\n",
       "    </tr>\n",
       "    <tr>\n",
       "      <th>11</th>\n",
       "      <td>Bob Dylan</td>\n",
       "      <td>e3312ca0bf9fd1d22708b9d93f02e132cf20bccf</td>\n",
       "      <td>10</td>\n",
       "    </tr>\n",
       "  </tbody>\n",
       "</table>\n",
       "</div>"
      ],
      "text/plain": [
       "            name                                      hash  id\n",
       "0       Bob Iger  175aa5c4ad84e07322d1e6d569c76af0fa1f40e1   0\n",
       "9       Bob Iger  175aa5c4ad84e07322d1e6d569c76af0fa1f40e1   0\n",
       "1       bob iger  46132fd9df433a3b6171511c4f27efcae283a1a0   1\n",
       "2     bob seager  137b17bdfdd8e0ec7194b8213734ea1fcaf33a2b   2\n",
       "3       bob dole  92fbeb33968659b487521261436f590f2dbf16bc   3\n",
       "4    bod geldoff  05a3abd740c56c88c2042000b57894f71b0fef28   4\n",
       "5     bob marley  7d8e97df8cd7d090da958fe7779924785b0baa06   5\n",
       "6       bob ross  4cf9d0f31cd664b4174ad5699d9700b1e38da01b   6\n",
       "7      bob dylan  bc85844ebeb428aa23e8d822d800df18e32fff13   7\n",
       "8   alan jackson  355dce7e8e09cb6dc07d45b77c4c36942eca140e   8\n",
       "10     bob iger   4c13e2eab49c70dca6528c75fc051bbca0888102   9\n",
       "11     Bob Dylan  e3312ca0bf9fd1d22708b9d93f02e132cf20bccf  10"
      ]
     },
     "execution_count": 5,
     "metadata": {},
     "output_type": "execute_result"
    }
   ],
   "source": [
    "import pandas as pd\n",
    "\n",
    "# create a df of the strings and hashes\n",
    "df = pd.DataFrame({'name':some_people+some_more_people,'hash':hashes})\n",
    "\n",
    "# add an id field for unique hash values\n",
    "df['id'] = pd.factorize(df['hash'])[0]\n",
    "df.sort_values(by='id')"
   ]
  },
  {
   "cell_type": "markdown",
   "metadata": {},
   "source": [
    "We can see that some idenitical names were found for \"bob iger\" and \"Bob Iger\". Maybe this a purchase list of rights to Marvel comics?<br>\n",
    "\n",
    "We could improve our system by applying some typical text standardization steps such as:\n",
    " - make each string lowercase.\n",
    " - removing any trailing or double white spaces.\n",
    " - folding any special characters to ASCII characters.\n",
    " \n",
    "In addition, if this were a very large list we might look to split each the strings to first and last name and hash those values too. This would allow us to efficiently locate all of the records with first name \"bob\" or with the last name \"ross\" etc. Then we would have a pretty good system to detect duplicates and to search a large number of records.\n",
    "\n",
    "But wait a minute, arn't we adding overhead and computation time by converting our raw strings to in many cases longer 160 bit / 40 character strings, why not just compare the raw strings? Well often we may need to obsucre the data when sharing or storing for privacy reasons. But sure, many of our names are indeed less than 40 characters long so lets slice our hashes to the first 10 characters using the function we created earlier."
   ]
  },
  {
   "cell_type": "code",
   "execution_count": 48,
   "metadata": {},
   "outputs": [
    {
     "data": {
      "text/plain": [
       "'b0c470d2c2'"
      ]
     },
     "execution_count": 48,
     "metadata": {},
     "output_type": "execute_result"
    }
   ],
   "source": [
    "test = 'Bob Marley and The Wailers'\n",
    "hash_of_length(test,length=10)"
   ]
  },
  {
   "cell_type": "markdown",
   "metadata": {},
   "source": [
    "Not so fast though. Remember our hash function has a very large but finite number of outputs. In fact the probability of a hash collision follows an approximate exponential function and so shorter hash digests can quickly lead to hash collisions. The [Birthday Problem or Paradox](https://en.wikipedia.org/wiki/Birthday_problem) concerns \"the probability of any two people in a room having the same birthday?\" and for hashes this translates to \"that probability of any two hashes shairng the same value given hashes of length $n$\". There are stories of companies using hashes as unique ID's and falling foul of the birthday paradox such as [here](https://www.reddit.com/r/programming/comments/35uh62/dont_play_with_the_odds_how_the_birthday_paradox/) and [here](https://pthree.org/2014/03/06/the-reality-of-sha1/).\n",
    "\n",
    "We can use the Birthday Paradox to approximate the probability of a hash collision in ${K}$ values given $n$-length hash values."
   ]
  },
  {
   "cell_type": "code",
   "execution_count": 106,
   "metadata": {},
   "outputs": [
    {
     "name": "stdout",
     "output_type": "stream",
     "text": [
      "There is 50.0 % chance of a hash collision using 2 hex digits of SHA1 hash values on a list with 18 values\n",
      "There is 50.0 % chance of a hash collision using 3 hex digits of SHA1 hash values on a list with 75 values\n",
      "There is 50.0 % chance of a hash collision using 4 hex digits of SHA1 hash values on a list with 301 values\n",
      "There is 50.0 % chance of a hash collision using 5 hex digits of SHA1 hash values on a list with 1205 values\n",
      "There is 50.0 % chance of a hash collision using 6 hex digits of SHA1 hash values on a list with 4822 values\n",
      "There is 50.0 % chance of a hash collision using 7 hex digits of SHA1 hash values on a list with 19290 values\n",
      "There is 50.0 % chance of a hash collision using 8 hex digits of SHA1 hash values on a list with 77162 values\n",
      "There is 50.0 % chance of a hash collision using 9 hex digits of SHA1 hash values on a list with 308650 values\n",
      "There is 50.0 % chance of a hash collision using 10 hex digits of SHA1 hash values on a list with 1234603 values\n",
      "There is 50.0 % chance of a hash collision using 11 hex digits of SHA1 hash values on a list with 4938415 values\n"
     ]
    }
   ],
   "source": [
    "import numpy as np\n",
    "import matplotlib.pyplot as plt\n",
    "%matplotlib inline\n",
    "\n",
    "def sha1_birthday_paradox(probability=0.5,hash_length=10,print_out=True):\n",
    "    d = 16**hash_length # \n",
    "    collision = np.sqrt(2*d*np.log(1/(1-probability))) # K\n",
    "    if print_out is True:\n",
    "        print(f'There is {probability*100} % chance of a hash collision using {int(hash_length)} hex digits of SHA1 hash values on a list with {int(collision)} values')\n",
    "    return collision\n",
    "    \n",
    "for hash_length in range(2,12):\n",
    "    sha1_birthday_paradox(hash_length=hash_length)"
   ]
  },
  {
   "cell_type": "code",
   "execution_count": 116,
   "metadata": {},
   "outputs": [
    {
     "data": {
      "image/png": "[encoded data removed]",
      "text/plain": [
       "<Figure size 1080x360 with 1 Axes>"
      ]
     },
     "metadata": {
      "needs_background": "light"
     },
     "output_type": "display_data"
    }
   ],
   "source": [
    "fig,axs = plt.subplots(figsize=(15,5))\n",
    "for hash_length in range(6,15):\n",
    "    \n",
    "    axs.plot([sha1_birthday_paradox(probability=p,hash_length=hash_length,print_out=False) for p in np.arange(0.001,1.000,0.001)],\n",
    "             np.arange(0.001,1.000,0.001),\n",
    "             label=f'{hash_length} digits')\n",
    "    \n",
    "axs.plot([sha1_birthday_paradox(probability=p,hash_length=10,print_out=False) for p in np.arange(0.001,1.000,0.001)],\n",
    "             np.arange(0.001,1.000,0.001),color='black',lw=4,\n",
    "             label='10 digits')\n",
    "    \n",
    "axs.set_xlabel('number of items')\n",
    "axs.set_ylabel('$P$ of collision')\n",
    "axs.set_xscale('log')\n",
    "axs.legend();"
   ]
  },
  {
   "cell_type": "markdown",
   "metadata": {},
   "source": [
    "As illustrated the likelihood of a hash collision increases significantly for shorter hash values. For instance, using A 10 hexidecimal hash digits is almost certain to collide with another hash on lists with 1 to 1.5 million values, thats equivalent to the annual [probability of a person being struck by lightning in the US](https://www.regulation.org.uk/library/2017-Spiegelhalter-Risk_and_Uncertainty_Communication.pdf).\n",
    "\n",
    "### Public Service Announcement on the internal python **hash()**\n",
    "Whilst this worked in Python 2 this **does not work** in Python 3 as the hash() function is randomly [seeded](https://stackoverflow.com/a/42089311/4538066) on each invocation."
   ]
  },
  {
   "cell_type": "code",
   "execution_count": 109,
   "metadata": {},
   "outputs": [
    {
     "data": {
      "text/plain": [
       "[7773108651347944725,\n",
       " 8006110316508352370,\n",
       " -4711472200811115197,\n",
       " 123284575197524578,\n",
       " -8391844908185670689,\n",
       " 1405988622133364812,\n",
       " 282785915860111406,\n",
       " -3606204635308506520,\n",
       " 1427013989549703842]"
      ]
     },
     "execution_count": 109,
     "metadata": {},
     "output_type": "execute_result"
    }
   ],
   "source": [
    "[hash(name) for name in some_people]"
   ]
  },
  {
   "cell_type": "code",
   "execution_count": 112,
   "metadata": {},
   "outputs": [
    {
     "data": {
      "text/plain": [
       "[7773108651347944725,\n",
       " 8006110316508352370,\n",
       " -4711472200811115197,\n",
       " 123284575197524578,\n",
       " -8391844908185670689,\n",
       " 1405988622133364812,\n",
       " 282785915860111406,\n",
       " -3606204635308506520,\n",
       " 1427013989549703842]"
      ]
     },
     "execution_count": 112,
     "metadata": {},
     "output_type": "execute_result"
    }
   ],
   "source": [
    "# and after restarting the kernel\n",
    "[hash(name) for name in some_people]"
   ]
  },
  {
   "cell_type": "markdown",
   "metadata": {},
   "source": [
    "# Related links\n",
    " - [SO - Chance of a duplicate hash when using first 8 characters of SHA1](https://stackoverflow.com/questions/30561096/chance-of-a-duplicate-hash-when-using-first-8-characters-of-sha1)\n",
    " - [SO - Obfuscating text](https://stackoverflow.com/questions/8554286/obfuscating-an-id)"
   ]
  }
 ],
 "metadata": {
  "kernelspec": {
   "display_name": "Python 3",
   "language": "python",
   "name": "python3"
  },
  "language_info": {
   "codemirror_mode": {
    "name": "ipython",
    "version": 3
   },
   "file_extension": ".py",
   "mimetype": "text/x-python",
   "name": "python",
   "nbconvert_exporter": "python",
   "pygments_lexer": "ipython3",
   "version": "3.7.0"
  }
 },
 "nbformat": 4,
 "nbformat_minor": 2
}
