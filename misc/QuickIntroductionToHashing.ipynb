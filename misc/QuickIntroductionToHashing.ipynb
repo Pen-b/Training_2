{
 "cells": [
  {
   "cell_type": "markdown",
   "metadata": {},
   "source": [
    "# Zero2Basic - Hash Functions\n",
    "This post is intended to provide a quick introduction to hash functions and to discuss some practical applications of hashes in data mining and machine learning. As with my other Zero2Basic posts my aim is to provide a basic level of understanding of the concept and to demonstrate a real world use case.\n",
    "\n",
    "Want to cut to the chase?<br> \n",
    "Heres how to implement a variety of common hash funcitons using [hashlib](https://docs.python.org/3/library/hashlib.html) in Python."
   ]
  },
  {
   "cell_type": "code",
   "execution_count": 141,
   "metadata": {},
   "outputs": [
    {
     "name": "stdout",
     "output_type": "stream",
     "text": [
      "\"My first hash\"\t>sha1>\t\"f367b9519a72e7c2c5452ed73705a66cc78fee6b\"\n"
     ]
    }
   ],
   "source": [
    "import hashlib\n",
    "\n",
    "txt = \"My first hash\"\n",
    "hash = hashlib.sha1() # avaliable hashes: md5(), sha1(), sha224(), sha256(), sha384(), and sha512()\n",
    "hash.update(txt.encode()) # encode to product utf-8 bytes object\n",
    "print(f'\"{txt}\"\\t>sha1>\\t\"{hash.hexdigest()}\"')"
   ]
  },
  {
   "cell_type": "markdown",
   "metadata": {},
   "source": [
    "Recently I was working on a text data-mining task at work. For context, the client had been keeping an unstructured and unmastered record of around 3 million contacts including customers, leads, contacts, etc. To make matters worse they were adding some 5000+ entries to this list per day. Whilst they are in the process of investing in a master data management solution, this is not going to be implemented for some time and will do little to resolve the 20 year backlog of noisy data and that is critical for continued business operation.<br><br>\n",
    "\n",
    "Ok so this isnt my irst rodeo. Let's face it, messy data is everywhere in business. Most people working as data engineers, analysts, scientists and machine learners are likely familar with this problem and fortunately there is an aresenal tools at our disposal. Including: text manipulation and standardisation [e.g. cleanco, regex](); clustering [\"post on clustering\"](); and machine learning techniques[entitiy resolution, record linkage and de-duplication]().I need to write a post on those [duke, dedupe, zentity]().<br><br>\n",
    "For my scenario I needed a a solution that could: i) create a unique identifier of each record, and ii) be used to efficiently indicate wether or not any new records were duplicates of exisiting ones. Cue a hash function.\n",
    "\n",
    "\n",
    "### So what is a hash function?\n",
    "*\"A hash function is a deterministic function that maps inputs of arbitrary sizes to outputs of a fixed size.\" [Wiki](https://en.wikipedia.org/wiki/Hash_function)*<br> \n",
    "Some important properties of Hash functions are:\n",
    " - They are quick to compute.\n",
    " - They are determistic, i.e. they are non-random and repeatable. \n",
    " - Even if the inputs are similar such as \"ABC\" and \"ACB\", the outputs should be uncorrelated.\n",
    " - It is practically infeasible to predict the output of a hash function, or to [reverse](https://crypto.stackexchange.com/questions/45377/why-cant-we-reverse-hashes) a hash value to its original value.\n",
    " - They can map an infinite number of inputs, and of any length, to outputs of fixed length.\n",
    " - Therefore a hash function generates a finite number of outputs. Longer hash functions having more possible outputs. \n",
    " \n",
    "### What are they used for?\n",
    "Common hash function [applications](https://en.wikipedia.org/wiki/Hash_function#Uses) include cryptography and creating hash-tables for indexing and searching data.<br><br>\n",
    "For instance, when performing a query on a database for the string \"Apple Computer\", a hash may be used to create a hash-table that can be used to quickly indicate the records that contain the substring \"A\" or \"Apple\" or \"Computer\". Boolean operations are computationally cheap and therefore hash-tables greatly reduce the search space to a subset list of candidate records. Avoiding the need to evaluate every single record in the database. A [hash-table](https://en.wikipedia.org/wiki/Hash_function#Hash_tables) is simply a table of boolean values (True or False) for wether or not a string contains a substring or not - or rather the hash of the string or substring. <br><br>\n",
    "In cryptogrpahy, a hash function may be used to convert a bank account holders raw password (e.g. \"Mittens1998\") to a hash value. The banks website and mobile applications each use the same hash function and therefore the bank only needs to keep a record of the password's hash value, never revealing the users password to anyone not even the bank. The login system applies the same hash function to every password entered and so even if someone were to leak the hashed values of the user passwords, these would be converted to another hash value if they were used to login.<br><br>\n",
    "Subsequently the Hash functions that are generally suitable for application to information retrieval, text mining and data indexing are  quite different [crytogrpahic hash functions](https://en.wikipedia.org/wiki/Cryptographic_hash_function).\n",
    "<br><br>\n",
    "So lets begin."
   ]
  },
  {
   "cell_type": "markdown",
   "metadata": {},
   "source": [
    "As above we'll use the [sha-1](https://en.wikipedia.org/wiki/SHA-1) hash function.\n",
    "\n",
    " - sha-1 hash values are 160 binary bits in length.\n",
    " - The hash values are typically written as a 40 digit hexidecimal string.\n",
    " - A single hexidecimal character can only represent 16 different values e.g. \"0\" = the 4 binary bits \"0000\" (see the [wiki on hexidecimals]([hexidecimal](https://en.wikipedia.org/wiki/Hexadecimal))).\n",
    " - Therefore there are a total $2^{160} = 16^{40}$ sha-1 hash values in existance. Or\n",
    " \n",
    "*\"one quindecillion, four hundred sixty-one quattuordecillion, five hundred one tredecillion, six hundred thirty-seven duodecillion, three hundred thirty undecillion, nine hundred two decillion, nine hundred eighteen nonillion, two hundred three octillion, six hundred eighty-four septillion, eight hundred thirty-two sextillion, seven hundred sixteen quintillion, two hundred eighty-three quadrillion, nineteen trillion, six hundred fifty-five billion, nine hundred thirty-two million, five hundred forty-two thousand, nine hundred seventy-six\"*[rbn](http://www.mathcats.com/explore/reallybignumbers.html)\n",
    "\n",
    "Thats a lot! Surely we would never find a duplicate? Would we? More on that in a minute.\n",
    "\n",
    "Lets also wrap the hash in a function that allows us to slice the hash to a given length. \n"
   ]
  },
  {
   "cell_type": "code",
   "execution_count": 154,
   "metadata": {},
   "outputs": [],
   "source": [
    "import hashlib\n",
    "\n",
    "def hash_of_length(txt, length=40):\n",
    "    \"\"\"Function to sha-256 hash strings to a certain length\"\"\"\n",
    "    hash = hashlib.sha1()\n",
    "    hash.update(txt.encode())\n",
    "    return hash.hexdigest()[:length]"
   ]
  },
  {
   "cell_type": "code",
   "execution_count": 155,
   "metadata": {},
   "outputs": [
    {
     "name": "stdout",
     "output_type": "stream",
     "text": [
      "\"Bob Iger\"\t>sha1>\t\"175aa5c4ad84e07322d1e6d569c76af0fa1f40e1\"\n",
      "\"bob iger\"\t>sha1>\t\"46132fd9df433a3b6171511c4f27efcae283a1a0\"\n",
      "\"bob seager\"\t>sha1>\t\"137b17bdfdd8e0ec7194b8213734ea1fcaf33a2b\"\n",
      "\"bob dole\"\t>sha1>\t\"92fbeb33968659b487521261436f590f2dbf16bc\"\n",
      "\"bod geldoff\"\t>sha1>\t\"05a3abd740c56c88c2042000b57894f71b0fef28\"\n",
      "\"bob marley\"\t>sha1>\t\"7d8e97df8cd7d090da958fe7779924785b0baa06\"\n",
      "\"bob ross\"\t>sha1>\t\"4cf9d0f31cd664b4174ad5699d9700b1e38da01b\"\n",
      "\"bob dylan\"\t>sha1>\t\"bc85844ebeb428aa23e8d822d800df18e32fff13\"\n",
      "\"alan jackson\"\t>sha1>\t\"355dce7e8e09cb6dc07d45b77c4c36942eca140e\"\n"
     ]
    }
   ],
   "source": [
    "# define some strings to test\n",
    "some_people = ['Bob Iger','bob iger','bob seager','bob dole','bod geldoff','bob marley','bob ross','bob dylan','alan jackson']\n",
    "hashes = list()\n",
    "\n",
    "# hash the strings\n",
    "for name in some_people:\n",
    "    hash_ = hash_of_length(name)\n",
    "    hashes.append(hash_)\n",
    "    print(f'\"{name}\"\\t>sha1>\\t\"{hash_}\"')"
   ]
  },
  {
   "cell_type": "markdown",
   "metadata": {},
   "source": [
    "Ok we have sucessfully hashed our initial list of name strings.<br>\n",
    "Some time passes and we receive some new names in our list. Lets hash these and examine all the names in a table. "
   ]
  },
  {
   "cell_type": "code",
   "execution_count": 156,
   "metadata": {},
   "outputs": [],
   "source": [
    "some_more_people = ['Bob Iger','bob iger','Bob Dylan']\n",
    "\n",
    "# hash the strings\n",
    "for name in some_more_people:\n",
    "    hash_ = hash_of_length(name)\n",
    "    hashes.append(hash_)"
   ]
  },
  {
   "cell_type": "code",
   "execution_count": 157,
   "metadata": {},
   "outputs": [
    {
     "data": {
      "text/html": [
       "<div>\n",
       "<style scoped>\n",
       "    .dataframe tbody tr th:only-of-type {\n",
       "        vertical-align: middle;\n",
       "    }\n",
       "\n",
       "    .dataframe tbody tr th {\n",
       "        vertical-align: top;\n",
       "    }\n",
       "\n",
       "    .dataframe thead th {\n",
       "        text-align: right;\n",
       "    }\n",
       "</style>\n",
       "<table border=\"1\" class=\"dataframe\">\n",
       "  <thead>\n",
       "    <tr style=\"text-align: right;\">\n",
       "      <th></th>\n",
       "      <th>name</th>\n",
       "      <th>hash</th>\n",
       "      <th>id</th>\n",
       "    </tr>\n",
       "  </thead>\n",
       "  <tbody>\n",
       "    <tr>\n",
       "      <th>0</th>\n",
       "      <td>Bob Iger</td>\n",
       "      <td>175aa5c4ad84e07322d1e6d569c76af0fa1f40e1</td>\n",
       "      <td>0</td>\n",
       "    </tr>\n",
       "    <tr>\n",
       "      <th>9</th>\n",
       "      <td>Bob Iger</td>\n",
       "      <td>175aa5c4ad84e07322d1e6d569c76af0fa1f40e1</td>\n",
       "      <td>0</td>\n",
       "    </tr>\n",
       "    <tr>\n",
       "      <th>1</th>\n",
       "      <td>bob iger</td>\n",
       "      <td>46132fd9df433a3b6171511c4f27efcae283a1a0</td>\n",
       "      <td>1</td>\n",
       "    </tr>\n",
       "    <tr>\n",
       "      <th>10</th>\n",
       "      <td>bob iger</td>\n",
       "      <td>46132fd9df433a3b6171511c4f27efcae283a1a0</td>\n",
       "      <td>1</td>\n",
       "    </tr>\n",
       "    <tr>\n",
       "      <th>2</th>\n",
       "      <td>bob seager</td>\n",
       "      <td>137b17bdfdd8e0ec7194b8213734ea1fcaf33a2b</td>\n",
       "      <td>2</td>\n",
       "    </tr>\n",
       "    <tr>\n",
       "      <th>3</th>\n",
       "      <td>bob dole</td>\n",
       "      <td>92fbeb33968659b487521261436f590f2dbf16bc</td>\n",
       "      <td>3</td>\n",
       "    </tr>\n",
       "    <tr>\n",
       "      <th>4</th>\n",
       "      <td>bod geldoff</td>\n",
       "      <td>05a3abd740c56c88c2042000b57894f71b0fef28</td>\n",
       "      <td>4</td>\n",
       "    </tr>\n",
       "    <tr>\n",
       "      <th>5</th>\n",
       "      <td>bob marley</td>\n",
       "      <td>7d8e97df8cd7d090da958fe7779924785b0baa06</td>\n",
       "      <td>5</td>\n",
       "    </tr>\n",
       "    <tr>\n",
       "      <th>6</th>\n",
       "      <td>bob ross</td>\n",
       "      <td>4cf9d0f31cd664b4174ad5699d9700b1e38da01b</td>\n",
       "      <td>6</td>\n",
       "    </tr>\n",
       "    <tr>\n",
       "      <th>7</th>\n",
       "      <td>bob dylan</td>\n",
       "      <td>bc85844ebeb428aa23e8d822d800df18e32fff13</td>\n",
       "      <td>7</td>\n",
       "    </tr>\n",
       "  </tbody>\n",
       "</table>\n",
       "</div>"
      ],
      "text/plain": [
       "           name                                      hash  id\n",
       "0      Bob Iger  175aa5c4ad84e07322d1e6d569c76af0fa1f40e1   0\n",
       "9      Bob Iger  175aa5c4ad84e07322d1e6d569c76af0fa1f40e1   0\n",
       "1      bob iger  46132fd9df433a3b6171511c4f27efcae283a1a0   1\n",
       "10     bob iger  46132fd9df433a3b6171511c4f27efcae283a1a0   1\n",
       "2    bob seager  137b17bdfdd8e0ec7194b8213734ea1fcaf33a2b   2\n",
       "3      bob dole  92fbeb33968659b487521261436f590f2dbf16bc   3\n",
       "4   bod geldoff  05a3abd740c56c88c2042000b57894f71b0fef28   4\n",
       "5    bob marley  7d8e97df8cd7d090da958fe7779924785b0baa06   5\n",
       "6      bob ross  4cf9d0f31cd664b4174ad5699d9700b1e38da01b   6\n",
       "7     bob dylan  bc85844ebeb428aa23e8d822d800df18e32fff13   7"
      ]
     },
     "execution_count": 157,
     "metadata": {},
     "output_type": "execute_result"
    }
   ],
   "source": [
    "import pandas as pd\n",
    "\n",
    "# create a df of the strings and hashes\n",
    "df = pd.DataFrame({'name':some_people+some_more_people,'hash':hashes})\n",
    "\n",
    "# add an id field for unique hash values\n",
    "df['id'] = pd.factorize(df['hash'])[0]\n",
    "df.sort_values(by='id')[:10]"
   ]
  },
  {
   "cell_type": "markdown",
   "metadata": {},
   "source": [
    "We can see that some idenitical names were found for \"bob iger\" and \"Bob Iger\". Maybe this a purchase list of rights to Marvel comics?<br>\n",
    "\n",
    "We could also improve our system by applying some typical text standardization steps such as:\n",
    " - make each string lowercase.\n",
    " - removing any trailing or double white space.\n",
    " - folding any special characters to ASCII characters.\n",
    " \n",
    "In addition, if this were a very large list we might look to split each the strings to first and last name and hash those values too. This would allow us to efficiently locate all of the records with first name \"bob\" or with the last name \"ross\" etc. Then we would have a pretty good system to detect duplicates and to search a large number of records.\n",
    "\n",
    "But wait a minute, arn't we adding overhead and computation time by converting our raw strings to longer 160 bit / 40 character strings, why not just compare the raw strings? \n",
    "\n",
    "Well sure and many of our names are indeed less than 40 characters long. Remember we wrote our hash function with the option to slice the hash value to a given length."
   ]
  },
  {
   "cell_type": "markdown",
   "metadata": {},
   "source": [
    "### [Birthday Problem](https://stackoverflow.com/questions/30561096/chance-of-a-duplicate-hash-when-using-first-8-characters-of-sha1)\n",
    "[example of how it was broken](https://pthree.org/2014/03/06/the-reality-of-sha1/)"
   ]
  },
  {
   "cell_type": "code",
   "execution_count": 9,
   "metadata": {},
   "outputs": [],
   "source": [
    "import numpy as np\n",
    "import matplotlib.pyplot as plt\n",
    "%matplotlib inline"
   ]
  },
  {
   "cell_type": "code",
   "execution_count": 136,
   "metadata": {},
   "outputs": [
    {
     "name": "stdout",
     "output_type": "stream",
     "text": [
      "For 344491 items expect 99.9999 % chance of collision using an 8 length SHA1 hash\n"
     ]
    }
   ],
   "source": [
    "p=0.999999\n",
    "i = 8.0\n",
    "d = 16**i\n",
    "collision = np.sqrt(2*d*np.log(1/(1-p)))\n",
    "print(f'For {int(collision)} items expect {p*100} % chance of collision using an {int(i)} length SHA1 hash')"
   ]
  },
  {
   "cell_type": "code",
   "execution_count": 12,
   "metadata": {},
   "outputs": [
    {
     "name": "stderr",
     "output_type": "stream",
     "text": [
      "C:\\ProgramData\\Anaconda3\\lib\\site-packages\\ipykernel_launcher.py:5: RuntimeWarning: invalid value encountered in log\n",
      "  \"\"\"\n"
     ]
    },
    {
     "data": {
      "image/png": "[encoded data removed]",
      "text/plain": [
       "<Figure size 432x288 with 1 Axes>"
      ]
     },
     "metadata": {
      "needs_background": "light"
     },
     "output_type": "display_data"
    }
   ],
   "source": [
    "p = np.arange(0.01,1.01,0.001)\n",
    "\n",
    "for k in np.arange(8,22,2):\n",
    "    de = 16**float(k)\n",
    "    plt.plot(1-p,[1000000/np.sqrt(2*de*np.log(1/(1-i))) for i in p], label='hash {}'.format(k))\n",
    "\n",
    "plt.plot([0.5,0.5],[0,1],'r--')\n",
    "plt.xlabel('$P$ of collision')\n",
    "plt.ylabel('n items\\n(millions)')\n",
    "plt.xlim(0,1)\n",
    "#plt.ylim(0,.5)\n",
    "plt.legend();"
   ]
  },
  {
   "cell_type": "markdown",
   "metadata": {},
   "source": [
    "# What about a more secure hash?\n",
    "[sha-2 / sha256](https://en.wikipedia.org/wiki/SHA-2).<br>\n",
    "As the name suggests the generated hash is 256 bits long, creating a 64 character length string on digest (4 bits per character).\n",
    "https://crypto.stackexchange.com/a/47810/69609"
   ]
  },
  {
   "cell_type": "markdown",
   "metadata": {},
   "source": [
    "# Method 1\n",
    "- Internal python **hash()**\n",
    "- Doesnt work. Python 3 seeds randomly on each instance"
   ]
  },
  {
   "cell_type": "code",
   "execution_count": 3,
   "metadata": {},
   "outputs": [
    {
     "data": {
      "text/plain": [
       "[9192664141695842138,\n",
       " 873138748646001139,\n",
       " 7972014826130490917,\n",
       " 5191281310066151820,\n",
       " -6811530580621357639]"
      ]
     },
     "execution_count": 3,
     "metadata": {},
     "output_type": "execute_result"
    }
   ],
   "source": [
    "[hash(name) for name in names]"
   ]
  },
  {
   "cell_type": "code",
   "execution_count": 4,
   "metadata": {},
   "outputs": [
    {
     "data": {
      "text/plain": [
       "[9192664141695842138,\n",
       " 873138748646001139,\n",
       " 7972014826130490917,\n",
       " 5191281310066151820,\n",
       " -6811530580621357639]"
      ]
     },
     "execution_count": 4,
     "metadata": {},
     "output_type": "execute_result"
    }
   ],
   "source": [
    "# post restart kernel\n",
    "[hash(name) for name in names]"
   ]
  },
  {
   "cell_type": "code",
   "execution_count": 13,
   "metadata": {},
   "outputs": [
    {
     "data": {
      "text/plain": [
       "-7944755250772420503"
      ]
     },
     "execution_count": 13,
     "metadata": {},
     "output_type": "execute_result"
    }
   ],
   "source": [
    "hash(\"a\")"
   ]
  },
  {
   "cell_type": "markdown",
   "metadata": {},
   "source": [
    "# [Method 2](https://stackoverflow.com/questions/31701991/string-of-text-to-unique-integer-method)\n",
    "\n",
    " - two-way hash\n",
    " - not secure"
   ]
  },
  {
   "cell_type": "code",
   "execution_count": 9,
   "metadata": {},
   "outputs": [],
   "source": [
    "import math\n",
    "def convertToNumber (s):\n",
    "    return int.from_bytes(s.encode(), byteorder='little')\n",
    "\n",
    "def convertFromNumber (n):\n",
    "    return n.to_bytes(math.ceil(n.bit_length() / 8), byteorder='little').decode()"
   ]
  },
  {
   "cell_type": "code",
   "execution_count": 10,
   "metadata": {},
   "outputs": [
    {
     "data": {
      "text/plain": [
       "[8243108394184437602,\n",
       " 540220349545388005551970,\n",
       " 7308338771146207074,\n",
       " 123,\n",
       " 3355185]"
      ]
     },
     "execution_count": 10,
     "metadata": {},
     "output_type": "execute_result"
    }
   ],
   "source": [
    "names_bytes = [convertToNumber(name) for name in names]\n",
    "names_bytes"
   ]
  },
  {
   "cell_type": "code",
   "execution_count": 11,
   "metadata": {},
   "outputs": [
    {
     "data": {
      "text/plain": [
       "'{'"
      ]
     },
     "execution_count": 11,
     "metadata": {},
     "output_type": "execute_result"
    }
   ],
   "source": [
    "# test single\n",
    "(123).to_bytes(math.ceil((123).bit_length() / 8), byteorder='little').decode()"
   ]
  },
  {
   "cell_type": "code",
   "execution_count": 12,
   "metadata": {},
   "outputs": [
    {
     "data": {
      "text/plain": [
       "['bog iger', 'bob seager', 'bob dole', '{', '123']"
      ]
     },
     "execution_count": 12,
     "metadata": {},
     "output_type": "execute_result"
    }
   ],
   "source": [
    "[convertFromNumber(name) for name in names_bytes]"
   ]
  },
  {
   "cell_type": "code",
   "execution_count": null,
   "metadata": {},
   "outputs": [],
   "source": []
  }
 ],
 "metadata": {
  "kernelspec": {
   "display_name": "Python 3",
   "language": "python",
   "name": "python3"
  },
  "language_info": {
   "codemirror_mode": {
    "name": "ipython",
    "version": 3
   },
   "file_extension": ".py",
   "mimetype": "text/x-python",
   "name": "python",
   "nbconvert_exporter": "python",
   "pygments_lexer": "ipython3",
   "version": "3.7.0"
  }
 },
 "nbformat": 4,
 "nbformat_minor": 2
}
