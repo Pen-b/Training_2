{
 "cells": [
  {
   "cell_type": "markdown",
   "metadata": {},
   "source": [
    "# Probability Distributions\n",
    "\n",
    "1. [Overview](http://stattrek.com/probability-distributions/probability-distribution.aspx)\n",
    "2. [Overview 2](http://blog.cloudera.com/blog/2015/12/common-probability-distributions-the-data-scientists-crib-sheet/)\n",
    "3. [R Tutorial-Statistics](http://www.r-tutor.com/elementary-statistics/probability-distributions)\n",
    "\n",
    "3. Truncated distributions.\n",
    "  1. [how to sample](https://www.google.co.uk/search?client=firefox-b-ab&dcr=0&ei=1ShNWuXYIM3IwALT_orgCQ&q=truncated+distribution+python+tutorial&oq=truncated+distribution+python+tut&gs_l=psy-ab.3.0.33i21k1j33i160k1.14122.16124.0.17521.11.11.0.0.0.0.164.1137.6j5.11.0....0...1c.1.64.psy-ab..0.11.1129...0j0i22i30k1.0.chuX-eNenpo)"
   ]
  },
  {
   "cell_type": "code",
   "execution_count": null,
   "metadata": {
    "collapsed": true
   },
   "outputs": [],
   "source": []
  }
 ],
 "metadata": {
  "kernelspec": {
   "display_name": "Python [conda env:py36]",
   "language": "python",
   "name": "conda-env-py36-py"
  },
  "language_info": {
   "codemirror_mode": {
    "name": "ipython",
    "version": 3
   },
   "file_extension": ".py",
   "mimetype": "text/x-python",
   "name": "python",
   "nbconvert_exporter": "python",
   "pygments_lexer": "ipython3",
   "version": "3.6.3"
  }
 },
 "nbformat": 4,
 "nbformat_minor": 2
}
