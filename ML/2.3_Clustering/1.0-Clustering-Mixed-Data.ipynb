{
 "cells": [
  {
   "cell_type": "markdown",
   "metadata": {},
   "source": [
    "# Clustering on mixed data-types\n",
    "\n",
    "\n",
    "### 1. Introduction: "
   ]
  },
  {
   "cell_type": "markdown",
   "metadata": {},
   "source": [
    "This article focusses on theory, method and practical application of clustering of datasets with mixed datatypes. Many real world datasets include combinations of numerical, ordinal (e.g. small, medium, large), and nomial (e.g. France, China, India) data features. Whereas many popular clustering algorithms such as Kmeans are suitable only for either numerical or categorical datatypes independantly. Sklearn provides and excellent [introduction to clustering](https://scikit-learn.org/stable/modules/clustering.html#clustering) methods. Lets begin.\n",
    "\n",
    "Cluster analysis (clustering) is the task of assigning sets of objects within a population in such a way that objects in the same group (cluster) are more similar to one another than to those in other clusters. Clustering is a form of unsupervised learning as the number, size and distribution of clusters is unknown a priori.\n",
    "\n",
    "Clustering can be applied to a variety of different problems and domains including: customer segmentation for retail sales and marketing, identifying higher or lower risk groups within [insurance portfolios](https://www.casact.org/pubs/dpp/dpp08/08dpp170.pdf), to finding [storm systems on Jupyter](https://astronomycommunity.nature.com/users/253561-ingo-waldmann/posts/48323-deep-learning-saturn), and even [galaxies far far away](https://arxiv.org/abs/1404.3097).\n",
    "\n",
    "***Aim:***\n",
    "*To define a strategy and method to cluster large datasets containing a variety of dataype's*\n",
    "\n",
    "***Objectives:***\n",
    "1. To research and review clustering techniques for mixed datatype datasets. \n",
    "1. To research and review feature encoding and engineering strategies. \n",
    "1. To apply and review clustering methods on a test dataset."
   ]
  },
  {
   "cell_type": "code",
   "execution_count": 1,
   "metadata": {},
   "outputs": [],
   "source": [
    "import os\n",
    "import pandas as pd\n",
    "import numpy as np\n",
    "from matplotlib import pyplot as plt\n",
    "from IPython.display import Image\n",
    "from IPython.core.display import HTML "
   ]
  },
  {
   "cell_type": "markdown",
   "metadata": {},
   "source": [
    "### 2. Case Study: \n",
    "California auto-insurance claims [dataset](https://www.kaggle.com/xiaomengsun/car-insurance-claim-data)\n",
    "\n",
    "[***Data dictionary***](https://rpubs.com/data_feelings/msda_data621_hw4), includes:\n",
    "- Bluebook = car re-sale value. \n",
    "- MVR_PTS = [MotorVehicleRecordPoints (MVR) ](https://www.wnins.com/losscontrolbulletins/MVREvaluation.pdf) details an individual’s past driving history indicating violations and accidents over a specified period\n",
    "- TIF = Time In Force / customer lifetime\n",
    "- YOJ = years in job\n",
    "- CLM_FRQ = # of claims in past 5 years\n",
    "- OLDCLAIM = sum $ of claims in past 5 years\n",
    "\n",
    "https://community.alteryx.com/t5/Alteryx-Designer-Discussions/Insurance-Datasets/td-p/440035\n",
    "https://rpubs.com/data_feelings/msda_data621_hw4\n",
    "https://rdrr.io/cran/HDtweedie/man/auto.html\n",
    "https://cran.r-project.org/web/packages/insuranceData/insuranceData.pdf\n"
   ]
  },
  {
   "cell_type": "code",
   "execution_count": 2,
   "metadata": {},
   "outputs": [
    {
     "data": {
      "text/html": [
       "<div>\n",
       "<style scoped>\n",
       "    .dataframe tbody tr th:only-of-type {\n",
       "        vertical-align: middle;\n",
       "    }\n",
       "\n",
       "    .dataframe tbody tr th {\n",
       "        vertical-align: top;\n",
       "    }\n",
       "\n",
       "    .dataframe thead th {\n",
       "        text-align: right;\n",
       "    }\n",
       "</style>\n",
       "<table border=\"1\" class=\"dataframe\">\n",
       "  <thead>\n",
       "    <tr style=\"text-align: right;\">\n",
       "      <th></th>\n",
       "      <th>ID</th>\n",
       "      <th>KIDSDRIV</th>\n",
       "      <th>BIRTH</th>\n",
       "      <th>AGE</th>\n",
       "      <th>HOMEKIDS</th>\n",
       "      <th>YOJ</th>\n",
       "      <th>INCOME</th>\n",
       "      <th>PARENT1</th>\n",
       "      <th>HOME_VAL</th>\n",
       "      <th>MSTATUS</th>\n",
       "      <th>...</th>\n",
       "      <th>CAR_TYPE</th>\n",
       "      <th>RED_CAR</th>\n",
       "      <th>OLDCLAIM</th>\n",
       "      <th>CLM_FREQ</th>\n",
       "      <th>REVOKED</th>\n",
       "      <th>MVR_PTS</th>\n",
       "      <th>CLM_AMT</th>\n",
       "      <th>CAR_AGE</th>\n",
       "      <th>CLAIM_FLAG</th>\n",
       "      <th>URBANICITY</th>\n",
       "    </tr>\n",
       "  </thead>\n",
       "  <tbody>\n",
       "    <tr>\n",
       "      <th>0</th>\n",
       "      <td>63581743</td>\n",
       "      <td>0</td>\n",
       "      <td>MAR</td>\n",
       "      <td>60.0</td>\n",
       "      <td>0</td>\n",
       "      <td>11.0</td>\n",
       "      <td>67349.0</td>\n",
       "      <td>NO</td>\n",
       "      <td>0.0</td>\n",
       "      <td>NO</td>\n",
       "      <td>...</td>\n",
       "      <td>MINIVAN</td>\n",
       "      <td>YES</td>\n",
       "      <td>4461.0</td>\n",
       "      <td>2</td>\n",
       "      <td>NO</td>\n",
       "      <td>3</td>\n",
       "      <td>0.0</td>\n",
       "      <td>18.0</td>\n",
       "      <td>0</td>\n",
       "      <td>HIGHLYURBANURBAN</td>\n",
       "    </tr>\n",
       "    <tr>\n",
       "      <th>1</th>\n",
       "      <td>132761049</td>\n",
       "      <td>0</td>\n",
       "      <td>JAN</td>\n",
       "      <td>43.0</td>\n",
       "      <td>0</td>\n",
       "      <td>11.0</td>\n",
       "      <td>91449.0</td>\n",
       "      <td>NO</td>\n",
       "      <td>257252.0</td>\n",
       "      <td>NO</td>\n",
       "      <td>...</td>\n",
       "      <td>MINIVAN</td>\n",
       "      <td>YES</td>\n",
       "      <td>0.0</td>\n",
       "      <td>0</td>\n",
       "      <td>NO</td>\n",
       "      <td>0</td>\n",
       "      <td>0.0</td>\n",
       "      <td>1.0</td>\n",
       "      <td>0</td>\n",
       "      <td>HIGHLYURBANURBAN</td>\n",
       "    </tr>\n",
       "  </tbody>\n",
       "</table>\n",
       "<p>2 rows × 27 columns</p>\n",
       "</div>"
      ],
      "text/plain": [
       "          ID  KIDSDRIV BIRTH   AGE  HOMEKIDS   YOJ   INCOME PARENT1  HOME_VAL  \\\n",
       "0   63581743         0   MAR  60.0         0  11.0  67349.0      NO       0.0   \n",
       "1  132761049         0   JAN  43.0         0  11.0  91449.0      NO  257252.0   \n",
       "\n",
       "  MSTATUS  ... CAR_TYPE RED_CAR OLDCLAIM  CLM_FREQ REVOKED  MVR_PTS  CLM_AMT  \\\n",
       "0      NO  ...  MINIVAN     YES   4461.0         2      NO        3      0.0   \n",
       "1      NO  ...  MINIVAN     YES      0.0         0      NO        0      0.0   \n",
       "\n",
       "  CAR_AGE CLAIM_FLAG        URBANICITY  \n",
       "0    18.0          0  HIGHLYURBANURBAN  \n",
       "1     1.0          0  HIGHLYURBANURBAN  \n",
       "\n",
       "[2 rows x 27 columns]"
      ]
     },
     "execution_count": 2,
     "metadata": {},
     "output_type": "execute_result"
    }
   ],
   "source": [
    "# load data\n",
    "DATA_PATH = os.path.join(os.getcwd(),'../_data')\n",
    "df = pd.read_csv(os.path.join(DATA_PATH,'car_insurance_claim.csv'),low_memory=False,)\n",
    "\n",
    "# convert object to numerical\n",
    "df[['INCOME','HOME_VAL','BLUEBOOK','OLDCLAIM', 'CLM_AMT',]] = df[['INCOME','HOME_VAL','BLUEBOOK','OLDCLAIM', 'CLM_AMT',]].replace('[^.0-9]', '', regex=True,).astype(float).fillna(0)\n",
    "\n",
    "# clean textual classes\n",
    "for col in df.columns:\n",
    "    if df[col].dtype == 'O':\n",
    "        df[col] = df[col].str.upper().replace('Z_','',regex=True).replace('[^A-Z]','',regex=True)\n",
    "        \n",
    "data_types = {f:t for f,t in zip(df.columns,df.dtypes)}\n",
    "\n",
    "df[:2]"
   ]
  },
  {
   "cell_type": "markdown",
   "metadata": {},
   "source": [
    "### 3 Method\n",
    "\n",
    "#### 3.1 Data Preparation\n",
    " - remove or fill null values"
   ]
  },
  {
   "cell_type": "code",
   "execution_count": 3,
   "metadata": {},
   "outputs": [],
   "source": [
    "# copy df\n",
    "tdf = df.copy()\n",
    "\n",
    "# drop ID and Birth\n",
    "tdf.drop(labels=['ID','BIRTH'],axis=1,inplace=True)"
   ]
  },
  {
   "cell_type": "code",
   "execution_count": 4,
   "metadata": {},
   "outputs": [
    {
     "name": "stdout",
     "output_type": "stream",
     "text": [
      "No NaNs\n"
     ]
    }
   ],
   "source": [
    "# remove all nan values\n",
    "tdf['OCCUPATION'].fillna('OTHER',inplace=True)\n",
    "for col in ['AGE','YOJ','CAR_AGE']:\n",
    "    tdf[col].fillna(tdf[col].mean(),inplace=True)\n",
    "if tdf.isnull().sum().sum() == 0: print('No NaNs')"
   ]
  },
  {
   "cell_type": "markdown",
   "metadata": {},
   "source": [
    "***inspect and clean***"
   ]
  },
  {
   "cell_type": "code",
   "execution_count": 5,
   "metadata": {},
   "outputs": [],
   "source": [
    "data_meta = pd.DataFrame(tdf.nunique(),columns=['num'],index=None).sort_values('num').reset_index()\n",
    "data_meta.columns = ['name','num']\n",
    "data_meta['type'] = 'numerical'\n",
    "\n",
    "# exclude known numericals\n",
    "data_meta.loc[(data_meta['num']<=15) & (~data_meta['name'].isin(['MVR_PTS','CLM_FREQ','CLAIM_FLAG'])),'type']='categorical'\n",
    "data_meta.loc[data_meta['name'].isin(['CLM_FREQ','CLAIM_FLAG']),'type']='claim'\n",
    "\n",
    "cat_features = list(data_meta.loc[data_meta['type']=='categorical','name'])\n",
    "num_features = list(data_meta.loc[data_meta['type']=='numerical','name'])"
   ]
  },
  {
   "cell_type": "code",
   "execution_count": 6,
   "metadata": {},
   "outputs": [],
   "source": [
    "# shorten names\n",
    "tdf['URBANICITY'] = tdf['URBANICITY'].map({'HIGHLYURBANURBAN':'URBAN','HIGHLYRURALRURAL':'RURAL'})\n",
    "tdf['EDUCATION'] = tdf['EDUCATION'].map({'HIGHSCHOOL':'HSCL', 'BACHELORS':'BSC', 'MASTERS':'MSC','PHD':'PHD'})\n",
    "tdf['CAR_TYPE'] = tdf['CAR_TYPE'].map({'MINIVAN':'MVAN', 'VAN':'VAN', 'SUV':'SUV', 'SPORTSCAR':'SPRT', 'PANELTRUCK':'PTRK', 'PICKUP':'PKUP'})"
   ]
  },
  {
   "cell_type": "code",
   "execution_count": 7,
   "metadata": {},
   "outputs": [],
   "source": [
    "# Mosaic Plots\n",
    "# https://rpubs.com/data_feelings/msda_data621_hw4\n",
    "# import numpy as np\n",
    "# import pandas as pd\n",
    "# import matplotlib.pyplot as plt\n",
    "# from statsmodels.graphics.mosaicplot import mostaticmethodc\n",
    "\n",
    "# props = {}\n",
    "# for car in tdf['CAR_TYPE'].unique():\n",
    "#     for i,color in zip([0,1],['grey','blue']):\n",
    "#         props[(str(i),car)] = {'color':color}\n",
    "# props\n",
    "\n",
    "# m = mosaic(tdf, ['CAR_TYPE','CLAIM_FLAG',], title='DataFrame as Source',properties=props)\n",
    "# plt.show()"
   ]
  },
  {
   "cell_type": "markdown",
   "metadata": {},
   "source": [
    "***categorical feature counts***"
   ]
  },
  {
   "cell_type": "code",
   "execution_count": 8,
   "metadata": {},
   "outputs": [
    {
     "data": {
      "image/png": "[encoded data removed]",
      "text/plain": [
       "<Figure size 864x648 with 12 Axes>"
      ]
     },
     "metadata": {
      "needs_background": "light"
     },
     "output_type": "display_data"
    }
   ],
   "source": [
    "fig,axs = plt.subplots(3,4,figsize=(12,9),sharey=True)\n",
    "\n",
    "for ax,feat in zip(axs.flatten(),cat_features):\n",
    "    ax.hist(tdf[feat],align='left')\n",
    "    ax.set_title(feat)\n",
    "plt.tight_layout()"
   ]
  },
  {
   "cell_type": "markdown",
   "metadata": {},
   "source": [
    "***How are claims distributed amongst categoricals?***"
   ]
  },
  {
   "cell_type": "code",
   "execution_count": 9,
   "metadata": {},
   "outputs": [
    {
     "data": {
      "image/png": "[encoded data removed]",
      "text/plain": [
       "<Figure size 864x720 with 12 Axes>"
      ]
     },
     "metadata": {
      "needs_background": "light"
     },
     "output_type": "display_data"
    }
   ],
   "source": [
    "fig,axs = plt.subplots(3,4,figsize=(12,10),sharey=True)\n",
    "\n",
    "for ax,feat in zip(axs.flatten(),cat_features):\n",
    "    ((pd.crosstab(tdf['CLAIM_FLAG'],tdf[feat])) / (pd.crosstab(tdf['CLAIM_FLAG'],tdf[feat]).sum())).T.plot.bar(stacked=True,ax=ax,legend=False,title=None)\n",
    "    ax.set_title(feat)\n",
    "plt.tight_layout()"
   ]
  },
  {
   "cell_type": "markdown",
   "metadata": {},
   "source": [
    "#### 3.2 Feature Engingeering and Encoding\n",
    "The data data features should be standardized in order to avoid dependence on the [datatypes](https://towardsdatascience.com/data-types-in-statistics-347e152e8bee) and on the variety or choice of measurement units.\n",
    "\n",
    "Rule of thumb, when using any algorithm that computes distance or assumes normality, scale your features! [see here](https://medium.com/greyatom/why-how-and-when-to-scale-your-features-4b30ab09db5e), [here](https://stats.stackexchange.com/a/7182/100439), and [here](https://stats.stackexchange.com/questions/385775/normalizing-vs-scaling-before-pca).\n",
    "\n",
    "\n",
    "- Numerical values:\n",
    " - Using ratio\n",
    " - normalisation (transform values to be on scale of 0-1)\n",
    " - standardisation (how many standard deviations the value is from the sample mean)\n",
    "\n",
    "\n",
    "- Categorical: nomial or binary symmetric values, where outcomes are of equal importance (e.g. Male or Female)\n",
    " - One hot encoding\n",
    " - If high cardinality >15, try to reduce dimensionality by feature engineering or apply binary or hash encoding ([see here](https://towardsdatascience.com/all-about-categorical-variable-encoding-305f3361fd02))\n",
    " \n",
    " \n",
    "- Categorical: ordinal or binary asymmetric values, where outcomes are not of equal importance (e.g. Gold, Silver, Bronze)\n",
    " - it depends!\n",
    " - Label encoding with 0-1 normalisation if values are on equal-importance increasing scale (Bronze=1,Silver=2,Gold=3, where 1=1*1, 2=2*1, 3=3*1, Gold-Bronze = 3-1 = 2 places worse).\n",
    " - Rank values with 0-1 normalisation, again if values are on equal-importance increasing scale.\n",
    " - If there is some target variable in the dataset (e.g. event occurence, medical diagnosis, iris type) one can also assign frequencies, odd ratios or weights-of-evidence to each ordinal class.\n",
    "\n",
    "By far ordinal data is the most challenging to handle. There are many arguments between mathmatical purists, statisticians and other data practitioners on wether to treat ordinal data as qualitatively or quantitatively ([see here](https://creativemaths.net/blog/ordinal/)). In this authors opinion, ordianl data should be treated with caution and to adopt rational feature engineering and encdoing strategies based on understanding of the data and its domain.  \n",
    "\n",
    "*It is essential to understand, for all machine learning models, all these encodings do not work well in all situations or for every dataset. Data Scientists still need to experiment and find out which works best for their specific case. If test data has different classes, then some of these methods won’t work as features won’t be similar. There are few benchmark publications by research communities, but it’s not conclusive, which works best. My recommendation will be to try each of these with the smaller datasets and then decide where to put more focus on tuning the encoding process. You can use the below cheat-sheet as a guiding tool.*\n",
    "\n",
    "\n",
    "*references:*\n",
    " - https://miro.medium.com/max/2924/1*dvvxoZTdewLFs3RyZTJreA.png\n",
    " - [Datatypes in statistics](https://towardsdatascience.com/data-types-in-statistics-347e152e8bee)\n",
    " - [Binary symmetric and assymetric variables](https://www.quora.com/What-are-binary-symmetric-and-asymmetric-attributes)\n",
    " - [datatype conversions in clustering](https://paginas.fe.up.pt/~ec/files_0506/slides/05_Clustering.pdf)\n",
    " - [categorical feature engineering](https://towardsdatascience.com/all-about-categorical-variable-encoding-305f3361fd02)\n",
    " - [Normalization vs Standardization — Quantitative analysis](https://towardsdatascience.com/normalization-vs-standardization-quantitative-analysis-a91e8a79cebf)\n",
    " - [Normalization vs Standardization](https://stats.stackexchange.com/a/10291/100439)\n",
    " \n",
    "***numerical features***"
   ]
  },
  {
   "cell_type": "code",
   "execution_count": 10,
   "metadata": {},
   "outputs": [],
   "source": [
    "from sklearn.preprocessing import scale,RobustScaler,StandardScaler, MinMaxScaler"
   ]
  },
  {
   "cell_type": "code",
   "execution_count": 11,
   "metadata": {},
   "outputs": [],
   "source": [
    "# Scale standardisation of numerical values\n",
    "numerical_features = pd.DataFrame(StandardScaler().fit_transform(tdf[num_features]),index=tdf.index,columns=num_features)\n",
    "numerical_features = pd.DataFrame(MinMaxScaler(feature_range=(0,1)).fit_transform(tdf[num_features]),index=tdf.index,columns=num_features)"
   ]
  },
  {
   "cell_type": "markdown",
   "metadata": {},
   "source": [
    "***Categorical:Nomial values with binary symmetry***\n",
    "\n",
    "Remember, here we are taking categorical values that are symmetric in scale only. Without getting into a debate, we could consider EDUCATION and OCCUPATIOM as either nomial (i.e. no order) or ordinal (i.e. hierachal). Here i'm going to take education as ordinal and occupation as nomial.\n",
    "\n",
    "Observing our plots above we may also want to combine some classes where there are low frequencies or high cardinality. These are:\n",
    "\n",
    " - KIDSDRIV: collapse >= 2 to single category\n",
    " - HOMEKIDS: collapse >= 4 to single category\n",
    "\n",
    "We then apply one-hot-encoding."
   ]
  },
  {
   "cell_type": "code",
   "execution_count": 12,
   "metadata": {},
   "outputs": [],
   "source": [
    "cat_features.remove('EDUCATION')\n",
    "tdf['KIDSDRIV'] = tdf['KIDSDRIV'].map({0:'0',1:'1',2:'2+',3:'2+',4:'2+'})\n",
    "tdf['HOMEKIDS']= tdf['HOMEKIDS'].map({0:'0',1:'1',2:'2',3:'3',4:'4+',5:'4+'})"
   ]
  },
  {
   "cell_type": "code",
   "execution_count": 13,
   "metadata": {},
   "outputs": [],
   "source": [
    "nomial_features = pd.get_dummies(tdf[cat_features])"
   ]
  },
  {
   "cell_type": "markdown",
   "metadata": {},
   "source": [
    "***Categorical:Ordinal values with binary asymmetry***"
   ]
  },
  {
   "cell_type": "code",
   "execution_count": 14,
   "metadata": {},
   "outputs": [],
   "source": [
    "tdf['EDUCATION'] = tdf['EDUCATION'].map({'HSCL':0, 'BSC':1, 'MSC':2,'PHD':3})"
   ]
  },
  {
   "cell_type": "code",
   "execution_count": 15,
   "metadata": {},
   "outputs": [],
   "source": [
    "from sklearn.preprocessing import MinMaxScaler\n",
    "mx = MinMaxScaler(feature_range=(0,1))"
   ]
  },
  {
   "cell_type": "code",
   "execution_count": 16,
   "metadata": {},
   "outputs": [],
   "source": [
    "ordinal_features = pd.DataFrame(mx.fit_transform(tdf[['EDUCATION']]),index=tdf.index,columns=['EDUCATION'])"
   ]
  },
  {
   "cell_type": "markdown",
   "metadata": {},
   "source": [
    "***Create datasets for clustering***\n",
    "\n",
    "<span style=\"color:red\">\n",
    "Beware! check what transformations each package applies or can handle. For example, some may require features to be prepared as above a priori whilst others may handles this for you.\n",
    "</span>\n",
    "\n",
    "Rule of thumb, when using any algorithm that computes distance or assumes normality, scale your features! [see here](https://medium.com/greyatom/why-how-and-when-to-scale-your-features-4b30ab09db5e) and [here](https://stats.stackexchange.com/questions/385775/normalizing-vs-scaling-before-pca).\n",
    "\n",
    "I will create two copies of the data:\n",
    " 1. using the above OHE transformations and feature scaling (0,1).\n",
    " 2. applying the above transformations but without feature scaling."
   ]
  },
  {
   "cell_type": "code",
   "execution_count": 17,
   "metadata": {},
   "outputs": [
    {
     "name": "stdout",
     "output_type": "stream",
     "text": [
      "Data min:max (0.0, 1.0)\n"
     ]
    }
   ],
   "source": [
    "# transformed and scaled dataset\n",
    "Xy_scaled = pd.concat([numerical_features,nomial_features,ordinal_features],axis=1)\n",
    "print(f'Data min:max {Xy_scaled.min().min(),Xy_scaled.max().max()}')"
   ]
  },
  {
   "cell_type": "code",
   "execution_count": 18,
   "metadata": {},
   "outputs": [],
   "source": [
    "# original data\n",
    "Xy_original = tdf.drop(labels=['CLAIM_FLAG'],axis=1)"
   ]
  },
  {
   "cell_type": "markdown",
   "metadata": {},
   "source": [
    "### 3.3 Similarity Measures\n",
    "<span style=\"color:red\">\n",
    "Again beware! check what transformations each package handles. For example, some may require features to be prepared as above a priori whilst others may handles this for you.\n",
    "</span>\n",
    "\n",
    "\n",
    "Common distance metrics include: \n",
    "- see scipy reference [here](https://docs.scipy.org/doc/scipy/reference/generated/scipy.spatial.distance.pdist.html#scipy.spatial.distance.pdist) and [here](https://docs.scipy.org/doc/scipy-0.15.1/reference/generated/scipy.spatial.distance.pdist.html)\n",
    "- Euclidean distances are root sum-of-squares of differences. \n",
    "- Cityblock or Manhattan distances are the sum of absolute differences.\n",
    "- Minkowski, a generalization of both the Euclidean distance and the Manhattan distance.\n",
    "- Gower's distance, also Gower's coefficient (1971), is expressed as a dissimilarity and requires that a particular standardisation will be applied to each variable. The “distance” between two units is the sum of all the variable-specific distances. \n",
    " - [$Gower$ $distance$](https://www.jstor.org/stable/2528823?seq=1) was proposed to measure dissimilarity between subjects with mixed types of variables using the mathematical concept of distance.\n",
    " - [R docs](https://rdrr.io/cran/gower/api)\n",
    " \n",
    "By transforming and scaling our features we can in theory apply either metric. However, the formula for Gower handlse mixed datatypes. See the [Python Gower](https://www.thinkdatascience.com/post/2019-12-16-introducing-python-package-gower/) package."
   ]
  },
  {
   "cell_type": "code",
   "execution_count": 19,
   "metadata": {},
   "outputs": [
    {
     "data": {
      "text/html": [
       "<img src=\"https://upload.wikimedia.org/wikipedia/commons/0/08/Manhattan_distance.svg\"/>"
      ],
      "text/plain": [
       "<IPython.core.display.Image object>"
      ]
     },
     "execution_count": 19,
     "metadata": {},
     "output_type": "execute_result"
    }
   ],
   "source": [
    "Image(url= \"https://upload.wikimedia.org/wikipedia/commons/0/08/Manhattan_distance.svg\")"
   ]
  },
  {
   "cell_type": "code",
   "execution_count": 20,
   "metadata": {},
   "outputs": [
    {
     "ename": "ModuleNotFoundError",
     "evalue": "No module named 'gower'",
     "output_type": "error",
     "traceback": [
      "\u001b[0;31m---------------------------------------------------------------------------\u001b[0m",
      "\u001b[0;31mModuleNotFoundError\u001b[0m                       Traceback (most recent call last)",
      "\u001b[0;32m<ipython-input-20-7ace36e2ace0>\u001b[0m in \u001b[0;36m<module>\u001b[0;34m\u001b[0m\n\u001b[0;32m----> 1\u001b[0;31m \u001b[0;32mimport\u001b[0m \u001b[0mgower\u001b[0m\u001b[0;34m\u001b[0m\u001b[0;34m\u001b[0m\u001b[0m\n\u001b[0m",
      "\u001b[0;31mModuleNotFoundError\u001b[0m: No module named 'gower'"
     ]
    }
   ],
   "source": [
    "import gower"
   ]
  },
  {
   "cell_type": "markdown",
   "metadata": {},
   "source": [
    "You can use Gower to find similarity between a single entity and a list of candidates. \n",
    "\n",
    "This seems to pick out Urban, 40-50 year old males, who drive red minivan's, no kids, and with home values of around $160 K."
   ]
  },
  {
   "cell_type": "code",
   "execution_count": null,
   "metadata": {},
   "outputs": [],
   "source": [
    "%time sd = gower.gower_topn(Xy_original.iloc[4:5,:], Xy_original.iloc[:,:], n = 10)\n",
    "print(Xy_original.iloc[sd['index']].describe().loc[['mean']])\n",
    "Xy_original.iloc[sd['index']]"
   ]
  },
  {
   "cell_type": "markdown",
   "metadata": {},
   "source": [
    "And to calculate a matrix of similaritities between all entities"
   ]
  },
  {
   "cell_type": "code",
   "execution_count": null,
   "metadata": {},
   "outputs": [],
   "source": [
    "# create list of cat_feature indicator\n",
    "# [(x,True) if x in cat_features else (x,False) for x in Xy_original.columns]\n",
    "cat_ind = [True if x in cat_features else False for x in Xy_original.columns]\n",
    "\n",
    "try: \n",
    "    gd = np.load(os.path.join(DATA_PATH,'car-insurance-claim-data/car_insurance_claim_gower_distance.npy'))\n",
    "    print('Gower distances loaded from file.')\n",
    "except:\n",
    "    print('Calculating Gower dsitances...1-5 minutes')\n",
    "    %time gd = gower.gower_matrix(Xy_original, cat_features=cat_ind)\n",
    "    np.save(os.path.join(DATA_PATH,'car-insurance-claim-data/car_insurance_claim_gower_distance.npy'),gd)"
   ]
  },
  {
   "cell_type": "code",
   "execution_count": null,
   "metadata": {},
   "outputs": [],
   "source": [
    "pd.DataFrame(gd[:5,:5])"
   ]
  },
  {
   "cell_type": "markdown",
   "metadata": {},
   "source": [
    "## 4 Clustering methods for mixed datatypes\n",
    "\n",
    "1. Hierachal (Gower distance matrix from original features):\n",
    " - [see here](https://stackoverflow.com/a/55306715/4538066) for discusion of suitable distance methods.\n",
    "1. K-medoids (transformed and scaled features):\n",
    " - [distance metrics for k-medoids](https://stats.stackexchange.com/a/94178/100439)\n",
    " - [k-mediods in pyclustering package](https://pypi.org/project/pyclustering/)\n",
    "    - [ISSUE](https://github.com/annoviko/pyclustering/issues/503) pyclustering package does not implement PAM as suggested on other sites.\n",
    " - K-medoids is poor performing on large datasets.\n",
    " - [k-mediods python implmentation in scikit-learn-extra](https://scikit-learn-extra.readthedocs.io/en/latest/install.html)\n",
    " - [C++ build tools may be required on windows](https://www.scivision.dev/python-windows-visual-c-14-required/)\n",
    "1. CLARANS (transformed and scaled features)\n",
    " - [Raymond, T., et al. 2002. CLARANS](http://www.cs.ecu.edu/dingq/CSCI6905/readings/CLARANS.pdf)\n",
    " - [clarans in python](https://medium.com/analytics-vidhya/partitional-clustering-using-clarans-method-with-python-example-545dd84e58b4)\n",
    "1. PAM partition-around-medoids (transformed and scaled features)\n",
    " - [PAM  is a variation of K-medoids](https://stats.stackexchange.com/a/141208/100439)\n",
    " - [Self defined PAM k-medoids in python](https://towardsdatascience.com/k-medoids-clustering-on-iris-data-set-1931bf781e05)\n",
    "1. K-means (transformed and scaled features)"
   ]
  },
  {
   "cell_type": "code",
   "execution_count": null,
   "metadata": {},
   "outputs": [],
   "source": [
    "from scipy.cluster.hierarchy import linkage, fcluster, dendrogram\n",
    "from sklearn.metrics import silhouette_samples, silhouette_score"
   ]
  },
  {
   "cell_type": "markdown",
   "metadata": {},
   "source": [
    "## 4.1 Hierachal (Gower distance matrix from original features)\n",
    "\n",
    "[scipy.linkage](https://docs.scipy.org/doc/scipy/reference/generated/scipy.cluster.hierarchy.linkage.html#scipy.cluster.hierarchy.linkage) is used to generate:\n",
    " - $Z$, an ($n-1$) by 4 matrix . \n",
    " - At the -th iteration, clusters with indices $Z[i, 0]$ and $Z[i, 1]$ are combined to form cluster.\n",
    " - A cluster with an index less than corresponds to one of the original observations. \n",
    " - The distance between clusters $Z[i, 0]$ and $Z[i, 1]$ is given by $Z[i, 2]$. \n",
    " - The fourth value $Z[i, 3]$ represents the number of original observations in the newly formed cluster."
   ]
  },
  {
   "cell_type": "code",
   "execution_count": null,
   "metadata": {},
   "outputs": [],
   "source": [
    "# output matrix has format [idx1, idx2, dist, sample_count]\n",
    "try: \n",
    "    Z = np.load(os.path.join(DATA_PATH,'car-insurance-claim-data/car_insurance_claim_linkage-complete.npy'))\n",
    "    print('Z linkages loaded from file.')\n",
    "except:\n",
    "    print('Calculating Gower dsitances...1-5 minutes')\n",
    "    %time Z = linkage(gd,method='complete')\n",
    "    np.save(os.path.join(DATA_PATH,'car-insurance-claim-data/car_insurance_claim_linkage-complete.npy'),Z)\n",
    "    \n",
    "Z_df = pd.DataFrame(Z,columns=['id1','id2','dist','n'])"
   ]
  },
  {
   "cell_type": "markdown",
   "metadata": {},
   "source": [
    "Visualise using a [scipy.dendogram](https://docs.scipy.org/doc/scipy/reference/generated/scipy.cluster.hierarchy.dendrogram.html#scipy.cluster.hierarchy.dendrogram)\n",
    "\n",
    "[*note*](https://stackoverflow.com/questions/9838861/scipy-linkage-format) it is not practical to infer the cluster or each observation using linkage and dendogram ouput."
   ]
  },
  {
   "cell_type": "code",
   "execution_count": null,
   "metadata": {},
   "outputs": [],
   "source": [
    "fig,axs = plt.subplots(1,1,figsize=(25,5))\n",
    "dn = dendrogram(Z, truncate_mode='level',p=6,show_leaf_counts=True,ax=axs);\n",
    "print(f\"Leaves = {len(dn['leaves'])}\")"
   ]
  },
  {
   "cell_type": "markdown",
   "metadata": {},
   "source": [
    "Now to find the optimal number of clusters we apply:\n",
    "1. [fcluster](https://docs.scipy.org/doc/scipy/reference/generated/scipy.cluster.hierarchy.fcluster.html#scipy.cluster.hierarchy.fcluster) to form flat clusters from the hierarchical clustering defined by the linkage matrix ($Zd$).\n",
    "1. [Silhouette scoring](https://scikit-learn.org/stable/modules/generated/sklearn.metrics.silhouette_score.html) to determine an appropriate number of clusters ($k$) or level in the dendogram. The Silhouette Coefficient ($S$) is calculated using the mean intra-cluster distance (a) and the mean nearest-cluster distance (b) for each sample where:\n",
    "$$S = (b - a) / max(a, b)$$\n",
    " - ($S_1$) is computed using the \"precomputed\" Gower distances.\n",
    " - ($S_2$) is computed using predefined distance measures from [sklearn](https://scikit-learn.org/stable/modules/generated/sklearn.metrics.pairwise_distances.html#) or [scipy](https://docs.scipy.org/doc/scipy/reference/spatial.distance.html), in this instance \"correlation\". BUT, this only works on our transformed and scaled features created earlier.\n",
    " "
   ]
  },
  {
   "cell_type": "code",
   "execution_count": null,
   "metadata": {},
   "outputs": [],
   "source": [
    "# find k clusters\n",
    "results = dict()\n",
    "\n",
    "k_cand = [2,3,4,5,7,9,]\n",
    "k_cand.extend(list(np.arange(10,55,5)))\n",
    "\n",
    "for k in k_cand:\n",
    "    cluster_array = fcluster(Z, k, criterion='maxclust')\n",
    "    score1 = silhouette_score(gd, cluster_array, metric='precomputed')\n",
    "    score2 = silhouette_score(Xy_scaled, cluster_array,metric='correlation')\n",
    "    results[k] = {'k':cluster_array,'s1':score1,'s2':score2}\n",
    "    \n",
    "plt.plot([i for i in results.keys()],[i['s1'] for i in results.values()],label='gower')\n",
    "plt.plot([i for i in results.keys()],[i['s2'] for i in results.values()],label='correlation')\n",
    "plt.legend()\n",
    "plt.xticks(k_cand);"
   ]
  },
  {
   "cell_type": "markdown",
   "metadata": {},
   "source": [
    "Visualising the silhouette scores indicates that there are increases \"spikes\" in scores at 7 and 40 clusters.\n",
    "Lets investigate these two sets."
   ]
  },
  {
   "cell_type": "code",
   "execution_count": null,
   "metadata": {},
   "outputs": [],
   "source": [
    "# assign 7 and 40\n",
    "tdf['k-medoids-7'] =results[7]['k']\n",
    "tdf['k-medoids-40'] =results[40]['k']"
   ]
  },
  {
   "cell_type": "code",
   "execution_count": null,
   "metadata": {},
   "outputs": [],
   "source": [
    "fig,axs = plt.subplots(6,2,figsize=(10,15),sharex=True)\n",
    "\n",
    "for ax,feat in zip(axs.flatten(),num_features):\n",
    "    pd.plotting.boxplot(tdf,column=[feat],by='k-medoids-7',ax=ax)\n",
    "    ax.set_xlabel('')  \n",
    "plt.tight_layout()"
   ]
  },
  {
   "cell_type": "code",
   "execution_count": null,
   "metadata": {},
   "outputs": [],
   "source": [
    "fig,axs = plt.subplots(11,1,figsize=(10,40),sharex=True)\n",
    "\n",
    "for ax,feat in zip(axs.flatten(),num_features):\n",
    "    pd.plotting.boxplot(tdf,column=[feat],by='k-medoids-40',ax=ax)\n",
    "    ax.set_xlabel('')\n",
    "\n",
    "plt.tight_layout()"
   ]
  },
  {
   "cell_type": "code",
   "execution_count": null,
   "metadata": {},
   "outputs": [],
   "source": [
    "from pyclustering.cluster.kmedoids import kmedoids\n",
    "from scipy.spatial.distance import pdist\n",
    "from scipy.spatial.distance import squareform"
   ]
  },
  {
   "cell_type": "markdown",
   "metadata": {},
   "source": [
    "K-medoids can be caluclated using many distance metrics. Here the *Minkowski distance* or \"cityblock\" is used as this provides a suitable measure where there are both categorical and numerical features [see here](https://www2.cs.duke.edu/courses/spring18/compsci216/lectures/07-clustering.pdf).\n",
    "\n"
   ]
  },
  {
   "cell_type": "code",
   "execution_count": null,
   "metadata": {},
   "outputs": [],
   "source": [
    "try: \n",
    "    Xy_scaled_minkowski = np.load(os.path.join(DATA_PATH,'car-insurance-claim-data/car_insurance_claim_Xy_scaled_minkowski.npy'))\n",
    "    print('Minkowski distances loaded from file.')\n",
    "except:\n",
    "    print('Calculating Minkowski dsitances...1-5 minutes')\n",
    "    %time Xy_scaled_minkowski = squareform(pdist(Xy_scaled, 'minkowski'))\n",
    "    np.save(os.path.join(DATA_PATH,'car-insurance-claim-data/car_insurance_claim_Xy_scaled_minkowski.npy'),Xy_scaled_minkowski)"
   ]
  },
  {
   "cell_type": "markdown",
   "metadata": {},
   "source": [
    "I'm going to use the pyclustering implmentation in order to have comparison's to the similar, yet more memory efficient, PAM and CLARANS medoid methods.\n",
    "\n",
    "<span style=\"color:red\">\n",
    "Beware! pyclustering return clusters in an $n$ length list of lists, where $n=k$ and $list$[$n$][$i$] is the index postion from the input distance matrix. Here i use a dataframe to convert the pyclustering output to the form expected by scikit-learn silhouette score.\n",
    "    \n",
    "- [see this issue](https://github.com/annoviko/pyclustering/issues/593)  \n",
    "</span>"
   ]
  },
  {
   "cell_type": "code",
   "execution_count": null,
   "metadata": {},
   "outputs": [],
   "source": [
    "# find k clusters\n",
    "results_kmedoids = dict()\n",
    "\n",
    "k_cand = [3,7,15,30,45,60]\n",
    "#k_cand.extend(list(np.arange(10,55,5)))\n",
    "\n",
    "for k in k_cand:\n",
    "    # initiate k random medoids - sets k clusters\n",
    "    initial_medoids = np.random.randint(0,1000,size=k)\n",
    "    kmedoids_instance = kmedoids(Xy_scaled_minkowski,initial_medoids, data_type='distance_matrix')    \n",
    "\n",
    "    # run cluster analysis and obtain results\n",
    "    %time kmedoids_instance.process()\n",
    "    clusters = kmedoids_instance.get_clusters()\n",
    "    medoids = kmedoids_instance.get_medoids()\n",
    "\n",
    "    # convert cluster output\n",
    "    cluster_array = pd.DataFrame([(x,e) for e,i in enumerate(clusters) for x in i if len(i)>1]).sort_values(by=0)[1].values\n",
    "    \n",
    "    # score\n",
    "    score1 = silhouette_score(Xy_scaled_minkowski, cluster_array, metric='precomputed')\n",
    "    score2 = silhouette_score(Xy_scaled, cluster_array,metric='correlation')\n",
    "    \n",
    "    # store\n",
    "    results_kmedoids[k] = {'k':cluster_array,'s1':score1,'s2':score2}\n",
    "    \n",
    "plt.plot([i for i in results_kmedoids.keys()],[i['s1'] for i in results_kmedoids.values()],label='Minkowski')\n",
    "plt.plot([i for i in results_kmedoids.keys()],[i['s2'] for i in results_kmedoids.values()],label='correlation')\n",
    "plt.legend()\n",
    "plt.xticks(k_cand);"
   ]
  },
  {
   "cell_type": "markdown",
   "metadata": {},
   "source": [
    "## 4.3 CLARANS (transformed and scaled features)\n",
    "### *Clustering Large Applications based on RANdomized Search*\n",
    " - [clarans in python](https://medium.com/analytics-vidhya/partitional-clustering-using-clarans-method-with-python-example-545dd84e58b4)"
   ]
  },
  {
   "cell_type": "code",
   "execution_count": null,
   "metadata": {},
   "outputs": [],
   "source": [
    "from pyclustering.cluster.clarans import clarans\n",
    "from pyclustering.utils import euclidean_distance_square"
   ]
  },
  {
   "cell_type": "code",
   "execution_count": null,
   "metadata": {},
   "outputs": [],
   "source": [
    "Xy_scaled_list = Xy_scaled.to_numpy().tolist()\n",
    "len(Xy_scaled_list)\n",
    "\n",
    "# sample euclid\n",
    "# [euclidean_distance_square(Xy_scaled_list[0],Xy_scaled_list[i]) for i in range(4)]\n",
    "\n",
    "\"\"\"\n",
    "data: Input data that is presented as list of points (objects), each point should be represented by list or tuple.\n",
    "number_clusters: amount of clusters that should be allocated.\n",
    "numlocal: the number of local minima obtained (amount of iterations for solving the problem).\n",
    "maxneighbor: the maximum number of neighbors examined.     \n",
    "The higher the value of maxneighbor, the closer is CLARANS to K-Medoids, and the longer is each search of a local minima.\n",
    "\"\"\"\n",
    "\n",
    "clarans_instance = clarans(data=Xy_scaled_list[:50], number_clusters=3, numlocal=1, maxneighbor=2)\n",
    "%time clarans_instance.process()\n",
    "clusters = clarans_instance.get_clusters()\n",
    "\n",
    "#returns the clusters & medoids\n",
    "clusters = clarans_instance.get_clusters()\n",
    "medoids = clarans_instance.get_medoids()"
   ]
  },
  {
   "cell_type": "code",
   "execution_count": null,
   "metadata": {},
   "outputs": [],
   "source": [
    "Xy_scaled.shape"
   ]
  },
  {
   "cell_type": "markdown",
   "metadata": {},
   "source": [
    "**OK! Something strange is happening here.**\n",
    "\n",
    "Our supposedly efficient CLARANS is grinding through on our 10302*49 dimension data, taking some 5 minutes to process just 1000 rows. I think that we are hitting the [curse of dimensionality](https://en.wikipedia.org/wiki/Curse_of_dimensionality), as the CLARANS implementaiton in pyclustering uses a euclidean distance metric. Euclidean distance breaks down in high dimensional space (see [here](https://towardsdatascience.com/how-to-cluster-in-high-dimensions-4ef693bacc6) and [here](https://en.wikipedia.org/wiki/Clustering_high-dimensional_data). There are several things we could try here:\n",
    "\n",
    " - One option would be to re-write the CLARANS method using a distance metric that is robust to high dimensionality, such as the Manhattan or Minkowski distance.\n",
    " - Apply an alternative clustering approach that is less affected by high dimensionality such as [spectral](https://scikit-learn.org/stable/modules/clustering.html#spectral-clustering) or a Hierarchal approach as above or [HDBSCAN](https://hdbscan.readthedocs.io/en/latest/how_hdbscan_works.html).\n",
    " - Anoter would be to reduce dimensionality using [*tSNE*](https://scikit-learn.org/stable/modules/generated/sklearn.manifold.TSNE.html) (see guides [here](https://www.datacamp.com/community/tutorials/introduction-t-sne) and [here](https://towardsdatascience.com/entity-embedding-using-t-sne-973cb5c730d7))."
   ]
  },
  {
   "cell_type": "code",
   "execution_count": null,
   "metadata": {},
   "outputs": [],
   "source": [
    "from sklearn.manifold import TSNE"
   ]
  },
  {
   "cell_type": "code",
   "execution_count": null,
   "metadata": {},
   "outputs": [],
   "source": [
    "tsne_model = TSNE(n_components=3, verbose=1, random_state=0, n_iter=500)\n",
    "tsne = tsne_model.fit_transform(Xy_scaled)"
   ]
  },
  {
   "cell_type": "code",
   "execution_count": null,
   "metadata": {},
   "outputs": [],
   "source": [
    "# find k clusters\n",
    "results_tsne_clarans = dict()\n",
    "\n",
    "k_cand = [3,7,15,30,45,60]\n",
    "#k_cand.extend(list(np.arange(10,55,5)))\n",
    "\n",
    "\"\"\"\n",
    "data: Input data that is presented as list of points (objects), each point should be represented by list or tuple.\n",
    "number_clusters: amount of clusters that should be allocated.\n",
    "numlocal: the number of local minima obtained (amount of iterations for solving the problem).\n",
    "maxneighbor: the maximum number of neighbors examined.     \n",
    "The higher the value of maxneighbor, the closer is CLARANS to K-Medoids, and the longer is each search of a local minima.\n",
    "\"\"\"\n",
    "\n",
    "for k in k_cand:\n",
    "    clarans_instance = clarans(data=tsne.tolist(), number_clusters=k, numlocal=1, maxneighbor=2)\n",
    "    %time clarans_instance.process()\n",
    "    #returns the clusters & medoids\n",
    "    clusters = clarans_instance.get_clusters()\n",
    "    medoids = clarans_instance.get_medoids()\n",
    "\n",
    "    # convert cluster output\n",
    "    cluster_array = pd.DataFrame([(x,e) for e,i in enumerate(clusters) for x in i if len(i)>1]).sort_values(by=0)[1].values\n",
    "    \n",
    "    # score\n",
    "    score1 = 0 # silhouette_score(Xy_scaled_minkowski, cluster_array, metric='precomputed')\n",
    "    score2 = silhouette_score(Xy_scaled, cluster_array,metric='correlation')\n",
    "    \n",
    "    # store\n",
    "    results_tsne_clarans[k] = {'k':cluster_array,'s1':score1,'s2':score2}\n",
    "    \n",
    "plt.plot([i for i in results_tsne_clarans.keys()],[i['s1'] for i in results_tsne_clarans.values()],label='Minkowski')\n",
    "plt.plot([i for i in results_tsne_clarans.keys()],[i['s2'] for i in results_tsne_clarans.values()],label='correlation')\n",
    "plt.legend()\n",
    "plt.xticks(k_cand);"
   ]
  },
  {
   "cell_type": "code",
   "execution_count": null,
   "metadata": {},
   "outputs": [],
   "source": [
    "fig, axs = plt.subplots(3,2,figsize=(20, 20),sharex=True,sharey=True)\n",
    "\n",
    "for j,ax in zip(results_tsne_clarans.keys(),axs.flatten()):\n",
    "    plotting = pd.DataFrame([(e,i) for e,i in enumerate(results_tsne_clarans[j]['k'])],columns=['id','k']).sort_values(by='id').sort_values(by='id')\n",
    "    plotting['x'] = tsne[:,0]\n",
    "    plotting['y'] = tsne[:,1]\n",
    "    groups = plotting.groupby('k')\n",
    "    \n",
    "    for name, group in groups:\n",
    "        ax.plot(group['x'], group['y'], marker='o', linestyle='', label=name)\n",
    "        #ax.legend()\n",
    "        ax.set_title(f'CLARANS-$tSNE$ ($k$={j})')\n",
    "plt.show()   "
   ]
  },
  {
   "cell_type": "markdown",
   "metadata": {},
   "source": [
    "## 4.4 PAM partition-around-medoids (transformed and scaled features)\n",
    " - [PAM  is a variation of K-medoids](https://stats.stackexchange.com/a/141208/100439)\n",
    " - [Self defined PAM k-medoids in python](https://towardsdatascience.com/k-medoids-clustering-on-iris-data-set-1931bf781e05)"
   ]
  },
  {
   "cell_type": "markdown",
   "metadata": {},
   "source": [
    "## To Do list\n",
    "\n",
    "### Inspect value's between sets of clusters and intra-clusters:\n",
    " - Descriptive statistics\n",
    " - Categorical features: with chi squared\n",
    " - Numerical features: t-test, non-paramteric tests, correlaiton\n",
    " \n",
    "\n",
    "- [Notes on data mining](https://gist.github.com/AKST/d27b9006bb0f9670e370)\n",
    "- http://eric.univ-lyon2.fr/~ricco/cours/slides/en/classif_interpretation.pdf\n",
    "- https://online.stat.psu.edu/stat414/node/116/\n",
    "- https://www2.cs.duke.edu/courses/spring18/compsci216/lectures/07-clustering.pdf"
   ]
  },
  {
   "cell_type": "markdown",
   "metadata": {},
   "source": [
    "# *References*\n",
    "\n",
    "- https://towardsdatascience.com/clustering-on-mixed-type-data-8bbd0a2569c3\n",
    "- https://medium.com/@rumman1988/clustering-categorical-and-numerical-datatype-using-gower-distance-ab89b3aa90d9\n",
    "- https://www2.cs.duke.edu/courses/spring18/compsci216/lectures/07-clustering.pdf\n",
    "- https://towardsdatascience.com/hierarchical-clustering-on-categorical-data-in-r-a27e578f2995\n",
    "- https://www.researchgate.net/post/What_is_the_best_way_for_cluster_analysis_when_you_have_mixed_type_of_data_categorical_and_scale\n",
    "- https://www.google.com/search?client=firefox-b-d&q=python+gower+distance\n",
    "- https://scikit-learn.org/stable/modules/generated/sklearn.metrics.pairwise_distances.html\n",
    "- https://discuss.analyticsvidhya.com/t/clustering-technique-for-mixed-numeric-and-categorical-variables/6753\n",
    "- https://stackoverflow.com/questions/24196897/r-distance-matrix-and-clustering-for-mixed-and-large-dataset\n",
    "- https://www.analyticsvidhya.com/blog/2015/11/easy-methods-deal-categorical-variables-predictive-modeling/\n",
    "- https://towardsdatascience.com/all-about-categorical-variable-encoding-305f3361fd02\n",
    "- https://rpubs.com/data_feelings/msda_data621_hw4\n",
    "- https://pypi.org/project/gower/\n",
    "- https://scikit-learn-extra.readthedocs.io/en/latest/generated/sklearn_extra.cluster.KMedoids.html\n",
    "- https://towardsdatascience.com/k-medoids-clustering-on-iris-data-set-1931bf781e05\n",
    "- https://www.rdocumentation.org/packages/cluster/versions/2.1.0/topics/pam\n",
    "- https://github.com/annoviko/pyclustering/issues/499\n",
    "- https://stats.stackexchange.com/questions/2717/clustering-with-a-distance-matrix\n",
    "- https://www.kaggle.com/fabiendaniel/customer-segmentation\n",
    "- https://dkopczyk.quantee.co.uk/claim-prediction/ (http://web.archive.org/web/20190429040211/https://dkopczyk.quantee.co.uk/claim-prediction/)\n",
    "- https://www.casact.org/pubs/dpp/dpp08/08dpp170.pdf\n",
    "- https://medium.com/analytics-vidhya/partitional-clustering-using-clarans-method-with-python-example-545dd84e58b4\n",
    "- https://www.uio.no/studier/emner/matnat/math/nedlagte-emner/STK2510/v08/undervisningsmateriale/ch8b.pdf\n",
    "- https://github.com/annoviko/pyclustering/issues/499\n",
    "- https://stackoverflow.com/questions/3081066/what-techniques-exists-in-r-to-visualize-a-distance-matrix\n",
    "- https://towardsdatascience.com/the-5-clustering-algorithms-data-scientists-need-to-know-a36d136ef68\n",
    "- https://datascience.stackexchange.com/questions/22/k-means-clustering-for-mixed-numeric-and-categorical-data\n",
    "- http://www.cs.ust.hk/~qyang/Teaching/537/Papers/huang98extensions.pdf\n",
    "- https://www.researchgate.net/post/What_is_the_best_way_for_cluster_analysis_when_you_have_mixed_type_of_data_categorical_and_scale\n",
    "- https://towardsdatascience.com/hierarchical-clustering-on-categorical-data-in-r-a27e578f2995\n",
    "- https://gist.github.com/AKST/d27b9006bb0f9670e370\n"
   ]
  },
  {
   "cell_type": "code",
   "execution_count": null,
   "metadata": {},
   "outputs": [],
   "source": []
  }
 ],
 "metadata": {
  "kernelspec": {
   "display_name": "ml",
   "language": "python",
   "name": "ml"
  },
  "language_info": {
   "codemirror_mode": {
    "name": "ipython",
    "version": 3
   },
   "file_extension": ".py",
   "mimetype": "text/x-python",
   "name": "python",
   "nbconvert_exporter": "python",
   "pygments_lexer": "ipython3",
   "version": "3.8.0"
  }
 },
 "nbformat": 4,
 "nbformat_minor": 4
}
