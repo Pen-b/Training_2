{
 "cells": [
  {
   "cell_type": "code",
   "execution_count": 46,
   "metadata": {},
   "outputs": [],
   "source": [
    "import numpy as np\n",
    "import pandas as pd\n",
    "\n",
    "import matplotlib.pyplot as plt\n",
    "import seaborn as sns"
   ]
  },
  {
   "cell_type": "markdown",
   "metadata": {},
   "source": [
    "# Bayes Theorem\n",
    "\n",
    "In probability theory and statistics, Bayes' theorem (alternatively Bayes' law or Bayes' rule), named after Reverend Thomas Bayes, describes the probability of an event, based on prior knowledge of conditions that might be related to the event. [1](https://plato.stanford.edu/archives/spr2019/entries/bayes-theorem/)\n",
    "\n",
    "#### $$P(A|B) = \\frac {P(B|A)P(A)}{P(B)}$$\n",
    "\n",
    "I'm a visual learner. My favourite intuitive example of Bayes Theorem is this [using lego bricks](https://www.countbayesie.com/blog/2015/2/18/bayes-theorem-with-lego):\n",
    "\n",
    "<img src=\"lego-probability-space.jpeg\" width=\"400\" height=\"400\">\n",
    "\n",
    "The image shows a 60 (6 * 10) lego unit area\n",
    " - 40 blue areas\n",
    " - 20 red areas\n",
    " - 6 intersecting yellow areas. \n",
    "\n",
    "We can work through the maths to determine the probabilities and conditional probabilities of each colour."
   ]
  },
  {
   "cell_type": "code",
   "execution_count": 9,
   "metadata": {},
   "outputs": [
    {
     "name": "stdout",
     "output_type": "stream",
     "text": [
      "Cond p(Yellow|Red) = 0.200\n",
      "Cond p(Yellow|Blue) = 0.050\n"
     ]
    }
   ],
   "source": [
    "pBlue = 40/60\n",
    "pRed = 20/60\n",
    "pYellow = 6/60\n",
    "pYellowRed = 4/20 # probabiity of Yellow given Red\n",
    "pYellowBlue = 2 / 40 # probabiity of Yellow given Blue\n",
    "\n",
    "print('Cond p(Yellow|Red) = {:.3f}'.format(pYellowRed))\n",
    "print('Cond p(Yellow|Blue) = {:.3f}'.format(pYellowBlue))"
   ]
  },
  {
   "cell_type": "markdown",
   "metadata": {},
   "source": [
    "We now some baseline information for the probability and conditional probility of landing on each colour within the Legosphere. We can apply Bayes theorem to generate estimates for \"if we land on a yellow brick, what is the probability its red underneath?\"\n",
    "\n",
    "$$P(A|B) = \\frac {P(B|A)P(A)}{P(B)}$$\n",
    "\n",
    "$$P(Red|Yellow) = \\frac {P(Yellow|Red)P(Red)}{P(Yellow)}$$"
   ]
  },
  {
   "cell_type": "code",
   "execution_count": 14,
   "metadata": {},
   "outputs": [
    {
     "name": "stdout",
     "output_type": "stream",
     "text": [
      "Cond p(Red|Yellow) = 0.667\n"
     ]
    }
   ],
   "source": [
    "pRedYellow = pYellowRed*pRed/pYellow\n",
    "print('Cond p(Red|Yellow) = {:.3f}'.format(pRedYellow))"
   ]
  },
  {
   "cell_type": "markdown",
   "metadata": {},
   "source": [
    "## Bayesian Inference\n",
    "\n",
    "Bayesian inference follows:\n",
    "\n",
    " - Evaluate prior assumptions and observational data. \n",
    " - Develop a probabilistic model of the data.\n",
    " - Specify prior parameter values for the distributions of the probabilistic model.\n",
    " - Apply Bayes’ theorem to derive the posterior parameter values. \n",
    "\n",
    "### Example: Coin Toss\n",
    "\n",
    "Here we are testing wether our coin is bias. We have:\n",
    "- prior belief of getting tails 0.5 $P(Prior)$\n",
    "- 200 coin toss observations with 59 tails.\n",
    "\n",
    "#### The Prior Distribution\n",
    "We have a reasonable assumption that the $P(Prior)$ is 0.5. But in the bayesian world we treat our assumptions as point estimates within possible range of values. We can use the traingle distribution to generate some estimates about our prior estimate. "
   ]
  },
  {
   "cell_type": "code",
   "execution_count": 54,
   "metadata": {},
   "outputs": [
    {
     "data": {
      "image/png": "[encoded data removed]",
      "text/plain": [
       "<Figure size 432x432 with 1 Axes>"
      ]
     },
     "metadata": {
      "needs_background": "light"
     },
     "output_type": "display_data"
    }
   ],
   "source": [
    "# prior estimates\n",
    "from scipy.stats import triang\n",
    "\n",
    "mp = 0.5\n",
    "x_ = np.arange(0,1.1,.1)\n",
    "p_ = triang.pdf(x, mp)\n",
    "p_ = p_/sum(p_)\n",
    "\n",
    "fig,axs = plt.subplots(1,1,figsize=(6,6))\n",
    "axs.vlines(x,0,p_,'k')\n",
    "axs.plot(x,p_,'ko', lw=5, alpha=0.6, label='triang pdf')\n",
    "axs.set_xticks(x)\n",
    "axs.set_xlabel('Prior')\n",
    "axs.set_ylabel('$P(Prior)$');"
   ]
  },
  {
   "cell_type": "code",
   "execution_count": null,
   "metadata": {},
   "outputs": [],
   "source": []
  }
 ],
 "metadata": {
  "kernelspec": {
   "display_name": "Python [conda env:machine-learning]",
   "language": "python",
   "name": "conda-env-machine-learning-py"
  },
  "language_info": {
   "codemirror_mode": {
    "name": "ipython",
    "version": 3
   },
   "file_extension": ".py",
   "mimetype": "text/x-python",
   "name": "python",
   "nbconvert_exporter": "python",
   "pygments_lexer": "ipython3",
   "version": "3.7.4"
  }
 },
 "nbformat": 4,
 "nbformat_minor": 4
}
