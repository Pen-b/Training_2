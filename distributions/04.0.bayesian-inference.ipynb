{
 "cells": [
  {
   "cell_type": "markdown",
   "metadata": {},
   "source": [
    "# Bayes Theorem\n",
    "\n",
    "In probability theory and statistics, Bayes' theorem (alternatively Bayes' law or Bayes' rule), named after Reverend Thomas Bayes, describes the probability of an event, based on prior knowledge of conditions that might be related to the event. [1](https://plato.stanford.edu/archives/spr2019/entries/bayes-theorem/)\n",
    "\n",
    "#### $$P(A|B) = \\frac {P(B|A)P(A)}{P(B)}$$\n",
    "\n",
    "I'm a visual learner. My favourite intuitive example of Bayes Theorem is this [using lego bricks](https://www.countbayesie.com/blog/2015/2/18/bayes-theorem-with-lego):\n",
    "\n",
    "<img src=\"lego-probability-space.jpeg\" width=\"400\" height=\"400\">\n",
    "\n",
    "The image shows a 60 (6 * 10) lego unit area\n",
    " - 40 blue areas\n",
    " - 20 red areas\n",
    " - 6 intersecting yellow areas. \n",
    "\n",
    "We can work through the maths to determine the probabilities and conditional probabilities of each colour."
   ]
  },
  {
   "cell_type": "code",
   "execution_count": 9,
   "metadata": {},
   "outputs": [
    {
     "name": "stdout",
     "output_type": "stream",
     "text": [
      "Cond p(Yellow|Red) = 0.200\n",
      "Cond p(Yellow|Blue) = 0.050\n"
     ]
    }
   ],
   "source": [
    "pBlue = 40/60\n",
    "pRed = 20/60\n",
    "pYellow = 6/60\n",
    "pYellowRed = 4/20 # probabiity of Yellow given Red\n",
    "pYellowBlue = 2 / 40 # probabiity of Yellow given Blue\n",
    "\n",
    "print('Cond p(Yellow|Red) = {:.3f}'.format(pYellowRed))\n",
    "print('Cond p(Yellow|Blue) = {:.3f}'.format(pYellowBlue))"
   ]
  },
  {
   "cell_type": "markdown",
   "metadata": {},
   "source": [
    "We now some baseline information for the probability and conditional probility of landing on each colour within the Legosphere. We can apply Bayes theorem to generate estimates for \"if we land on a yellow brick, what is the probability its red underneath?\"\n",
    "\n",
    "$$P(A|B) = \\frac {P(B|A)P(A)}{P(B)}$$\n",
    "\n",
    "$$P(Red|Yellow) = \\frac {P(Yellow|Red)P(Red)}{P(Yellow)}$$"
   ]
  },
  {
   "cell_type": "code",
   "execution_count": 14,
   "metadata": {},
   "outputs": [
    {
     "name": "stdout",
     "output_type": "stream",
     "text": [
      "Cond p(Red|Yellow) = 0.667\n"
     ]
    }
   ],
   "source": [
    "pRedYellow = pYellowRed*pRed/pYellow\n",
    "print('Cond p(Red|Yellow) = {:.3f}'.format(pRedYellow))"
   ]
  }
 ],
 "metadata": {
  "kernelspec": {
   "display_name": "Python 3",
   "language": "python",
   "name": "python3"
  },
  "language_info": {
   "codemirror_mode": {
    "name": "ipython",
    "version": 3
   },
   "file_extension": ".py",
   "mimetype": "text/x-python",
   "name": "python",
   "nbconvert_exporter": "python",
   "pygments_lexer": "ipython3",
   "version": "3.7.4"
  }
 },
 "nbformat": 4,
 "nbformat_minor": 4
}
