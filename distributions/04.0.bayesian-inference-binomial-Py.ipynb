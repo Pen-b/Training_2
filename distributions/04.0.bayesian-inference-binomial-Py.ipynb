{
 "cells": [
  {
   "cell_type": "code",
   "execution_count": 1,
   "metadata": {},
   "outputs": [],
   "source": [
    "import numpy as np\n",
    "import pandas as pd\n",
    "\n",
    "import matplotlib.pyplot as plt\n",
    "import seaborn as sns"
   ]
  },
  {
   "cell_type": "markdown",
   "metadata": {},
   "source": [
    "# Bayes Theorem\n",
    "\n",
    "In probability theory and statistics, Bayes' theorem (alternatively Bayes' law or Bayes' rule), named after Reverend Thomas Bayes, describes the probability of an event, based on prior knowledge of conditions that might be related to the event. [1](https://plato.stanford.edu/archives/spr2019/entries/bayes-theorem/)\n",
    "\n",
    "#### $$P(A|B) = \\frac {P(B|A)P(A)}{P(B)}$$\n",
    "\n",
    "I'm a visual learner. My favourite intuitive example of Bayes Theorem is this [using lego bricks](https://www.countbayesie.com/blog/2015/2/18/bayes-theorem-with-lego):\n",
    "\n",
    "<img src=\"lego-probability-space.jpeg\" width=\"400\" height=\"400\">\n",
    "\n",
    "The image shows a 60 (6 * 10) lego unit area\n",
    " - 40 blue areas\n",
    " - 20 red areas\n",
    " - 6 intersecting yellow areas. \n",
    "\n",
    "We can work through the maths to determine the probabilities and conditional probabilities of each colour."
   ]
  },
  {
   "cell_type": "code",
   "execution_count": 2,
   "metadata": {},
   "outputs": [
    {
     "name": "stdout",
     "output_type": "stream",
     "text": [
      "Cond p(Yellow|Red) = 0.200\n",
      "Cond p(Yellow|Blue) = 0.050\n"
     ]
    }
   ],
   "source": [
    "pBlue = 40/60\n",
    "pRed = 20/60\n",
    "pYellow = 6/60\n",
    "pYellowRed = 4/20 # probabiity of Yellow given Red\n",
    "pYellowBlue = 2 / 40 # probabiity of Yellow given Blue\n",
    "\n",
    "print('Cond p(Yellow|Red) = {:.3f}'.format(pYellowRed))\n",
    "print('Cond p(Yellow|Blue) = {:.3f}'.format(pYellowBlue))"
   ]
  },
  {
   "cell_type": "markdown",
   "metadata": {},
   "source": [
    "We now some baseline information for the probability and conditional probility of landing on each colour within the Legosphere. We can apply Bayes theorem to generate estimates for \"if we land on a yellow brick, what is the probability its red underneath?\"\n",
    "\n",
    "$$P(A|B) = \\frac {P(B|A)P(A)}{P(B)}$$\n",
    "\n",
    "$$P(Red|Yellow) = \\frac {P(Yellow|Red)P(Red)}{P(Yellow)}$$"
   ]
  },
  {
   "cell_type": "code",
   "execution_count": 3,
   "metadata": {},
   "outputs": [
    {
     "name": "stdout",
     "output_type": "stream",
     "text": [
      "Cond p(Red|Yellow) = 0.667\n"
     ]
    }
   ],
   "source": [
    "pRedYellow = pYellowRed*pRed/pYellow\n",
    "print('Cond p(Red|Yellow) = {:.3f}'.format(pRedYellow))"
   ]
  },
  {
   "cell_type": "markdown",
   "metadata": {},
   "source": [
    "## Bayesian Inference\n",
    "\n",
    "The approach loosely follows:\n",
    " 1. Evaluate prior assumptions and observational data. \n",
    " 1. Develop a probabilistic model of the data.\n",
    " 1. Specify prior parameter values for the distributions of the probabilistic model.\n",
    " 1. Apply Bayes’ theorem to derive the posterior parameter values. \n",
    "\n",
    "\n",
    "### Example: Coin Toss\n",
    "\n",
    "Here we are testing wether our coin is bias. We have:\n",
    "- prior belief of getting tails 0.5 $P(Prior)$\n",
    "- 200 coin toss observations with 59 tails.\n",
    "\n",
    "#### 1. Observational data and assumptions\n",
    "We have a reasonable assumption that our prior probability of landing a tails $P(tails)$ is 0.5. However, we also some observational data. let's look. "
   ]
  },
  {
   "cell_type": "code",
   "execution_count": 14,
   "metadata": {},
   "outputs": [
    {
     "name": "stdout",
     "output_type": "stream",
     "text": [
      "Trials:\t200\n",
      "tails:\t59\n",
      "heads:\t141\n",
      "Observed P(tails) = 0.295\n"
     ]
    }
   ],
   "source": [
    "# prior belief\n",
    "prior = 0.5\n",
    "\n",
    "# observation data\n",
    "trials = 200\n",
    "tails = 59\n",
    "heads = trials-tails\n",
    "print(f\"Trials:\\t{trials}\\ntails:\\t{tails}\\nheads:\\t{heads}\")\n",
    "print(f'Observed P(tails) = {tails/trials}')"
   ]
  },
  {
   "cell_type": "markdown",
   "metadata": {},
   "source": [
    "#### 2. The Mathematical Model\n",
    "\n",
    "In our coin tossing example the mathematical model is built to capture all of the processes, by means their distribution parameters, that generate the observational data (i.e. the generative process of Heads and Tails). With the probability of landing a head as θ\n",
    "\n",
    "$$P(Y=1|θ)=θ$$\n",
    "the probability of landing a tails is then:\n",
    "$$P(Y=0|θ)=1-θ$$\n",
    "\n",
    "You may recall that coin toss, and each instance above, is a single Bernoulli trial. Where each trial ends in Success or Failure, or Heads or Tails, Conversion or non-conersion, Survive or Die, you get the picture. Then, the [binomial distribution](https://www.statisticshowto.com/probability-and-statistics/binomial-theorem/binomial-distribution-formula/) is the probability mass function of multiple indepenent [bernoulli trials](https://www.unf.edu/~cwinton/html/cop4300/s09/class.notes/DiscreteDist.pdf). The binomial pmf describes the output of multiple coin tosses - our observation data. "
   ]
  },
  {
   "cell_type": "markdown",
   "metadata": {},
   "source": [
    "#### 3. The Prior Distribution\n",
    "We have a reasonable assumption that the $P(Prior)$ is 0.5. But in the bayesian world we treat our assumptions as point estimates within possible range of values. We can use the traingle distribution to generate some estimates about our prior estimate."
   ]
  },
  {
   "cell_type": "code",
   "execution_count": 290,
   "metadata": {},
   "outputs": [],
   "source": [
    "def plot_p(ax,df,X,y,title,xlab='Theta',ylab='$P(theta)$'):\n",
    "    \"\"\"to plot data frames as point probability plots\"\"\"\n",
    "    ax.set_title(f'{title} {ylab}')\n",
    "    ax.vlines(df[X],0,df[y],'k')\n",
    "    ax.plot(df[X],df[y],'ko', lw=5, alpha=0.6)\n",
    "    ax.set_xticks(df[X])\n",
    "    ax.set_xlabel(xlab)\n",
    "    ax.set_ylabel(ylab);"
   ]
  },
  {
   "cell_type": "code",
   "execution_count": 291,
   "metadata": {},
   "outputs": [
    {
     "data": {
      "image/png": "[encoded data removed]",
      "text/plain": [
       "<Figure size 432x432 with 1 Axes>"
      ]
     },
     "metadata": {
      "needs_background": "light"
     },
     "output_type": "display_data"
    }
   ],
   "source": [
    "# prior estimates\n",
    "from scipy.stats import triang\n",
    "\n",
    "theta = np.arange(0,1.1,.1)\n",
    "priors = triang.pdf(theta, prior)\n",
    "priors = priors/sum(priors)\n",
    "prior_df = pd.DataFrame({'theta':theta,'prior':priors})\n",
    "\n",
    "fig,axs = plt.subplots(1,1,figsize=(6,6))\n",
    "plot_p(axs,prior_df,'theta','prior','Prior distribution')\n",
    "plt.tight_layout()"
   ]
  },
  {
   "cell_type": "markdown",
   "metadata": {},
   "source": [
    "#### 4. Apply Bayes Rule"
   ]
  },
  {
   "cell_type": "code",
   "execution_count": 287,
   "metadata": {},
   "outputs": [],
   "source": [
    "from scipy.stats import binom"
   ]
  },
  {
   "cell_type": "code",
   "execution_count": 295,
   "metadata": {},
   "outputs": [
    {
     "data": {
      "text/plain": [
       "(10, 7, 3)"
      ]
     },
     "execution_count": 295,
     "metadata": {},
     "output_type": "execute_result"
    }
   ],
   "source": [
    "trials, tails, heads = 10,7,3\n",
    "trials, tails, heads"
   ]
  },
  {
   "cell_type": "code",
   "execution_count": 296,
   "metadata": {},
   "outputs": [
    {
     "data": {
      "text/html": [
       "<div>\n",
       "<style scoped>\n",
       "    .dataframe tbody tr th:only-of-type {\n",
       "        vertical-align: middle;\n",
       "    }\n",
       "\n",
       "    .dataframe tbody tr th {\n",
       "        vertical-align: top;\n",
       "    }\n",
       "\n",
       "    .dataframe thead th {\n",
       "        text-align: right;\n",
       "    }\n",
       "</style>\n",
       "<table border=\"1\" class=\"dataframe\">\n",
       "  <thead>\n",
       "    <tr style=\"text-align: right;\">\n",
       "      <th></th>\n",
       "      <th>tails</th>\n",
       "      <th>heads</th>\n",
       "      <th>theta</th>\n",
       "      <th>prior</th>\n",
       "      <th>likelihood</th>\n",
       "      <th>binom</th>\n",
       "      <th>marginal</th>\n",
       "      <th>posterior</th>\n",
       "    </tr>\n",
       "  </thead>\n",
       "  <tbody>\n",
       "    <tr>\n",
       "      <td>0</td>\n",
       "      <td>7</td>\n",
       "      <td>3</td>\n",
       "      <td>0.0</td>\n",
       "      <td>0.00</td>\n",
       "      <td>0.000000e+00</td>\n",
       "      <td>0.000000</td>\n",
       "      <td>0.000968</td>\n",
       "      <td>0.000000</td>\n",
       "    </tr>\n",
       "    <tr>\n",
       "      <td>1</td>\n",
       "      <td>7</td>\n",
       "      <td>3</td>\n",
       "      <td>0.1</td>\n",
       "      <td>0.04</td>\n",
       "      <td>7.290000e-08</td>\n",
       "      <td>0.000009</td>\n",
       "      <td>0.000968</td>\n",
       "      <td>0.000003</td>\n",
       "    </tr>\n",
       "    <tr>\n",
       "      <td>2</td>\n",
       "      <td>7</td>\n",
       "      <td>3</td>\n",
       "      <td>0.2</td>\n",
       "      <td>0.08</td>\n",
       "      <td>6.553600e-06</td>\n",
       "      <td>0.000786</td>\n",
       "      <td>0.000968</td>\n",
       "      <td>0.000541</td>\n",
       "    </tr>\n",
       "    <tr>\n",
       "      <td>3</td>\n",
       "      <td>7</td>\n",
       "      <td>3</td>\n",
       "      <td>0.3</td>\n",
       "      <td>0.12</td>\n",
       "      <td>7.501410e-05</td>\n",
       "      <td>0.009002</td>\n",
       "      <td>0.000968</td>\n",
       "      <td>0.009296</td>\n",
       "    </tr>\n",
       "    <tr>\n",
       "      <td>4</td>\n",
       "      <td>7</td>\n",
       "      <td>3</td>\n",
       "      <td>0.4</td>\n",
       "      <td>0.16</td>\n",
       "      <td>3.538944e-04</td>\n",
       "      <td>0.042467</td>\n",
       "      <td>0.000968</td>\n",
       "      <td>0.058477</td>\n",
       "    </tr>\n",
       "    <tr>\n",
       "      <td>5</td>\n",
       "      <td>7</td>\n",
       "      <td>3</td>\n",
       "      <td>0.5</td>\n",
       "      <td>0.20</td>\n",
       "      <td>9.765625e-04</td>\n",
       "      <td>0.117188</td>\n",
       "      <td>0.000968</td>\n",
       "      <td>0.201707</td>\n",
       "    </tr>\n",
       "    <tr>\n",
       "      <td>6</td>\n",
       "      <td>7</td>\n",
       "      <td>3</td>\n",
       "      <td>0.6</td>\n",
       "      <td>0.16</td>\n",
       "      <td>1.791590e-03</td>\n",
       "      <td>0.214991</td>\n",
       "      <td>0.000968</td>\n",
       "      <td>0.296040</td>\n",
       "    </tr>\n",
       "    <tr>\n",
       "      <td>7</td>\n",
       "      <td>7</td>\n",
       "      <td>3</td>\n",
       "      <td>0.7</td>\n",
       "      <td>0.12</td>\n",
       "      <td>2.223566e-03</td>\n",
       "      <td>0.266828</td>\n",
       "      <td>0.000968</td>\n",
       "      <td>0.275564</td>\n",
       "    </tr>\n",
       "    <tr>\n",
       "      <td>8</td>\n",
       "      <td>7</td>\n",
       "      <td>3</td>\n",
       "      <td>0.8</td>\n",
       "      <td>0.08</td>\n",
       "      <td>1.677722e-03</td>\n",
       "      <td>0.201327</td>\n",
       "      <td>0.000968</td>\n",
       "      <td>0.138612</td>\n",
       "    </tr>\n",
       "    <tr>\n",
       "      <td>9</td>\n",
       "      <td>7</td>\n",
       "      <td>3</td>\n",
       "      <td>0.9</td>\n",
       "      <td>0.04</td>\n",
       "      <td>4.782969e-04</td>\n",
       "      <td>0.057396</td>\n",
       "      <td>0.000968</td>\n",
       "      <td>0.019758</td>\n",
       "    </tr>\n",
       "    <tr>\n",
       "      <td>10</td>\n",
       "      <td>7</td>\n",
       "      <td>3</td>\n",
       "      <td>1.0</td>\n",
       "      <td>0.00</td>\n",
       "      <td>0.000000e+00</td>\n",
       "      <td>0.000000</td>\n",
       "      <td>0.000968</td>\n",
       "      <td>0.000000</td>\n",
       "    </tr>\n",
       "  </tbody>\n",
       "</table>\n",
       "</div>"
      ],
      "text/plain": [
       "    tails  heads  theta  prior    likelihood     binom  marginal  posterior\n",
       "0       7      3    0.0   0.00  0.000000e+00  0.000000  0.000968   0.000000\n",
       "1       7      3    0.1   0.04  7.290000e-08  0.000009  0.000968   0.000003\n",
       "2       7      3    0.2   0.08  6.553600e-06  0.000786  0.000968   0.000541\n",
       "3       7      3    0.3   0.12  7.501410e-05  0.009002  0.000968   0.009296\n",
       "4       7      3    0.4   0.16  3.538944e-04  0.042467  0.000968   0.058477\n",
       "5       7      3    0.5   0.20  9.765625e-04  0.117188  0.000968   0.201707\n",
       "6       7      3    0.6   0.16  1.791590e-03  0.214991  0.000968   0.296040\n",
       "7       7      3    0.7   0.12  2.223566e-03  0.266828  0.000968   0.275564\n",
       "8       7      3    0.8   0.08  1.677722e-03  0.201327  0.000968   0.138612\n",
       "9       7      3    0.9   0.04  4.782969e-04  0.057396  0.000968   0.019758\n",
       "10      7      3    1.0   0.00  0.000000e+00  0.000000  0.000968   0.000000"
      ]
     },
     "execution_count": 296,
     "metadata": {},
     "output_type": "execute_result"
    }
   ],
   "source": [
    "df = pd.DataFrame({'tails':tails,\n",
    "                   'heads':heads,\n",
    "                   'theta':theta,\n",
    "                   'prior':priors,\n",
    "                   'likelihood':[(x**tails) * (1-x)**heads for x in theta],\n",
    "                   'binom':binom.pmf(tails,trials,theta),\n",
    "                  })\n",
    "df['marginal'] = np.sum(df['likelihood']*df['prior'])\n",
    "df['posterior'] = (df['likelihood']*df['prior']) / df['marginal']\n",
    "df"
   ]
  },
  {
   "cell_type": "code",
   "execution_count": 297,
   "metadata": {},
   "outputs": [
    {
     "data": {
      "image/png": "[encoded data removed]",
      "text/plain": [
       "<Figure size 360x1080 with 3 Axes>"
      ]
     },
     "metadata": {
      "needs_background": "light"
     },
     "output_type": "display_data"
    }
   ],
   "source": [
    "fig,axs = plt.subplots(3,1,figsize=(5,15))\n",
    "plot_p(axs[0],df,'theta','prior','Prior distribution',ylab='$P(theta)$')\n",
    "plot_p(axs[1],df,'theta','likelihood','Likelihood distribution',ylab='$P(data|theta)$')\n",
    "plot_p(axs[2],df,'theta','posterior','Posterior distribution',ylab='$P(theta|data)$')\n",
    "plt.tight_layout()"
   ]
  },
  {
   "cell_type": "markdown",
   "metadata": {},
   "source": [
    "### references\n",
    "\n",
    "- https://ro-che.info/articles/2016-06-14-predicting-coin-toss\n",
    "- https://www.vosesoftware.com/riskwiki/Bayesiananalysisexampleidentifyingaweightedcoin.php\n",
    "- https://www.analyticsvidhya.com/blog/2016/06/bayesian-statistics-beginners-simple-english/\n",
    "- https://towardsdatascience.com/probability-concepts-explained-bayesian-inference-for-parameter-estimation-90e8930e5348\n",
    "- https://www.ritchievink.com/blog/2019/06/10/bayesian-inference-how-we-are-able-to-chase-the-posterior/\n",
    "- https://www.psychologicalscience.org/observer/bayes-for-beginners-probability-and-likelihood\n",
    "\n",
    "\n"
   ]
  },
  {
   "cell_type": "markdown",
   "metadata": {},
   "source": [
    "#### Quick recap on the [Likelihood function](https://en.wikipedia.org/wiki/Likelihood_function#Example)"
   ]
  },
  {
   "cell_type": "code",
   "execution_count": null,
   "metadata": {},
   "outputs": [],
   "source": [
    "# likelihood function \n",
    "# likelihood of two heads given x, p(HH|ph = x)\n",
    "# https://en.wikipedia.org/wiki/Likelihood_function#Example\n",
    "X = np.arange(0,1.1,0.1)\n",
    "plt.plot(X,[x**2 for x in X]) # likelihood p(HH|x)\n",
    "plt.plot(X,[(x**2)*(1-x)for x in X]) # likelihood p(HHT|x)\n",
    "plt.plot(X,[(x**2)*(1-x)**2 for x in X]) # likelihood p(HHTT|x)"
   ]
  }
 ],
 "metadata": {
  "kernelspec": {
   "display_name": "Python [conda env:machine-learning]",
   "language": "python",
   "name": "conda-env-machine-learning-py"
  },
  "language_info": {
   "codemirror_mode": {
    "name": "ipython",
    "version": 3
   },
   "file_extension": ".py",
   "mimetype": "text/x-python",
   "name": "python",
   "nbconvert_exporter": "python",
   "pygments_lexer": "ipython3",
   "version": "3.7.4"
  }
 },
 "nbformat": 4,
 "nbformat_minor": 4
}
