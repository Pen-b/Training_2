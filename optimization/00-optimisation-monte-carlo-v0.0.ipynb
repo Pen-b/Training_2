{
 "cells": [
  {
   "cell_type": "markdown",
   "metadata": {},
   "source": [
    "# Portolio Optimisation\n",
    "\n",
    "## Monte Carlo Method\n",
    "\n",
    "***Problem statement***\n",
    "\n",
    "*Given a fixed amount of avliable resources, optimise allocation to maximise returns across a set of products with variable returns*"
   ]
  },
  {
   "cell_type": "code",
   "execution_count": 1,
   "metadata": {},
   "outputs": [],
   "source": [
    "import numpy as np\n",
    "import pandas as pd\n",
    "import matplotlib.pyplot as plt\n",
    "import seaborn as sns\n",
    "sns.set()"
   ]
  },
  {
   "cell_type": "markdown",
   "metadata": {},
   "source": [
    "***Example 1***\n",
    "\n",
    "Following the Markowitz model, we can formulate our problem as:\n",
    "\n",
    "*Given a fixed quantity of money (say $1000), how much should we invest in each of the three stocks so as to (a) have a one month expected return of at least a given threshold, and (b) minimize the risk (variance) of the portfolio return.*\n",
    "\n",
    "Assumptions:\n",
    " - We have \\\\$100 to invest.\n",
    " - Risk Free rate of 0.03 (3 % generous)\n",
    " - Stocks have a fixed starting price. \n",
    " - Time period is 1 month.\n",
    " - The monthly returns of a stock follow a normal distribution with average $mu$ and volatility $sigma$. \n",
    " \n",
    "***Stocks***"
   ]
  },
  {
   "cell_type": "code",
   "execution_count": 2,
   "metadata": {},
   "outputs": [
    {
     "data": {
      "text/html": [
       "<div>\n",
       "<style scoped>\n",
       "    .dataframe tbody tr th:only-of-type {\n",
       "        vertical-align: middle;\n",
       "    }\n",
       "\n",
       "    .dataframe tbody tr th {\n",
       "        vertical-align: top;\n",
       "    }\n",
       "\n",
       "    .dataframe thead th {\n",
       "        text-align: right;\n",
       "    }\n",
       "</style>\n",
       "<table border=\"1\" class=\"dataframe\">\n",
       "  <thead>\n",
       "    <tr style=\"text-align: right;\">\n",
       "      <th></th>\n",
       "      <th>n</th>\n",
       "      <th>name</th>\n",
       "      <th>price</th>\n",
       "      <th>mu</th>\n",
       "      <th>sigma</th>\n",
       "    </tr>\n",
       "  </thead>\n",
       "  <tbody>\n",
       "    <tr>\n",
       "      <th>0</th>\n",
       "      <td>0</td>\n",
       "      <td>jumanji inc</td>\n",
       "      <td>10</td>\n",
       "      <td>0.1</td>\n",
       "      <td>10</td>\n",
       "    </tr>\n",
       "    <tr>\n",
       "      <th>1</th>\n",
       "      <td>1</td>\n",
       "      <td>evolution ltd</td>\n",
       "      <td>20</td>\n",
       "      <td>0.2</td>\n",
       "      <td>20</td>\n",
       "    </tr>\n",
       "    <tr>\n",
       "      <th>2</th>\n",
       "      <td>2</td>\n",
       "      <td>Incredibles Inc</td>\n",
       "      <td>30</td>\n",
       "      <td>0.3</td>\n",
       "      <td>30</td>\n",
       "    </tr>\n",
       "  </tbody>\n",
       "</table>\n",
       "</div>"
      ],
      "text/plain": [
       "   n             name  price   mu  sigma\n",
       "0  0      jumanji inc     10  0.1     10\n",
       "1  1    evolution ltd     20  0.2     20\n",
       "2  2  Incredibles Inc     30  0.3     30"
      ]
     },
     "execution_count": 2,
     "metadata": {},
     "output_type": "execute_result"
    }
   ],
   "source": [
    "stocks = [ \n",
    "           {'n':0,\n",
    "            'name':'jumanji inc',\n",
    "            'price':10,\n",
    "            'mu':0.1,\n",
    "            'sigma':10},\n",
    "           {'n':1,\n",
    "            'name':'evolution ltd',\n",
    "            'price':20,\n",
    "            'mu':0.2,\n",
    "            'sigma':20},\n",
    "           {'n':2,\n",
    "            'name':'Incredibles Inc',\n",
    "            'price':30,\n",
    "            'mu':0.3,\n",
    "            'sigma':30}        \n",
    "        ]\n",
    "stocks_df = pd.DataFrame(stocks)\n",
    "stocks_df"
   ]
  },
  {
   "cell_type": "markdown",
   "metadata": {},
   "source": [
    "***Monte Carlo Portfolio's***\n",
    "\n",
    "Generate random portfolios of value $V$. Method is adapted from this [SO](https://stackoverflow.com/a/36818198/4538066) answer, but is not optimal. "
   ]
  },
  {
   "cell_type": "code",
   "execution_count": 3,
   "metadata": {},
   "outputs": [
    {
     "name": "stdout",
     "output_type": "stream",
     "text": [
      "999/1000\r"
     ]
    }
   ],
   "source": [
    "# total number of stocks in universe\n",
    "N = len(stocks) \n",
    "\n",
    "# V = total to invest \n",
    "investment = 10**3 \n",
    "\n",
    "mc_portfolios = list()\n",
    "pmax=1000\n",
    "for p in range(pmax):\n",
    "    print(f'{p}/{pmax}',end='\\r')\n",
    "    # random portfolio size\n",
    "    portfolio_size = np.random.randint(1, N+1) \n",
    "\n",
    "    # create a df portfolio of them\n",
    "    df = stocks_df.iloc[np.random.choice(N, portfolio_size, replace=False)].copy()\n",
    "\n",
    "    # sum numbers\n",
    "    while True:\n",
    "        df['value'] = np.random.random(portfolio_size)\n",
    "        T = df['value'].sum()\n",
    "        if T != 0: break\n",
    "\n",
    "    # calculate normalised value and number of shares \n",
    "    df['value'] *= investment/T\n",
    "    df['shares'] = df['value']/df['price']\n",
    "    df['p'] = p\n",
    "    \n",
    "    mc_portfolios.append(df)"
   ]
  },
  {
   "cell_type": "code",
   "execution_count": 4,
   "metadata": {},
   "outputs": [
    {
     "data": {
      "text/html": [
       "<div>\n",
       "<style scoped>\n",
       "    .dataframe tbody tr th:only-of-type {\n",
       "        vertical-align: middle;\n",
       "    }\n",
       "\n",
       "    .dataframe tbody tr th {\n",
       "        vertical-align: top;\n",
       "    }\n",
       "\n",
       "    .dataframe thead th {\n",
       "        text-align: right;\n",
       "    }\n",
       "</style>\n",
       "<table border=\"1\" class=\"dataframe\">\n",
       "  <thead>\n",
       "    <tr style=\"text-align: right;\">\n",
       "      <th></th>\n",
       "      <th>n</th>\n",
       "      <th>name</th>\n",
       "      <th>price</th>\n",
       "      <th>mu</th>\n",
       "      <th>sigma</th>\n",
       "      <th>value</th>\n",
       "      <th>shares</th>\n",
       "      <th>p</th>\n",
       "    </tr>\n",
       "  </thead>\n",
       "  <tbody>\n",
       "    <tr>\n",
       "      <th>0</th>\n",
       "      <td>2</td>\n",
       "      <td>Incredibles Inc</td>\n",
       "      <td>30</td>\n",
       "      <td>0.3</td>\n",
       "      <td>30</td>\n",
       "      <td>40.627825</td>\n",
       "      <td>1.354261</td>\n",
       "      <td>0</td>\n",
       "    </tr>\n",
       "    <tr>\n",
       "      <th>1</th>\n",
       "      <td>1</td>\n",
       "      <td>evolution ltd</td>\n",
       "      <td>20</td>\n",
       "      <td>0.2</td>\n",
       "      <td>20</td>\n",
       "      <td>959.372175</td>\n",
       "      <td>47.968609</td>\n",
       "      <td>0</td>\n",
       "    </tr>\n",
       "  </tbody>\n",
       "</table>\n",
       "</div>"
      ],
      "text/plain": [
       "   n             name  price   mu  sigma       value     shares  p\n",
       "0  2  Incredibles Inc     30  0.3     30   40.627825   1.354261  0\n",
       "1  1    evolution ltd     20  0.2     20  959.372175  47.968609  0"
      ]
     },
     "execution_count": 4,
     "metadata": {},
     "output_type": "execute_result"
    }
   ],
   "source": [
    "mc_portfolios = pd.concat(mc_portfolios).reset_index(drop=True)\n",
    "mc_portfolios[:2]"
   ]
  },
  {
   "cell_type": "markdown",
   "metadata": {},
   "source": [
    "***Balanced Portfolio***\n",
    "\n",
    "A portfolio with equal investment in each stock."
   ]
  },
  {
   "cell_type": "code",
   "execution_count": 5,
   "metadata": {},
   "outputs": [
    {
     "data": {
      "text/html": [
       "<div>\n",
       "<style scoped>\n",
       "    .dataframe tbody tr th:only-of-type {\n",
       "        vertical-align: middle;\n",
       "    }\n",
       "\n",
       "    .dataframe tbody tr th {\n",
       "        vertical-align: top;\n",
       "    }\n",
       "\n",
       "    .dataframe thead th {\n",
       "        text-align: right;\n",
       "    }\n",
       "</style>\n",
       "<table border=\"1\" class=\"dataframe\">\n",
       "  <thead>\n",
       "    <tr style=\"text-align: right;\">\n",
       "      <th></th>\n",
       "      <th>n</th>\n",
       "      <th>name</th>\n",
       "      <th>price</th>\n",
       "      <th>mu</th>\n",
       "      <th>sigma</th>\n",
       "      <th>value</th>\n",
       "      <th>shares</th>\n",
       "      <th>p</th>\n",
       "    </tr>\n",
       "  </thead>\n",
       "  <tbody>\n",
       "    <tr>\n",
       "      <th>0</th>\n",
       "      <td>0</td>\n",
       "      <td>jumanji inc</td>\n",
       "      <td>10</td>\n",
       "      <td>0.1</td>\n",
       "      <td>10</td>\n",
       "      <td>333.33</td>\n",
       "      <td>33.3330</td>\n",
       "      <td>balanced</td>\n",
       "    </tr>\n",
       "    <tr>\n",
       "      <th>1</th>\n",
       "      <td>1</td>\n",
       "      <td>evolution ltd</td>\n",
       "      <td>20</td>\n",
       "      <td>0.2</td>\n",
       "      <td>20</td>\n",
       "      <td>333.33</td>\n",
       "      <td>16.6665</td>\n",
       "      <td>balanced</td>\n",
       "    </tr>\n",
       "    <tr>\n",
       "      <th>2</th>\n",
       "      <td>2</td>\n",
       "      <td>Incredibles Inc</td>\n",
       "      <td>30</td>\n",
       "      <td>0.3</td>\n",
       "      <td>30</td>\n",
       "      <td>333.33</td>\n",
       "      <td>11.1110</td>\n",
       "      <td>balanced</td>\n",
       "    </tr>\n",
       "  </tbody>\n",
       "</table>\n",
       "</div>"
      ],
      "text/plain": [
       "   n             name  price   mu  sigma   value   shares         p\n",
       "0  0      jumanji inc     10  0.1     10  333.33  33.3330  balanced\n",
       "1  1    evolution ltd     20  0.2     20  333.33  16.6665  balanced\n",
       "2  2  Incredibles Inc     30  0.3     30  333.33  11.1110  balanced"
      ]
     },
     "execution_count": 5,
     "metadata": {},
     "output_type": "execute_result"
    }
   ],
   "source": [
    "balanced_portfolio = stocks_df.copy()\n",
    "balanced_portfolio['value']=333.33\n",
    "balanced_portfolio['shares'] = balanced_portfolio['value']/balanced_portfolio['price']\n",
    "balanced_portfolio['p']='balanced'\n",
    "balanced_portfolio"
   ]
  },
  {
   "cell_type": "markdown",
   "metadata": {},
   "source": [
    "***Calculate Portfolio Risk & Return***"
   ]
  },
  {
   "cell_type": "code",
   "execution_count": 6,
   "metadata": {},
   "outputs": [],
   "source": [
    "def portfolio_returns(portfolio,risk_free_rate=0.03):\n",
    "    \"\"\"\n",
    "    Calculates portfolio returns, risk and summary\n",
    "    \"\"\"\n",
    "    #calculate returns\n",
    "    portfolio['result'] = np.random.normal(loc=portfolio['mu'],scale=portfolio['sigma'])*portfolio['shares']\n",
    "\n",
    "    # calculate risk\n",
    "    # https://math.stackexchange.com/questions/3381762/how-to-combine-standard-deviations-using-variance\n",
    "    #np.sqrt(30**2 + 10**2)\n",
    "    portfolio['var'] = portfolio['sigma'].apply(lambda x: x**2)\n",
    "    \n",
    "    # portfolio summary\n",
    "    portfolio_summary = portfolio.groupby('p').agg({'value':sum,'var':sum,'result':sum})\n",
    "    portfolio_summary['return']= (portfolio_summary['value']+portfolio_summary['result'])/portfolio_summary['value']\n",
    "    portfolio_summary['risk'] = portfolio_summary['var'].apply(lambda x: np.sqrt(x)/100.)\n",
    "    \n",
    "    portfolio_summary['sharpe']=(portfolio_summary['return']-risk_free_rate)/portfolio_summary['risk']\n",
    "    portfolio_summary.drop(labels=['var'],axis=1,inplace=True)\n",
    "\n",
    "    return portfolio_summary,portfolio"
   ]
  },
  {
   "cell_type": "markdown",
   "metadata": {},
   "source": [
    "***Calculate Portfolio Summary***"
   ]
  },
  {
   "cell_type": "code",
   "execution_count": 7,
   "metadata": {},
   "outputs": [],
   "source": [
    "summary = dict()\n",
    "summary['MonteCarlo'],mc = portfolio_returns(mc_portfolios)\n",
    "summary['Balanced'],_ = portfolio_returns(balanced_portfolio)"
   ]
  },
  {
   "cell_type": "markdown",
   "metadata": {},
   "source": [
    "***Plot Result***"
   ]
  },
  {
   "cell_type": "code",
   "execution_count": 8,
   "metadata": {},
   "outputs": [
    {
     "data": {
      "image/png": "[encoded data removed]",
      "text/plain": [
       "<Figure size 720x360 with 1 Axes>"
      ]
     },
     "metadata": {},
     "output_type": "display_data"
    }
   ],
   "source": [
    "fig,axs = plt.subplots(1,1,figsize=(10,5))\n",
    "axs.set_title('Portfolio Risk Return')\n",
    "\n",
    "sns.scatterplot(summary['MonteCarlo']['risk'],\n",
    "                summary['MonteCarlo']['return'],\n",
    "                label='MonteCarlo',\n",
    "                s=50,color='grey',alpha=0.6,ax=axs)\n",
    "\n",
    "sns.scatterplot(summary['Balanced']['risk'],\n",
    "                summary['Balanced']['return'],\n",
    "                label='Balanced',\n",
    "                s=200,color='orange',alpha=1,ax=axs);\n",
    "\n",
    "# Best portfolio maximal returns, minimal risk (highest Sharpe ratio)\n",
    "gd = summary['MonteCarlo'].loc[summary['MonteCarlo'].sharpe.idxmax()]\n",
    "sns.scatterplot([gd['risk']],\n",
    "                [gd['return']],\n",
    "                label=f'Best Portfolio {gd.name}',\n",
    "                s=200,color='green',alpha=1,ax=axs)\n",
    "\n",
    "axs.get_legend().remove()\n",
    "fig.legend(loc='upper right');"
   ]
  },
  {
   "cell_type": "code",
   "execution_count": 9,
   "metadata": {},
   "outputs": [
    {
     "data": {
      "text/html": [
       "<div>\n",
       "<style scoped>\n",
       "    .dataframe tbody tr th:only-of-type {\n",
       "        vertical-align: middle;\n",
       "    }\n",
       "\n",
       "    .dataframe tbody tr th {\n",
       "        vertical-align: top;\n",
       "    }\n",
       "\n",
       "    .dataframe thead th {\n",
       "        text-align: right;\n",
       "    }\n",
       "</style>\n",
       "<table border=\"1\" class=\"dataframe\">\n",
       "  <thead>\n",
       "    <tr style=\"text-align: right;\">\n",
       "      <th></th>\n",
       "      <th>n</th>\n",
       "      <th>name</th>\n",
       "      <th>price</th>\n",
       "      <th>mu</th>\n",
       "      <th>sigma</th>\n",
       "      <th>value</th>\n",
       "      <th>shares</th>\n",
       "      <th>p</th>\n",
       "      <th>result</th>\n",
       "      <th>var</th>\n",
       "    </tr>\n",
       "  </thead>\n",
       "  <tbody>\n",
       "    <tr>\n",
       "      <th>1819</th>\n",
       "      <td>0</td>\n",
       "      <td>jumanji inc</td>\n",
       "      <td>10</td>\n",
       "      <td>0.1</td>\n",
       "      <td>10</td>\n",
       "      <td>1000.0</td>\n",
       "      <td>100.0</td>\n",
       "      <td>902</td>\n",
       "      <td>2376.314375</td>\n",
       "      <td>100</td>\n",
       "    </tr>\n",
       "  </tbody>\n",
       "</table>\n",
       "</div>"
      ],
      "text/plain": [
       "      n         name  price   mu  sigma   value  shares    p       result  var\n",
       "1819  0  jumanji inc     10  0.1     10  1000.0   100.0  902  2376.314375  100"
      ]
     },
     "execution_count": 9,
     "metadata": {},
     "output_type": "execute_result"
    }
   ],
   "source": [
    "# best portfolio \n",
    "mc.loc[mc['p']==summary['MonteCarlo'].sharpe.idxmax()]"
   ]
  },
  {
   "cell_type": "markdown",
   "metadata": {},
   "source": [
    "***Summary***\n",
    "- This method applies monte carlo (i.e. exhaustive search) to calculate a large number of randomised investment portfolios. \n",
    "- Risk, Return, and Sharpe measures are calculated for each of the random portfolios, and for a balanced portfolio (i.e. equal allocation portfolio assuming no knowledge of where to invest). \n",
    "- An optimal portfolio is identified using the maximum Sharpe ratio that maximises returns whilst minimising risk.\n",
    "- Increasing the number of randomised portfolios increases the chances of identifying an optimal portfolio. \n",
    "- However, finding the optimal portfolio is not garunteed and decreases with increasing number of investment options, investment returns and variances."
   ]
  },
  {
   "cell_type": "markdown",
   "metadata": {},
   "source": [
    "***References:***\n",
    "\n",
    "- https://towardsdatascience.com/optimization-with-python-how-to-make-the-most-amount-of-money-with-the-least-amount-of-risk-1ebebf5b2f29\n",
    "- https://colab.research.google.com/github/cvxgrp/cvx_short_course/blob/master/applications/portfolio_optimization.ipynb\n",
    "- https://insightr.wordpress.com/2017/08/27/pricing-optimization-how-to-find-the-price-that-maximizes-your-profit/\n",
    "- http://riskdatascience.net/usecases-auswahl/automated-portfolio-optimization-by-combining-ai-and-risk-methods/\n",
    "- https://towardsdatascience.com/automating-portfolio-optimization-using-python-9f344b9380b9\n",
    "- https://towardsdatascience.com/best-investment-portfolio-via-monte-carlo-simulation-in-python-53286f3fe93\n"
   ]
  }
 ],
 "metadata": {
  "kernelspec": {
   "display_name": "Python [conda env:machine-learning]",
   "language": "python",
   "name": "conda-env-machine-learning-py"
  },
  "language_info": {
   "codemirror_mode": {
    "name": "ipython",
    "version": 3
   },
   "file_extension": ".py",
   "mimetype": "text/x-python",
   "name": "python",
   "nbconvert_exporter": "python",
   "pygments_lexer": "ipython3",
   "version": "3.7.5"
  }
 },
 "nbformat": 4,
 "nbformat_minor": 4
}
