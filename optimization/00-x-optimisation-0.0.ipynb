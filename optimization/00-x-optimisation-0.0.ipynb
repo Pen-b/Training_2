{
 "cells": [
  {
   "cell_type": "markdown",
   "metadata": {},
   "source": [
    "# Opt\n",
    "\n",
    "***Problem statement***\n",
    "\n",
    "*Given a fixed amount of avliable resources, optimise allocation to maximise returns across a set of products with variable returns*\n",
    "\n",
    "Refs:\n",
    "- https://towardsdatascience.com/optimization-with-python-how-to-make-the-most-amount-of-money-with-the-least-amount-of-risk-1ebebf5b2f29\n",
    "- https://colab.research.google.com/github/cvxgrp/cvx_short_course/blob/master/applications/portfolio_optimization.ipynb\n",
    "- https://insightr.wordpress.com/2017/08/27/pricing-optimization-how-to-find-the-price-that-maximizes-your-profit/\n",
    "- http://riskdatascience.net/usecases-auswahl/automated-portfolio-optimization-by-combining-ai-and-risk-methods/\n",
    "- https://towardsdatascience.com/automating-portfolio-optimization-using-python-9f344b9380b9\n",
    "- https://towardsdatascience.com/best-investment-portfolio-via-monte-carlo-simulation-in-python-53286f3fe93\n"
   ]
  },
  {
   "cell_type": "code",
   "execution_count": 19,
   "metadata": {},
   "outputs": [],
   "source": [
    "import numpy as np\n",
    "import pandas as pd\n",
    "import matplotlib.pyplot as plt\n",
    "import seaborn as sns\n",
    "sns.set()"
   ]
  },
  {
   "cell_type": "markdown",
   "metadata": {},
   "source": [
    "***Example 1***\n",
    "\n",
    "Following the Markowitz model, we can formulate our problem as:\n",
    "\n",
    "*Given a fixed quantity of money (say $1000), how much should we invest in each of the three stocks so as to (a) have a one month expected return of at least a given threshold, and (b) minimize the risk (variance) of the portfolio return.*\n",
    "\n",
    "Assumptions:\n",
    " - We have \\\\$100 to invest.\n",
    " - Stocks have a fixed starting price. \n",
    " - Time period is 1 month.\n",
    " - The monthly returns of a stock follow a normal distribution with average $mu$ and volatility $sigma$. \n",
    " \n",
    "***Stocks***"
   ]
  },
  {
   "cell_type": "code",
   "execution_count": 117,
   "metadata": {},
   "outputs": [
    {
     "data": {
      "text/html": [
       "<div>\n",
       "<style scoped>\n",
       "    .dataframe tbody tr th:only-of-type {\n",
       "        vertical-align: middle;\n",
       "    }\n",
       "\n",
       "    .dataframe tbody tr th {\n",
       "        vertical-align: top;\n",
       "    }\n",
       "\n",
       "    .dataframe thead th {\n",
       "        text-align: right;\n",
       "    }\n",
       "</style>\n",
       "<table border=\"1\" class=\"dataframe\">\n",
       "  <thead>\n",
       "    <tr style=\"text-align: right;\">\n",
       "      <th></th>\n",
       "      <th>n</th>\n",
       "      <th>name</th>\n",
       "      <th>price</th>\n",
       "      <th>mu</th>\n",
       "      <th>sigma</th>\n",
       "    </tr>\n",
       "  </thead>\n",
       "  <tbody>\n",
       "    <tr>\n",
       "      <th>0</th>\n",
       "      <td>0</td>\n",
       "      <td>jumanji inc</td>\n",
       "      <td>10</td>\n",
       "      <td>0.1</td>\n",
       "      <td>10</td>\n",
       "    </tr>\n",
       "    <tr>\n",
       "      <th>1</th>\n",
       "      <td>1</td>\n",
       "      <td>evolution ltd</td>\n",
       "      <td>20</td>\n",
       "      <td>0.2</td>\n",
       "      <td>20</td>\n",
       "    </tr>\n",
       "    <tr>\n",
       "      <th>2</th>\n",
       "      <td>2</td>\n",
       "      <td>Incredibles Inc</td>\n",
       "      <td>30</td>\n",
       "      <td>0.3</td>\n",
       "      <td>30</td>\n",
       "    </tr>\n",
       "  </tbody>\n",
       "</table>\n",
       "</div>"
      ],
      "text/plain": [
       "   n             name  price   mu  sigma\n",
       "0  0      jumanji inc     10  0.1     10\n",
       "1  1    evolution ltd     20  0.2     20\n",
       "2  2  Incredibles Inc     30  0.3     30"
      ]
     },
     "execution_count": 117,
     "metadata": {},
     "output_type": "execute_result"
    }
   ],
   "source": [
    "stocks = [ \n",
    "           {'n':0,\n",
    "            'name':'jumanji inc',\n",
    "            'price':10,\n",
    "            'mu':0.1,\n",
    "            'sigma':10},\n",
    "           {'n':1,\n",
    "            'name':'evolution ltd',\n",
    "            'price':20,\n",
    "            'mu':0.2,\n",
    "            'sigma':20},\n",
    "           {'n':2,\n",
    "            'name':'Incredibles Inc',\n",
    "            'price':30,\n",
    "            'mu':0.3,\n",
    "            'sigma':30}        \n",
    "        ]\n",
    "stocks_df = pd.DataFrame(stocks)\n",
    "stocks_df"
   ]
  },
  {
   "cell_type": "markdown",
   "metadata": {},
   "source": [
    "***portfolio***\n",
    "\n",
    "Generate random portfolios of value $V$. Method is adapted from this [SO](https://stackoverflow.com/a/36818198/4538066) answer, but is not optimal. "
   ]
  },
  {
   "cell_type": "code",
   "execution_count": 212,
   "metadata": {},
   "outputs": [
    {
     "name": "stdout",
     "output_type": "stream",
     "text": [
      "99/100\r"
     ]
    }
   ],
   "source": [
    "# total number of stocks in universe\n",
    "N = len(stocks) \n",
    "\n",
    "# V = total to invest \n",
    "investment = 10**3 \n",
    "\n",
    "portfolios = list()\n",
    "pmax=100\n",
    "for p in range(pmax):\n",
    "    print(f'{p}/{pmax}',end='\\r')\n",
    "    # random portfolio size\n",
    "    portfolio_size = np.random.randint(1, N+1) \n",
    "\n",
    "    # create a df portfolio of them\n",
    "    df = stocks_df.iloc[np.random.choice(N, portfolio_size, replace=False)].copy()\n",
    "\n",
    "    # sum numbers\n",
    "    while True:\n",
    "        df['value'] = np.random.random(portfolio_size)\n",
    "        T = df['value'].sum()\n",
    "        if T != 0: break\n",
    "\n",
    "    # calculate normalised value and number of shares \n",
    "    df['value'] *= investment/T\n",
    "    df['shares'] = df['value']/df['price']\n",
    "    df['p'] = p\n",
    "    \n",
    "    portfolios.append(df)"
   ]
  },
  {
   "cell_type": "code",
   "execution_count": 213,
   "metadata": {},
   "outputs": [
    {
     "data": {
      "text/html": [
       "<div>\n",
       "<style scoped>\n",
       "    .dataframe tbody tr th:only-of-type {\n",
       "        vertical-align: middle;\n",
       "    }\n",
       "\n",
       "    .dataframe tbody tr th {\n",
       "        vertical-align: top;\n",
       "    }\n",
       "\n",
       "    .dataframe thead th {\n",
       "        text-align: right;\n",
       "    }\n",
       "</style>\n",
       "<table border=\"1\" class=\"dataframe\">\n",
       "  <thead>\n",
       "    <tr style=\"text-align: right;\">\n",
       "      <th></th>\n",
       "      <th>n</th>\n",
       "      <th>name</th>\n",
       "      <th>price</th>\n",
       "      <th>mu</th>\n",
       "      <th>sigma</th>\n",
       "      <th>value</th>\n",
       "      <th>shares</th>\n",
       "      <th>p</th>\n",
       "    </tr>\n",
       "  </thead>\n",
       "  <tbody>\n",
       "    <tr>\n",
       "      <th>0</th>\n",
       "      <td>1</td>\n",
       "      <td>evolution ltd</td>\n",
       "      <td>20</td>\n",
       "      <td>0.2</td>\n",
       "      <td>20</td>\n",
       "      <td>788.273092</td>\n",
       "      <td>39.413655</td>\n",
       "      <td>0</td>\n",
       "    </tr>\n",
       "    <tr>\n",
       "      <th>1</th>\n",
       "      <td>2</td>\n",
       "      <td>Incredibles Inc</td>\n",
       "      <td>30</td>\n",
       "      <td>0.3</td>\n",
       "      <td>30</td>\n",
       "      <td>211.726908</td>\n",
       "      <td>7.057564</td>\n",
       "      <td>0</td>\n",
       "    </tr>\n",
       "  </tbody>\n",
       "</table>\n",
       "</div>"
      ],
      "text/plain": [
       "   n             name  price   mu  sigma       value     shares  p\n",
       "0  1    evolution ltd     20  0.2     20  788.273092  39.413655  0\n",
       "1  2  Incredibles Inc     30  0.3     30  211.726908   7.057564  0"
      ]
     },
     "execution_count": 213,
     "metadata": {},
     "output_type": "execute_result"
    }
   ],
   "source": [
    "portfolios = pd.concat(portfolios).reset_index(drop=True)\n",
    "portfolios[:2]"
   ]
  },
  {
   "cell_type": "code",
   "execution_count": 232,
   "metadata": {},
   "outputs": [
    {
     "data": {
      "text/html": [
       "<div>\n",
       "<style scoped>\n",
       "    .dataframe tbody tr th:only-of-type {\n",
       "        vertical-align: middle;\n",
       "    }\n",
       "\n",
       "    .dataframe tbody tr th {\n",
       "        vertical-align: top;\n",
       "    }\n",
       "\n",
       "    .dataframe thead th {\n",
       "        text-align: right;\n",
       "    }\n",
       "</style>\n",
       "<table border=\"1\" class=\"dataframe\">\n",
       "  <thead>\n",
       "    <tr style=\"text-align: right;\">\n",
       "      <th></th>\n",
       "      <th>value</th>\n",
       "      <th>return</th>\n",
       "    </tr>\n",
       "    <tr>\n",
       "      <th>p</th>\n",
       "      <th></th>\n",
       "      <th></th>\n",
       "    </tr>\n",
       "  </thead>\n",
       "  <tbody>\n",
       "    <tr>\n",
       "      <th>0</th>\n",
       "      <td>1000.0</td>\n",
       "      <td>983.644216</td>\n",
       "    </tr>\n",
       "    <tr>\n",
       "      <th>1</th>\n",
       "      <td>1000.0</td>\n",
       "      <td>742.460519</td>\n",
       "    </tr>\n",
       "    <tr>\n",
       "      <th>2</th>\n",
       "      <td>1000.0</td>\n",
       "      <td>-89.505233</td>\n",
       "    </tr>\n",
       "    <tr>\n",
       "      <th>3</th>\n",
       "      <td>1000.0</td>\n",
       "      <td>-640.956707</td>\n",
       "    </tr>\n",
       "    <tr>\n",
       "      <th>4</th>\n",
       "      <td>1000.0</td>\n",
       "      <td>478.258228</td>\n",
       "    </tr>\n",
       "    <tr>\n",
       "      <th>...</th>\n",
       "      <td>...</td>\n",
       "      <td>...</td>\n",
       "    </tr>\n",
       "    <tr>\n",
       "      <th>95</th>\n",
       "      <td>1000.0</td>\n",
       "      <td>1431.906444</td>\n",
       "    </tr>\n",
       "    <tr>\n",
       "      <th>96</th>\n",
       "      <td>1000.0</td>\n",
       "      <td>-440.038719</td>\n",
       "    </tr>\n",
       "    <tr>\n",
       "      <th>97</th>\n",
       "      <td>1000.0</td>\n",
       "      <td>-716.543308</td>\n",
       "    </tr>\n",
       "    <tr>\n",
       "      <th>98</th>\n",
       "      <td>1000.0</td>\n",
       "      <td>2256.998922</td>\n",
       "    </tr>\n",
       "    <tr>\n",
       "      <th>99</th>\n",
       "      <td>1000.0</td>\n",
       "      <td>321.083564</td>\n",
       "    </tr>\n",
       "  </tbody>\n",
       "</table>\n",
       "<p>100 rows × 2 columns</p>\n",
       "</div>"
      ],
      "text/plain": [
       "     value       return\n",
       "p                      \n",
       "0   1000.0   983.644216\n",
       "1   1000.0   742.460519\n",
       "2   1000.0   -89.505233\n",
       "3   1000.0  -640.956707\n",
       "4   1000.0   478.258228\n",
       "..     ...          ...\n",
       "95  1000.0  1431.906444\n",
       "96  1000.0  -440.038719\n",
       "97  1000.0  -716.543308\n",
       "98  1000.0  2256.998922\n",
       "99  1000.0   321.083564\n",
       "\n",
       "[100 rows x 2 columns]"
      ]
     },
     "execution_count": 232,
     "metadata": {},
     "output_type": "execute_result"
    }
   ],
   "source": [
    "#calculate the returns\n",
    "portfolios['return'] = np.random.normal(loc=portfolios['mu'],scale=portfolios['sigma'])*portfolios['shares']\n",
    "\n",
    "portfolios.groupby('p').agg({'value':sum,'return':sum})"
   ]
  },
  {
   "cell_type": "code",
   "execution_count": 182,
   "metadata": {},
   "outputs": [],
   "source": [
    "def simulate_stocks(stocks,periods=1):\n",
    "    returns = list()\n",
    "    costs = list()\n",
    "    for stock in stocks:\n",
    "        cost = periods * stock['price']\n",
    "        costs.append(cost)\n",
    "        ret = np.random.normal(loc=stock['mu'],scale=stock['sigma'],size=periods)\n",
    "        ret = ret.sum()\n",
    "        returns.append(ret)\n",
    "    return costs,returns"
   ]
  },
  {
   "cell_type": "code",
   "execution_count": 183,
   "metadata": {},
   "outputs": [
    {
     "data": {
      "text/plain": [
       "([10, 20, 30], [19.706251489203673, 19.889173236649842, -15.378606422976286])"
      ]
     },
     "execution_count": 183,
     "metadata": {},
     "output_type": "execute_result"
    }
   ],
   "source": [
    "simulate_stocks(stocks)"
   ]
  },
  {
   "cell_type": "code",
   "execution_count": 184,
   "metadata": {},
   "outputs": [
    {
     "data": {
      "text/html": [
       "<div>\n",
       "<style scoped>\n",
       "    .dataframe tbody tr th:only-of-type {\n",
       "        vertical-align: middle;\n",
       "    }\n",
       "\n",
       "    .dataframe tbody tr th {\n",
       "        vertical-align: top;\n",
       "    }\n",
       "\n",
       "    .dataframe thead th {\n",
       "        text-align: right;\n",
       "    }\n",
       "</style>\n",
       "<table border=\"1\" class=\"dataframe\">\n",
       "  <thead>\n",
       "    <tr style=\"text-align: right;\">\n",
       "      <th></th>\n",
       "      <th>n</th>\n",
       "      <th>name</th>\n",
       "      <th>price</th>\n",
       "      <th>mu</th>\n",
       "      <th>sigma</th>\n",
       "      <th>value</th>\n",
       "      <th>shares</th>\n",
       "    </tr>\n",
       "  </thead>\n",
       "  <tbody>\n",
       "    <tr>\n",
       "      <th>2</th>\n",
       "      <td>2</td>\n",
       "      <td>Incredibles Inc</td>\n",
       "      <td>30</td>\n",
       "      <td>0.3</td>\n",
       "      <td>30</td>\n",
       "      <td>1000.0</td>\n",
       "      <td>33.333333</td>\n",
       "    </tr>\n",
       "  </tbody>\n",
       "</table>\n",
       "</div>"
      ],
      "text/plain": [
       "   n             name  price   mu  sigma   value     shares\n",
       "2  2  Incredibles Inc     30  0.3     30  1000.0  33.333333"
      ]
     },
     "execution_count": 184,
     "metadata": {},
     "output_type": "execute_result"
    }
   ],
   "source": [
    "df"
   ]
  },
  {
   "cell_type": "code",
   "execution_count": 197,
   "metadata": {},
   "outputs": [
    {
     "data": {
      "text/plain": [
       "1101.169632498058"
      ]
     },
     "execution_count": 197,
     "metadata": {},
     "output_type": "execute_result"
    }
   ],
   "source": [
    "np.random.normal(0.3,30)*33.3"
   ]
  },
  {
   "cell_type": "code",
   "execution_count": null,
   "metadata": {},
   "outputs": [],
   "source": []
  },
  {
   "cell_type": "code",
   "execution_count": null,
   "metadata": {},
   "outputs": [],
   "source": []
  },
  {
   "cell_type": "code",
   "execution_count": null,
   "metadata": {},
   "outputs": [],
   "source": []
  },
  {
   "cell_type": "code",
   "execution_count": null,
   "metadata": {},
   "outputs": [],
   "source": [
    "# simple class to hold a portfolio of stocks\n",
    "\n",
    "\n",
    "    \n",
    "class Portfolio:\n",
    "    def __init__(self,unitsA,unitsB):\n",
    "        self.stockA = \n",
    "        \n",
    "        self.stocks = [self.stockA,self.stockB]"
   ]
  },
  {
   "cell_type": "code",
   "execution_count": null,
   "metadata": {},
   "outputs": [],
   "source": [
    "def simulate_unit(stock,plot=True):\n",
    "    \"\"\"Simulates 1 unit of stock for given time period in days\"\"\"\n",
    "    results = dict()\n",
    "    \n",
    "    days = 365\n",
    "    starting_price = stock['price']\n",
    "    price = starting_price\n",
    "    daily_price = list()\n",
    "    for i in np.random.normal(stock['mu'],stock['sigma'],size=days):\n",
    "        price = price*((i/100)+1)\n",
    "        daily_price.append(price)\n",
    "\n",
    "    profit = daily_price[-1]-starting_price\n",
    "    results['prices'] = daily_price\n",
    "    results['profit'] = profit=profit\n",
    "\n",
    "    if plot:\n",
    "        sns.lineplot(x=range(365),y=results['prices'], label=stock['name'])\n",
    "    return results"
   ]
  },
  {
   "cell_type": "markdown",
   "metadata": {},
   "source": [
    "***Scenario 1: invest equally amongst stocks ($500) each***"
   ]
  },
  {
   "cell_type": "code",
   "execution_count": null,
   "metadata": {},
   "outputs": [],
   "source": [
    "p1 = Portfolio(4,1)\n",
    "p1.stocks"
   ]
  },
  {
   "cell_type": "code",
   "execution_count": null,
   "metadata": {},
   "outputs": [],
   "source": [
    "results = list()\n",
    "for stock in p1.stocks:\n",
    "    for unit in range(stock['units']):\n",
    "        ui = simulate_unit(stock)\n",
    "        results.append(ui['profit'])\n",
    "        print(stock['name'],ui['profit'])\n",
    "print(np.sum(results))"
   ]
  },
  {
   "cell_type": "code",
   "execution_count": null,
   "metadata": {},
   "outputs": [],
   "source": [
    "1000+np.sum(results)"
   ]
  },
  {
   "cell_type": "code",
   "execution_count": null,
   "metadata": {},
   "outputs": [],
   "source": []
  },
  {
   "cell_type": "code",
   "execution_count": null,
   "metadata": {},
   "outputs": [],
   "source": []
  }
 ],
 "metadata": {
  "kernelspec": {
   "display_name": "Python [conda env:machine-learning]",
   "language": "python",
   "name": "conda-env-machine-learning-py"
  },
  "language_info": {
   "codemirror_mode": {
    "name": "ipython",
    "version": 3
   },
   "file_extension": ".py",
   "mimetype": "text/x-python",
   "name": "python",
   "nbconvert_exporter": "python",
   "pygments_lexer": "ipython3",
   "version": "3.7.5"
  }
 },
 "nbformat": 4,
 "nbformat_minor": 4
}
