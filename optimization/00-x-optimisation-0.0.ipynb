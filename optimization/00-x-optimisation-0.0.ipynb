{
 "cells": [
  {
   "cell_type": "markdown",
   "metadata": {},
   "source": [
    "# Opt\n",
    "\n",
    "***Problem statement***\n",
    "\n",
    "*Given a fixed amount of avliable resources, optimise allocation to maximise returns across a set of products with variable returns*\n",
    "\n",
    "Refs:\n",
    "- https://towardsdatascience.com/optimization-with-python-how-to-make-the-most-amount-of-money-with-the-least-amount-of-risk-1ebebf5b2f29\n",
    "- https://colab.research.google.com/github/cvxgrp/cvx_short_course/blob/master/applications/portfolio_optimization.ipynb\n",
    "- https://insightr.wordpress.com/2017/08/27/pricing-optimization-how-to-find-the-price-that-maximizes-your-profit/\n",
    "- http://riskdatascience.net/usecases-auswahl/automated-portfolio-optimization-by-combining-ai-and-risk-methods/\n",
    "- https://towardsdatascience.com/automating-portfolio-optimization-using-python-9f344b9380b9\n",
    "- https://towardsdatascience.com/best-investment-portfolio-via-monte-carlo-simulation-in-python-53286f3fe93\n"
   ]
  },
  {
   "cell_type": "code",
   "execution_count": 19,
   "metadata": {},
   "outputs": [],
   "source": [
    "import numpy as np\n",
    "import pandas as pd\n",
    "import matplotlib.pyplot as plt\n",
    "import seaborn as sns\n",
    "sns.set()"
   ]
  },
  {
   "cell_type": "markdown",
   "metadata": {},
   "source": [
    "***Example 1***\n",
    "\n",
    "Following the Markowitz model, we can formulate our problem as:\n",
    "\n",
    "*Given a fixed quantity of money (say $1000), how much should we invest in each of the three stocks so as to (a) have a one month expected return of at least a given threshold, and (b) minimize the risk (variance) of the portfolio return.*\n",
    "\n",
    "Assumptions:\n",
    " - We have \\\\$100 to invest.\n",
    " - Stocks have a fixed starting price. \n",
    " - Time period is 1 month.\n",
    " - The monthly returns of a stock follow a normal distribution with average $mu$ and volatility $sigma$. \n",
    " \n",
    "***Stocks***"
   ]
  },
  {
   "cell_type": "code",
   "execution_count": 117,
   "metadata": {},
   "outputs": [
    {
     "data": {
      "text/html": [
       "<div>\n",
       "<style scoped>\n",
       "    .dataframe tbody tr th:only-of-type {\n",
       "        vertical-align: middle;\n",
       "    }\n",
       "\n",
       "    .dataframe tbody tr th {\n",
       "        vertical-align: top;\n",
       "    }\n",
       "\n",
       "    .dataframe thead th {\n",
       "        text-align: right;\n",
       "    }\n",
       "</style>\n",
       "<table border=\"1\" class=\"dataframe\">\n",
       "  <thead>\n",
       "    <tr style=\"text-align: right;\">\n",
       "      <th></th>\n",
       "      <th>n</th>\n",
       "      <th>name</th>\n",
       "      <th>price</th>\n",
       "      <th>mu</th>\n",
       "      <th>sigma</th>\n",
       "    </tr>\n",
       "  </thead>\n",
       "  <tbody>\n",
       "    <tr>\n",
       "      <th>0</th>\n",
       "      <td>0</td>\n",
       "      <td>jumanji inc</td>\n",
       "      <td>10</td>\n",
       "      <td>0.1</td>\n",
       "      <td>10</td>\n",
       "    </tr>\n",
       "    <tr>\n",
       "      <th>1</th>\n",
       "      <td>1</td>\n",
       "      <td>evolution ltd</td>\n",
       "      <td>20</td>\n",
       "      <td>0.2</td>\n",
       "      <td>20</td>\n",
       "    </tr>\n",
       "    <tr>\n",
       "      <th>2</th>\n",
       "      <td>2</td>\n",
       "      <td>Incredibles Inc</td>\n",
       "      <td>30</td>\n",
       "      <td>0.3</td>\n",
       "      <td>30</td>\n",
       "    </tr>\n",
       "  </tbody>\n",
       "</table>\n",
       "</div>"
      ],
      "text/plain": [
       "   n             name  price   mu  sigma\n",
       "0  0      jumanji inc     10  0.1     10\n",
       "1  1    evolution ltd     20  0.2     20\n",
       "2  2  Incredibles Inc     30  0.3     30"
      ]
     },
     "execution_count": 117,
     "metadata": {},
     "output_type": "execute_result"
    }
   ],
   "source": [
    "stocks = [ \n",
    "           {'n':0,\n",
    "            'name':'jumanji inc',\n",
    "            'price':10,\n",
    "            'mu':0.1,\n",
    "            'sigma':10},\n",
    "           {'n':1,\n",
    "            'name':'evolution ltd',\n",
    "            'price':20,\n",
    "            'mu':0.2,\n",
    "            'sigma':20},\n",
    "           {'n':2,\n",
    "            'name':'Incredibles Inc',\n",
    "            'price':30,\n",
    "            'mu':0.3,\n",
    "            'sigma':30}        \n",
    "        ]\n",
    "stocks_df = pd.DataFrame(stocks)\n",
    "stocks_df"
   ]
  },
  {
   "cell_type": "markdown",
   "metadata": {},
   "source": [
    "***portfolio***"
   ]
  },
  {
   "cell_type": "code",
   "execution_count": 202,
   "metadata": {},
   "outputs": [
    {
     "name": "stdout",
     "output_type": "stream",
     "text": [
      "9999/10000\r"
     ]
    }
   ],
   "source": [
    "# total number of stocks in universe\n",
    "N = len(stocks) \n",
    "\n",
    "# total to invest\n",
    "investment = 10**3 \n",
    "\n",
    "portfolios = list()\n",
    "pmax=1000\n",
    "for p in range(pmax):\n",
    "    print(f'{p}/{pmax}',end='\\r')\n",
    "    # random portfolio size\n",
    "    portfolio_size = np.random.randint(1, N+1) \n",
    "\n",
    "    # create a df portfolio of them\n",
    "    df = stocks_df.iloc[np.random.choice(N, portfolio_size, replace=False)].copy()\n",
    "\n",
    "    # sum numbers\n",
    "    while True:\n",
    "        df['value'] = np.random.random(portfolio_size)\n",
    "        T = df['value'].sum()\n",
    "        if T != 0: break\n",
    "\n",
    "    # calculate normalised value and number of shares \n",
    "    df['value'] *= investment/T\n",
    "    df['shares'] = df['value']/df['price']\n",
    "    \n",
    "    portfolios.append(df)"
   ]
  },
  {
   "cell_type": "code",
   "execution_count": 203,
   "metadata": {},
   "outputs": [
    {
     "data": {
      "text/html": [
       "<div>\n",
       "<style scoped>\n",
       "    .dataframe tbody tr th:only-of-type {\n",
       "        vertical-align: middle;\n",
       "    }\n",
       "\n",
       "    .dataframe tbody tr th {\n",
       "        vertical-align: top;\n",
       "    }\n",
       "\n",
       "    .dataframe thead th {\n",
       "        text-align: right;\n",
       "    }\n",
       "</style>\n",
       "<table border=\"1\" class=\"dataframe\">\n",
       "  <thead>\n",
       "    <tr style=\"text-align: right;\">\n",
       "      <th></th>\n",
       "      <th>n</th>\n",
       "      <th>name</th>\n",
       "      <th>price</th>\n",
       "      <th>mu</th>\n",
       "      <th>sigma</th>\n",
       "      <th>value</th>\n",
       "      <th>shares</th>\n",
       "    </tr>\n",
       "  </thead>\n",
       "  <tbody>\n",
       "    <tr>\n",
       "      <th>2</th>\n",
       "      <td>2</td>\n",
       "      <td>Incredibles Inc</td>\n",
       "      <td>30</td>\n",
       "      <td>0.3</td>\n",
       "      <td>30</td>\n",
       "      <td>1000.000000</td>\n",
       "      <td>33.333333</td>\n",
       "    </tr>\n",
       "    <tr>\n",
       "      <th>2</th>\n",
       "      <td>2</td>\n",
       "      <td>Incredibles Inc</td>\n",
       "      <td>30</td>\n",
       "      <td>0.3</td>\n",
       "      <td>30</td>\n",
       "      <td>1000.000000</td>\n",
       "      <td>33.333333</td>\n",
       "    </tr>\n",
       "    <tr>\n",
       "      <th>0</th>\n",
       "      <td>0</td>\n",
       "      <td>jumanji inc</td>\n",
       "      <td>10</td>\n",
       "      <td>0.1</td>\n",
       "      <td>10</td>\n",
       "      <td>158.007065</td>\n",
       "      <td>15.800707</td>\n",
       "    </tr>\n",
       "    <tr>\n",
       "      <th>1</th>\n",
       "      <td>1</td>\n",
       "      <td>evolution ltd</td>\n",
       "      <td>20</td>\n",
       "      <td>0.2</td>\n",
       "      <td>20</td>\n",
       "      <td>217.520833</td>\n",
       "      <td>10.876042</td>\n",
       "    </tr>\n",
       "    <tr>\n",
       "      <th>2</th>\n",
       "      <td>2</td>\n",
       "      <td>Incredibles Inc</td>\n",
       "      <td>30</td>\n",
       "      <td>0.3</td>\n",
       "      <td>30</td>\n",
       "      <td>624.472102</td>\n",
       "      <td>20.815737</td>\n",
       "    </tr>\n",
       "    <tr>\n",
       "      <th>...</th>\n",
       "      <td>...</td>\n",
       "      <td>...</td>\n",
       "      <td>...</td>\n",
       "      <td>...</td>\n",
       "      <td>...</td>\n",
       "      <td>...</td>\n",
       "      <td>...</td>\n",
       "    </tr>\n",
       "    <tr>\n",
       "      <th>1</th>\n",
       "      <td>1</td>\n",
       "      <td>evolution ltd</td>\n",
       "      <td>20</td>\n",
       "      <td>0.2</td>\n",
       "      <td>20</td>\n",
       "      <td>454.259567</td>\n",
       "      <td>22.712978</td>\n",
       "    </tr>\n",
       "    <tr>\n",
       "      <th>0</th>\n",
       "      <td>0</td>\n",
       "      <td>jumanji inc</td>\n",
       "      <td>10</td>\n",
       "      <td>0.1</td>\n",
       "      <td>10</td>\n",
       "      <td>53.221906</td>\n",
       "      <td>5.322191</td>\n",
       "    </tr>\n",
       "    <tr>\n",
       "      <th>0</th>\n",
       "      <td>0</td>\n",
       "      <td>jumanji inc</td>\n",
       "      <td>10</td>\n",
       "      <td>0.1</td>\n",
       "      <td>10</td>\n",
       "      <td>1000.000000</td>\n",
       "      <td>100.000000</td>\n",
       "    </tr>\n",
       "    <tr>\n",
       "      <th>2</th>\n",
       "      <td>2</td>\n",
       "      <td>Incredibles Inc</td>\n",
       "      <td>30</td>\n",
       "      <td>0.3</td>\n",
       "      <td>30</td>\n",
       "      <td>166.424490</td>\n",
       "      <td>5.547483</td>\n",
       "    </tr>\n",
       "    <tr>\n",
       "      <th>1</th>\n",
       "      <td>1</td>\n",
       "      <td>evolution ltd</td>\n",
       "      <td>20</td>\n",
       "      <td>0.2</td>\n",
       "      <td>20</td>\n",
       "      <td>833.575510</td>\n",
       "      <td>41.678775</td>\n",
       "    </tr>\n",
       "  </tbody>\n",
       "</table>\n",
       "<p>20099 rows × 7 columns</p>\n",
       "</div>"
      ],
      "text/plain": [
       "    n             name  price   mu  sigma        value      shares\n",
       "2   2  Incredibles Inc     30  0.3     30  1000.000000   33.333333\n",
       "2   2  Incredibles Inc     30  0.3     30  1000.000000   33.333333\n",
       "0   0      jumanji inc     10  0.1     10   158.007065   15.800707\n",
       "1   1    evolution ltd     20  0.2     20   217.520833   10.876042\n",
       "2   2  Incredibles Inc     30  0.3     30   624.472102   20.815737\n",
       ".. ..              ...    ...  ...    ...          ...         ...\n",
       "1   1    evolution ltd     20  0.2     20   454.259567   22.712978\n",
       "0   0      jumanji inc     10  0.1     10    53.221906    5.322191\n",
       "0   0      jumanji inc     10  0.1     10  1000.000000  100.000000\n",
       "2   2  Incredibles Inc     30  0.3     30   166.424490    5.547483\n",
       "1   1    evolution ltd     20  0.2     20   833.575510   41.678775\n",
       "\n",
       "[20099 rows x 7 columns]"
      ]
     },
     "execution_count": 203,
     "metadata": {},
     "output_type": "execute_result"
    }
   ],
   "source": [
    "pd.concat(portfolios)"
   ]
  },
  {
   "cell_type": "code",
   "execution_count": 182,
   "metadata": {},
   "outputs": [],
   "source": [
    "def simulate_stocks(stocks,periods=1):\n",
    "    returns = list()\n",
    "    costs = list()\n",
    "    for stock in stocks:\n",
    "        cost = periods * stock['price']\n",
    "        costs.append(cost)\n",
    "        ret = np.random.normal(loc=stock['mu'],scale=stock['sigma'],size=periods)\n",
    "        ret = ret.sum()\n",
    "        returns.append(ret)\n",
    "    return costs,returns"
   ]
  },
  {
   "cell_type": "code",
   "execution_count": 183,
   "metadata": {},
   "outputs": [
    {
     "data": {
      "text/plain": [
       "([10, 20, 30], [19.706251489203673, 19.889173236649842, -15.378606422976286])"
      ]
     },
     "execution_count": 183,
     "metadata": {},
     "output_type": "execute_result"
    }
   ],
   "source": [
    "simulate_stocks(stocks)"
   ]
  },
  {
   "cell_type": "code",
   "execution_count": 184,
   "metadata": {},
   "outputs": [
    {
     "data": {
      "text/html": [
       "<div>\n",
       "<style scoped>\n",
       "    .dataframe tbody tr th:only-of-type {\n",
       "        vertical-align: middle;\n",
       "    }\n",
       "\n",
       "    .dataframe tbody tr th {\n",
       "        vertical-align: top;\n",
       "    }\n",
       "\n",
       "    .dataframe thead th {\n",
       "        text-align: right;\n",
       "    }\n",
       "</style>\n",
       "<table border=\"1\" class=\"dataframe\">\n",
       "  <thead>\n",
       "    <tr style=\"text-align: right;\">\n",
       "      <th></th>\n",
       "      <th>n</th>\n",
       "      <th>name</th>\n",
       "      <th>price</th>\n",
       "      <th>mu</th>\n",
       "      <th>sigma</th>\n",
       "      <th>value</th>\n",
       "      <th>shares</th>\n",
       "    </tr>\n",
       "  </thead>\n",
       "  <tbody>\n",
       "    <tr>\n",
       "      <th>2</th>\n",
       "      <td>2</td>\n",
       "      <td>Incredibles Inc</td>\n",
       "      <td>30</td>\n",
       "      <td>0.3</td>\n",
       "      <td>30</td>\n",
       "      <td>1000.0</td>\n",
       "      <td>33.333333</td>\n",
       "    </tr>\n",
       "  </tbody>\n",
       "</table>\n",
       "</div>"
      ],
      "text/plain": [
       "   n             name  price   mu  sigma   value     shares\n",
       "2  2  Incredibles Inc     30  0.3     30  1000.0  33.333333"
      ]
     },
     "execution_count": 184,
     "metadata": {},
     "output_type": "execute_result"
    }
   ],
   "source": [
    "df"
   ]
  },
  {
   "cell_type": "code",
   "execution_count": 197,
   "metadata": {},
   "outputs": [
    {
     "data": {
      "text/plain": [
       "1101.169632498058"
      ]
     },
     "execution_count": 197,
     "metadata": {},
     "output_type": "execute_result"
    }
   ],
   "source": [
    "np.random.normal(0.3,30)*33.3"
   ]
  },
  {
   "cell_type": "code",
   "execution_count": null,
   "metadata": {},
   "outputs": [],
   "source": []
  },
  {
   "cell_type": "code",
   "execution_count": null,
   "metadata": {},
   "outputs": [],
   "source": []
  },
  {
   "cell_type": "code",
   "execution_count": null,
   "metadata": {},
   "outputs": [],
   "source": []
  },
  {
   "cell_type": "code",
   "execution_count": null,
   "metadata": {},
   "outputs": [],
   "source": [
    "# simple class to hold a portfolio of stocks\n",
    "\n",
    "\n",
    "    \n",
    "class Portfolio:\n",
    "    def __init__(self,unitsA,unitsB):\n",
    "        self.stockA = \n",
    "        \n",
    "        self.stocks = [self.stockA,self.stockB]"
   ]
  },
  {
   "cell_type": "code",
   "execution_count": null,
   "metadata": {},
   "outputs": [],
   "source": [
    "def simulate_unit(stock,plot=True):\n",
    "    \"\"\"Simulates 1 unit of stock for given time period in days\"\"\"\n",
    "    results = dict()\n",
    "    \n",
    "    days = 365\n",
    "    starting_price = stock['price']\n",
    "    price = starting_price\n",
    "    daily_price = list()\n",
    "    for i in np.random.normal(stock['mu'],stock['sigma'],size=days):\n",
    "        price = price*((i/100)+1)\n",
    "        daily_price.append(price)\n",
    "\n",
    "    profit = daily_price[-1]-starting_price\n",
    "    results['prices'] = daily_price\n",
    "    results['profit'] = profit=profit\n",
    "\n",
    "    if plot:\n",
    "        sns.lineplot(x=range(365),y=results['prices'], label=stock['name'])\n",
    "    return results"
   ]
  },
  {
   "cell_type": "markdown",
   "metadata": {},
   "source": [
    "***Scenario 1: invest equally amongst stocks ($500) each***"
   ]
  },
  {
   "cell_type": "code",
   "execution_count": null,
   "metadata": {},
   "outputs": [],
   "source": [
    "p1 = Portfolio(4,1)\n",
    "p1.stocks"
   ]
  },
  {
   "cell_type": "code",
   "execution_count": null,
   "metadata": {},
   "outputs": [],
   "source": [
    "results = list()\n",
    "for stock in p1.stocks:\n",
    "    for unit in range(stock['units']):\n",
    "        ui = simulate_unit(stock)\n",
    "        results.append(ui['profit'])\n",
    "        print(stock['name'],ui['profit'])\n",
    "print(np.sum(results))"
   ]
  },
  {
   "cell_type": "code",
   "execution_count": null,
   "metadata": {},
   "outputs": [],
   "source": [
    "1000+np.sum(results)"
   ]
  },
  {
   "cell_type": "code",
   "execution_count": null,
   "metadata": {},
   "outputs": [],
   "source": []
  },
  {
   "cell_type": "code",
   "execution_count": null,
   "metadata": {},
   "outputs": [],
   "source": []
  }
 ],
 "metadata": {
  "kernelspec": {
   "display_name": "Python [conda env:machine-learning]",
   "language": "python",
   "name": "conda-env-machine-learning-py"
  },
  "language_info": {
   "codemirror_mode": {
    "name": "ipython",
    "version": 3
   },
   "file_extension": ".py",
   "mimetype": "text/x-python",
   "name": "python",
   "nbconvert_exporter": "python",
   "pygments_lexer": "ipython3",
   "version": "3.7.5"
  }
 },
 "nbformat": 4,
 "nbformat_minor": 4
}
