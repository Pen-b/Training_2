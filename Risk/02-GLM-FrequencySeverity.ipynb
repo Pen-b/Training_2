{
 "cells": [
  {
   "cell_type": "markdown",
   "metadata": {},
   "source": [
    "<img src=\"glm-plot.png\" width=\"400\" height=\"400\">\n",
    "\n",
    "# GLM Deep Dive\n",
    "## Frequency Severity modelling\n",
    "\n",
    "This notebook is a deep dive into [General Linear Models (GLM's)](https://online.stat.psu.edu/stat504/node/216/) with a focus on the GLM's used in insurance risk modeling and pricing ([Yan, J. 2010)](https://www.casact.org/education/rpm/2012/handouts/Session_4738_presentation_1068_0.pdf).I have used GLM's before including: a Logistic Regression for landslide geo-hazards (([Postance, 2017](https://onlinelibrary.wiley.com/doi/full/10.1002/esp.4202))), for modeling extreme rainfall and developing catastrophe models ([Postance, 2017](https://scholar.google.co.uk/scholar?oi=bibs&cluster=13784644545966658880&btnI=1&hl=en)). The motivation for this post is to develop a deeper knowledge of the assumptions and application of the models and methods used by Insurance Actuaries, and to better understand how these compare to machine learning methods."
   ]
  },
  {
   "cell_type": "code",
   "execution_count": 1,
   "metadata": {},
   "outputs": [],
   "source": [
    "import urllib.request\n",
    "import shutil\n",
    "import pandas as pd\n",
    "import numpy as np\n",
    "\n",
    "from matplotlib import pyplot as plt\n",
    "import seaborn as sns\n",
    "from IPython.display import Image\n",
    "from IPython.core.display import HTML \n",
    "\n",
    "from sklearn.model_selection import train_test_split\n",
    "from sklearn import metrics\n",
    "from scipy import stats\n",
    "from patsy import dmatrices,dmatrix\n",
    "import statsmodels.api as sm\n",
    "import statsmodels.formula.api as smf"
   ]
  },
  {
   "cell_type": "markdown",
   "metadata": {},
   "source": [
    "### Case study dataset: motorcylce insurance\n",
    "The [Ohlsson dataset](https://cran.r-project.org/web/packages/insuranceData/insuranceData.pdf#Rfn.dataOhlsson.1) is from a former Swedish insurance company Wasa. The data includes aggregated  customer, policy and claims data for 64,548 motocycle coverages for the period 1994-1998. The data is used extensively in actuarial training and sylabus worldwide [Ohlsson, (2010)](https://www.springer.com/gp/book/9783642107900#aboutBook).\n",
    "\n",
    "\n",
    "Variables inclde:\n",
    " 1. (0:2) agarald - The owners age, between 0 and 99, a numeric vector.\n",
    " 1. (2:3) kon - The owners sex,factor with levels K (female) M (male).\n",
    " 1. (3:4) zon - Geographic zone numbered from 1 to 7, in a standard classification of all Swedish parishes, anumeric vector\n",
    " 1. (4:5) mcklass - MC class, a classification by the so called EV ratio, defined as (Engine power in kW x100) / (Vehicle weight in kg + 75), rounded to the nearest lower integer. The 75 kg represents the average driver weight. The EV ratios are divided into seven classes, a numeric vector\n",
    " 1. (5:7) fordald - Vehicle age, between 0 and 99, a numeric vector\n",
    " 1. (7:8) bonuskl - Bonus class, taking values from 1 to 7. \n",
    "  - A new driver starts with bonus class 1. For each claim free year the bonus class is increased by 1. \n",
    "  - After the first claim the bonus is decreased by  2. The  driver  can  not  return  to  class  7  with  less  than  6  consecutive  claim  free  years,  a numeric vector\n",
    " 1. (8:16) duration - the number of policy years, a numeric vector\n",
    " 1. (16:20) antskad - the number of claims, a numeric vector\n",
    " 1. (20:) skadkost - the claim cost, a numeric vector\n",
    "\n",
    "- *(n:n) are the columnar positions of the data*\n",
    "- *data avaliable [here](https://staff.math.su.se/esbj/GLMbook/case.html)*"
   ]
  },
  {
   "cell_type": "code",
   "execution_count": 2,
   "metadata": {},
   "outputs": [
    {
     "name": "stdout",
     "output_type": "stream",
     "text": [
      "Age          float64\n",
      "Sex         category\n",
      "Geog        category\n",
      "EV          category\n",
      "VehAge         int32\n",
      "NCD         category\n",
      "PYrs         float64\n",
      "Claims         int32\n",
      "Severity     float64\n",
      "Claim          int32\n",
      "dtype: object\n"
     ]
    }
   ],
   "source": [
    "# read or get file\n",
    "file_name='mccase.txt'\n",
    "\n",
    "try: \n",
    "    file = open(file_name,'r')\n",
    "except:\n",
    "    url = 'https://staff.math.su.se/esbj/GLMbook/mccase.txt'\n",
    "    # Download the file from `url` and save it locally under `file_name`:\n",
    "    with urllib.request.urlopen(url) as response, open(file_name, 'wb') as out_file:\n",
    "        shutil.copyfileobj(response, out_file)\n",
    "    file = open(file_name,'r')\n",
    "\n",
    "# load file\n",
    "dat = list()\n",
    "for line in file.readlines():\n",
    "    dat.append([line[:2],line[2:3],line[3:4],line[4:5],line[5:7],line[7:8],line[8:16],line[16:20],str(line[20:]).replace('\\n','')])\n",
    "file.close()\n",
    "df = pd.DataFrame(dat,columns=['Age','Sex','Geog','EV','VehAge','NCD','PYrs','Claims','Severity'])\n",
    "df = df.astype({'Age':float,'Sex':'category','Geog':'category','EV':'category',\n",
    "                'VehAge':int,'NCD':'category','PYrs':float,'Claims':int,'Severity':float}).copy()\n",
    "\n",
    "# PYrs is the fraction of compelete policy years \n",
    "# there are some policies with 0.0 duration (1/365 = 0.00274 = 1 day)\n",
    "# set these to 1 day\n",
    "df.loc[df['PYrs']==0.0,'PYrs'] = 1.0/365.0\n",
    "\n",
    "# single claim frequency indicator\n",
    "df['Claim'] = (df['Claims']>=1).astype(int)\n",
    "\n",
    "print(df.dtypes)"
   ]
  },
  {
   "cell_type": "markdown",
   "metadata": {},
   "source": [
    "### EDA\n",
    "\n",
    "- low number of claims and frequency (1% freq)"
   ]
  },
  {
   "cell_type": "code",
   "execution_count": 3,
   "metadata": {},
   "outputs": [
    {
     "data": {
      "text/html": [
       "<div>\n",
       "<style scoped>\n",
       "    .dataframe tbody tr th:only-of-type {\n",
       "        vertical-align: middle;\n",
       "    }\n",
       "\n",
       "    .dataframe tbody tr th {\n",
       "        vertical-align: top;\n",
       "    }\n",
       "\n",
       "    .dataframe thead th {\n",
       "        text-align: right;\n",
       "    }\n",
       "</style>\n",
       "<table border=\"1\" class=\"dataframe\">\n",
       "  <thead>\n",
       "    <tr style=\"text-align: right;\">\n",
       "      <th></th>\n",
       "      <th>Age</th>\n",
       "      <th>VehAge</th>\n",
       "      <th>PYrs</th>\n",
       "      <th>Claims</th>\n",
       "      <th>Severity</th>\n",
       "      <th>Claim</th>\n",
       "    </tr>\n",
       "  </thead>\n",
       "  <tbody>\n",
       "    <tr>\n",
       "      <th>count</th>\n",
       "      <td>64548.000000</td>\n",
       "      <td>64548.000000</td>\n",
       "      <td>64548.000000</td>\n",
       "      <td>64548.000000</td>\n",
       "      <td>64548.000000</td>\n",
       "      <td>64548.000000</td>\n",
       "    </tr>\n",
       "    <tr>\n",
       "      <th>mean</th>\n",
       "      <td>42.416062</td>\n",
       "      <td>12.540063</td>\n",
       "      <td>1.010759</td>\n",
       "      <td>0.010798</td>\n",
       "      <td>264.017785</td>\n",
       "      <td>0.010380</td>\n",
       "    </tr>\n",
       "    <tr>\n",
       "      <th>std</th>\n",
       "      <td>12.980960</td>\n",
       "      <td>9.727445</td>\n",
       "      <td>1.307356</td>\n",
       "      <td>0.107323</td>\n",
       "      <td>4694.693604</td>\n",
       "      <td>0.101352</td>\n",
       "    </tr>\n",
       "    <tr>\n",
       "      <th>min</th>\n",
       "      <td>0.000000</td>\n",
       "      <td>0.000000</td>\n",
       "      <td>0.002740</td>\n",
       "      <td>0.000000</td>\n",
       "      <td>0.000000</td>\n",
       "      <td>0.000000</td>\n",
       "    </tr>\n",
       "    <tr>\n",
       "      <th>25%</th>\n",
       "      <td>31.000000</td>\n",
       "      <td>5.000000</td>\n",
       "      <td>0.463014</td>\n",
       "      <td>0.000000</td>\n",
       "      <td>0.000000</td>\n",
       "      <td>0.000000</td>\n",
       "    </tr>\n",
       "    <tr>\n",
       "      <th>50%</th>\n",
       "      <td>44.000000</td>\n",
       "      <td>12.000000</td>\n",
       "      <td>0.827397</td>\n",
       "      <td>0.000000</td>\n",
       "      <td>0.000000</td>\n",
       "      <td>0.000000</td>\n",
       "    </tr>\n",
       "    <tr>\n",
       "      <th>75%</th>\n",
       "      <td>52.000000</td>\n",
       "      <td>16.000000</td>\n",
       "      <td>1.000000</td>\n",
       "      <td>0.000000</td>\n",
       "      <td>0.000000</td>\n",
       "      <td>0.000000</td>\n",
       "    </tr>\n",
       "    <tr>\n",
       "      <th>max</th>\n",
       "      <td>92.000000</td>\n",
       "      <td>99.000000</td>\n",
       "      <td>31.339730</td>\n",
       "      <td>2.000000</td>\n",
       "      <td>365347.000000</td>\n",
       "      <td>1.000000</td>\n",
       "    </tr>\n",
       "  </tbody>\n",
       "</table>\n",
       "</div>"
      ],
      "text/plain": [
       "                Age        VehAge          PYrs        Claims       Severity  \\\n",
       "count  64548.000000  64548.000000  64548.000000  64548.000000   64548.000000   \n",
       "mean      42.416062     12.540063      1.010759      0.010798     264.017785   \n",
       "std       12.980960      9.727445      1.307356      0.107323    4694.693604   \n",
       "min        0.000000      0.000000      0.002740      0.000000       0.000000   \n",
       "25%       31.000000      5.000000      0.463014      0.000000       0.000000   \n",
       "50%       44.000000     12.000000      0.827397      0.000000       0.000000   \n",
       "75%       52.000000     16.000000      1.000000      0.000000       0.000000   \n",
       "max       92.000000     99.000000     31.339730      2.000000  365347.000000   \n",
       "\n",
       "              Claim  \n",
       "count  64548.000000  \n",
       "mean       0.010380  \n",
       "std        0.101352  \n",
       "min        0.000000  \n",
       "25%        0.000000  \n",
       "50%        0.000000  \n",
       "75%        0.000000  \n",
       "max        1.000000  "
      ]
     },
     "execution_count": 3,
     "metadata": {},
     "output_type": "execute_result"
    }
   ],
   "source": [
    "df.describe()"
   ]
  },
  {
   "cell_type": "code",
   "execution_count": 4,
   "metadata": {},
   "outputs": [
    {
     "data": {
      "text/html": [
       "<div>\n",
       "<style scoped>\n",
       "    .dataframe tbody tr th:only-of-type {\n",
       "        vertical-align: middle;\n",
       "    }\n",
       "\n",
       "    .dataframe tbody tr th {\n",
       "        vertical-align: top;\n",
       "    }\n",
       "\n",
       "    .dataframe thead th {\n",
       "        text-align: right;\n",
       "    }\n",
       "</style>\n",
       "<table border=\"1\" class=\"dataframe\">\n",
       "  <thead>\n",
       "    <tr style=\"text-align: right;\">\n",
       "      <th></th>\n",
       "      <th>Age</th>\n",
       "      <th>VehAge</th>\n",
       "      <th>PYrs</th>\n",
       "      <th>Claims</th>\n",
       "      <th>Severity</th>\n",
       "      <th>Claim</th>\n",
       "    </tr>\n",
       "  </thead>\n",
       "  <tbody>\n",
       "    <tr>\n",
       "      <th>count</th>\n",
       "      <td>670.000000</td>\n",
       "      <td>670.000000</td>\n",
       "      <td>670.000000</td>\n",
       "      <td>670.000000</td>\n",
       "      <td>670.000000</td>\n",
       "      <td>670.0</td>\n",
       "    </tr>\n",
       "    <tr>\n",
       "      <th>mean</th>\n",
       "      <td>35.476119</td>\n",
       "      <td>7.965672</td>\n",
       "      <td>1.579415</td>\n",
       "      <td>1.040299</td>\n",
       "      <td>25435.552239</td>\n",
       "      <td>1.0</td>\n",
       "    </tr>\n",
       "    <tr>\n",
       "      <th>std</th>\n",
       "      <td>12.851056</td>\n",
       "      <td>6.768896</td>\n",
       "      <td>2.983317</td>\n",
       "      <td>0.196805</td>\n",
       "      <td>38539.415033</td>\n",
       "      <td>0.0</td>\n",
       "    </tr>\n",
       "    <tr>\n",
       "      <th>min</th>\n",
       "      <td>16.000000</td>\n",
       "      <td>0.000000</td>\n",
       "      <td>0.002740</td>\n",
       "      <td>1.000000</td>\n",
       "      <td>16.000000</td>\n",
       "      <td>1.0</td>\n",
       "    </tr>\n",
       "    <tr>\n",
       "      <th>25%</th>\n",
       "      <td>25.000000</td>\n",
       "      <td>2.000000</td>\n",
       "      <td>0.430137</td>\n",
       "      <td>1.000000</td>\n",
       "      <td>3031.500000</td>\n",
       "      <td>1.0</td>\n",
       "    </tr>\n",
       "    <tr>\n",
       "      <th>50%</th>\n",
       "      <td>30.000000</td>\n",
       "      <td>7.000000</td>\n",
       "      <td>0.790411</td>\n",
       "      <td>1.000000</td>\n",
       "      <td>9015.000000</td>\n",
       "      <td>1.0</td>\n",
       "    </tr>\n",
       "    <tr>\n",
       "      <th>75%</th>\n",
       "      <td>47.000000</td>\n",
       "      <td>12.000000</td>\n",
       "      <td>1.497945</td>\n",
       "      <td>1.000000</td>\n",
       "      <td>29304.500000</td>\n",
       "      <td>1.0</td>\n",
       "    </tr>\n",
       "    <tr>\n",
       "      <th>max</th>\n",
       "      <td>68.000000</td>\n",
       "      <td>55.000000</td>\n",
       "      <td>31.167120</td>\n",
       "      <td>2.000000</td>\n",
       "      <td>365347.000000</td>\n",
       "      <td>1.0</td>\n",
       "    </tr>\n",
       "  </tbody>\n",
       "</table>\n",
       "</div>"
      ],
      "text/plain": [
       "              Age      VehAge        PYrs      Claims       Severity  Claim\n",
       "count  670.000000  670.000000  670.000000  670.000000     670.000000  670.0\n",
       "mean    35.476119    7.965672    1.579415    1.040299   25435.552239    1.0\n",
       "std     12.851056    6.768896    2.983317    0.196805   38539.415033    0.0\n",
       "min     16.000000    0.000000    0.002740    1.000000      16.000000    1.0\n",
       "25%     25.000000    2.000000    0.430137    1.000000    3031.500000    1.0\n",
       "50%     30.000000    7.000000    0.790411    1.000000    9015.000000    1.0\n",
       "75%     47.000000   12.000000    1.497945    1.000000   29304.500000    1.0\n",
       "max     68.000000   55.000000   31.167120    2.000000  365347.000000    1.0"
      ]
     },
     "execution_count": 4,
     "metadata": {},
     "output_type": "execute_result"
    }
   ],
   "source": [
    "claims = df.loc[df['Claims']!=0]\n",
    "claims.describe()"
   ]
  },
  {
   "cell_type": "code",
   "execution_count": 5,
   "metadata": {},
   "outputs": [
    {
     "data": {
      "image/png": "[encoded data removed]",
      "text/plain": [
       "<Figure size 864x864 with 12 Axes>"
      ]
     },
     "metadata": {
      "needs_background": "light"
     },
     "output_type": "display_data"
    }
   ],
   "source": [
    "fig,axs=plt.subplots(3,4,figsize=(12,12),sharey=False)\n",
    "\n",
    "# claim proportions by category\n",
    "for ax,feat in zip(axs.flatten()[:4],df.select_dtypes(include='category').columns):\n",
    "    ((pd.crosstab(df['Claim'],df[feat])) /\n",
    "                    (pd.crosstab(df['Claim'],df[feat]).sum())).T.plot.bar(stacked=True,ax=ax,legend=False,title=None)\n",
    "    ax.set_title(feat)\n",
    "    ax.set_ylim(0.7,1)\n",
    "    ax.set_yticks([])\n",
    "axs[0,0].set_yticks(np.arange(0.7,1.0,0.1))\n",
    "axs[0,0].set_ylabel('Claim porportion per group')\n",
    "\n",
    "# severity by category\n",
    "for col,ax in zip(df.select_dtypes(include='category').columns,axs.flatten()[4:]):\n",
    "    sns.boxplot(x=col,y='Severity',data=claims,ax=ax)\n",
    "    ax.set_yticks([])\n",
    "    ax.set_ylabel('')\n",
    "\n",
    "# severity by continuous\n",
    "for col,ax in zip(['Age','VehAge','PYrs'],axs.flatten()[8:]):\n",
    "    sns.scatterplot(x=col,y='Severity',data=claims,ax=ax)\n",
    "    ax.set_yticks([])\n",
    "    ax.set_ylabel('')\n",
    "\n",
    "for ax in axs[1:3,0]:\n",
    "    ax.set_ylabel('Severity')\n",
    "    ax.set_yticks(np.arange(0,4e5,5e4))"
   ]
  },
  {
   "cell_type": "markdown",
   "metadata": {},
   "source": [
    "### Modelling\n",
    "- StatsModels (SM) uses patsy [formula notation](https://www.statsmodels.org/devel/example_formulas.html).\n",
    "- This includes: [notation for categorical variables ](https://www.statsmodels.org/devel/contrasts.html), setting [reference/base levels](https://stackoverflow.com/a/22439820/4538066), [encoding options](https://www.statsmodels.org/devel/contrasts.html), and [operators](https://www.statsmodels.org/devel/example_formulas.html#categorical-variables)."
   ]
  },
  {
   "cell_type": "code",
   "execution_count": 6,
   "metadata": {},
   "outputs": [],
   "source": [
    "# train-test splits stratifies on claims\n",
    "# take copies to overcome chained assignment\n",
    "train,test = train_test_split(df,test_size=0.3,random_state=1990,stratify=df['Claim'])\n",
    "train = df.loc[train.index].copy()\n",
    "test = df.loc[test.index].copy()"
   ]
  },
  {
   "cell_type": "markdown",
   "metadata": {},
   "source": [
    "### $Claim Frequency$\n",
    "\n",
    "For predicting the occurence of a single claim (i.e. binary classification) one can use the Binomial distribution (a.k.a Bernoulli trial or coin-toss experiment).\n",
    "\n",
    "When predicting claim counts or frequency, $Y$, a model that prodices Poisson distributed outputs is required. For instance, a Poisson model is suitable for estimating the number of insurance claims per policy per year, or to estimate the number of car crashes per month. \n",
    "\n",
    "The key components and assumptions of a Poisson distributed process are: \n",
    " 1. event occurence is independant of other events. \n",
    " 1. events occur within a fixed period of time.\n",
    " 1. the mean a variance of the distribution are equal e.g. $mu(X) = Var(X) = λ$\n",
    " \n",
    "[*STAT 504: Poisson Distribution*](https://online.stat.psu.edu/stat504/node/57/)\n",
    "\n",
    "\n",
    "If the mean and variance are unequal the distribution is said to be over-disperesed (var > mean) or under-dispersed (var < mean). Over-dispersion commonly arises in data where there are large number of zero's (a.k.a [zero-inflated](https://en.wikipedia.org/wiki/Zero-inflated_model)).\n",
    "\n",
    "In the case of zero-inflated data, it is \"*A sound practice is to estimate both Poisson and negative binomial models.*\" [*Cameron, 2013*](http://faculty.econ.ucdavis.edu/faculty/cameron/racd2/). Also see this practical example for [beverage consumption in pdummy_xyhon](https://dius.com.au/2017/08/03/using-statsmodels-glms-to-model-beverage-consumption/)\n",
    "\n",
    "In GLM's, link-functions are applied in order to make the mean outcome (prediction) fit to some linear model of input variables from other distributions. \"*A natural fit for count variables that follow the Poisson or negative binomial distribution is the log link. The log link exponentiates the linear predictors. It does not log transform the outcome variable.*\" - [*Count Models: Understanding the Log Link Function,TAF*](https://www.theanalysisfactor.com/count-models-understanding-the-log-link-function/)\n",
    "\n",
    "For more information on link-functions see also [here](https://bookdown.org/castillo_sam_d/Exam-PA-Study-Manual/glms-for-classification.html#link-functions).\n",
    "\n",
    "![link functions](https://i0.wp.com/www.theanalysisfactor.com/wp-content/uploads/2016/12/StataCombos-CM2-Blog-JM.png?w=535&ssl=1)"
   ]
  },
  {
   "cell_type": "markdown",
   "metadata": {},
   "source": [
    "Lastly, for any form of count prediction model one can also set an offset or exposure. \n",
    "\n",
    "An offset, if it is known, is applied in order to account for the relative differences in exposure time for of a set of inputs. For example, in insurance claims we might expect to see more claims on an account with 20 years worth of annual policies compared to an account with a single policy year. Offsets account for the relative exposure|surface area|population size|etc and is akin to the relative frequency of occurence ($Claims/years$). See these intuititve SO answers [here](https://stats.stackexchange.com/questions/232666/should-i-use-an-offset-for-my-poisson-glm), [here](https://github.com/statsmodels/statsmodels/issues/1486#issuecomment-40945831), and [here](https://stats.stackexchange.com/questions/25415/using-offset-in-binomial-model-to-account-for-increased-numbers-of-patients)."
   ]
  },
  {
   "cell_type": "code",
   "execution_count": 7,
   "metadata": {},
   "outputs": [
    {
     "name": "stdout",
     "output_type": "stream",
     "text": [
      "mu =  0.0108\n",
      "var = 0.0115\n"
     ]
    }
   ],
   "source": [
    "# Mean & Variance\n",
    "mu = df.Claims.mean()\n",
    "var = np.mean([abs(x - mu)**2 for x in df.Claims])\n",
    "print(f'mu =  {mu:.4f}\\nvar = {var:.4f}')"
   ]
  },
  {
   "cell_type": "markdown",
   "metadata": {},
   "source": [
    "Here we observe an over-dispersed zero-inflated case as the variance of claim occurence ($v=0.0115$) exceeds its mean ($mu=0.0108$).\n",
    "\n",
    "As suggested in Cameron (2013) we should therefore try both $Poisson$ and $Negative Binomial$ distributions.\n",
    "\n",
    "For good measure, and to illustrate its relationship, lets also include a $Binomial$ distribution model. The Binomial model with a logit link is equivalent to a binary Logistic Regression model [[a](https://www.researchgate.net/post/what_is_the_difference_between_running_a_binary_logistic_regression_and_generalised_linear_model),[b](https://towardsdatascience.com/the-binomial-regression-model-everything-you-need-to-know-5216f1a483d3)]. Modelling A binary outcome is not a totally unreasonable approach in this case given that the number of accounts with claims $n>1$ is low (22) and as the $Binomial$ distribution extends to a $Poisson$ when trials $N>20$ is high and $p<0.05$ is low (see [wiki](https://en.wikipedia.org/wiki/Poisson_distribution#Related_distributions), [here](https://math.stackexchange.com/questions/1050184/difference-between-poisson-and-binomial-distributions) and [here](https://www.itl.nist.gov/div898/handbook/pmc/section3/pmc331.htm)).\n",
    "\n",
    "However, there is one change we need to make with the Binomial model. That is to alter the way we handle exposure. A few hours of research on the matter led me down the rabbit hole of conflicting ideas in textbooks, papers [[i](https://doi.org/10.1093/ije/dyu029)] and debates on CrossValidated [[a](https://stats.stackexchange.com/questions/246318/difference-between-offset-and-weights),[b](https://stats.stackexchange.com/questions/25415/using-offset-in-binomial-model-to-account-for-increased-numbers-of-patients/35478)]. In contrast to poisson and neg binomial there is no way to add a constant term or offset in the binomial formulation [(see here)](https://stats.stackexchange.com/a/35478/100439). Rather it is appropriate to either: [include the exposure as a predictor variable](https://stats.stackexchange.com/a/35436/100439), or to use weights for each observation (see [here](https://stackoverflow.com/a/62798889/4538066) and the [statsmodels guidance on methods for GLM with weights and observed freqeuncies](https://www.statsmodels.org/stable/generated/statsmodels.genmod.generalized_linear_model.GLM.html#statsmodels.genmod.generalized_linear_model.GLM). I opted for the weighted GLM. The model output of the binomial GLM is the probability of at least 1 claim occuring weighted by the observation time $t=Pyrs$. Note there is no equivalent setting on the predict side, the predictions assume a discrete equivalent time exposure t=1.\n",
    "\n",
    "In addition it is common in insurance risk models to use a [quasi-poisson or zero inflated poisson (ZIP)](https://towardsdatascience.com/an-illustrated-guide-to-the-zero-inflated-poisson-model-b22833343057) model in scenarios with high instances of zero claims. In data science and machine learning we would refer to this as an unbalanced learning problem (see bootstrap, cross validation, SMOTE). The ZIP model combines:\n",
    " - a binomial model to determine the likelihood of one or more claims occuring (0/1)\n",
    " - a negative binomial or poisson to estimate the number of claims (0...n)\n",
    " - a severity model to estimate the avg size of each claim (1...n)"
   ]
  },
  {
   "cell_type": "code",
   "execution_count": 8,
   "metadata": {},
   "outputs": [],
   "source": [
    "# # examples of formula notation in smf\n",
    "# print(' + '.join(train.columns))\n",
    "# expr = \"Claims ~ Age+C(Sex)+C(Geog, Treatment(reference=3))+EV+VehAge+NCD\"\n",
    "\n",
    "# including PYrs as parameter commented out in glm()\n",
    "expr = \"Claims ~ Age + Sex + Geog + EV + VehAge + NCD \" # + np.log(PYrs)\n",
    "\n",
    "FreqPoisson = smf.glm(formula=expr,\n",
    "                      data=train,\n",
    "                      offset=np.log(train['PYrs']),\n",
    "                      family=sm.families.Poisson(link=sm.families.links.log())).fit()\n",
    "\n",
    "FreqNegBin = smf.glm(formula=expr,\n",
    "                      data=train,\n",
    "                      offset=np.log(train['PYrs']),\n",
    "                      family=sm.families.NegativeBinomial(link=sm.families.links.log())).fit()\n",
    "\n",
    "# uses the binary \"Claim\" field as target\n",
    "# offset is Pyrs (Years complete 0.0...n)\n",
    "# aka a binary logistic regression\n",
    "FreqBinom = smf.glm(formula=\"Claim ~ Age + Sex + Geog + EV + VehAge + NCD \" ,\n",
    "                    data=train,\n",
    "                    freq_weights=train['PYrs'],\n",
    "                    family=sm.families.Binomial(link=sm.families.links.logit())).fit()"
   ]
  },
  {
   "cell_type": "markdown",
   "metadata": {},
   "source": [
    "### Model coefficients"
   ]
  },
  {
   "cell_type": "markdown",
   "metadata": {},
   "source": [
    "***Poisson Parameters***\n",
    "- [Poisson GLM params](https://stackoverflow.com/questions/14923684/interpreting-the-output-of-glm-for-poisson-regression)\n",
    "- [Find lambda](https://stackoverflow.com/questions/25828184/fitting-to-poisson-histogram)\n",
    "\n",
    "We can derive the model output using predict or the raw coefficients. Sampling the poisson rate ($lambda$) illustrates the difference in predicted rates for the intercept and for a when a driver is male. "
   ]
  },
  {
   "cell_type": "code",
   "execution_count": 12,
   "metadata": {},
   "outputs": [
    {
     "data": {
      "text/html": [
       "<table class=\"simpletable\">\n",
       "<caption>Generalized Linear Model Regression Results</caption>\n",
       "<tr>\n",
       "  <th>Dep. Variable:</th>        <td>Claims</td>      <th>  No. Observations:  </th>  <td> 45183</td> \n",
       "</tr>\n",
       "<tr>\n",
       "  <th>Model:</th>                  <td>GLM</td>       <th>  Df Residuals:      </th>  <td> 45161</td> \n",
       "</tr>\n",
       "<tr>\n",
       "  <th>Model Family:</th>         <td>Poisson</td>     <th>  Df Model:          </th>  <td>    21</td> \n",
       "</tr>\n",
       "<tr>\n",
       "  <th>Link Function:</th>          <td>log</td>       <th>  Scale:             </th> <td>  1.0000</td>\n",
       "</tr>\n",
       "<tr>\n",
       "  <th>Method:</th>                <td>IRLS</td>       <th>  Log-Likelihood:    </th> <td> -2541.7</td>\n",
       "</tr>\n",
       "<tr>\n",
       "  <th>Date:</th>            <td>Sun, 11 Oct 2020</td> <th>  Deviance:          </th> <td>  4135.6</td>\n",
       "</tr>\n",
       "<tr>\n",
       "  <th>Time:</th>                <td>19:29:48</td>     <th>  Pearson chi2:      </th> <td>1.83e+05</td>\n",
       "</tr>\n",
       "<tr>\n",
       "  <th>No. Iterations:</th>         <td>22</td>        <th>                     </th>     <td> </td>   \n",
       "</tr>\n",
       "<tr>\n",
       "  <th>Covariance Type:</th>     <td>nonrobust</td>    <th>                     </th>     <td> </td>   \n",
       "</tr>\n",
       "</table>\n",
       "<table class=\"simpletable\">\n",
       "<tr>\n",
       "      <td></td>         <th>coef</th>     <th>std err</th>      <th>z</th>      <th>P>|z|</th>  <th>[0.025</th>    <th>0.975]</th>  \n",
       "</tr>\n",
       "<tr>\n",
       "  <th>Intercept</th> <td>   -0.9052</td> <td>    0.284</td> <td>   -3.184</td> <td> 0.001</td> <td>   -1.462</td> <td>   -0.348</td>\n",
       "</tr>\n",
       "<tr>\n",
       "  <th>Sex[T.M]</th>  <td>    0.3881</td> <td>    0.162</td> <td>    2.392</td> <td> 0.017</td> <td>    0.070</td> <td>    0.706</td>\n",
       "</tr>\n",
       "<tr>\n",
       "  <th>Geog[T.2]</th> <td>   -0.6478</td> <td>    0.135</td> <td>   -4.811</td> <td> 0.000</td> <td>   -0.912</td> <td>   -0.384</td>\n",
       "</tr>\n",
       "<tr>\n",
       "  <th>Geog[T.3]</th> <td>   -0.9043</td> <td>    0.137</td> <td>   -6.606</td> <td> 0.000</td> <td>   -1.173</td> <td>   -0.636</td>\n",
       "</tr>\n",
       "<tr>\n",
       "  <th>Geog[T.4]</th> <td>   -1.3826</td> <td>    0.123</td> <td>  -11.254</td> <td> 0.000</td> <td>   -1.623</td> <td>   -1.142</td>\n",
       "</tr>\n",
       "<tr>\n",
       "  <th>Geog[T.5]</th> <td>   -1.5218</td> <td>    0.389</td> <td>   -3.912</td> <td> 0.000</td> <td>   -2.284</td> <td>   -0.759</td>\n",
       "</tr>\n",
       "<tr>\n",
       "  <th>Geog[T.6]</th> <td>   -1.4581</td> <td>    0.315</td> <td>   -4.623</td> <td> 0.000</td> <td>   -2.076</td> <td>   -0.840</td>\n",
       "</tr>\n",
       "<tr>\n",
       "  <th>Geog[T.7]</th> <td>  -22.0308</td> <td> 1.77e+04</td> <td>   -0.001</td> <td> 0.999</td> <td>-3.47e+04</td> <td> 3.46e+04</td>\n",
       "</tr>\n",
       "<tr>\n",
       "  <th>EV[T.2]</th>   <td>    0.0923</td> <td>    0.237</td> <td>    0.389</td> <td> 0.697</td> <td>   -0.372</td> <td>    0.557</td>\n",
       "</tr>\n",
       "<tr>\n",
       "  <th>EV[T.3]</th>   <td>   -0.4219</td> <td>    0.199</td> <td>   -2.115</td> <td> 0.034</td> <td>   -0.813</td> <td>   -0.031</td>\n",
       "</tr>\n",
       "<tr>\n",
       "  <th>EV[T.4]</th>   <td>   -0.3602</td> <td>    0.215</td> <td>   -1.678</td> <td> 0.093</td> <td>   -0.781</td> <td>    0.061</td>\n",
       "</tr>\n",
       "<tr>\n",
       "  <th>EV[T.5]</th>   <td>   -0.0334</td> <td>    0.204</td> <td>   -0.164</td> <td> 0.870</td> <td>   -0.433</td> <td>    0.367</td>\n",
       "</tr>\n",
       "<tr>\n",
       "  <th>EV[T.6]</th>   <td>    0.4132</td> <td>    0.202</td> <td>    2.042</td> <td> 0.041</td> <td>    0.017</td> <td>    0.810</td>\n",
       "</tr>\n",
       "<tr>\n",
       "  <th>EV[T.7]</th>   <td>    0.3316</td> <td>    0.483</td> <td>    0.687</td> <td> 0.492</td> <td>   -0.614</td> <td>    1.278</td>\n",
       "</tr>\n",
       "<tr>\n",
       "  <th>NCD[T.2]</th>  <td>   -0.1441</td> <td>    0.181</td> <td>   -0.795</td> <td> 0.426</td> <td>   -0.499</td> <td>    0.211</td>\n",
       "</tr>\n",
       "<tr>\n",
       "  <th>NCD[T.3]</th>  <td>    0.0184</td> <td>    0.192</td> <td>    0.096</td> <td> 0.923</td> <td>   -0.357</td> <td>    0.394</td>\n",
       "</tr>\n",
       "<tr>\n",
       "  <th>NCD[T.4]</th>  <td>    0.3047</td> <td>    0.184</td> <td>    1.660</td> <td> 0.097</td> <td>   -0.055</td> <td>    0.664</td>\n",
       "</tr>\n",
       "<tr>\n",
       "  <th>NCD[T.5]</th>  <td>   -0.0535</td> <td>    0.215</td> <td>   -0.249</td> <td> 0.804</td> <td>   -0.475</td> <td>    0.368</td>\n",
       "</tr>\n",
       "<tr>\n",
       "  <th>NCD[T.6]</th>  <td>    0.0967</td> <td>    0.206</td> <td>    0.470</td> <td> 0.639</td> <td>   -0.307</td> <td>    0.501</td>\n",
       "</tr>\n",
       "<tr>\n",
       "  <th>NCD[T.7]</th>  <td>    0.1835</td> <td>    0.137</td> <td>    1.334</td> <td> 0.182</td> <td>   -0.086</td> <td>    0.453</td>\n",
       "</tr>\n",
       "<tr>\n",
       "  <th>Age</th>       <td>   -0.0580</td> <td>    0.004</td> <td>  -13.633</td> <td> 0.000</td> <td>   -0.066</td> <td>   -0.050</td>\n",
       "</tr>\n",
       "<tr>\n",
       "  <th>VehAge</th>    <td>   -0.0762</td> <td>    0.008</td> <td>   -9.781</td> <td> 0.000</td> <td>   -0.091</td> <td>   -0.061</td>\n",
       "</tr>\n",
       "</table>"
      ],
      "text/plain": [
       "<class 'statsmodels.iolib.summary.Summary'>\n",
       "\"\"\"\n",
       "                 Generalized Linear Model Regression Results                  \n",
       "==============================================================================\n",
       "Dep. Variable:                 Claims   No. Observations:                45183\n",
       "Model:                            GLM   Df Residuals:                    45161\n",
       "Model Family:                 Poisson   Df Model:                           21\n",
       "Link Function:                    log   Scale:                          1.0000\n",
       "Method:                          IRLS   Log-Likelihood:                -2541.7\n",
       "Date:                Sun, 11 Oct 2020   Deviance:                       4135.6\n",
       "Time:                        19:29:48   Pearson chi2:                 1.83e+05\n",
       "No. Iterations:                    22                                         \n",
       "Covariance Type:            nonrobust                                         \n",
       "==============================================================================\n",
       "                 coef    std err          z      P>|z|      [0.025      0.975]\n",
       "------------------------------------------------------------------------------\n",
       "Intercept     -0.9052      0.284     -3.184      0.001      -1.462      -0.348\n",
       "Sex[T.M]       0.3881      0.162      2.392      0.017       0.070       0.706\n",
       "Geog[T.2]     -0.6478      0.135     -4.811      0.000      -0.912      -0.384\n",
       "Geog[T.3]     -0.9043      0.137     -6.606      0.000      -1.173      -0.636\n",
       "Geog[T.4]     -1.3826      0.123    -11.254      0.000      -1.623      -1.142\n",
       "Geog[T.5]     -1.5218      0.389     -3.912      0.000      -2.284      -0.759\n",
       "Geog[T.6]     -1.4581      0.315     -4.623      0.000      -2.076      -0.840\n",
       "Geog[T.7]    -22.0308   1.77e+04     -0.001      0.999   -3.47e+04    3.46e+04\n",
       "EV[T.2]        0.0923      0.237      0.389      0.697      -0.372       0.557\n",
       "EV[T.3]       -0.4219      0.199     -2.115      0.034      -0.813      -0.031\n",
       "EV[T.4]       -0.3602      0.215     -1.678      0.093      -0.781       0.061\n",
       "EV[T.5]       -0.0334      0.204     -0.164      0.870      -0.433       0.367\n",
       "EV[T.6]        0.4132      0.202      2.042      0.041       0.017       0.810\n",
       "EV[T.7]        0.3316      0.483      0.687      0.492      -0.614       1.278\n",
       "NCD[T.2]      -0.1441      0.181     -0.795      0.426      -0.499       0.211\n",
       "NCD[T.3]       0.0184      0.192      0.096      0.923      -0.357       0.394\n",
       "NCD[T.4]       0.3047      0.184      1.660      0.097      -0.055       0.664\n",
       "NCD[T.5]      -0.0535      0.215     -0.249      0.804      -0.475       0.368\n",
       "NCD[T.6]       0.0967      0.206      0.470      0.639      -0.307       0.501\n",
       "NCD[T.7]       0.1835      0.137      1.334      0.182      -0.086       0.453\n",
       "Age           -0.0580      0.004    -13.633      0.000      -0.066      -0.050\n",
       "VehAge        -0.0762      0.008     -9.781      0.000      -0.091      -0.061\n",
       "==============================================================================\n",
       "\"\"\""
      ]
     },
     "execution_count": 12,
     "metadata": {},
     "output_type": "execute_result"
    }
   ],
   "source": [
    "FreqPoisson.summary()"
   ]
  },
  {
   "cell_type": "code",
   "execution_count": 11,
   "metadata": {},
   "outputs": [
    {
     "name": "stdout",
     "output_type": "stream",
     "text": [
      "Lambda intercept: 0.40\n",
      "Lambda intercept + male: 0.60\n"
     ]
    },
    {
     "data": {
      "image/png": "[encoded data removed]",
      "text/plain": [
       "<Figure size 432x288 with 1 Axes>"
      ]
     },
     "metadata": {
      "needs_background": "light"
     },
     "output_type": "display_data"
    }
   ],
   "source": [
    "fig,axs = plt.subplots(1,1)\n",
    "\n",
    "bins = np.arange(0,10,1)\n",
    "n = 1000\n",
    "print(f'Lambda intercept: {np.exp(FreqPoisson.params[0]):.2f}\\nLambda intercept + male: {np.exp(FreqPoisson.params[0]+FreqPoisson.params[1]):.2f}')\n",
    "\n",
    "axs.hist(np.random.poisson(lam=np.exp(FreqPoisson.params[0]),size=n),\n",
    "         bins=bins,rwidth=0.1,\n",
    "         alpha=1,label='intercept', align='left',color='k')\n",
    "\n",
    "axs.hist(np.random.poisson(lam=np.exp(FreqPoisson.params[0]+FreqPoisson.params[1]),size=n),\n",
    "         bins=bins,rwidth=0.5,\n",
    "         alpha=0.5,label='intercept + Bi',align='left')\n",
    "axs.set_xticks(bins)\n",
    "axs.legend();"
   ]
  },
  {
   "cell_type": "code",
   "execution_count": 13,
   "metadata": {},
   "outputs": [
    {
     "name": "stderr",
     "output_type": "stream",
     "text": [
      "C:\\ProgramData\\Anaconda3\\envs\\machine-learning\\lib\\site-packages\\statsmodels\\genmod\\families\\links.py:521: RuntimeWarning: overflow encountered in exp\n",
      "  return np.exp(z)\n"
     ]
    },
    {
     "data": {
      "text/html": [
       "<div>\n",
       "<style scoped>\n",
       "    .dataframe tbody tr th:only-of-type {\n",
       "        vertical-align: middle;\n",
       "    }\n",
       "\n",
       "    .dataframe tbody tr th {\n",
       "        vertical-align: top;\n",
       "    }\n",
       "\n",
       "    .dataframe thead th {\n",
       "        text-align: right;\n",
       "    }\n",
       "</style>\n",
       "<table border=\"1\" class=\"dataframe\">\n",
       "  <thead>\n",
       "    <tr style=\"text-align: right;\">\n",
       "      <th></th>\n",
       "      <th>mean</th>\n",
       "      <th>mean_se</th>\n",
       "      <th>mean_ci_lower</th>\n",
       "      <th>mean_ci_upper</th>\n",
       "    </tr>\n",
       "  </thead>\n",
       "  <tbody>\n",
       "    <tr>\n",
       "      <th>0</th>\n",
       "      <td>0.036901</td>\n",
       "      <td>0.007723</td>\n",
       "      <td>0.024485</td>\n",
       "      <td>0.055614</td>\n",
       "    </tr>\n",
       "    <tr>\n",
       "      <th>1</th>\n",
       "      <td>0.030348</td>\n",
       "      <td>0.006528</td>\n",
       "      <td>0.019908</td>\n",
       "      <td>0.046263</td>\n",
       "    </tr>\n",
       "  </tbody>\n",
       "</table>\n",
       "</div>"
      ],
      "text/plain": [
       "       mean   mean_se  mean_ci_lower  mean_ci_upper\n",
       "0  0.036901  0.007723       0.024485       0.055614\n",
       "1  0.030348  0.006528       0.019908       0.046263"
      ]
     },
     "execution_count": 13,
     "metadata": {},
     "output_type": "execute_result"
    }
   ],
   "source": [
    "# get prediction to access easy confidence intervals\n",
    "gp = FreqPoisson.get_prediction(test)\n",
    "gp.summary_frame(alpha=0.05)[:2]"
   ]
  },
  {
   "cell_type": "markdown",
   "metadata": {},
   "source": [
    "***Negative binomial coefficients and incidence rate ratio***\n",
    "\n",
    " - https://stats.idre.ucla.edu/stata/dae/negative-binomial-regression/\n",
    " - https://stats.stackexchange.com/questions/17006/interpretation-of-incidence-rate-ratios\n",
    " - https://stats.stackexchange.com/questions/414752/how-to-interpret-incidence-rate-ratio\n",
    " - https://www.cdc.gov/csels/dsepd/ss1978/lesson3/section5.html"
   ]
  },
  {
   "cell_type": "code",
   "execution_count": 14,
   "metadata": {},
   "outputs": [
    {
     "name": "stdout",
     "output_type": "stream",
     "text": [
      "                 Generalized Linear Model Regression Results                  \n",
      "==============================================================================\n",
      "Dep. Variable:                 Claims   No. Observations:                45183\n",
      "Model:                            GLM   Df Residuals:                    45161\n",
      "Model Family:        NegativeBinomial   Df Model:                           21\n",
      "Link Function:                    log   Scale:                          1.0000\n",
      "Method:                          IRLS   Log-Likelihood:                -2535.9\n",
      "Date:                Sun, 11 Oct 2020   Deviance:                       3754.7\n",
      "Time:                        19:30:06   Pearson chi2:                 1.82e+05\n",
      "No. Iterations:                    21                                         \n",
      "Covariance Type:            nonrobust                                         \n",
      "==============================================================================\n",
      "                 coef    std err          z      P>|z|      [0.025      0.975]\n",
      "------------------------------------------------------------------------------\n",
      "Intercept     -0.8851      0.288     -3.069      0.002      -1.450      -0.320\n",
      "Sex[T.M]       0.3927      0.163      2.403      0.016       0.072       0.713\n",
      "Geog[T.2]     -0.6545      0.137     -4.778      0.000      -0.923      -0.386\n",
      "Geog[T.3]     -0.9104      0.139     -6.541      0.000      -1.183      -0.638\n",
      "Geog[T.4]     -1.3888      0.125    -11.100      0.000      -1.634      -1.144\n",
      "Geog[T.5]     -1.5350      0.391     -3.928      0.000      -2.301      -0.769\n",
      "Geog[T.6]     -1.4693      0.317     -4.635      0.000      -2.091      -0.848\n",
      "Geog[T.7]    -21.1594   1.13e+04     -0.002      0.999   -2.22e+04    2.22e+04\n",
      "EV[T.2]        0.0957      0.240      0.399      0.690      -0.375       0.566\n",
      "EV[T.3]       -0.4359      0.202     -2.155      0.031      -0.832      -0.039\n",
      "EV[T.4]       -0.3671      0.217     -1.690      0.091      -0.793       0.059\n",
      "EV[T.5]       -0.0319      0.207     -0.154      0.877      -0.437       0.373\n",
      "EV[T.6]        0.4212      0.205      2.054      0.040       0.019       0.823\n",
      "EV[T.7]        0.3309      0.486      0.681      0.496      -0.622       1.283\n",
      "NCD[T.2]      -0.1456      0.183     -0.795      0.427      -0.505       0.214\n",
      "NCD[T.3]       0.0171      0.194      0.089      0.929      -0.362       0.397\n",
      "NCD[T.4]       0.2965      0.186      1.591      0.112      -0.069       0.662\n",
      "NCD[T.5]      -0.0509      0.217     -0.234      0.815      -0.477       0.375\n",
      "NCD[T.6]       0.1034      0.208      0.498      0.618      -0.303       0.510\n",
      "NCD[T.7]       0.1871      0.139      1.343      0.179      -0.086       0.460\n",
      "Age           -0.0581      0.004    -13.509      0.000      -0.067      -0.050\n",
      "VehAge        -0.0766      0.008     -9.730      0.000      -0.092      -0.061\n",
      "==============================================================================\n"
     ]
    },
    {
     "name": "stderr",
     "output_type": "stream",
     "text": [
      "C:\\ProgramData\\Anaconda3\\envs\\machine-learning\\lib\\site-packages\\pandas\\core\\series.py:856: RuntimeWarning: overflow encountered in exp\n",
      "  result = getattr(ufunc, method)(*inputs, **kwargs)\n"
     ]
    },
    {
     "data": {
      "image/png": "[encoded data removed]",
      "text/plain": [
       "<Figure size 1080x504 with 2 Axes>"
      ]
     },
     "metadata": {
      "needs_background": "light"
     },
     "output_type": "display_data"
    }
   ],
   "source": [
    "print(FreqNegBin.summary())\n",
    "X_ = np.arange(0,len(FreqNegBin.params[1:]))\n",
    "irr_ = np.exp(FreqNegBin.params[1:])\n",
    "frq_ = [np.exp(FreqNegBin.params[0]+x) for x in FreqNegBin.params[1:]]\n",
    "df_ = pd.DataFrame({'X':X_,'irr':irr_,'frq':frq_})\n",
    "df_['lwr'] = np.exp(FreqNegBin.conf_int()[0])\n",
    "df_['upr'] = np.exp(FreqNegBin.conf_int()[1])\n",
    "\n",
    "fig,axs = plt.subplots(1,2,figsize=(15,7))\n",
    "ages_ = np.arange(1,50,1)\n",
    "\n",
    "axs[0].set_title('Incidence Rate (odds)')\n",
    "axs[0].scatter(x=df_.irr,y=df_.X,s=50,c='k',linestyle='None')\n",
    "axs[0].errorbar(x=df_.irr,y=df_.X,xerr=(df_.lwr,df_.upr),c='k',linestyle='None')\n",
    "axs[0].plot([1,1],[20,0],'r--')\n",
    "axs[0].set_yticks(df_.X)\n",
    "axs[0].set_yticklabels(irr_.index)\n",
    "\n",
    "axs[1].set_title('Expected Frequency')\n",
    "axs[1].plot(ages_,[np.exp(FreqNegBin.params[0]+FreqNegBin.params['VehAge']*i) for i in ages_],label='VehAge')\n",
    "axs[1].plot(ages_,[np.exp(FreqNegBin.params[0]+FreqNegBin.params['Age']*i) for i in ages_],label='Age')\n",
    "axs[1].legend();"
   ]
  },
  {
   "cell_type": "markdown",
   "metadata": {},
   "source": [
    "***Binomial Model Coefficients and Logits Log-Odds, Odds and Probabilties***\n",
    "- https://sebastiansauer.github.io/convert_logit2prob/"
   ]
  },
  {
   "cell_type": "code",
   "execution_count": 15,
   "metadata": {},
   "outputs": [
    {
     "name": "stdout",
     "output_type": "stream",
     "text": [
      "                 Generalized Linear Model Regression Results                  \n",
      "==============================================================================\n",
      "Dep. Variable:                  Claim   No. Observations:                45183\n",
      "Model:                            GLM   Df Residuals:                 45690.29\n",
      "Model Family:                Binomial   Df Model:                           21\n",
      "Link Function:                  logit   Scale:                          1.0000\n",
      "Method:                          IRLS   Log-Likelihood:                -3504.3\n",
      "Date:                Sun, 11 Oct 2020   Deviance:                       7008.7\n",
      "Time:                        19:30:06   Pearson chi2:                 4.72e+04\n",
      "No. Iterations:                    24                                         \n",
      "Covariance Type:            nonrobust                                         \n",
      "==============================================================================\n",
      "                 coef    std err          z      P>|z|      [0.025      0.975]\n",
      "------------------------------------------------------------------------------\n",
      "Intercept     -2.7911      0.289     -9.672      0.000      -3.357      -2.225\n",
      "Sex[T.M]       0.7379      0.153      4.832      0.000       0.439       1.037\n",
      "Geog[T.2]     -0.4605      0.141     -3.265      0.001      -0.737      -0.184\n",
      "Geog[T.3]     -0.6028      0.140     -4.320      0.000      -0.876      -0.329\n",
      "Geog[T.4]     -0.1851      0.111     -1.668      0.095      -0.403       0.032\n",
      "Geog[T.5]     -1.8854      0.514     -3.667      0.000      -2.893      -0.878\n",
      "Geog[T.6]     -2.0365      0.456     -4.469      0.000      -2.930      -1.143\n",
      "Geog[T.7]    -21.7246   1.56e+04     -0.001      0.999   -3.07e+04    3.06e+04\n",
      "EV[T.2]       -0.0613      0.261     -0.234      0.815      -0.574       0.451\n",
      "EV[T.3]        0.3441      0.198      1.734      0.083      -0.045       0.733\n",
      "EV[T.4]       -0.5492      0.226     -2.426      0.015      -0.993      -0.105\n",
      "EV[T.5]        0.2531      0.204      1.238      0.216      -0.147       0.654\n",
      "EV[T.6]        0.3888      0.207      1.882      0.060      -0.016       0.794\n",
      "EV[T.7]       -1.5831      1.025     -1.544      0.123      -3.593       0.427\n",
      "NCD[T.2]      -0.3731      0.198     -1.887      0.059      -0.761       0.015\n",
      "NCD[T.3]      -0.0929      0.203     -0.458      0.647      -0.490       0.305\n",
      "NCD[T.4]       0.0394      0.206      0.191      0.849      -0.365       0.443\n",
      "NCD[T.5]      -0.7865      0.295     -2.671      0.008      -1.364      -0.209\n",
      "NCD[T.6]      -0.6098      0.273     -2.230      0.026      -1.146      -0.074\n",
      "NCD[T.7]       1.0612      0.123      8.654      0.000       0.821       1.302\n",
      "Age           -0.0384      0.003    -11.086      0.000      -0.045      -0.032\n",
      "VehAge        -0.0705      0.006    -11.589      0.000      -0.082      -0.059\n",
      "==============================================================================\n"
     ]
    }
   ],
   "source": [
    "print(FreqBinom.summary())"
   ]
  },
  {
   "cell_type": "code",
   "execution_count": 16,
   "metadata": {},
   "outputs": [
    {
     "name": "stdout",
     "output_type": "stream",
     "text": [
      "Intercept: p = 0.058\n",
      "Intercept + Male: p = 0.114 (0.056)\n"
     ]
    }
   ],
   "source": [
    "# Example conversions from logits to probabilities\n",
    "const = FreqBinom.params[0]\n",
    "odds = np.exp(const)\n",
    "probability = odds / (1+odds)\n",
    "print(f'Intercept: p = {probability:.3f}')\n",
    "_ = np.exp(const+FreqBinom.params[1])/(1+(np.exp(const+FreqBinom.params[1])))\n",
    "print(f'Intercept + Male: p = {_:.3f} ({_-probability:.3f})')"
   ]
  },
  {
   "cell_type": "code",
   "execution_count": 17,
   "metadata": {},
   "outputs": [
    {
     "name": "stderr",
     "output_type": "stream",
     "text": [
      "C:\\ProgramData\\Anaconda3\\envs\\machine-learning\\lib\\site-packages\\ipykernel_launcher.py:6: RuntimeWarning: overflow encountered in exp\n",
      "  \n",
      "C:\\ProgramData\\Anaconda3\\envs\\machine-learning\\lib\\site-packages\\ipykernel_launcher.py:6: RuntimeWarning: invalid value encountered in double_scalars\n",
      "  \n"
     ]
    },
    {
     "data": {
      "image/png": "[encoded data removed]",
      "text/plain": [
       "<Figure size 1080x504 with 2 Axes>"
      ]
     },
     "metadata": {
      "needs_background": "light"
     },
     "output_type": "display_data"
    }
   ],
   "source": [
    "X_ = np.arange(0,len(FreqBinom.params[1:]))\n",
    "odds = np.exp(FreqBinom.params[1:])\n",
    "frq_ = [np.exp(FreqBinom.params[0]+x)/(1+np.exp(FreqBinom.params[0]+x)) for x in FreqBinom.params[1:]]\n",
    "df_ = pd.DataFrame({'X':X_,'irr':irr_,'frq':frq_})\n",
    "df_['lwr'] = [np.exp(FreqBinom.params[0]+x)/(1+np.exp(FreqBinom.params[0]+x)) for x in FreqBinom.conf_int()[0][1:]]\n",
    "df_['upr'] = [np.exp(FreqBinom.params[0]+x)/(1+np.exp(FreqBinom.params[0]+x)) for x in FreqBinom.conf_int()[1][1:]]\n",
    "\n",
    "fig,axs = plt.subplots(1,2,figsize=(15,7))\n",
    "ages_ = np.arange(1,50,1)\n",
    "\n",
    "axs[0].set_title('Probability ($Y$=1 CI 95%)')\n",
    "axs[0].scatter(x=df_.frq,y=df_.X,s=50,c='k',linestyle='None')\n",
    "axs[0].errorbar(x=df_.frq,y=df_.X,xerr=(df_.lwr,df_.upr),c='k',linestyle='None')\n",
    "axs[0].set_yticks(df_.X)\n",
    "axs[0].set_yticklabels(irr_.index)\n",
    "\n",
    "axs[1].set_title('Expected Frequency')\n",
    "axs[1].plot(ages_,[np.exp(FreqBinom.params[0]+FreqBinom.params['VehAge']*i) for i in ages_],label='VehAge')\n",
    "axs[1].plot(ages_,[np.exp(FreqBinom.params[0]+FreqBinom.params['Age']*i) for i in ages_],label='Age')\n",
    "axs[1].legend();"
   ]
  },
  {
   "cell_type": "markdown",
   "metadata": {},
   "source": [
    "### Prediction"
   ]
  },
  {
   "cell_type": "code",
   "execution_count": 18,
   "metadata": {},
   "outputs": [
    {
     "data": {
      "text/html": [
       "<div>\n",
       "<style scoped>\n",
       "    .dataframe tbody tr th:only-of-type {\n",
       "        vertical-align: middle;\n",
       "    }\n",
       "\n",
       "    .dataframe tbody tr th {\n",
       "        vertical-align: top;\n",
       "    }\n",
       "\n",
       "    .dataframe thead th {\n",
       "        text-align: right;\n",
       "    }\n",
       "</style>\n",
       "<table border=\"1\" class=\"dataframe\">\n",
       "  <thead>\n",
       "    <tr style=\"text-align: right;\">\n",
       "      <th></th>\n",
       "      <th>Age</th>\n",
       "      <th>Sex</th>\n",
       "      <th>Geog</th>\n",
       "      <th>EV</th>\n",
       "      <th>VehAge</th>\n",
       "      <th>NCD</th>\n",
       "      <th>PYrs</th>\n",
       "      <th>Claims</th>\n",
       "      <th>Severity</th>\n",
       "      <th>Claim</th>\n",
       "      <th>Fnb</th>\n",
       "      <th>Fpo</th>\n",
       "      <th>Fbi</th>\n",
       "    </tr>\n",
       "  </thead>\n",
       "  <tbody>\n",
       "    <tr>\n",
       "      <th>57075</th>\n",
       "      <td>58.0</td>\n",
       "      <td>M</td>\n",
       "      <td>2</td>\n",
       "      <td>3</td>\n",
       "      <td>16</td>\n",
       "      <td>3</td>\n",
       "      <td>0.504110</td>\n",
       "      <td>0</td>\n",
       "      <td>0.0</td>\n",
       "      <td>0</td>\n",
       "      <td>0.001063</td>\n",
       "      <td>0.001076</td>\n",
       "      <td>0.003627</td>\n",
       "    </tr>\n",
       "    <tr>\n",
       "      <th>55016</th>\n",
       "      <td>56.0</td>\n",
       "      <td>M</td>\n",
       "      <td>3</td>\n",
       "      <td>4</td>\n",
       "      <td>25</td>\n",
       "      <td>7</td>\n",
       "      <td>0.931507</td>\n",
       "      <td>0</td>\n",
       "      <td>0.0</td>\n",
       "      <td>0</td>\n",
       "      <td>0.001088</td>\n",
       "      <td>0.001092</td>\n",
       "      <td>0.002342</td>\n",
       "    </tr>\n",
       "    <tr>\n",
       "      <th>2706</th>\n",
       "      <td>22.0</td>\n",
       "      <td>K</td>\n",
       "      <td>4</td>\n",
       "      <td>5</td>\n",
       "      <td>5</td>\n",
       "      <td>2</td>\n",
       "      <td>1.000000</td>\n",
       "      <td>0</td>\n",
       "      <td>0.0</td>\n",
       "      <td>0</td>\n",
       "      <td>0.016363</td>\n",
       "      <td>0.016223</td>\n",
       "      <td>0.013482</td>\n",
       "    </tr>\n",
       "    <tr>\n",
       "      <th>45173</th>\n",
       "      <td>50.0</td>\n",
       "      <td>M</td>\n",
       "      <td>4</td>\n",
       "      <td>2</td>\n",
       "      <td>13</td>\n",
       "      <td>4</td>\n",
       "      <td>0.950685</td>\n",
       "      <td>0</td>\n",
       "      <td>0.0</td>\n",
       "      <td>0</td>\n",
       "      <td>0.004336</td>\n",
       "      <td>0.004332</td>\n",
       "      <td>0.006090</td>\n",
       "    </tr>\n",
       "    <tr>\n",
       "      <th>8146</th>\n",
       "      <td>26.0</td>\n",
       "      <td>K</td>\n",
       "      <td>2</td>\n",
       "      <td>5</td>\n",
       "      <td>12</td>\n",
       "      <td>3</td>\n",
       "      <td>0.498630</td>\n",
       "      <td>0</td>\n",
       "      <td>0.0</td>\n",
       "      <td>0</td>\n",
       "      <td>0.009274</td>\n",
       "      <td>0.009231</td>\n",
       "      <td>0.007141</td>\n",
       "    </tr>\n",
       "  </tbody>\n",
       "</table>\n",
       "</div>"
      ],
      "text/plain": [
       "        Age Sex Geog EV  VehAge NCD      PYrs  Claims  Severity  Claim  \\\n",
       "57075  58.0   M    2  3      16   3  0.504110       0       0.0      0   \n",
       "55016  56.0   M    3  4      25   7  0.931507       0       0.0      0   \n",
       "2706   22.0   K    4  5       5   2  1.000000       0       0.0      0   \n",
       "45173  50.0   M    4  2      13   4  0.950685       0       0.0      0   \n",
       "8146   26.0   K    2  5      12   3  0.498630       0       0.0      0   \n",
       "\n",
       "            Fnb       Fpo       Fbi  \n",
       "57075  0.001063  0.001076  0.003627  \n",
       "55016  0.001088  0.001092  0.002342  \n",
       "2706   0.016363  0.016223  0.013482  \n",
       "45173  0.004336  0.004332  0.006090  \n",
       "8146   0.009274  0.009231  0.007141  "
      ]
     },
     "execution_count": 18,
     "metadata": {},
     "output_type": "execute_result"
    },
    {
     "data": {
      "image/png": "[encoded data removed]",
      "text/plain": [
       "<Figure size 936x237.6 with 3 Axes>"
      ]
     },
     "metadata": {
      "needs_background": "light"
     },
     "output_type": "display_data"
    }
   ],
   "source": [
    "test['Fnb'] = FreqNegBin.predict(transform=True,exog=test,offset=np.log(test['PYrs']))\n",
    "test['Fpo'] = FreqPoisson.predict(transform=True,exog=test,offset=np.log(test['PYrs']))\n",
    "test['Fbi'] = FreqBinom.predict(transform=True,exog=test)\n",
    "\n",
    "fig,axs = plt.subplots(1,3,figsize=(13,3.3),sharex=True,sharey=True)\n",
    "sns.distplot(test['Fpo'],ax=axs[0],axlabel='Poisson')\n",
    "sns.distplot(test['Fnb'],ax=axs[1],axlabel='NegBinomial')\n",
    "sns.distplot(test['Fbi'],ax=axs[2],axlabel='Binomial')\n",
    "\n",
    "test.sample(5)"
   ]
  },
  {
   "cell_type": "markdown",
   "metadata": {},
   "source": [
    "Loooking at the model summaries, the histograms and results the of predicted values on the test, we see that each model weights covariates similarly and produces similar scores on the test data. ***Again note*** that the $Binomial$ model was only used to demonstrate its similarity in this case, but this may not hold for other data."
   ]
  },
  {
   "cell_type": "markdown",
   "metadata": {},
   "source": [
    "### $Claim Severity$\n",
    "\n",
    "\n",
    "***After fitting a GLM-Gamma, how do we find the Gamma shape ($a$) and scale ($b$) params of predictions for $Xi$?***\n",
    "\n",
    "\"*Regression with the gamma model is going to use input variables Xi and coefficients to make a pre-diction about the mean of yi, but in actuality we are really focused on the scale parameter βi.  This is so because we assume that αi is the same for all observations, and so variation from case to case in μi=βiα is due simply to variation in βi.*\" [technical overview of gamma glm](https://pj.freefaculty.org/guides/stat/Regression-GLM/Gamma/GammaGLM-01.pdf)\n",
    "\n",
    "- [gamma handout](https://pj.freefaculty.org/guides/stat/Distributions/DistributionWriteups/Gamma/Gamma-02.pdf)\n",
    "- [Gamma Choice of link function](http://people.stat.sfu.ca/~raltman/stat402/402L26.pdf)\n",
    "- [exmaple finding scale in R](https://stat.ethz.ch/pipermail/r-help/2011-July/283736.html)\n",
    "- [generalized linear model - Dispersion parameter for Gamma family - Cross Validated](https://stats.stackexchange.com/questions/247624/dispersion-parameter-for-gamma-family)\n",
    "- [Pdummy_xyhon: Calculating scale/dispersion of Gamma GLM using statsmodels](https://stackoverflow.com/questions/60215085/calculating-scale-dispersion-of-gamma-glm-using-statsmodels)\n",
    "\n",
    "[Alternatively Infer gamma params from CI](https://math.stackexchange.com/questions/2873763/is-it-possible-to-determine-shape-and-scale-for-a-gamma-distribution-from-a-mean?newreg=d61b4517cd304ecca335b8e69220bf0c)\n",
    "\n",
    "\n",
    "- [gamma.shape.glm: Estimate the Shape Parameter of the Gamma Distribution R MASS](https://rdrr.io/cran/MASS/man/gamma.shape.glm.html)\n",
    "- [The identity link function does not respect the domain of the Gamma family? - Cross Validated](https://stats.stackexchange.com/questions/356053/the-identity-link-function-does-not-respect-the-domain-of-the-gamma-family)"
   ]
  },
  {
   "cell_type": "markdown",
   "metadata": {},
   "source": [
    "***Dummy data***"
   ]
  },
  {
   "cell_type": "code",
   "execution_count": 19,
   "metadata": {},
   "outputs": [],
   "source": [
    "# sim data\n",
    "#np.random.seed(1066)\n",
    "y = np.random.gamma(shape=2, scale=3, size=10_000)\n",
    "dummy_xy = pd.DataFrame({'Y':y,\n",
    "                         'category':pd.cut(pd.Series(y),bins=[0,3,7,10,5000],right=True,labels=[1,2,3,4]),\n",
    "                         'numerical':pd.Series(y * np.random.random(size=10000))\n",
    "                  })\n",
    "\n",
    "if dummy_xy.isnull().any().any():\n",
    "    print('Nulls')"
   ]
  },
  {
   "cell_type": "markdown",
   "metadata": {},
   "source": [
    "***MLE parameter estimations on raw data***"
   ]
  },
  {
   "cell_type": "code",
   "execution_count": 20,
   "metadata": {},
   "outputs": [
    {
     "name": "stdout",
     "output_type": "stream",
     "text": [
      "(1.9744400923270682, -0.0036534137552974516, 3.07085008545754)\n"
     ]
    }
   ],
   "source": [
    "#### estimate params using MLE fit\n",
    "print(stats.gamma.fit(dummy_xy['Y']))"
   ]
  },
  {
   "cell_type": "markdown",
   "metadata": {},
   "source": [
    "***GLM-Gamma Inverse-Power link***"
   ]
  },
  {
   "cell_type": "code",
   "execution_count": 21,
   "metadata": {},
   "outputs": [
    {
     "name": "stderr",
     "output_type": "stream",
     "text": [
      "C:\\ProgramData\\Anaconda3\\envs\\machine-learning\\lib\\site-packages\\statsmodels\\genmod\\generalized_linear_model.py:273: DomainWarning: The inverse_power link function does not respect the domain of the Gamma family.\n",
      "  DomainWarning)\n"
     ]
    },
    {
     "name": "stdout",
     "output_type": "stream",
     "text": [
      "Shape : 12.84855486898926\n",
      "Scale X0:  0.1403777209417192\n",
      "Scale Xi:  0.36677565068531026\n",
      "Scale Xi:  0.6059174139537791\n"
     ]
    },
    {
     "data": {
      "image/png": "[encoded data removed]",
      "text/plain": [
       "<Figure size 432x288 with 1 Axes>"
      ]
     },
     "metadata": {
      "needs_background": "light"
     },
     "output_type": "display_data"
    }
   ],
   "source": [
    "### Estimate scale (rate) using GLM-gamma with default inverse-power link\n",
    "glm = smf.glm(\"Y ~ 1 + category + numerical\", data=dummy_xy,family=sm.families.Gamma())\n",
    "glm_fit = glm.fit()\n",
    "\n",
    "# shape is\n",
    "shape = 1/glm_fit.scale\n",
    "print('Shape :',shape)\n",
    "\n",
    "# Remeber we drop a reference category for modelling\n",
    "# For each categorical level\n",
    "# intercept scale is\n",
    "X0 = glm_fit.scale/glm_fit.params[0]\n",
    "print('Scale X0: ',X0)\n",
    "\n",
    "\n",
    "# scale for each categorical value is\n",
    "X1 = glm_fit.scale/(glm_fit.params[0]+glm_fit.params[1])\n",
    "print('Scale Xi: ',X1)\n",
    "X2 = glm_fit.scale/(glm_fit.params[0]+glm_fit.params[2])\n",
    "print('Scale Xi: ',X2)\n",
    "\n",
    "# and for the numerical when \n",
    "# category = 2\n",
    "# numerical = max\n",
    "X3 = glm_fit.scale/(glm_fit.params[0]+glm_fit.params[2]+glm_fit.params['numerical']*dummy_xy['numerical'].max())\n",
    "\n",
    "# plot\n",
    "sns.distplot(y,color='black',label='data',kde_kws={'linestyle':'--'})\n",
    "sns.distplot(np.random.gamma(shape=shape,scale=X0,size=10000),color='purple',label='X0')\n",
    "sns.distplot(np.random.gamma(shape=shape,scale=X1,size=10000),color='orange',label='X1')\n",
    "sns.distplot(np.random.gamma(shape=shape,scale=X2,size=10000),color='blue',label='X2')\n",
    "sns.distplot(np.random.gamma(shape=shape,scale=X3,size=10000),color='red',label='X3')\n",
    "plt.legend();"
   ]
  },
  {
   "cell_type": "code",
   "execution_count": 22,
   "metadata": {},
   "outputs": [
    {
     "data": {
      "text/plain": [
       "Intercept        0.554431\n",
       "category[T.2]   -0.342231\n",
       "category[T.3]   -0.425982\n",
       "category[T.4]   -0.467178\n",
       "numerical       -0.001924\n",
       "dtype: float64"
      ]
     },
     "execution_count": 22,
     "metadata": {},
     "output_type": "execute_result"
    }
   ],
   "source": [
    "glm_fit.params"
   ]
  },
  {
   "cell_type": "code",
   "execution_count": 23,
   "metadata": {},
   "outputs": [
    {
     "data": {
      "text/html": [
       "<div>\n",
       "<style scoped>\n",
       "    .dataframe tbody tr th:only-of-type {\n",
       "        vertical-align: middle;\n",
       "    }\n",
       "\n",
       "    .dataframe tbody tr th {\n",
       "        vertical-align: top;\n",
       "    }\n",
       "\n",
       "    .dataframe thead th {\n",
       "        text-align: right;\n",
       "    }\n",
       "</style>\n",
       "<table border=\"1\" class=\"dataframe\">\n",
       "  <thead>\n",
       "    <tr style=\"text-align: right;\">\n",
       "      <th></th>\n",
       "      <th>Y</th>\n",
       "      <th>category</th>\n",
       "      <th>numerical</th>\n",
       "      <th>pred-inv</th>\n",
       "    </tr>\n",
       "  </thead>\n",
       "  <tbody>\n",
       "    <tr>\n",
       "      <th>0</th>\n",
       "      <td>5.216028</td>\n",
       "      <td>2</td>\n",
       "      <td>0.377220</td>\n",
       "      <td>4.728714</td>\n",
       "    </tr>\n",
       "    <tr>\n",
       "      <th>1</th>\n",
       "      <td>3.301647</td>\n",
       "      <td>2</td>\n",
       "      <td>2.995603</td>\n",
       "      <td>4.844136</td>\n",
       "    </tr>\n",
       "    <tr>\n",
       "      <th>2</th>\n",
       "      <td>6.626265</td>\n",
       "      <td>2</td>\n",
       "      <td>6.256119</td>\n",
       "      <td>4.995988</td>\n",
       "    </tr>\n",
       "    <tr>\n",
       "      <th>3</th>\n",
       "      <td>8.533480</td>\n",
       "      <td>3</td>\n",
       "      <td>1.796263</td>\n",
       "      <td>8.000466</td>\n",
       "    </tr>\n",
       "    <tr>\n",
       "      <th>4</th>\n",
       "      <td>5.356155</td>\n",
       "      <td>2</td>\n",
       "      <td>3.149176</td>\n",
       "      <td>4.851081</td>\n",
       "    </tr>\n",
       "  </tbody>\n",
       "</table>\n",
       "</div>"
      ],
      "text/plain": [
       "          Y category  numerical  pred-inv\n",
       "0  5.216028        2   0.377220  4.728714\n",
       "1  3.301647        2   2.995603  4.844136\n",
       "2  6.626265        2   6.256119  4.995988\n",
       "3  8.533480        3   1.796263  8.000466\n",
       "4  5.356155        2   3.149176  4.851081"
      ]
     },
     "execution_count": 23,
     "metadata": {},
     "output_type": "execute_result"
    }
   ],
   "source": [
    "# So remember the model gives us the predicted mean value \n",
    "dummy_xy['pred-inv'] = glm_fit.predict()\n",
    "dummy_xy[:5]"
   ]
  },
  {
   "cell_type": "code",
   "execution_count": 29,
   "metadata": {},
   "outputs": [
    {
     "data": {
      "text/plain": [
       "4.732454270663176"
      ]
     },
     "execution_count": 29,
     "metadata": {},
     "output_type": "execute_result"
    }
   ],
   "source": [
    "# manually sampling this distribution and finding the mean will give us the prediction\n",
    "scale = glm_fit.scale/(glm_fit.params[0]+glm_fit.params['category[T.2]']+glm_fit.params['numerical']*dummy_xy['numerical'][0])\n",
    "sample = np.random.gamma(shape=shape,scale=scale,size=1000)\n",
    "np.mean(sample)"
   ]
  },
  {
   "cell_type": "code",
   "execution_count": 30,
   "metadata": {},
   "outputs": [
    {
     "name": "stdout",
     "output_type": "stream",
     "text": [
      "Bingo!\n"
     ]
    }
   ],
   "source": [
    "print('Bingo!')"
   ]
  },
  {
   "cell_type": "markdown",
   "metadata": {},
   "source": [
    "***GLM-Gamma log link***\n",
    "\n",
    "- https://pj.freefaculty.org/guides/stat/Distributions/DistributionWriteups/Gamma/Gamma-02.pdf\n",
    "- https://pj.freefaculty.org/guides/stat/Regression-GLM/Gamma/GammaGLM-01.pdf\n",
    "- http://people.stat.sfu.ca/~raltman/stat402/402L26.pdf\n",
    "- https://stats.stackexchange.com/questions/431120/how-to-interpret-parameters-of-glm-output-with-gamma-log-link\n",
    "- https://seananderson.ca/2014/04/08/gamma-glms/\n"
   ]
  },
  {
   "cell_type": "code",
   "execution_count": 31,
   "metadata": {},
   "outputs": [
    {
     "name": "stdout",
     "output_type": "stream",
     "text": [
      "Shape : 13.12381526300718\n",
      "Scale X0:  0.13617081217059712\n",
      "Scale Xi:  0.05105747746150172\n",
      "Scale Xi:  0.03830186253498145\n"
     ]
    },
    {
     "data": {
      "image/png": "[encoded data removed]",
      "text/plain": [
       "<Figure size 432x288 with 1 Axes>"
      ]
     },
     "metadata": {
      "needs_background": "light"
     },
     "output_type": "display_data"
    }
   ],
   "source": [
    "### Estimate scale (rate) using GLM-gamma with default inverse-power link\n",
    "glm = smf.glm(\"Y ~ 1 + category + numerical\", data=dummy_xy,family=sm.families.Gamma(link=sm.families.links.log()))\n",
    "glm_fit = glm.fit()\n",
    "\n",
    "# shape is 1/rate\n",
    "shape = 1/glm_fit.scale\n",
    "print('Shape :',shape)\n",
    "\n",
    "# Remeber we drop a reference category for modelling\n",
    "# For each categorical level\n",
    "# intercept scale is\n",
    "X0 = glm_fit.scale/glm_fit.params[0]\n",
    "print('Scale X0: ',X0)\n",
    "\n",
    "\n",
    "# scale for each categorical value is\n",
    "X1 = glm_fit.scale/(glm_fit.params[0]+glm_fit.params[1])\n",
    "print('Scale Xi: ',X1)\n",
    "X2 = glm_fit.scale/(glm_fit.params[0]+glm_fit.params[2])\n",
    "print('Scale Xi: ',X2)\n",
    "\n",
    "# and for the numerical when \n",
    "# category = 2\n",
    "# numerical = max\n",
    "X3 = glm_fit.scale/(glm_fit.params[0]+glm_fit.params[2]+glm_fit.params['numerical']*dummy_xy['numerical'].max())\n",
    "\n",
    "# plot\n",
    "sns.distplot(dummy_xy.Y,color='black',label='data',kde_kws={'linestyle':'--'})\n",
    "sns.distplot(np.random.gamma(shape=shape,scale=X0,size=10000),color='purple',label='X0')\n",
    "sns.distplot(np.random.gamma(shape=shape,scale=X1,size=10000),color='orange',label='X1')\n",
    "sns.distplot(np.random.gamma(shape=shape,scale=X2,size=10000),color='blue',label='X2')\n",
    "sns.distplot(np.random.gamma(shape=shape,scale=X3,size=10000),color='red',label='X3')\n",
    "plt.legend();"
   ]
  },
  {
   "cell_type": "code",
   "execution_count": 32,
   "metadata": {},
   "outputs": [
    {
     "data": {
      "text/plain": [
       "Intercept        0.559572\n",
       "category[T.2]    0.932812\n",
       "category[T.3]    1.429818\n",
       "category[T.4]    1.838381\n",
       "numerical        0.031512\n",
       "dtype: float64"
      ]
     },
     "execution_count": 32,
     "metadata": {},
     "output_type": "execute_result"
    }
   ],
   "source": [
    "glm_fit.params"
   ]
  },
  {
   "cell_type": "code",
   "execution_count": 38,
   "metadata": {},
   "outputs": [
    {
     "data": {
      "text/html": [
       "<div>\n",
       "<style scoped>\n",
       "    .dataframe tbody tr th:only-of-type {\n",
       "        vertical-align: middle;\n",
       "    }\n",
       "\n",
       "    .dataframe tbody tr th {\n",
       "        vertical-align: top;\n",
       "    }\n",
       "\n",
       "    .dataframe thead th {\n",
       "        text-align: right;\n",
       "    }\n",
       "</style>\n",
       "<table border=\"1\" class=\"dataframe\">\n",
       "  <thead>\n",
       "    <tr style=\"text-align: right;\">\n",
       "      <th></th>\n",
       "      <th>Y</th>\n",
       "      <th>category</th>\n",
       "      <th>numerical</th>\n",
       "      <th>pred-inv</th>\n",
       "      <th>pred-log</th>\n",
       "    </tr>\n",
       "  </thead>\n",
       "  <tbody>\n",
       "    <tr>\n",
       "      <th>0</th>\n",
       "      <td>5.216028</td>\n",
       "      <td>2</td>\n",
       "      <td>0.377220</td>\n",
       "      <td>4.728714</td>\n",
       "      <td>4.500870</td>\n",
       "    </tr>\n",
       "    <tr>\n",
       "      <th>1</th>\n",
       "      <td>3.301647</td>\n",
       "      <td>2</td>\n",
       "      <td>2.995603</td>\n",
       "      <td>4.844136</td>\n",
       "      <td>4.887984</td>\n",
       "    </tr>\n",
       "  </tbody>\n",
       "</table>\n",
       "</div>"
      ],
      "text/plain": [
       "          Y category  numerical  pred-inv  pred-log\n",
       "0  5.216028        2   0.377220  4.728714  4.500870\n",
       "1  3.301647        2   2.995603  4.844136  4.887984"
      ]
     },
     "execution_count": 38,
     "metadata": {},
     "output_type": "execute_result"
    }
   ],
   "source": [
    "# So remember the model gives us the predicted mean value \n",
    "dummy_xy['pred-log'] = glm_fit.predict()\n",
    "dummy_xy[:2]"
   ]
  },
  {
   "cell_type": "code",
   "execution_count": 36,
   "metadata": {},
   "outputs": [
    {
     "name": "stdout",
     "output_type": "stream",
     "text": [
      "Disp 0.07619735419613495\n",
      "Shape 13.12381526300718\n",
      "Yi 4.500869625953329\n",
      "Scale 0.34295435707939126\n"
     ]
    }
   ],
   "source": [
    "# dispersion aka rate\n",
    "dispersion = glm_fit.scale\n",
    "print('Disp',dispersion)\n",
    "\n",
    "# shape is 1/dispersion\n",
    "shape = 1/dispersion\n",
    "print('Shape',shape)\n",
    "\n",
    "# predicted mean G(Yi) is exp(Bo + Bi*Xi..)\n",
    "# this is correctly getting the mean prediction\n",
    "Yi = np.exp(glm_fit.params[0]+glm_fit.params['category[T.2]']+glm_fit.params['numerical']*dummy_xy['numerical'][0])\n",
    "print('Yi',Yi)\n",
    "\n",
    "# scale = Yi * dispersion\n",
    "scale = Yi * dispersion\n",
    "print('Scale',scale)"
   ]
  },
  {
   "cell_type": "code",
   "execution_count": 37,
   "metadata": {},
   "outputs": [
    {
     "name": "stdout",
     "output_type": "stream",
     "text": [
      "4.493724569167104\n"
     ]
    },
    {
     "data": {
      "image/png": "[encoded data removed]",
      "text/plain": [
       "<Figure size 432x288 with 1 Axes>"
      ]
     },
     "metadata": {
      "needs_background": "light"
     },
     "output_type": "display_data"
    }
   ],
   "source": [
    "print(np.random.gamma(shape=shape,scale=scale,size=1000).mean())\n",
    "\n",
    "sns.distplot(dummy_xy['Y'],label='Raw')\n",
    "sns.distplot(np.random.gamma(shape=shape,scale=scale,size=1000),label='Sample')\n",
    "plt.legend();"
   ]
  },
  {
   "cell_type": "markdown",
   "metadata": {},
   "source": [
    "# Design Info\n",
    "can we use design info to calculate the parameters for the whole dataset?"
   ]
  },
  {
   "cell_type": "code",
   "execution_count": 39,
   "metadata": {},
   "outputs": [
    {
     "name": "stderr",
     "output_type": "stream",
     "text": [
      "C:\\ProgramData\\Anaconda3\\envs\\machine-learning\\lib\\site-packages\\statsmodels\\genmod\\generalized_linear_model.py:273: DomainWarning: The inverse_power link function does not respect the domain of the Gamma family.\n",
      "  DomainWarning)\n"
     ]
    }
   ],
   "source": [
    "# use inverse-link as we know that this works\n",
    "glm = smf.glm(\"Y ~ 1 + category + numerical\", data=dummy_xy,family=sm.families.Gamma())\n",
    "glm_fit = glm.fit()"
   ]
  },
  {
   "cell_type": "code",
   "execution_count": 40,
   "metadata": {},
   "outputs": [
    {
     "data": {
      "text/html": [
       "<div>\n",
       "<style scoped>\n",
       "    .dataframe tbody tr th:only-of-type {\n",
       "        vertical-align: middle;\n",
       "    }\n",
       "\n",
       "    .dataframe tbody tr th {\n",
       "        vertical-align: top;\n",
       "    }\n",
       "\n",
       "    .dataframe thead th {\n",
       "        text-align: right;\n",
       "    }\n",
       "</style>\n",
       "<table border=\"1\" class=\"dataframe\">\n",
       "  <thead>\n",
       "    <tr style=\"text-align: right;\">\n",
       "      <th></th>\n",
       "      <th>Intercept</th>\n",
       "      <th>category[T.2]</th>\n",
       "      <th>category[T.3]</th>\n",
       "      <th>category[T.4]</th>\n",
       "      <th>numerical</th>\n",
       "    </tr>\n",
       "  </thead>\n",
       "  <tbody>\n",
       "    <tr>\n",
       "      <th>0</th>\n",
       "      <td>1.0</td>\n",
       "      <td>1.0</td>\n",
       "      <td>0.0</td>\n",
       "      <td>0.0</td>\n",
       "      <td>0.377220</td>\n",
       "    </tr>\n",
       "    <tr>\n",
       "      <th>1</th>\n",
       "      <td>1.0</td>\n",
       "      <td>1.0</td>\n",
       "      <td>0.0</td>\n",
       "      <td>0.0</td>\n",
       "      <td>2.995603</td>\n",
       "    </tr>\n",
       "    <tr>\n",
       "      <th>2</th>\n",
       "      <td>1.0</td>\n",
       "      <td>1.0</td>\n",
       "      <td>0.0</td>\n",
       "      <td>0.0</td>\n",
       "      <td>6.256119</td>\n",
       "    </tr>\n",
       "  </tbody>\n",
       "</table>\n",
       "</div>"
      ],
      "text/plain": [
       "   Intercept  category[T.2]  category[T.3]  category[T.4]  numerical\n",
       "0        1.0            1.0            0.0            0.0   0.377220\n",
       "1        1.0            1.0            0.0            0.0   2.995603\n",
       "2        1.0            1.0            0.0            0.0   6.256119"
      ]
     },
     "execution_count": 40,
     "metadata": {},
     "output_type": "execute_result"
    }
   ],
   "source": [
    "# data values\n",
    "a = pd.DataFrame(glm.data.exog,columns=glm.data.param_names)[:3]\n",
    "a"
   ]
  },
  {
   "cell_type": "code",
   "execution_count": 41,
   "metadata": {},
   "outputs": [
    {
     "data": {
      "text/html": [
       "<div>\n",
       "<style scoped>\n",
       "    .dataframe tbody tr th:only-of-type {\n",
       "        vertical-align: middle;\n",
       "    }\n",
       "\n",
       "    .dataframe tbody tr th {\n",
       "        vertical-align: top;\n",
       "    }\n",
       "\n",
       "    .dataframe thead th {\n",
       "        text-align: right;\n",
       "    }\n",
       "</style>\n",
       "<table border=\"1\" class=\"dataframe\">\n",
       "  <thead>\n",
       "    <tr style=\"text-align: right;\">\n",
       "      <th></th>\n",
       "      <th>Intercept</th>\n",
       "      <th>category[T.2]</th>\n",
       "      <th>category[T.3]</th>\n",
       "      <th>category[T.4]</th>\n",
       "      <th>numerical</th>\n",
       "    </tr>\n",
       "  </thead>\n",
       "  <tbody>\n",
       "    <tr>\n",
       "      <th>0</th>\n",
       "      <td>0.554431</td>\n",
       "      <td>-0.342231</td>\n",
       "      <td>-0.425982</td>\n",
       "      <td>-0.467178</td>\n",
       "      <td>-0.001924</td>\n",
       "    </tr>\n",
       "  </tbody>\n",
       "</table>\n",
       "</div>"
      ],
      "text/plain": [
       "   Intercept  category[T.2]  category[T.3]  category[T.4]  numerical\n",
       "0   0.554431      -0.342231      -0.425982      -0.467178  -0.001924"
      ]
     },
     "execution_count": 41,
     "metadata": {},
     "output_type": "execute_result"
    }
   ],
   "source": [
    "# glm coefficients\n",
    "b = pd.DataFrame(glm_fit.params).T\n",
    "b"
   ]
  },
  {
   "cell_type": "code",
   "execution_count": 42,
   "metadata": {},
   "outputs": [
    {
     "data": {
      "text/html": [
       "<div>\n",
       "<style scoped>\n",
       "    .dataframe tbody tr th:only-of-type {\n",
       "        vertical-align: middle;\n",
       "    }\n",
       "\n",
       "    .dataframe tbody tr th {\n",
       "        vertical-align: top;\n",
       "    }\n",
       "\n",
       "    .dataframe thead th {\n",
       "        text-align: right;\n",
       "    }\n",
       "</style>\n",
       "<table border=\"1\" class=\"dataframe\">\n",
       "  <thead>\n",
       "    <tr style=\"text-align: right;\">\n",
       "      <th></th>\n",
       "      <th>Intercept</th>\n",
       "      <th>category[T.2]</th>\n",
       "      <th>category[T.3]</th>\n",
       "      <th>category[T.4]</th>\n",
       "      <th>numerical</th>\n",
       "    </tr>\n",
       "  </thead>\n",
       "  <tbody>\n",
       "    <tr>\n",
       "      <th>0</th>\n",
       "      <td>0.554431</td>\n",
       "      <td>-0.342231</td>\n",
       "      <td>-0.0</td>\n",
       "      <td>-0.0</td>\n",
       "      <td>-0.000726</td>\n",
       "    </tr>\n",
       "    <tr>\n",
       "      <th>1</th>\n",
       "      <td>NaN</td>\n",
       "      <td>NaN</td>\n",
       "      <td>NaN</td>\n",
       "      <td>NaN</td>\n",
       "      <td>NaN</td>\n",
       "    </tr>\n",
       "    <tr>\n",
       "      <th>2</th>\n",
       "      <td>NaN</td>\n",
       "      <td>NaN</td>\n",
       "      <td>NaN</td>\n",
       "      <td>NaN</td>\n",
       "      <td>NaN</td>\n",
       "    </tr>\n",
       "  </tbody>\n",
       "</table>\n",
       "</div>"
      ],
      "text/plain": [
       "   Intercept  category[T.2]  category[T.3]  category[T.4]  numerical\n",
       "0   0.554431      -0.342231           -0.0           -0.0  -0.000726\n",
       "1        NaN            NaN            NaN            NaN        NaN\n",
       "2        NaN            NaN            NaN            NaN        NaN"
      ]
     },
     "execution_count": 42,
     "metadata": {},
     "output_type": "execute_result"
    }
   ],
   "source": [
    "# but this only works if indexes are equal\n",
    "c = a.multiply(b,axis=0)\n",
    "c"
   ]
  },
  {
   "cell_type": "code",
   "execution_count": 43,
   "metadata": {},
   "outputs": [
    {
     "data": {
      "text/html": [
       "<div>\n",
       "<style scoped>\n",
       "    .dataframe tbody tr th:only-of-type {\n",
       "        vertical-align: middle;\n",
       "    }\n",
       "\n",
       "    .dataframe tbody tr th {\n",
       "        vertical-align: top;\n",
       "    }\n",
       "\n",
       "    .dataframe thead th {\n",
       "        text-align: right;\n",
       "    }\n",
       "</style>\n",
       "<table border=\"1\" class=\"dataframe\">\n",
       "  <thead>\n",
       "    <tr style=\"text-align: right;\">\n",
       "      <th></th>\n",
       "      <th>Intercept</th>\n",
       "      <th>category[T.2]</th>\n",
       "      <th>category[T.3]</th>\n",
       "      <th>category[T.4]</th>\n",
       "      <th>numerical</th>\n",
       "    </tr>\n",
       "  </thead>\n",
       "  <tbody>\n",
       "    <tr>\n",
       "      <th>0</th>\n",
       "      <td>0.554431</td>\n",
       "      <td>-0.342231</td>\n",
       "      <td>-0.000000</td>\n",
       "      <td>-0.000000</td>\n",
       "      <td>-0.000726</td>\n",
       "    </tr>\n",
       "    <tr>\n",
       "      <th>1</th>\n",
       "      <td>0.554431</td>\n",
       "      <td>-0.342231</td>\n",
       "      <td>-0.000000</td>\n",
       "      <td>-0.000000</td>\n",
       "      <td>-0.005765</td>\n",
       "    </tr>\n",
       "    <tr>\n",
       "      <th>2</th>\n",
       "      <td>0.554431</td>\n",
       "      <td>-0.342231</td>\n",
       "      <td>-0.000000</td>\n",
       "      <td>-0.000000</td>\n",
       "      <td>-0.012039</td>\n",
       "    </tr>\n",
       "    <tr>\n",
       "      <th>3</th>\n",
       "      <td>0.554431</td>\n",
       "      <td>-0.000000</td>\n",
       "      <td>-0.425982</td>\n",
       "      <td>-0.000000</td>\n",
       "      <td>-0.003457</td>\n",
       "    </tr>\n",
       "    <tr>\n",
       "      <th>4</th>\n",
       "      <td>0.554431</td>\n",
       "      <td>-0.342231</td>\n",
       "      <td>-0.000000</td>\n",
       "      <td>-0.000000</td>\n",
       "      <td>-0.006060</td>\n",
       "    </tr>\n",
       "    <tr>\n",
       "      <th>5</th>\n",
       "      <td>0.554431</td>\n",
       "      <td>-0.000000</td>\n",
       "      <td>-0.000000</td>\n",
       "      <td>-0.000000</td>\n",
       "      <td>-0.002127</td>\n",
       "    </tr>\n",
       "    <tr>\n",
       "      <th>6</th>\n",
       "      <td>0.554431</td>\n",
       "      <td>-0.342231</td>\n",
       "      <td>-0.000000</td>\n",
       "      <td>-0.000000</td>\n",
       "      <td>-0.005258</td>\n",
       "    </tr>\n",
       "    <tr>\n",
       "      <th>7</th>\n",
       "      <td>0.554431</td>\n",
       "      <td>-0.342231</td>\n",
       "      <td>-0.000000</td>\n",
       "      <td>-0.000000</td>\n",
       "      <td>-0.009638</td>\n",
       "    </tr>\n",
       "    <tr>\n",
       "      <th>8</th>\n",
       "      <td>0.554431</td>\n",
       "      <td>-0.000000</td>\n",
       "      <td>-0.000000</td>\n",
       "      <td>-0.467178</td>\n",
       "      <td>-0.030043</td>\n",
       "    </tr>\n",
       "    <tr>\n",
       "      <th>9</th>\n",
       "      <td>0.554431</td>\n",
       "      <td>-0.342231</td>\n",
       "      <td>-0.000000</td>\n",
       "      <td>-0.000000</td>\n",
       "      <td>-0.005159</td>\n",
       "    </tr>\n",
       "  </tbody>\n",
       "</table>\n",
       "</div>"
      ],
      "text/plain": [
       "   Intercept  category[T.2]  category[T.3]  category[T.4]  numerical\n",
       "0   0.554431      -0.342231      -0.000000      -0.000000  -0.000726\n",
       "1   0.554431      -0.342231      -0.000000      -0.000000  -0.005765\n",
       "2   0.554431      -0.342231      -0.000000      -0.000000  -0.012039\n",
       "3   0.554431      -0.000000      -0.425982      -0.000000  -0.003457\n",
       "4   0.554431      -0.342231      -0.000000      -0.000000  -0.006060\n",
       "5   0.554431      -0.000000      -0.000000      -0.000000  -0.002127\n",
       "6   0.554431      -0.342231      -0.000000      -0.000000  -0.005258\n",
       "7   0.554431      -0.342231      -0.000000      -0.000000  -0.009638\n",
       "8   0.554431      -0.000000      -0.000000      -0.467178  -0.030043\n",
       "9   0.554431      -0.342231      -0.000000      -0.000000  -0.005159"
      ]
     },
     "execution_count": 43,
     "metadata": {},
     "output_type": "execute_result"
    }
   ],
   "source": [
    "# we can also just use arrays et voila\n",
    "c = pd.DataFrame(glm.data.exog[:10,:] * glm_fit.params.values,columns=glm.data.param_names)\n",
    "c"
   ]
  },
  {
   "cell_type": "code",
   "execution_count": 44,
   "metadata": {},
   "outputs": [
    {
     "name": "stdout",
     "output_type": "stream",
     "text": [
      "Sample Mu 4.66, Predicted Mu 4.73\n",
      "Sample Mu 4.85, Predicted Mu 4.84\n",
      "Sample Mu 5.05, Predicted Mu 5.00\n",
      "Sample Mu 8.08, Predicted Mu 8.00\n",
      "Sample Mu 4.90, Predicted Mu 4.85\n",
      "Sample Mu 1.80, Predicted Mu 1.81\n",
      "Sample Mu 4.81, Predicted Mu 4.83\n",
      "Sample Mu 4.91, Predicted Mu 4.94\n",
      "Sample Mu 17.17, Predicted Mu 17.48\n",
      "Sample Mu 4.80, Predicted Mu 4.83\n"
     ]
    },
    {
     "data": {
      "image/png": "[encoded data removed]",
      "text/plain": [
       "<Figure size 1800x360 with 1 Axes>"
      ]
     },
     "metadata": {
      "needs_background": "light"
     },
     "output_type": "display_data"
    }
   ],
   "source": [
    "fig,axs = plt.subplots(1,1,figsize=(25,5))\n",
    "for i,pred in zip(c.index,glm_fit.predict()[:10]):\n",
    "    scale = glm_fit.scale/c.loc[[i]].sum(axis=1)\n",
    "    sample = np.random.gamma(shape=1/glm_fit.scale,scale=scale,size=1000)\n",
    "    sns.distplot(sample,label=i,ax=axs)\n",
    "    print(f'Sample Mu {sample.mean():.2f}, Predicted Mu {pred:.2f}')\n",
    "plt.legend();"
   ]
  },
  {
   "cell_type": "markdown",
   "metadata": {},
   "source": [
    "***notes***"
   ]
  },
  {
   "cell_type": "code",
   "execution_count": 45,
   "metadata": {},
   "outputs": [
    {
     "data": {
      "text/plain": [
       "array([0.211474  , 0.20643516, 0.2001606 , ..., 0.21050209, 0.11441448,\n",
       "       0.20605775])"
      ]
     },
     "execution_count": 45,
     "metadata": {},
     "output_type": "execute_result"
    }
   ],
   "source": [
    "# inver link functions\n",
    "# https://stats.stackexchange.com/a/393912/100439\n",
    "glm_fit.predict(linear=True)"
   ]
  },
  {
   "cell_type": "code",
   "execution_count": null,
   "metadata": {},
   "outputs": [],
   "source": []
  }
 ],
 "metadata": {
  "kernelspec": {
   "display_name": "Python [conda env:machine-learning]",
   "language": "python",
   "name": "conda-env-machine-learning-py"
  },
  "language_info": {
   "codemirror_mode": {
    "name": "ipython",
    "version": 3
   },
   "file_extension": ".py",
   "mimetype": "text/x-python",
   "name": "python",
   "nbconvert_exporter": "python",
   "pygments_lexer": "ipython3",
   "version": "3.7.5"
  }
 },
 "nbformat": 4,
 "nbformat_minor": 4
}
