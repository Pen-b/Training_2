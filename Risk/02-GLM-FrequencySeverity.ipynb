{
 "cells": [
  {
   "cell_type": "markdown",
   "metadata": {},
   "source": [
    "<img src=\"glm-plot.png\" width=\"400\" height=\"400\">\n",
    "\n",
    "# GLM Deep Dive\n",
    "## Frequency Severity modelling\n",
    "\n",
    "This notebook is a deep dive into [General Linear Models (GLM's)](https://online.stat.psu.edu/stat504/node/216/) with a focus on the GLM's used in insurance risk modeling and pricing ([Yan, J. 2010)](https://www.casact.org/education/rpm/2012/handouts/Session_4738_presentation_1068_0.pdf).I have used GLM's before including: a Logistic Regression for landslide geo-hazards (([Postance, 2017](https://onlinelibrary.wiley.com/doi/full/10.1002/esp.4202))), for modeling extreme rainfall and developing catastrophe models ([Postance, 2017](https://scholar.google.co.uk/scholar?oi=bibs&cluster=13784644545966658880&btnI=1&hl=en)). The motivation for this post is to develop a deeper knowledge of the assumptions and application of the models and methods used by Insurance Actuaries, and to better understand how these compare to machine learning methods."
   ]
  },
  {
   "cell_type": "code",
   "execution_count": 1,
   "metadata": {},
   "outputs": [],
   "source": [
    "import urllib.request\n",
    "import shutil\n",
    "import pandas as pd\n",
    "import numpy as np\n",
    "\n",
    "from matplotlib import pyplot as plt\n",
    "plt.rcParams.update({'font.size': 12})\n",
    "import seaborn as sns\n",
    "from IPython.display import Image\n",
    "from IPython.core.display import HTML \n",
    "\n",
    "from sklearn.model_selection import train_test_split\n",
    "from sklearn import metrics\n",
    "from scipy import stats\n",
    "from patsy import dmatrices,dmatrix\n",
    "import statsmodels.api as sm\n",
    "import statsmodels.formula.api as smf"
   ]
  },
  {
   "cell_type": "markdown",
   "metadata": {},
   "source": [
    "### Case study dataset: motorcylce insurance\n",
    "The [Ohlsson dataset](https://cran.r-project.org/web/packages/insuranceData/insuranceData.pdf#Rfn.dataOhlsson.1) is from a former Swedish insurance company Wasa. The data includes aggregated  customer, policy and claims data for 64,548 motocycle coverages for the period 1994-1998. The data is used extensively in actuarial training and sylabus worldwide [Ohlsson, (2010)](https://www.springer.com/gp/book/9783642107900#aboutBook).\n",
    "\n",
    "\n",
    "Variables inclde:\n",
    " 1. (0:2) agarald - The owners age, between 0 and 99, a numeric vector.\n",
    " 1. (2:3) kon - The owners sex,factor with levels K (female) M (male).\n",
    " 1. (3:4) zon - Geographic zone numbered from 1 to 7, in a standard classification of all Swedish parishes, anumeric vector\n",
    " 1. (4:5) mcklass - MC class, a classification by the so called EV ratio, defined as (Engine power in kW x100) / (Vehicle weight in kg + 75), rounded to the nearest lower integer. The 75 kg represents the average driver weight. The EV ratios are divided into seven classes, a numeric vector\n",
    " 1. (5:7) fordald - Vehicle age, between 0 and 99, a numeric vector\n",
    " 1. (7:8) bonuskl - Bonus class, taking values from 1 to 7. \n",
    "  - A new driver starts with bonus class 1. For each claim free year the bonus class is increased by 1. \n",
    "  - After the first claim the bonus is decreased by  2. The  driver  can  not  return  to  class  7  with  less  than  6  consecutive  claim  free  years,  a numeric vector\n",
    " 1. (8:16) duration - the number of policy years, a numeric vector\n",
    " 1. (16:20) antskad - the number of claims, a numeric vector\n",
    " 1. (20:) skadkost - the claim cost, a numeric vector\n",
    "\n",
    "- *(n:n) are the columnar positions of the data*\n",
    "- *data avaliable [here](https://staff.math.su.se/esbj/GLMbook/case.html)*"
   ]
  },
  {
   "cell_type": "code",
   "execution_count": 2,
   "metadata": {},
   "outputs": [
    {
     "data": {
      "text/html": [
       "<div>\n",
       "<style scoped>\n",
       "    .dataframe tbody tr th:only-of-type {\n",
       "        vertical-align: middle;\n",
       "    }\n",
       "\n",
       "    .dataframe tbody tr th {\n",
       "        vertical-align: top;\n",
       "    }\n",
       "\n",
       "    .dataframe thead th {\n",
       "        text-align: right;\n",
       "    }\n",
       "</style>\n",
       "<table border=\"1\" class=\"dataframe\">\n",
       "  <thead>\n",
       "    <tr style=\"text-align: right;\">\n",
       "      <th></th>\n",
       "      <th>dtype</th>\n",
       "      <th>null</th>\n",
       "      <th>nunique</th>\n",
       "    </tr>\n",
       "  </thead>\n",
       "  <tbody>\n",
       "    <tr>\n",
       "      <td>Age</td>\n",
       "      <td>float64</td>\n",
       "      <td>0</td>\n",
       "      <td>85</td>\n",
       "    </tr>\n",
       "    <tr>\n",
       "      <td>Sex</td>\n",
       "      <td>category</td>\n",
       "      <td>0</td>\n",
       "      <td>2</td>\n",
       "    </tr>\n",
       "    <tr>\n",
       "      <td>Geog</td>\n",
       "      <td>category</td>\n",
       "      <td>0</td>\n",
       "      <td>7</td>\n",
       "    </tr>\n",
       "    <tr>\n",
       "      <td>EV</td>\n",
       "      <td>category</td>\n",
       "      <td>0</td>\n",
       "      <td>7</td>\n",
       "    </tr>\n",
       "    <tr>\n",
       "      <td>VehAge</td>\n",
       "      <td>int64</td>\n",
       "      <td>0</td>\n",
       "      <td>85</td>\n",
       "    </tr>\n",
       "    <tr>\n",
       "      <td>NCD</td>\n",
       "      <td>category</td>\n",
       "      <td>0</td>\n",
       "      <td>7</td>\n",
       "    </tr>\n",
       "    <tr>\n",
       "      <td>PYrs</td>\n",
       "      <td>float64</td>\n",
       "      <td>0</td>\n",
       "      <td>2577</td>\n",
       "    </tr>\n",
       "    <tr>\n",
       "      <td>Claims</td>\n",
       "      <td>int64</td>\n",
       "      <td>0</td>\n",
       "      <td>3</td>\n",
       "    </tr>\n",
       "    <tr>\n",
       "      <td>Severity</td>\n",
       "      <td>float64</td>\n",
       "      <td>0</td>\n",
       "      <td>590</td>\n",
       "    </tr>\n",
       "    <tr>\n",
       "      <td>Claim</td>\n",
       "      <td>int64</td>\n",
       "      <td>0</td>\n",
       "      <td>2</td>\n",
       "    </tr>\n",
       "    <tr>\n",
       "      <td>SeverityAvg</td>\n",
       "      <td>float64</td>\n",
       "      <td>0</td>\n",
       "      <td>590</td>\n",
       "    </tr>\n",
       "  </tbody>\n",
       "</table>\n",
       "</div>"
      ],
      "text/plain": [
       "                dtype  null  nunique\n",
       "Age           float64     0       85\n",
       "Sex          category     0        2\n",
       "Geog         category     0        7\n",
       "EV           category     0        7\n",
       "VehAge          int64     0       85\n",
       "NCD          category     0        7\n",
       "PYrs          float64     0     2577\n",
       "Claims          int64     0        3\n",
       "Severity      float64     0      590\n",
       "Claim           int64     0        2\n",
       "SeverityAvg   float64     0      590"
      ]
     },
     "execution_count": 2,
     "metadata": {},
     "output_type": "execute_result"
    }
   ],
   "source": [
    "# read or get file\n",
    "file_name='mccase.txt'\n",
    "\n",
    "try: \n",
    "    file = open(file_name,'r')\n",
    "except:\n",
    "    url = 'https://staff.math.su.se/esbj/GLMbook/mccase.txt'\n",
    "    # Download the file from `url` and save it locally under `file_name`:\n",
    "    with urllib.request.urlopen(url) as response, open(file_name, 'wb') as out_file:\n",
    "        shutil.copyfileobj(response, out_file)\n",
    "    file = open(file_name,'r')\n",
    "\n",
    "# load file\n",
    "dat = list()\n",
    "for line in file.readlines():\n",
    "    dat.append([line[:2],line[2:3],line[3:4],line[4:5],line[5:7],line[7:8],line[8:16],line[16:20],str(line[20:]).replace('\\n','')])\n",
    "file.close()\n",
    "df = pd.DataFrame(dat,columns=['Age','Sex','Geog','EV','VehAge','NCD','PYrs','Claims','Severity'])\n",
    "df = df.astype({'Age':float,'Sex':'category','Geog':'category','EV':'category',\n",
    "                'VehAge':int,'NCD':'category','PYrs':float,'Claims':int,'Severity':float}).copy()\n",
    "\n",
    "# PYrs is the fraction of compelete policy years \n",
    "# there are some policies with 0.0 duration (1/365 = 0.00274 = 1 day)\n",
    "# set these to 1 day\n",
    "df.loc[df['PYrs']==0.0,'PYrs'] = 1.0/365.0\n",
    "\n",
    "# single claim frequency indicator\n",
    "df['Claim'] = (df['Claims']>=1).astype(int)\n",
    "\n",
    "# avg severity\n",
    "df['SeverityAvg'] = (df['Severity'] / df['Claims']).fillna(0.0)\n",
    "\n",
    "pd.DataFrame({'dtype':df.dtypes,'null':df.isnull().sum(),'nunique':df.nunique()})"
   ]
  },
  {
   "cell_type": "markdown",
   "metadata": {},
   "source": [
    "### EDA\n",
    "\n",
    "- low number of claims and frequency (1% freq)"
   ]
  },
  {
   "cell_type": "code",
   "execution_count": 3,
   "metadata": {},
   "outputs": [
    {
     "data": {
      "text/html": [
       "<div>\n",
       "<style scoped>\n",
       "    .dataframe tbody tr th:only-of-type {\n",
       "        vertical-align: middle;\n",
       "    }\n",
       "\n",
       "    .dataframe tbody tr th {\n",
       "        vertical-align: top;\n",
       "    }\n",
       "\n",
       "    .dataframe thead th {\n",
       "        text-align: right;\n",
       "    }\n",
       "</style>\n",
       "<table border=\"1\" class=\"dataframe\">\n",
       "  <thead>\n",
       "    <tr style=\"text-align: right;\">\n",
       "      <th></th>\n",
       "      <th>Age</th>\n",
       "      <th>VehAge</th>\n",
       "      <th>PYrs</th>\n",
       "      <th>Claims</th>\n",
       "      <th>Severity</th>\n",
       "      <th>Claim</th>\n",
       "      <th>SeverityAvg</th>\n",
       "    </tr>\n",
       "  </thead>\n",
       "  <tbody>\n",
       "    <tr>\n",
       "      <td>count</td>\n",
       "      <td>64548.000000</td>\n",
       "      <td>64548.000000</td>\n",
       "      <td>64548.000000</td>\n",
       "      <td>64548.000000</td>\n",
       "      <td>64548.000000</td>\n",
       "      <td>64548.000000</td>\n",
       "      <td>64548.000000</td>\n",
       "    </tr>\n",
       "    <tr>\n",
       "      <td>mean</td>\n",
       "      <td>42.416062</td>\n",
       "      <td>12.540063</td>\n",
       "      <td>1.010759</td>\n",
       "      <td>0.010798</td>\n",
       "      <td>264.017785</td>\n",
       "      <td>0.010380</td>\n",
       "      <td>246.964360</td>\n",
       "    </tr>\n",
       "    <tr>\n",
       "      <td>std</td>\n",
       "      <td>12.980960</td>\n",
       "      <td>9.727445</td>\n",
       "      <td>1.307356</td>\n",
       "      <td>0.107323</td>\n",
       "      <td>4694.693604</td>\n",
       "      <td>0.101352</td>\n",
       "      <td>4198.994975</td>\n",
       "    </tr>\n",
       "    <tr>\n",
       "      <td>min</td>\n",
       "      <td>0.000000</td>\n",
       "      <td>0.000000</td>\n",
       "      <td>0.002740</td>\n",
       "      <td>0.000000</td>\n",
       "      <td>0.000000</td>\n",
       "      <td>0.000000</td>\n",
       "      <td>0.000000</td>\n",
       "    </tr>\n",
       "    <tr>\n",
       "      <td>25%</td>\n",
       "      <td>31.000000</td>\n",
       "      <td>5.000000</td>\n",
       "      <td>0.463014</td>\n",
       "      <td>0.000000</td>\n",
       "      <td>0.000000</td>\n",
       "      <td>0.000000</td>\n",
       "      <td>0.000000</td>\n",
       "    </tr>\n",
       "    <tr>\n",
       "      <td>50%</td>\n",
       "      <td>44.000000</td>\n",
       "      <td>12.000000</td>\n",
       "      <td>0.827397</td>\n",
       "      <td>0.000000</td>\n",
       "      <td>0.000000</td>\n",
       "      <td>0.000000</td>\n",
       "      <td>0.000000</td>\n",
       "    </tr>\n",
       "    <tr>\n",
       "      <td>75%</td>\n",
       "      <td>52.000000</td>\n",
       "      <td>16.000000</td>\n",
       "      <td>1.000000</td>\n",
       "      <td>0.000000</td>\n",
       "      <td>0.000000</td>\n",
       "      <td>0.000000</td>\n",
       "      <td>0.000000</td>\n",
       "    </tr>\n",
       "    <tr>\n",
       "      <td>max</td>\n",
       "      <td>92.000000</td>\n",
       "      <td>99.000000</td>\n",
       "      <td>31.339730</td>\n",
       "      <td>2.000000</td>\n",
       "      <td>365347.000000</td>\n",
       "      <td>1.000000</td>\n",
       "      <td>211254.000000</td>\n",
       "    </tr>\n",
       "  </tbody>\n",
       "</table>\n",
       "</div>"
      ],
      "text/plain": [
       "                Age        VehAge          PYrs        Claims       Severity  \\\n",
       "count  64548.000000  64548.000000  64548.000000  64548.000000   64548.000000   \n",
       "mean      42.416062     12.540063      1.010759      0.010798     264.017785   \n",
       "std       12.980960      9.727445      1.307356      0.107323    4694.693604   \n",
       "min        0.000000      0.000000      0.002740      0.000000       0.000000   \n",
       "25%       31.000000      5.000000      0.463014      0.000000       0.000000   \n",
       "50%       44.000000     12.000000      0.827397      0.000000       0.000000   \n",
       "75%       52.000000     16.000000      1.000000      0.000000       0.000000   \n",
       "max       92.000000     99.000000     31.339730      2.000000  365347.000000   \n",
       "\n",
       "              Claim    SeverityAvg  \n",
       "count  64548.000000   64548.000000  \n",
       "mean       0.010380     246.964360  \n",
       "std        0.101352    4198.994975  \n",
       "min        0.000000       0.000000  \n",
       "25%        0.000000       0.000000  \n",
       "50%        0.000000       0.000000  \n",
       "75%        0.000000       0.000000  \n",
       "max        1.000000  211254.000000  "
      ]
     },
     "execution_count": 3,
     "metadata": {},
     "output_type": "execute_result"
    }
   ],
   "source": [
    "df.describe()"
   ]
  },
  {
   "cell_type": "code",
   "execution_count": 4,
   "metadata": {},
   "outputs": [
    {
     "data": {
      "text/html": [
       "<div>\n",
       "<style scoped>\n",
       "    .dataframe tbody tr th:only-of-type {\n",
       "        vertical-align: middle;\n",
       "    }\n",
       "\n",
       "    .dataframe tbody tr th {\n",
       "        vertical-align: top;\n",
       "    }\n",
       "\n",
       "    .dataframe thead th {\n",
       "        text-align: right;\n",
       "    }\n",
       "</style>\n",
       "<table border=\"1\" class=\"dataframe\">\n",
       "  <thead>\n",
       "    <tr style=\"text-align: right;\">\n",
       "      <th></th>\n",
       "      <th>Age</th>\n",
       "      <th>VehAge</th>\n",
       "      <th>PYrs</th>\n",
       "      <th>Claims</th>\n",
       "      <th>Severity</th>\n",
       "      <th>Claim</th>\n",
       "      <th>SeverityAvg</th>\n",
       "    </tr>\n",
       "  </thead>\n",
       "  <tbody>\n",
       "    <tr>\n",
       "      <td>count</td>\n",
       "      <td>670.000000</td>\n",
       "      <td>670.000000</td>\n",
       "      <td>670.000000</td>\n",
       "      <td>670.000000</td>\n",
       "      <td>670.000000</td>\n",
       "      <td>670.0</td>\n",
       "      <td>670.000000</td>\n",
       "    </tr>\n",
       "    <tr>\n",
       "      <td>mean</td>\n",
       "      <td>35.476119</td>\n",
       "      <td>7.965672</td>\n",
       "      <td>1.579415</td>\n",
       "      <td>1.040299</td>\n",
       "      <td>25435.552239</td>\n",
       "      <td>1.0</td>\n",
       "      <td>23792.620149</td>\n",
       "    </tr>\n",
       "    <tr>\n",
       "      <td>std</td>\n",
       "      <td>12.851056</td>\n",
       "      <td>6.768896</td>\n",
       "      <td>2.983317</td>\n",
       "      <td>0.196805</td>\n",
       "      <td>38539.415033</td>\n",
       "      <td>0.0</td>\n",
       "      <td>33765.250000</td>\n",
       "    </tr>\n",
       "    <tr>\n",
       "      <td>min</td>\n",
       "      <td>16.000000</td>\n",
       "      <td>0.000000</td>\n",
       "      <td>0.002740</td>\n",
       "      <td>1.000000</td>\n",
       "      <td>16.000000</td>\n",
       "      <td>1.0</td>\n",
       "      <td>16.000000</td>\n",
       "    </tr>\n",
       "    <tr>\n",
       "      <td>25%</td>\n",
       "      <td>25.000000</td>\n",
       "      <td>2.000000</td>\n",
       "      <td>0.430137</td>\n",
       "      <td>1.000000</td>\n",
       "      <td>3031.500000</td>\n",
       "      <td>1.0</td>\n",
       "      <td>3007.750000</td>\n",
       "    </tr>\n",
       "    <tr>\n",
       "      <td>50%</td>\n",
       "      <td>30.000000</td>\n",
       "      <td>7.000000</td>\n",
       "      <td>0.790411</td>\n",
       "      <td>1.000000</td>\n",
       "      <td>9015.000000</td>\n",
       "      <td>1.0</td>\n",
       "      <td>8723.500000</td>\n",
       "    </tr>\n",
       "    <tr>\n",
       "      <td>75%</td>\n",
       "      <td>47.000000</td>\n",
       "      <td>12.000000</td>\n",
       "      <td>1.497945</td>\n",
       "      <td>1.000000</td>\n",
       "      <td>29304.500000</td>\n",
       "      <td>1.0</td>\n",
       "      <td>26787.750000</td>\n",
       "    </tr>\n",
       "    <tr>\n",
       "      <td>max</td>\n",
       "      <td>68.000000</td>\n",
       "      <td>55.000000</td>\n",
       "      <td>31.167120</td>\n",
       "      <td>2.000000</td>\n",
       "      <td>365347.000000</td>\n",
       "      <td>1.0</td>\n",
       "      <td>211254.000000</td>\n",
       "    </tr>\n",
       "  </tbody>\n",
       "</table>\n",
       "</div>"
      ],
      "text/plain": [
       "              Age      VehAge        PYrs      Claims       Severity  Claim  \\\n",
       "count  670.000000  670.000000  670.000000  670.000000     670.000000  670.0   \n",
       "mean    35.476119    7.965672    1.579415    1.040299   25435.552239    1.0   \n",
       "std     12.851056    6.768896    2.983317    0.196805   38539.415033    0.0   \n",
       "min     16.000000    0.000000    0.002740    1.000000      16.000000    1.0   \n",
       "25%     25.000000    2.000000    0.430137    1.000000    3031.500000    1.0   \n",
       "50%     30.000000    7.000000    0.790411    1.000000    9015.000000    1.0   \n",
       "75%     47.000000   12.000000    1.497945    1.000000   29304.500000    1.0   \n",
       "max     68.000000   55.000000   31.167120    2.000000  365347.000000    1.0   \n",
       "\n",
       "         SeverityAvg  \n",
       "count     670.000000  \n",
       "mean    23792.620149  \n",
       "std     33765.250000  \n",
       "min        16.000000  \n",
       "25%      3007.750000  \n",
       "50%      8723.500000  \n",
       "75%     26787.750000  \n",
       "max    211254.000000  "
      ]
     },
     "execution_count": 4,
     "metadata": {},
     "output_type": "execute_result"
    }
   ],
   "source": [
    "claims = df.loc[df['Claims']!=0]\n",
    "claims.describe()"
   ]
  },
  {
   "cell_type": "code",
   "execution_count": 5,
   "metadata": {},
   "outputs": [
    {
     "data": {
      "image/png": "[encoded data removed]",
      "text/plain": [
       "<Figure size 864x864 with 12 Axes>"
      ]
     },
     "metadata": {
      "needs_background": "light"
     },
     "output_type": "display_data"
    }
   ],
   "source": [
    "fig,axs=plt.subplots(3,4,figsize=(12,12),sharey=False)\n",
    "\n",
    "# claim proportions by category\n",
    "for ax,feat in zip(axs.flatten()[:4],df.select_dtypes(include='category').columns):\n",
    "    ((pd.crosstab(df['Claim'],df[feat])) /\n",
    "                    (pd.crosstab(df['Claim'],df[feat]).sum())).T.plot.bar(stacked=True,ax=ax,legend=False,title=None)\n",
    "    ax.set_title(feat)\n",
    "    ax.set_ylim(0.7,1)\n",
    "    ax.set_yticks([])\n",
    "axs[0,0].set_yticks(np.arange(0.7,1.0,0.1))\n",
    "axs[0,0].set_ylabel('Claim porportion per group')\n",
    "\n",
    "# severity by category\n",
    "for col,ax in zip(df.select_dtypes(include='category').columns,axs.flatten()[4:]):\n",
    "    sns.boxplot(x=col,y='Severity',data=claims,ax=ax)\n",
    "    ax.set_yticks([])\n",
    "    ax.set_ylabel('')\n",
    "\n",
    "# severity by continuous\n",
    "for col,ax in zip(['Age','VehAge','PYrs'],axs.flatten()[8:]):\n",
    "    sns.scatterplot(x=col,y='Severity',data=claims,ax=ax)\n",
    "    ax.set_yticks([])\n",
    "    ax.set_ylabel('')\n",
    "\n",
    "for ax in axs[1:3,0]:\n",
    "    ax.set_ylabel('Severity')\n",
    "    ax.set_yticks(np.arange(0,4e5,5e4))"
   ]
  },
  {
   "cell_type": "markdown",
   "metadata": {},
   "source": [
    "### Modelling\n",
    "- StatsModels (SM) uses patsy [formula notation](https://www.statsmodels.org/devel/example_formulas.html).\n",
    "- This includes: [notation for categorical variables ](https://www.statsmodels.org/devel/contrasts.html), setting [reference/base levels](https://stackoverflow.com/a/22439820/4538066), [encoding options](https://www.statsmodels.org/devel/contrasts.html), and [operators](https://www.statsmodels.org/devel/example_formulas.html#categorical-variables)."
   ]
  },
  {
   "cell_type": "code",
   "execution_count": 6,
   "metadata": {},
   "outputs": [
    {
     "name": "stdout",
     "output_type": "stream",
     "text": [
      "Frequency\n",
      "Train:\t45183\t469\t$11664342.0\n",
      "Test:\t19365\t201\t$5377478.0\n",
      "\n",
      "Severity\n",
      "Train:\t469\t469\t$11664342.0\n",
      "Test:\t201\t201\t$5377478.0\n",
      "\n"
     ]
    }
   ],
   "source": [
    "# train-test splits stratifies on claims\n",
    "# take copies to overcome chained assignment\n",
    "train,test = train_test_split(df,test_size=0.3,random_state=1990,stratify=df['Claim'])\n",
    "train = df.loc[train.index].copy()\n",
    "test = df.loc[test.index].copy()\n",
    "a,b,c,d = train['Claim'].sum(),train['Severity'].sum(),test['Claim'].sum(),test['Severity'].sum()\n",
    "print(f\"Frequency\\nTrain:\\t{len(train)}\\t{a}\\t${b}\\nTest:\\t{len(test)}\\t{c}\\t${d}\\n\")\n",
    "\n",
    "# severity train test\n",
    "train_severity = train.loc[train['Claim']>0].copy()\n",
    "test_severity = test.loc[test['Claim']>0].copy()\n",
    "a,b,c,d = train_severity['Claim'].sum(),train_severity['Severity'].sum(),test_severity['Claim'].sum(),test_severity['Severity'].sum()\n",
    "print(f\"Severity\\nTrain:\\t{len(train_severity)}\\t{a}\\t${b}\\nTest:\\t{len(test_severity)}\\t{c}\\t${d}\\n\")"
   ]
  },
  {
   "cell_type": "markdown",
   "metadata": {},
   "source": [
    "### $Claim Frequency$\n",
    "\n",
    "For predicting the occurence of a single claim (i.e. binary classification) one can use the Binomial distribution (a.k.a Bernoulli trial or coin-toss experiment).\n",
    "\n",
    "When predicting claim counts or frequency, $Y$, a model that prodices Poisson distributed outputs is required. For instance, a Poisson model is suitable for estimating the number of insurance claims per policy per year, or to estimate the number of car crashes per month. \n",
    "\n",
    "The key components and assumptions of a Poisson distributed process are: \n",
    " 1. event occurence is independant of other events. \n",
    " 1. events occur within a fixed period of time.\n",
    " 1. the mean a variance of the distribution are equal e.g. $mu(X) = Var(X) = λ$\n",
    " \n",
    "[*STAT 504: Poisson Distribution*](https://online.stat.psu.edu/stat504/node/57/)\n",
    "\n",
    "\n",
    "If the mean and variance are unequal the distribution is said to be over-disperesed (var > mean) or under-dispersed (var < mean). Over-dispersion commonly arises in data where there are large number of zero's (a.k.a [zero-inflated](https://en.wikipedia.org/wiki/Zero-inflated_model)).\n",
    "\n",
    "In the case of zero-inflated data, it is \"*A sound practice is to estimate both Poisson and negative binomial models.*\" [*Cameron, 2013*](http://faculty.econ.ucdavis.edu/faculty/cameron/racd2/). Also see this practical example for [beverage consumption in pdummy_xyhon](https://dius.com.au/2017/08/03/using-statsmodels-glms-to-model-beverage-consumption/)\n",
    "\n",
    "In GLM's, link-functions are applied in order to make the mean outcome (prediction) fit to some linear model of input variables from other distributions. \"*A natural fit for count variables that follow the Poisson or negative binomial distribution is the log link. The log link exponentiates the linear predictors. It does not log transform the outcome variable.*\" - [*Count Models: Understanding the Log Link Function,TAF*](https://www.theanalysisfactor.com/count-models-understanding-the-log-link-function/)\n",
    "\n",
    "For more information on link-functions see also [here](https://bookdown.org/castillo_sam_d/Exam-PA-Study-Manual/glms-for-classification.html#link-functions).\n",
    "\n",
    "![link functions](https://i0.wp.com/www.theanalysisfactor.com/wp-content/uploads/2016/12/StataCombos-CM2-Blog-JM.png?w=535&ssl=1)"
   ]
  },
  {
   "cell_type": "markdown",
   "metadata": {},
   "source": [
    "Lastly, for any form of count prediction model one can also set an offset or exposure. \n",
    "\n",
    "An offset, if it is known, is applied in order to account for the relative differences in exposure time for of a set of inputs. For example, in insurance claims we might expect to see more claims on an account with 20 years worth of annual policies compared to an account with a single policy year. Offsets account for the relative exposure|surface area|population size|etc and is akin to the relative frequency of occurence ($Claims/years$). See these intuititve SO answers [here](https://stats.stackexchange.com/questions/232666/should-i-use-an-offset-for-my-poisson-glm), [here](https://github.com/statsmodels/statsmodels/issues/1486#issuecomment-40945831), and [here](https://stats.stackexchange.com/questions/25415/using-offset-in-binomial-model-to-account-for-increased-numbers-of-patients)."
   ]
  },
  {
   "cell_type": "code",
   "execution_count": 7,
   "metadata": {},
   "outputs": [
    {
     "name": "stdout",
     "output_type": "stream",
     "text": [
      "mu =  0.0108\n",
      "var = 0.0115\n"
     ]
    }
   ],
   "source": [
    "# Mean & Variance\n",
    "mu = df.Claims.mean()\n",
    "var = np.mean([abs(x - mu)**2 for x in df.Claims])\n",
    "print(f'mu =  {mu:.4f}\\nvar = {var:.4f}')"
   ]
  },
  {
   "cell_type": "markdown",
   "metadata": {},
   "source": [
    "Here we observe an over-dispersed zero-inflated case as the variance of claim occurence ($v=0.0115$) exceeds its mean ($mu=0.0108$).\n",
    "\n",
    "As suggested in Cameron (2013) we should therefore try both $Poisson$ and $Negative Binomial$ distributions.\n",
    "\n",
    "For good measure, and to illustrate its relationship, lets also include a $Binomial$ distribution model. The Binomial model with a logit link is equivalent to a binary Logistic Regression model [[a](https://www.researchgate.net/post/what_is_the_difference_between_running_a_binary_logistic_regression_and_generalised_linear_model),[b](https://towardsdatascience.com/the-binomial-regression-model-everything-you-need-to-know-5216f1a483d3)]. Modelling A binary outcome is not a totally unreasonable approach in this case given that the number of accounts with claims $n>1$ is low (22) and as the $Binomial$ distribution extends to a $Poisson$ when trials $N>20$ is high and $p<0.05$ is low (see [wiki](https://en.wikipedia.org/wiki/Poisson_distribution#Related_distributions), [here](https://math.stackexchange.com/questions/1050184/difference-between-poisson-and-binomial-distributions) and [here](https://www.itl.nist.gov/div898/handbook/pmc/section3/pmc331.htm)).\n",
    "\n",
    "However, there is one change we need to make with the Binomial model. That is to alter the way we handle exposure. A few hours of research on the matter led me down the rabbit hole of conflicting ideas in textbooks, papers [[i](https://doi.org/10.1093/ije/dyu029)] and debates on CrossValidated [[a](https://stats.stackexchange.com/questions/246318/difference-between-offset-and-weights),[b](https://stats.stackexchange.com/questions/25415/using-offset-in-binomial-model-to-account-for-increased-numbers-of-patients/35478)]. In contrast to poisson and neg binomial there is no way to add a constant term or offset in the binomial formulation [(see here)](https://stats.stackexchange.com/a/35478/100439). Rather it is appropriate to either: [include the exposure as a predictor variable](https://stats.stackexchange.com/a/35436/100439), or to use weights for each observation (see [here](https://stackoverflow.com/a/62798889/4538066) and the [statsmodels guidance on methods for GLM with weights and observed freqeuncies](https://www.statsmodels.org/stable/generated/statsmodels.genmod.generalized_linear_model.GLM.html#statsmodels.genmod.generalized_linear_model.GLM). I opted for the weighted GLM. The model output of the binomial GLM is the probability of at least 1 claim occuring weighted by the observation time $t=Pyrs$. Note there is no equivalent setting on the predict side, the predictions assume a discrete equivalent time exposure t=1.\n",
    "\n",
    "In addition it is common in insurance risk models to use a [quasi-poisson or zero inflated poisson (ZIP)](https://towardsdatascience.com/an-illustrated-guide-to-the-zero-inflated-poisson-model-b22833343057) model in scenarios with high instances of zero claims. In data science and machine learning we would refer to this as an unbalanced learning problem (see bootstrap, cross validation, SMOTE). The ZIP model combines:\n",
    " - a binomial model to determine the likelihood of one or more claims occuring (0/1)\n",
    " - a negative binomial or poisson to estimate the number of claims (0...n)\n",
    " - a severity model to estimate the avg size of each claim (1...n)"
   ]
  },
  {
   "cell_type": "code",
   "execution_count": 8,
   "metadata": {},
   "outputs": [],
   "source": [
    "# # examples of formula notation in smf\n",
    "# print(' + '.join(train.columns))\n",
    "# expr = \"Claims ~ Age+C(Sex)+C(Geog, Treatment(reference=3))+EV+VehAge+NCD\"\n",
    "\n",
    "# including PYrs as parameter commented out in glm()\n",
    "expr = \"Claims ~ Age + Sex + Geog + EV + VehAge + NCD\" # + np.log(PYrs)\n",
    "\n",
    "FreqPoisson = smf.glm(formula=expr,\n",
    "                      data=train,\n",
    "                      offset=np.log(train['PYrs']),\n",
    "                      family=sm.families.Poisson(link=sm.families.links.log())).fit()\n",
    "\n",
    "FreqNegBin = smf.glm(formula=expr,\n",
    "                      data=train,\n",
    "                      offset=np.log(train['PYrs']),\n",
    "                      family=sm.families.NegativeBinomial(link=sm.families.links.log())).fit()\n",
    "\n",
    "# uses the binary \"Claim\" field as target\n",
    "# offset is Pyrs (Years complete 0.0...n)\n",
    "# aka a binary logistic regression\n",
    "FreqBinom = smf.glm(formula=\"Claim ~ Age + Sex + Geog + EV + VehAge + NCD \" ,\n",
    "                    data=train,\n",
    "                    freq_weights=train['PYrs'],\n",
    "                    family=sm.families.Binomial(link=sm.families.links.logit())).fit()"
   ]
  },
  {
   "cell_type": "markdown",
   "metadata": {},
   "source": [
    "### Model coefficients"
   ]
  },
  {
   "cell_type": "markdown",
   "metadata": {},
   "source": [
    "***Poisson Parameters***\n",
    "- [Poisson GLM params](https://stackoverflow.com/questions/14923684/interpreting-the-output-of-glm-for-poisson-regression)\n",
    "- [Find lambda](https://stackoverflow.com/questions/25828184/fitting-to-poisson-histogram)\n",
    "\n",
    "We can derive the model output using predict or the raw coefficients. Sampling the poisson rate ($lambda$) illustrates the difference in predicted rates for the intercept and for a when a driver is male. "
   ]
  },
  {
   "cell_type": "code",
   "execution_count": 9,
   "metadata": {},
   "outputs": [
    {
     "data": {
      "text/html": [
       "<table class=\"simpletable\">\n",
       "<caption>Generalized Linear Model Regression Results</caption>\n",
       "<tr>\n",
       "  <th>Dep. Variable:</th>        <td>Claims</td>      <th>  No. Observations:  </th>  <td> 45183</td> \n",
       "</tr>\n",
       "<tr>\n",
       "  <th>Model:</th>                  <td>GLM</td>       <th>  Df Residuals:      </th>  <td> 45161</td> \n",
       "</tr>\n",
       "<tr>\n",
       "  <th>Model Family:</th>         <td>Poisson</td>     <th>  Df Model:          </th>  <td>    21</td> \n",
       "</tr>\n",
       "<tr>\n",
       "  <th>Link Function:</th>          <td>log</td>       <th>  Scale:             </th> <td>  1.0000</td>\n",
       "</tr>\n",
       "<tr>\n",
       "  <th>Method:</th>                <td>IRLS</td>       <th>  Log-Likelihood:    </th> <td> -2541.7</td>\n",
       "</tr>\n",
       "<tr>\n",
       "  <th>Date:</th>            <td>Wed, 14 Oct 2020</td> <th>  Deviance:          </th> <td>  4135.6</td>\n",
       "</tr>\n",
       "<tr>\n",
       "  <th>Time:</th>                <td>21:43:22</td>     <th>  Pearson chi2:      </th> <td>1.83e+05</td>\n",
       "</tr>\n",
       "<tr>\n",
       "  <th>No. Iterations:</th>         <td>22</td>        <th>                     </th>     <td> </td>   \n",
       "</tr>\n",
       "<tr>\n",
       "  <th>Covariance Type:</th>     <td>nonrobust</td>    <th>                     </th>     <td> </td>   \n",
       "</tr>\n",
       "</table>\n",
       "<table class=\"simpletable\">\n",
       "<tr>\n",
       "      <td></td>         <th>coef</th>     <th>std err</th>      <th>z</th>      <th>P>|z|</th>  <th>[0.025</th>    <th>0.975]</th>  \n",
       "</tr>\n",
       "<tr>\n",
       "  <th>Intercept</th> <td>   -0.9052</td> <td>    0.284</td> <td>   -3.184</td> <td> 0.001</td> <td>   -1.462</td> <td>   -0.348</td>\n",
       "</tr>\n",
       "<tr>\n",
       "  <th>Sex[T.M]</th>  <td>    0.3881</td> <td>    0.162</td> <td>    2.392</td> <td> 0.017</td> <td>    0.070</td> <td>    0.706</td>\n",
       "</tr>\n",
       "<tr>\n",
       "  <th>Geog[T.2]</th> <td>   -0.6478</td> <td>    0.135</td> <td>   -4.811</td> <td> 0.000</td> <td>   -0.912</td> <td>   -0.384</td>\n",
       "</tr>\n",
       "<tr>\n",
       "  <th>Geog[T.3]</th> <td>   -0.9043</td> <td>    0.137</td> <td>   -6.606</td> <td> 0.000</td> <td>   -1.173</td> <td>   -0.636</td>\n",
       "</tr>\n",
       "<tr>\n",
       "  <th>Geog[T.4]</th> <td>   -1.3826</td> <td>    0.123</td> <td>  -11.254</td> <td> 0.000</td> <td>   -1.623</td> <td>   -1.142</td>\n",
       "</tr>\n",
       "<tr>\n",
       "  <th>Geog[T.5]</th> <td>   -1.5218</td> <td>    0.389</td> <td>   -3.912</td> <td> 0.000</td> <td>   -2.284</td> <td>   -0.759</td>\n",
       "</tr>\n",
       "<tr>\n",
       "  <th>Geog[T.6]</th> <td>   -1.4581</td> <td>    0.315</td> <td>   -4.623</td> <td> 0.000</td> <td>   -2.076</td> <td>   -0.840</td>\n",
       "</tr>\n",
       "<tr>\n",
       "  <th>Geog[T.7]</th> <td>  -22.0308</td> <td> 1.77e+04</td> <td>   -0.001</td> <td> 0.999</td> <td>-3.47e+04</td> <td> 3.46e+04</td>\n",
       "</tr>\n",
       "<tr>\n",
       "  <th>EV[T.2]</th>   <td>    0.0923</td> <td>    0.237</td> <td>    0.389</td> <td> 0.697</td> <td>   -0.372</td> <td>    0.557</td>\n",
       "</tr>\n",
       "<tr>\n",
       "  <th>EV[T.3]</th>   <td>   -0.4219</td> <td>    0.199</td> <td>   -2.115</td> <td> 0.034</td> <td>   -0.813</td> <td>   -0.031</td>\n",
       "</tr>\n",
       "<tr>\n",
       "  <th>EV[T.4]</th>   <td>   -0.3602</td> <td>    0.215</td> <td>   -1.678</td> <td> 0.093</td> <td>   -0.781</td> <td>    0.061</td>\n",
       "</tr>\n",
       "<tr>\n",
       "  <th>EV[T.5]</th>   <td>   -0.0334</td> <td>    0.204</td> <td>   -0.164</td> <td> 0.870</td> <td>   -0.433</td> <td>    0.367</td>\n",
       "</tr>\n",
       "<tr>\n",
       "  <th>EV[T.6]</th>   <td>    0.4132</td> <td>    0.202</td> <td>    2.042</td> <td> 0.041</td> <td>    0.017</td> <td>    0.810</td>\n",
       "</tr>\n",
       "<tr>\n",
       "  <th>EV[T.7]</th>   <td>    0.3316</td> <td>    0.483</td> <td>    0.687</td> <td> 0.492</td> <td>   -0.614</td> <td>    1.278</td>\n",
       "</tr>\n",
       "<tr>\n",
       "  <th>NCD[T.2]</th>  <td>   -0.1441</td> <td>    0.181</td> <td>   -0.795</td> <td> 0.426</td> <td>   -0.499</td> <td>    0.211</td>\n",
       "</tr>\n",
       "<tr>\n",
       "  <th>NCD[T.3]</th>  <td>    0.0184</td> <td>    0.192</td> <td>    0.096</td> <td> 0.923</td> <td>   -0.357</td> <td>    0.394</td>\n",
       "</tr>\n",
       "<tr>\n",
       "  <th>NCD[T.4]</th>  <td>    0.3047</td> <td>    0.184</td> <td>    1.660</td> <td> 0.097</td> <td>   -0.055</td> <td>    0.664</td>\n",
       "</tr>\n",
       "<tr>\n",
       "  <th>NCD[T.5]</th>  <td>   -0.0535</td> <td>    0.215</td> <td>   -0.249</td> <td> 0.804</td> <td>   -0.475</td> <td>    0.368</td>\n",
       "</tr>\n",
       "<tr>\n",
       "  <th>NCD[T.6]</th>  <td>    0.0967</td> <td>    0.206</td> <td>    0.470</td> <td> 0.639</td> <td>   -0.307</td> <td>    0.501</td>\n",
       "</tr>\n",
       "<tr>\n",
       "  <th>NCD[T.7]</th>  <td>    0.1835</td> <td>    0.137</td> <td>    1.334</td> <td> 0.182</td> <td>   -0.086</td> <td>    0.453</td>\n",
       "</tr>\n",
       "<tr>\n",
       "  <th>Age</th>       <td>   -0.0580</td> <td>    0.004</td> <td>  -13.633</td> <td> 0.000</td> <td>   -0.066</td> <td>   -0.050</td>\n",
       "</tr>\n",
       "<tr>\n",
       "  <th>VehAge</th>    <td>   -0.0762</td> <td>    0.008</td> <td>   -9.781</td> <td> 0.000</td> <td>   -0.091</td> <td>   -0.061</td>\n",
       "</tr>\n",
       "</table>"
      ],
      "text/plain": [
       "<class 'statsmodels.iolib.summary.Summary'>\n",
       "\"\"\"\n",
       "                 Generalized Linear Model Regression Results                  \n",
       "==============================================================================\n",
       "Dep. Variable:                 Claims   No. Observations:                45183\n",
       "Model:                            GLM   Df Residuals:                    45161\n",
       "Model Family:                 Poisson   Df Model:                           21\n",
       "Link Function:                    log   Scale:                          1.0000\n",
       "Method:                          IRLS   Log-Likelihood:                -2541.7\n",
       "Date:                Wed, 14 Oct 2020   Deviance:                       4135.6\n",
       "Time:                        21:43:22   Pearson chi2:                 1.83e+05\n",
       "No. Iterations:                    22                                         \n",
       "Covariance Type:            nonrobust                                         \n",
       "==============================================================================\n",
       "                 coef    std err          z      P>|z|      [0.025      0.975]\n",
       "------------------------------------------------------------------------------\n",
       "Intercept     -0.9052      0.284     -3.184      0.001      -1.462      -0.348\n",
       "Sex[T.M]       0.3881      0.162      2.392      0.017       0.070       0.706\n",
       "Geog[T.2]     -0.6478      0.135     -4.811      0.000      -0.912      -0.384\n",
       "Geog[T.3]     -0.9043      0.137     -6.606      0.000      -1.173      -0.636\n",
       "Geog[T.4]     -1.3826      0.123    -11.254      0.000      -1.623      -1.142\n",
       "Geog[T.5]     -1.5218      0.389     -3.912      0.000      -2.284      -0.759\n",
       "Geog[T.6]     -1.4581      0.315     -4.623      0.000      -2.076      -0.840\n",
       "Geog[T.7]    -22.0308   1.77e+04     -0.001      0.999   -3.47e+04    3.46e+04\n",
       "EV[T.2]        0.0923      0.237      0.389      0.697      -0.372       0.557\n",
       "EV[T.3]       -0.4219      0.199     -2.115      0.034      -0.813      -0.031\n",
       "EV[T.4]       -0.3602      0.215     -1.678      0.093      -0.781       0.061\n",
       "EV[T.5]       -0.0334      0.204     -0.164      0.870      -0.433       0.367\n",
       "EV[T.6]        0.4132      0.202      2.042      0.041       0.017       0.810\n",
       "EV[T.7]        0.3316      0.483      0.687      0.492      -0.614       1.278\n",
       "NCD[T.2]      -0.1441      0.181     -0.795      0.426      -0.499       0.211\n",
       "NCD[T.3]       0.0184      0.192      0.096      0.923      -0.357       0.394\n",
       "NCD[T.4]       0.3047      0.184      1.660      0.097      -0.055       0.664\n",
       "NCD[T.5]      -0.0535      0.215     -0.249      0.804      -0.475       0.368\n",
       "NCD[T.6]       0.0967      0.206      0.470      0.639      -0.307       0.501\n",
       "NCD[T.7]       0.1835      0.137      1.334      0.182      -0.086       0.453\n",
       "Age           -0.0580      0.004    -13.633      0.000      -0.066      -0.050\n",
       "VehAge        -0.0762      0.008     -9.781      0.000      -0.091      -0.061\n",
       "==============================================================================\n",
       "\"\"\""
      ]
     },
     "execution_count": 9,
     "metadata": {},
     "output_type": "execute_result"
    }
   ],
   "source": [
    "FreqPoisson.summary()"
   ]
  },
  {
   "cell_type": "code",
   "execution_count": 10,
   "metadata": {},
   "outputs": [
    {
     "name": "stdout",
     "output_type": "stream",
     "text": [
      "Lambda intercept: 0.40\n",
      "Lambda intercept + male: 0.60\n"
     ]
    },
    {
     "data": {
      "image/png": "[encoded data removed]",
      "text/plain": [
       "<Figure size 432x288 with 1 Axes>"
      ]
     },
     "metadata": {
      "needs_background": "light"
     },
     "output_type": "display_data"
    }
   ],
   "source": [
    "fig,axs = plt.subplots(1,1)\n",
    "\n",
    "bins = np.arange(0,10,1)\n",
    "n = 1000\n",
    "print(f'Lambda intercept: {np.exp(FreqPoisson.params[0]):.2f}\\nLambda intercept + male: {np.exp(FreqPoisson.params[0]+FreqPoisson.params[1]):.2f}')\n",
    "\n",
    "axs.hist(np.random.poisson(lam=np.exp(FreqPoisson.params[0]),size=n),\n",
    "         bins=bins,rwidth=0.1,\n",
    "         alpha=1,label='intercept', align='left',color='k')\n",
    "\n",
    "axs.hist(np.random.poisson(lam=np.exp(FreqPoisson.params[0]+FreqPoisson.params[1]),size=n),\n",
    "         bins=bins,rwidth=0.5,\n",
    "         alpha=0.5,label='intercept + Bi',align='left')\n",
    "axs.set_xticks(bins)\n",
    "axs.legend();"
   ]
  },
  {
   "cell_type": "code",
   "execution_count": 11,
   "metadata": {},
   "outputs": [
    {
     "data": {
      "text/html": [
       "<div>\n",
       "<style scoped>\n",
       "    .dataframe tbody tr th:only-of-type {\n",
       "        vertical-align: middle;\n",
       "    }\n",
       "\n",
       "    .dataframe tbody tr th {\n",
       "        vertical-align: top;\n",
       "    }\n",
       "\n",
       "    .dataframe thead th {\n",
       "        text-align: right;\n",
       "    }\n",
       "</style>\n",
       "<table border=\"1\" class=\"dataframe\">\n",
       "  <thead>\n",
       "    <tr style=\"text-align: right;\">\n",
       "      <th></th>\n",
       "      <th>mean</th>\n",
       "      <th>mean_se</th>\n",
       "      <th>mean_ci_lower</th>\n",
       "      <th>mean_ci_upper</th>\n",
       "    </tr>\n",
       "  </thead>\n",
       "  <tbody>\n",
       "    <tr>\n",
       "      <td>0</td>\n",
       "      <td>0.036901</td>\n",
       "      <td>0.007723</td>\n",
       "      <td>0.024485</td>\n",
       "      <td>0.055614</td>\n",
       "    </tr>\n",
       "    <tr>\n",
       "      <td>1</td>\n",
       "      <td>0.030348</td>\n",
       "      <td>0.006528</td>\n",
       "      <td>0.019908</td>\n",
       "      <td>0.046263</td>\n",
       "    </tr>\n",
       "  </tbody>\n",
       "</table>\n",
       "</div>"
      ],
      "text/plain": [
       "       mean   mean_se  mean_ci_lower  mean_ci_upper\n",
       "0  0.036901  0.007723       0.024485       0.055614\n",
       "1  0.030348  0.006528       0.019908       0.046263"
      ]
     },
     "execution_count": 11,
     "metadata": {},
     "output_type": "execute_result"
    }
   ],
   "source": [
    "# get prediction to access easy confidence intervals\n",
    "gp = FreqPoisson.get_prediction(test)\n",
    "gp.summary_frame(alpha=0.05)[:2]"
   ]
  },
  {
   "cell_type": "markdown",
   "metadata": {},
   "source": [
    "***Negative binomial coefficients and incidence rate ratio***\n",
    "\n",
    " - https://stats.idre.ucla.edu/stata/dae/negative-binomial-regression/\n",
    " - https://stats.stackexchange.com/questions/17006/interpretation-of-incidence-rate-ratios\n",
    " - https://stats.stackexchange.com/questions/414752/how-to-interpret-incidence-rate-ratio\n",
    " - https://www.cdc.gov/csels/dsepd/ss1978/lesson3/section5.html"
   ]
  },
  {
   "cell_type": "code",
   "execution_count": 12,
   "metadata": {},
   "outputs": [
    {
     "name": "stdout",
     "output_type": "stream",
     "text": [
      "                 Generalized Linear Model Regression Results                  \n",
      "==============================================================================\n",
      "Dep. Variable:                 Claims   No. Observations:                45183\n",
      "Model:                            GLM   Df Residuals:                    45161\n",
      "Model Family:        NegativeBinomial   Df Model:                           21\n",
      "Link Function:                    log   Scale:                          1.0000\n",
      "Method:                          IRLS   Log-Likelihood:                -2535.9\n",
      "Date:                Wed, 14 Oct 2020   Deviance:                       3754.7\n",
      "Time:                        21:43:23   Pearson chi2:                 1.82e+05\n",
      "No. Iterations:                    21                                         \n",
      "Covariance Type:            nonrobust                                         \n",
      "==============================================================================\n",
      "                 coef    std err          z      P>|z|      [0.025      0.975]\n",
      "------------------------------------------------------------------------------\n",
      "Intercept     -0.8851      0.288     -3.069      0.002      -1.450      -0.320\n",
      "Sex[T.M]       0.3927      0.163      2.403      0.016       0.072       0.713\n",
      "Geog[T.2]     -0.6545      0.137     -4.778      0.000      -0.923      -0.386\n",
      "Geog[T.3]     -0.9104      0.139     -6.541      0.000      -1.183      -0.638\n",
      "Geog[T.4]     -1.3888      0.125    -11.100      0.000      -1.634      -1.144\n",
      "Geog[T.5]     -1.5350      0.391     -3.928      0.000      -2.301      -0.769\n",
      "Geog[T.6]     -1.4693      0.317     -4.635      0.000      -2.091      -0.848\n",
      "Geog[T.7]    -21.1594   1.13e+04     -0.002      0.999   -2.22e+04    2.22e+04\n",
      "EV[T.2]        0.0957      0.240      0.399      0.690      -0.375       0.566\n",
      "EV[T.3]       -0.4359      0.202     -2.155      0.031      -0.832      -0.039\n",
      "EV[T.4]       -0.3671      0.217     -1.690      0.091      -0.793       0.059\n",
      "EV[T.5]       -0.0319      0.207     -0.154      0.877      -0.437       0.373\n",
      "EV[T.6]        0.4212      0.205      2.054      0.040       0.019       0.823\n",
      "EV[T.7]        0.3309      0.486      0.681      0.496      -0.622       1.283\n",
      "NCD[T.2]      -0.1456      0.183     -0.795      0.427      -0.505       0.214\n",
      "NCD[T.3]       0.0171      0.194      0.089      0.929      -0.362       0.397\n",
      "NCD[T.4]       0.2965      0.186      1.591      0.112      -0.069       0.662\n",
      "NCD[T.5]      -0.0509      0.217     -0.234      0.815      -0.477       0.375\n",
      "NCD[T.6]       0.1034      0.208      0.498      0.618      -0.303       0.510\n",
      "NCD[T.7]       0.1871      0.139      1.343      0.179      -0.086       0.460\n",
      "Age           -0.0581      0.004    -13.509      0.000      -0.067      -0.050\n",
      "VehAge        -0.0766      0.008     -9.730      0.000      -0.092      -0.061\n",
      "==============================================================================\n"
     ]
    },
    {
     "name": "stderr",
     "output_type": "stream",
     "text": [
      "/home/ben/anaconda3/envs/machine-learning/lib/python3.7/site-packages/pandas/core/series.py:853: RuntimeWarning: overflow encountered in exp\n",
      "  result = getattr(ufunc, method)(*inputs, **kwargs)\n"
     ]
    },
    {
     "data": {
      "image/png": "[encoded data removed]",
      "text/plain": [
       "<Figure size 1080x504 with 2 Axes>"
      ]
     },
     "metadata": {
      "needs_background": "light"
     },
     "output_type": "display_data"
    }
   ],
   "source": [
    "print(FreqNegBin.summary())\n",
    "X_ = np.arange(0,len(FreqNegBin.params[1:]))\n",
    "irr_ = np.exp(FreqNegBin.params[1:])\n",
    "frq_ = [np.exp(FreqNegBin.params[0]+x) for x in FreqNegBin.params[1:]]\n",
    "df_ = pd.DataFrame({'X':X_,'irr':irr_,'frq':frq_})\n",
    "df_['lwr'] = np.exp(FreqNegBin.conf_int()[0])\n",
    "df_['upr'] = np.exp(FreqNegBin.conf_int()[1])\n",
    "\n",
    "fig,axs = plt.subplots(1,2,figsize=(15,7))\n",
    "ages_ = np.arange(1,50,1)\n",
    "\n",
    "axs[0].set_title('Incidence Rate (odds)')\n",
    "axs[0].scatter(x=df_.irr,y=df_.X,s=50,c='k',linestyle='None')\n",
    "axs[0].errorbar(x=df_.irr,y=df_.X,xerr=(df_.lwr,df_.upr),c='k',linestyle='None')\n",
    "axs[0].plot([1,1],[20,0],'r--')\n",
    "axs[0].set_yticks(df_.X)\n",
    "axs[0].set_yticklabels(irr_.index)\n",
    "\n",
    "axs[1].set_title('Expected Frequency')\n",
    "axs[1].plot(ages_,[np.exp(FreqNegBin.params[0]+FreqNegBin.params['VehAge']*i) for i in ages_],label='VehAge')\n",
    "axs[1].plot(ages_,[np.exp(FreqNegBin.params[0]+FreqNegBin.params['Age']*i) for i in ages_],label='Age')\n",
    "axs[1].legend();"
   ]
  },
  {
   "cell_type": "markdown",
   "metadata": {},
   "source": [
    "***Binomial Model Coefficients and Logits Log-Odds, Odds and Probabilties***\n",
    "- https://sebastiansauer.github.io/convert_logit2prob/"
   ]
  },
  {
   "cell_type": "code",
   "execution_count": 13,
   "metadata": {},
   "outputs": [
    {
     "name": "stdout",
     "output_type": "stream",
     "text": [
      "                 Generalized Linear Model Regression Results                  \n",
      "==============================================================================\n",
      "Dep. Variable:                  Claim   No. Observations:                45183\n",
      "Model:                            GLM   Df Residuals:                 45690.29\n",
      "Model Family:                Binomial   Df Model:                           21\n",
      "Link Function:                  logit   Scale:                          1.0000\n",
      "Method:                          IRLS   Log-Likelihood:                -3504.3\n",
      "Date:                Wed, 14 Oct 2020   Deviance:                       7008.7\n",
      "Time:                        21:43:23   Pearson chi2:                 4.72e+04\n",
      "No. Iterations:                    24                                         \n",
      "Covariance Type:            nonrobust                                         \n",
      "==============================================================================\n",
      "                 coef    std err          z      P>|z|      [0.025      0.975]\n",
      "------------------------------------------------------------------------------\n",
      "Intercept     -2.7911      0.289     -9.672      0.000      -3.357      -2.225\n",
      "Sex[T.M]       0.7379      0.153      4.832      0.000       0.439       1.037\n",
      "Geog[T.2]     -0.4605      0.141     -3.265      0.001      -0.737      -0.184\n",
      "Geog[T.3]     -0.6028      0.140     -4.320      0.000      -0.876      -0.329\n",
      "Geog[T.4]     -0.1851      0.111     -1.668      0.095      -0.403       0.032\n",
      "Geog[T.5]     -1.8854      0.514     -3.667      0.000      -2.893      -0.878\n",
      "Geog[T.6]     -2.0365      0.456     -4.469      0.000      -2.930      -1.143\n",
      "Geog[T.7]    -21.7246   1.56e+04     -0.001      0.999   -3.07e+04    3.06e+04\n",
      "EV[T.2]       -0.0613      0.261     -0.234      0.815      -0.574       0.451\n",
      "EV[T.3]        0.3441      0.198      1.734      0.083      -0.045       0.733\n",
      "EV[T.4]       -0.5492      0.226     -2.426      0.015      -0.993      -0.105\n",
      "EV[T.5]        0.2531      0.204      1.238      0.216      -0.147       0.654\n",
      "EV[T.6]        0.3888      0.207      1.882      0.060      -0.016       0.794\n",
      "EV[T.7]       -1.5831      1.025     -1.544      0.123      -3.593       0.427\n",
      "NCD[T.2]      -0.3731      0.198     -1.887      0.059      -0.761       0.015\n",
      "NCD[T.3]      -0.0929      0.203     -0.458      0.647      -0.490       0.305\n",
      "NCD[T.4]       0.0394      0.206      0.191      0.849      -0.365       0.443\n",
      "NCD[T.5]      -0.7865      0.295     -2.671      0.008      -1.364      -0.209\n",
      "NCD[T.6]      -0.6098      0.273     -2.230      0.026      -1.146      -0.074\n",
      "NCD[T.7]       1.0612      0.123      8.654      0.000       0.821       1.302\n",
      "Age           -0.0384      0.003    -11.086      0.000      -0.045      -0.032\n",
      "VehAge        -0.0705      0.006    -11.589      0.000      -0.082      -0.059\n",
      "==============================================================================\n"
     ]
    }
   ],
   "source": [
    "print(FreqBinom.summary())"
   ]
  },
  {
   "cell_type": "code",
   "execution_count": 14,
   "metadata": {},
   "outputs": [
    {
     "name": "stdout",
     "output_type": "stream",
     "text": [
      "Intercept: p = 0.058\n",
      "Intercept + Male: p = 0.114 (0.056)\n"
     ]
    }
   ],
   "source": [
    "# Example conversions from logits to probabilities\n",
    "const = FreqBinom.params[0]\n",
    "odds = np.exp(const)\n",
    "probability = odds / (1+odds)\n",
    "print(f'Intercept: p = {probability:.3f}')\n",
    "_ = np.exp(const+FreqBinom.params[1])/(1+(np.exp(const+FreqBinom.params[1])))\n",
    "print(f'Intercept + Male: p = {_:.3f} ({_-probability:.3f})')"
   ]
  },
  {
   "cell_type": "code",
   "execution_count": 15,
   "metadata": {},
   "outputs": [
    {
     "name": "stderr",
     "output_type": "stream",
     "text": [
      "/home/ben/anaconda3/envs/machine-learning/lib/python3.7/site-packages/ipykernel_launcher.py:6: RuntimeWarning: overflow encountered in exp\n",
      "  \n",
      "/home/ben/anaconda3/envs/machine-learning/lib/python3.7/site-packages/ipykernel_launcher.py:6: RuntimeWarning: invalid value encountered in double_scalars\n",
      "  \n"
     ]
    },
    {
     "data": {
      "image/png": "[encoded data removed]",
      "text/plain": [
       "<Figure size 1080x504 with 2 Axes>"
      ]
     },
     "metadata": {
      "needs_background": "light"
     },
     "output_type": "display_data"
    }
   ],
   "source": [
    "X_ = np.arange(0,len(FreqBinom.params[1:]))\n",
    "odds = np.exp(FreqBinom.params[1:])\n",
    "frq_ = [np.exp(FreqBinom.params[0]+x)/(1+np.exp(FreqBinom.params[0]+x)) for x in FreqBinom.params[1:]]\n",
    "df_ = pd.DataFrame({'X':X_,'irr':irr_,'frq':frq_})\n",
    "df_['lwr'] = [np.exp(FreqBinom.params[0]+x)/(1+np.exp(FreqBinom.params[0]+x)) for x in FreqBinom.conf_int()[0][1:]]\n",
    "df_['upr'] = [np.exp(FreqBinom.params[0]+x)/(1+np.exp(FreqBinom.params[0]+x)) for x in FreqBinom.conf_int()[1][1:]]\n",
    "\n",
    "fig,axs = plt.subplots(1,2,figsize=(15,7))\n",
    "ages_ = np.arange(1,50,1)\n",
    "\n",
    "axs[0].set_title('Probability ($Y$=1 CI 95%)')\n",
    "axs[0].scatter(x=df_.frq,y=df_.X,s=50,c='k',linestyle='None')\n",
    "axs[0].errorbar(x=df_.frq,y=df_.X,xerr=(df_.lwr,df_.upr),c='k',linestyle='None')\n",
    "axs[0].set_yticks(df_.X)\n",
    "axs[0].set_yticklabels(irr_.index)\n",
    "\n",
    "axs[1].set_title('Expected Frequency')\n",
    "axs[1].plot(ages_,[np.exp(FreqBinom.params[0]+FreqBinom.params['VehAge']*i) for i in ages_],label='VehAge')\n",
    "axs[1].plot(ages_,[np.exp(FreqBinom.params[0]+FreqBinom.params['Age']*i) for i in ages_],label='Age')\n",
    "axs[1].legend();"
   ]
  },
  {
   "cell_type": "markdown",
   "metadata": {},
   "source": [
    "### Prediction"
   ]
  },
  {
   "cell_type": "code",
   "execution_count": 16,
   "metadata": {},
   "outputs": [
    {
     "data": {
      "text/html": [
       "<div>\n",
       "<style scoped>\n",
       "    .dataframe tbody tr th:only-of-type {\n",
       "        vertical-align: middle;\n",
       "    }\n",
       "\n",
       "    .dataframe tbody tr th {\n",
       "        vertical-align: top;\n",
       "    }\n",
       "\n",
       "    .dataframe thead th {\n",
       "        text-align: right;\n",
       "    }\n",
       "</style>\n",
       "<table border=\"1\" class=\"dataframe\">\n",
       "  <thead>\n",
       "    <tr style=\"text-align: right;\">\n",
       "      <th></th>\n",
       "      <th>Age</th>\n",
       "      <th>Sex</th>\n",
       "      <th>Geog</th>\n",
       "      <th>EV</th>\n",
       "      <th>VehAge</th>\n",
       "      <th>NCD</th>\n",
       "      <th>PYrs</th>\n",
       "      <th>Claims</th>\n",
       "      <th>Severity</th>\n",
       "      <th>Claim</th>\n",
       "      <th>SeverityAvg</th>\n",
       "      <th>Fnb</th>\n",
       "      <th>Fpo</th>\n",
       "      <th>Fbi</th>\n",
       "    </tr>\n",
       "  </thead>\n",
       "  <tbody>\n",
       "    <tr>\n",
       "      <td>63584</td>\n",
       "      <td>69.0</td>\n",
       "      <td>M</td>\n",
       "      <td>4</td>\n",
       "      <td>1</td>\n",
       "      <td>5</td>\n",
       "      <td>3</td>\n",
       "      <td>0.361644</td>\n",
       "      <td>0</td>\n",
       "      <td>0.0</td>\n",
       "      <td>0</td>\n",
       "      <td>0.0</td>\n",
       "      <td>0.000694</td>\n",
       "      <td>0.000690</td>\n",
       "      <td>0.004815</td>\n",
       "    </tr>\n",
       "    <tr>\n",
       "      <td>2446</td>\n",
       "      <td>21.0</td>\n",
       "      <td>M</td>\n",
       "      <td>4</td>\n",
       "      <td>5</td>\n",
       "      <td>8</td>\n",
       "      <td>3</td>\n",
       "      <td>0.767123</td>\n",
       "      <td>0</td>\n",
       "      <td>0.0</td>\n",
       "      <td>0</td>\n",
       "      <td>0.0</td>\n",
       "      <td>0.018421</td>\n",
       "      <td>0.018198</td>\n",
       "      <td>0.030839</td>\n",
       "    </tr>\n",
       "    <tr>\n",
       "      <td>63505</td>\n",
       "      <td>69.0</td>\n",
       "      <td>M</td>\n",
       "      <td>1</td>\n",
       "      <td>1</td>\n",
       "      <td>11</td>\n",
       "      <td>7</td>\n",
       "      <td>0.665753</td>\n",
       "      <td>0</td>\n",
       "      <td>0.0</td>\n",
       "      <td>0</td>\n",
       "      <td>0.0</td>\n",
       "      <td>0.003833</td>\n",
       "      <td>0.003781</td>\n",
       "      <td>0.011952</td>\n",
       "    </tr>\n",
       "    <tr>\n",
       "      <td>7309</td>\n",
       "      <td>25.0</td>\n",
       "      <td>M</td>\n",
       "      <td>3</td>\n",
       "      <td>5</td>\n",
       "      <td>1</td>\n",
       "      <td>6</td>\n",
       "      <td>0.263014</td>\n",
       "      <td>0</td>\n",
       "      <td>0.0</td>\n",
       "      <td>0</td>\n",
       "      <td>0.0</td>\n",
       "      <td>0.015058</td>\n",
       "      <td>0.014718</td>\n",
       "      <td>0.017250</td>\n",
       "    </tr>\n",
       "    <tr>\n",
       "      <td>29573</td>\n",
       "      <td>42.0</td>\n",
       "      <td>M</td>\n",
       "      <td>6</td>\n",
       "      <td>6</td>\n",
       "      <td>7</td>\n",
       "      <td>7</td>\n",
       "      <td>0.257534</td>\n",
       "      <td>0</td>\n",
       "      <td>0.0</td>\n",
       "      <td>0</td>\n",
       "      <td>0.0</td>\n",
       "      <td>0.003391</td>\n",
       "      <td>0.003337</td>\n",
       "      <td>0.008624</td>\n",
       "    </tr>\n",
       "  </tbody>\n",
       "</table>\n",
       "</div>"
      ],
      "text/plain": [
       "        Age Sex Geog EV  VehAge NCD      PYrs  Claims  Severity  Claim  \\\n",
       "63584  69.0   M    4  1       5   3  0.361644       0       0.0      0   \n",
       "2446   21.0   M    4  5       8   3  0.767123       0       0.0      0   \n",
       "63505  69.0   M    1  1      11   7  0.665753       0       0.0      0   \n",
       "7309   25.0   M    3  5       1   6  0.263014       0       0.0      0   \n",
       "29573  42.0   M    6  6       7   7  0.257534       0       0.0      0   \n",
       "\n",
       "       SeverityAvg       Fnb       Fpo       Fbi  \n",
       "63584          0.0  0.000694  0.000690  0.004815  \n",
       "2446           0.0  0.018421  0.018198  0.030839  \n",
       "63505          0.0  0.003833  0.003781  0.011952  \n",
       "7309           0.0  0.015058  0.014718  0.017250  \n",
       "29573          0.0  0.003391  0.003337  0.008624  "
      ]
     },
     "execution_count": 16,
     "metadata": {},
     "output_type": "execute_result"
    },
    {
     "data": {
      "image/png": "[encoded data removed]",
      "text/plain": [
       "<Figure size 936x237.6 with 3 Axes>"
      ]
     },
     "metadata": {
      "needs_background": "light"
     },
     "output_type": "display_data"
    }
   ],
   "source": [
    "test['Fnb'] = FreqNegBin.predict(transform=True,exog=test,offset=np.log(test['PYrs']))\n",
    "test['Fpo'] = FreqPoisson.predict(transform=True,exog=test,offset=np.log(test['PYrs']))\n",
    "test['Fbi'] = FreqBinom.predict(transform=True,exog=test)\n",
    "\n",
    "fig,axs = plt.subplots(1,3,figsize=(13,3.3),sharex=True,sharey=True)\n",
    "sns.histplot(test['Fpo'],ax=axs[0],label='Poisson')\n",
    "sns.histplot(test['Fnb'],ax=axs[1],label='NegBinomial')\n",
    "sns.histplot(test['Fbi'],ax=axs[2],label='Binomial')\n",
    "\n",
    "test.sample(5)"
   ]
  },
  {
   "cell_type": "markdown",
   "metadata": {},
   "source": [
    "Loooking at the model summaries, the histograms and results the of predicted values on the test, we see that each model weights covariates similarly and produces similar scores on the test data. ***Again note*** that the $Binomial$ model was only used to demonstrate its similarity in this case, but this may not hold for other data."
   ]
  },
  {
   "cell_type": "markdown",
   "metadata": {},
   "source": [
    "### $Claim Severity$\n",
    "\n",
    "\n"
   ]
  },
  {
   "cell_type": "code",
   "execution_count": 17,
   "metadata": {},
   "outputs": [
    {
     "name": "stderr",
     "output_type": "stream",
     "text": [
      "/home/ben/anaconda3/envs/machine-learning/lib/python3.7/site-packages/statsmodels/genmod/generalized_linear_model.py:296: DomainWarning: The inverse_power link function does not respect the domain of the Gamma family.\n",
      "  DomainWarning)\n"
     ]
    }
   ],
   "source": [
    "# including PYrs as parameter commented out in glm()\n",
    "expr = \"SeverityAvg ~ Age + Sex + Geog + EV + VehAge + NCD\"\n",
    "\n",
    "### Estimate severity using GLM-gamma with default inverse-power link\n",
    "SevGamma = smf.glm(formula=expr,\n",
    "              data=train_severity,\n",
    "              family=sm.families.Gamma(link=sm.families.links.inverse_power())).fit()"
   ]
  },
  {
   "cell_type": "markdown",
   "metadata": {},
   "source": [
    "Ignore the warning for now we will come back to that.\n",
    "\n",
    "After fitting a GLM-Gamma, how do we find the Gamma shape ($a$) and scale ($b$) params of predictions for $Xi$?\n",
    "\n",
    "\"*Regression with the gamma model is going to use input variables Xi and coefficients to make a pre-diction about the mean of yi, but in actuality we are really focused on the scale parameter βi.  This is so because we assume that αi is the same for all observations, and so variation from case to case in μi=βiα is due simply to variation in βi.*\" [technical overview of gamma glm](https://pj.freefaculty.org/guides/stat/Regression-GLM/Gamma/GammaGLM-01.pdf)\n",
    "\n",
    "- [gamma handout](https://pj.freefaculty.org/guides/stat/Distributions/DistributionWriteups/Gamma/Gamma-02.pdf)\n",
    "- [Gamma Choice of link function](http://people.stat.sfu.ca/~raltman/stat402/402L26.pdf)\n",
    "- [exmaple finding scale in R](https://stat.ethz.ch/pipermail/r-help/2011-July/283736.html)\n",
    "- [generalized linear model - Dispersion parameter for Gamma family - Cross Validated](https://stats.stackexchange.com/questions/247624/dispersion-parameter-for-gamma-family)\n",
    "- [Pdummy_xyhon: Calculating scale/dispersion of Gamma GLM using statsmodels](https://stackoverflow.com/questions/60215085/calculating-scale-dispersion-of-gamma-glm-using-statsmodels)\n",
    "\n",
    "[Alternatively you can infer gamma parameters from CI](https://math.stackexchange.com/questions/2873763/is-it-possible-to-determine-shape-and-scale-for-a-gamma-distribution-from-a-mean?newreg=d61b4517cd304ecca335b8e69220bf0c)\n",
    "- [gamma.shape.glm: Estimate the Shape Parameter of the Gamma Distribution R MASS](https://rdrr.io/cran/MASS/man/gamma.shape.glm.html)\n",
    "- [The identity link function does not respect the domain of the Gamma family? - Cross Validated](https://stats.stackexchange.com/questions/356053/the-identity-link-function-does-not-respect-the-domain-of-the-gamma-family)\n",
    "\n",
    "Below I illustrate the range of predicted severity values for the intercept and each level in Geogrpahy."
   ]
  },
  {
   "cell_type": "code",
   "execution_count": 18,
   "metadata": {},
   "outputs": [
    {
     "name": "stdout",
     "output_type": "stream",
     "text": [
      "Shape: 0.54\n",
      "Intercept: 52203\n"
     ]
    },
    {
     "data": {
      "image/png": "[encoded data removed]",
      "text/plain": [
       "<Figure size 1080x216 with 6 Axes>"
      ]
     },
     "metadata": {
      "needs_background": "light"
     },
     "output_type": "display_data"
    }
   ],
   "source": [
    "# shape is\n",
    "shape = 1/SevGamma.scale\n",
    "print(f'Shape: {shape:.2f}')\n",
    "\n",
    "# intercept \n",
    "constant,intercept = SevGamma.params[0],SevGamma.scale/SevGamma.params[0]\n",
    "print(f'Intercept: {intercept:.0f}')\n",
    "\n",
    "# predicted mean G(Yi) is exp(Bo + Bi*Xi..)\n",
    "geogs = [(i,SevGamma.scale/(constant+c)) for i,c in zip(SevGamma.params.index,SevGamma.params) if 'Geog' in i]\n",
    "\n",
    "# plot\n",
    "fig,axs = plt.subplots(1,6,sharex=True,sharey=True,figsize=(15,3))\n",
    "for ax,x in zip(axs.flatten(),geogs):\n",
    "    sns.histplot(np.random.gamma(shape=shape,scale=x[1],size=10000),stat=\"count\",element=\"step\",ax=ax,)\n",
    "    ax.set_title(x[0])\n",
    "    ax.set_xlim(0,14e4)"
   ]
  },
  {
   "cell_type": "markdown",
   "metadata": {},
   "source": [
    "So remember the GLM-Gamma model gives us a prediction of the average severity of a claim should one occur."
   ]
  },
  {
   "cell_type": "code",
   "execution_count": 19,
   "metadata": {},
   "outputs": [
    {
     "data": {
      "text/html": [
       "<div>\n",
       "<style scoped>\n",
       "    .dataframe tbody tr th:only-of-type {\n",
       "        vertical-align: middle;\n",
       "    }\n",
       "\n",
       "    .dataframe tbody tr th {\n",
       "        vertical-align: top;\n",
       "    }\n",
       "\n",
       "    .dataframe thead th {\n",
       "        text-align: right;\n",
       "    }\n",
       "</style>\n",
       "<table border=\"1\" class=\"dataframe\">\n",
       "  <thead>\n",
       "    <tr style=\"text-align: right;\">\n",
       "      <th></th>\n",
       "      <th>Age</th>\n",
       "      <th>Sex</th>\n",
       "      <th>Geog</th>\n",
       "      <th>EV</th>\n",
       "      <th>VehAge</th>\n",
       "      <th>NCD</th>\n",
       "      <th>PYrs</th>\n",
       "      <th>Claims</th>\n",
       "      <th>Severity</th>\n",
       "      <th>Claim</th>\n",
       "      <th>SeverityAvg</th>\n",
       "      <th>Giv</th>\n",
       "    </tr>\n",
       "  </thead>\n",
       "  <tbody>\n",
       "    <tr>\n",
       "      <td>35445</td>\n",
       "      <td>45.0</td>\n",
       "      <td>M</td>\n",
       "      <td>4</td>\n",
       "      <td>6</td>\n",
       "      <td>2</td>\n",
       "      <td>7</td>\n",
       "      <td>4.920548</td>\n",
       "      <td>1</td>\n",
       "      <td>2480.0</td>\n",
       "      <td>1</td>\n",
       "      <td>2480.0</td>\n",
       "      <td>28728.757724</td>\n",
       "    </tr>\n",
       "    <tr>\n",
       "      <td>9653</td>\n",
       "      <td>26.0</td>\n",
       "      <td>M</td>\n",
       "      <td>6</td>\n",
       "      <td>6</td>\n",
       "      <td>9</td>\n",
       "      <td>5</td>\n",
       "      <td>0.589041</td>\n",
       "      <td>1</td>\n",
       "      <td>46000.0</td>\n",
       "      <td>1</td>\n",
       "      <td>46000.0</td>\n",
       "      <td>21782.480267</td>\n",
       "    </tr>\n",
       "    <tr>\n",
       "      <td>2039</td>\n",
       "      <td>21.0</td>\n",
       "      <td>M</td>\n",
       "      <td>2</td>\n",
       "      <td>2</td>\n",
       "      <td>19</td>\n",
       "      <td>1</td>\n",
       "      <td>0.432877</td>\n",
       "      <td>1</td>\n",
       "      <td>11110.0</td>\n",
       "      <td>1</td>\n",
       "      <td>11110.0</td>\n",
       "      <td>11537.649676</td>\n",
       "    </tr>\n",
       "  </tbody>\n",
       "</table>\n",
       "</div>"
      ],
      "text/plain": [
       "        Age Sex Geog EV  VehAge NCD      PYrs  Claims  Severity  Claim  \\\n",
       "35445  45.0   M    4  6       2   7  4.920548       1    2480.0      1   \n",
       "9653   26.0   M    6  6       9   5  0.589041       1   46000.0      1   \n",
       "2039   21.0   M    2  2      19   1  0.432877       1   11110.0      1   \n",
       "\n",
       "       SeverityAvg           Giv  \n",
       "35445       2480.0  28728.757724  \n",
       "9653       46000.0  21782.480267  \n",
       "2039       11110.0  11537.649676  "
      ]
     },
     "execution_count": 19,
     "metadata": {},
     "output_type": "execute_result"
    }
   ],
   "source": [
    "test_severity['Giv'] = SevGamma.predict(transform=True,exog=test_severity)\n",
    "test_severity[:3]"
   ]
  },
  {
   "cell_type": "markdown",
   "metadata": {},
   "source": [
    "Now, remember the error we got using the inverse-power link function. The warning is fairly self explanatory \"the inverse_power link function does not respect the domain of the Gamma family\". Oddly this is a design feature of Statsmodels at the [time of writing](https://github.com/statsmodels/statsmodels/issues/3316#issuecomment-266453597). Rather it is better to use the log link function to ensure all predicted values are > 0.\n",
    "\n",
    "***GLM-Gamma log link***\n",
    "\n",
    "- https://pj.freefaculty.org/guides/stat/Distributions/DistributionWriteups/Gamma/Gamma-02.pdf\n",
    "- https://pj.freefaculty.org/guides/stat/Regression-GLM/Gamma/GammaGLM-01.pdf\n",
    "- http://people.stat.sfu.ca/~raltman/stat402/402L26.pdf\n",
    "- https://stats.stackexchange.com/questions/431120/how-to-interpret-parameters-of-glm-output-with-gamma-log-link\n",
    "- https://seananderson.ca/2014/04/08/gamma-glms/\n"
   ]
  },
  {
   "cell_type": "code",
   "execution_count": 20,
   "metadata": {},
   "outputs": [],
   "source": [
    "# formula\n",
    "expr = \"SeverityAvg ~ Age + Sex + Geog + EV + VehAge + NCD\"\n",
    "\n",
    "### Estimate severity using GLM-gamma with default log link\n",
    "SevGamma = smf.glm(formula=expr,\n",
    "                   data=train_severity,\n",
    "                   family=sm.families.Gamma(link=sm.families.links.log())).fit()"
   ]
  },
  {
   "cell_type": "code",
   "execution_count": 21,
   "metadata": {},
   "outputs": [
    {
     "name": "stdout",
     "output_type": "stream",
     "text": [
      "Dispersion: 2.0528\n",
      "Shape: 0.4872\n",
      "Intercept: 69330.81\n"
     ]
    },
    {
     "data": {
      "image/png": "[encoded data removed]",
      "text/plain": [
       "<Figure size 936x216 with 6 Axes>"
      ]
     },
     "metadata": {
      "needs_background": "light"
     },
     "output_type": "display_data"
    }
   ],
   "source": [
    "# dispersion aka rate\n",
    "dispersion = SevGamma.scale\n",
    "print(f'Dispersion: {dispersion:.4f}')\n",
    "\n",
    "# shape is 1/dispersion\n",
    "shape = 1/dispersion\n",
    "print(f'Shape: {shape:.4f}')\n",
    "\n",
    "# intercept\n",
    "constant,intercept = SevGamma.params[0],np.exp(SevGamma.params[0])\n",
    "print(f'Intercept: {intercept:.2f}')\n",
    "\n",
    "# predicted mean G(Yi) is exp(Bo + Bi*Xi..)\n",
    "# tuple(name,Yi,scale)\n",
    "geogs = [(i,\n",
    "          np.exp(constant+c),\n",
    "          np.exp(constant+c)*dispersion)\n",
    "         for i,c in zip(SevGamma.params.index,SevGamma.params) if 'Geog' in i]\n",
    "\n",
    "# plot\n",
    "fig,axs = plt.subplots(1,6,sharex=True,sharey=True,figsize=(13,3))\n",
    "\n",
    "for ax,x in zip(axs.flatten(),geogs):\n",
    "    sns.kdeplot(np.random.gamma(shape=shape,scale=x[2],size=10000),shade=True,ax=ax,)\n",
    "    ax.set_title(x[0])"
   ]
  },
  {
   "cell_type": "markdown",
   "metadata": {},
   "source": [
    "Statsmodels uses patsy design matrices behind the scenes. We can apply the design matrix to calculate the distribution parameters for both the frequency and severity models, and for any data set. Train, test, synthetic data and portfolios. You name it.\n",
    "\n",
    "This is an incredibly powerfull approach as it enables the development of highly parameterised Monte Carlo and risk simulation models.I will walk the steps using pandas dataframes so that it is clear:"
   ]
  },
  {
   "cell_type": "code",
   "execution_count": 22,
   "metadata": {},
   "outputs": [
    {
     "data": {
      "text/plain": [
       "(201, 22)"
      ]
     },
     "execution_count": 22,
     "metadata": {},
     "output_type": "execute_result"
    }
   ],
   "source": [
    "# 1. Define a dummy model for your data and using the same formula and settings defined earlier.\n",
    "dummy_ = smf.glm(formula=expr,data=test_severity,family=sm.families.Gamma(link=sm.families.links.log()))\n",
    "\n",
    "# 2. we can then access the desing matrix. \n",
    "# Which is simply the data values, but also handling the intercept and reference categories.\n",
    "a = pd.DataFrame(dummy_.data.exog,columns=dummy_.data.param_names)\n",
    "\n",
    "# 3. Retrieve and transpose the trained model coefficients\n",
    "b = pd.DataFrame(SevGamma.params).T\n",
    "\n",
    "# 4. And multiply together\n",
    "# but this only works if indexes are equal\n",
    "c = a.multiply(b,axis=0)\n",
    "\n",
    "# 5. It is much cleaner to use arrays. \n",
    "# et voila\n",
    "c = pd.DataFrame(dummy_.data.exog * SevGamma.params.values,columns=dummy_.data.param_names)\n",
    "c.shape"
   ]
  },
  {
   "cell_type": "markdown",
   "metadata": {},
   "source": [
    "We can then use the coefficients to estimate and plot the values and samples of each row, or the entire dataset."
   ]
  },
  {
   "cell_type": "code",
   "execution_count": 23,
   "metadata": {},
   "outputs": [
    {
     "data": {
      "image/png": "[encoded data removed]",
      "text/plain": [
       "<Figure size 1080x288 with 5 Axes>"
      ]
     },
     "metadata": {
      "needs_background": "light"
     },
     "output_type": "display_data"
    }
   ],
   "source": [
    "dispersion = SevGamma.scale\n",
    "shape = 1/dispersion\n",
    "\n",
    "num=5\n",
    "fig,axs = plt.subplots(1,num,figsize=(15,4),sharex=True,sharey=True)\n",
    "\n",
    "for i,pred,ax in zip(c.index[:num],SevGamma.predict(test_severity)[:num],axs.flatten()):\n",
    "    scale = np.exp(c.loc[[i]].sum(axis=1))*dispersion\n",
    "    sample = np.random.gamma(shape=shape,scale=scale,size=10000)\n",
    "    sns.kdeplot(sample,label=i,ax=ax,shade=True)\n",
    "    ax.set_title(f'Sample Mu {sample.mean():.0f}\\nPredicted Mu {pred:.0f}',fontsize=12)"
   ]
  },
  {
   "cell_type": "markdown",
   "metadata": {},
   "source": [
    "Here are some other ways you can work with GLM gamma coefficients"
   ]
  },
  {
   "cell_type": "code",
   "execution_count": 24,
   "metadata": {},
   "outputs": [
    {
     "name": "stdout",
     "output_type": "stream",
     "text": [
      "23721.149253731342\n",
      "69330.81029226439\n",
      "58091.82125707675\n",
      "-11238.989035187638\n",
      "0.8378932975424691\n",
      "-0.1621067024575309\n",
      "58091.821257076765\n"
     ]
    }
   ],
   "source": [
    "# mean severity in train\n",
    "print(train_severity['SeverityAvg'].mean())\n",
    "\n",
    "# intercept severity\n",
    "print(np.exp(SevGamma.params[0]))\n",
    "\n",
    "# Xi severity \n",
    "print(np.exp(SevGamma.params[0]+SevGamma.params[1]))\n",
    "\n",
    "# Xi abs difference to intercept\n",
    "print(np.exp(SevGamma.params[0]+SevGamma.params[1]) - np.exp(SevGamma.params[0]) )\n",
    "\n",
    "# % of intercept\n",
    "print(np.exp(SevGamma.params[1]))\n",
    "\n",
    "# % change from intercept\n",
    "print(np.exp(SevGamma.params[1])-1.0)\n",
    "\n",
    "# Xi severity by multiplication\n",
    "print(np.exp(SevGamma.params[0])*np.exp(SevGamma.params[1]))"
   ]
  },
  {
   "cell_type": "markdown",
   "metadata": {},
   "source": [
    "# Putting it all together: Frequency-Severity model\n",
    "\n",
    "***Recap on probabilities***\n",
    "- [p of x in n years](https://math.stackexchange.com/a/490890/775441)"
   ]
  },
  {
   "cell_type": "code",
   "execution_count": 25,
   "metadata": {},
   "outputs": [
    {
     "name": "stdout",
     "output_type": "stream",
     "text": [
      "p0 yr: [0.99003109 0.98619889 0.98386389]\n",
      "p1 yr: [0.00996891 0.01380111 0.01613611]\n",
      "p0 10yr: [0.90466613 0.87025215 0.84986556]\n",
      "p1 10yr: [0.09533387 0.12974785 0.15013444]\n",
      "23.9593855721393\n",
      "24.38600603349808\n"
     ]
    }
   ],
   "source": [
    "# p of no claim per year\n",
    "print('p0 yr:', 1.0-FreqBinom.predict(test)[:3].values)\n",
    "\n",
    "# p of 1+ claim per year\n",
    "print('p1 yr:',FreqBinom.predict(test)[:3].values)\n",
    "\n",
    "# p of no claim for 10 years\n",
    "print('p0 10yr:',(1.0-FreqBinom.predict(test)[:3].values)**10)\n",
    "\n",
    "# est likelihood of 1+ claim in 10 years\n",
    "print('p1 10yr:',1 - (1.0 - FreqBinom.predict(test)[:3].values)**10)\n",
    "\n",
    "# avg claim size of known claims\n",
    "print((test_severity['SeverityAvg']/1000).mean())\n",
    "\n",
    "# avg predicted claim size\n",
    "print((SevGamma.predict(test_severity)/1000).mean())"
   ]
  },
  {
   "cell_type": "markdown",
   "metadata": {},
   "source": [
    "***Portfolio price***\n",
    "\n",
    "Given that this is motor insurance, lets assume a thin margin for %0.05"
   ]
  },
  {
   "cell_type": "code",
   "execution_count": 26,
   "metadata": {},
   "outputs": [
    {
     "data": {
      "text/html": [
       "<div>\n",
       "<style scoped>\n",
       "    .dataframe tbody tr th:only-of-type {\n",
       "        vertical-align: middle;\n",
       "    }\n",
       "\n",
       "    .dataframe tbody tr th {\n",
       "        vertical-align: top;\n",
       "    }\n",
       "\n",
       "    .dataframe thead th {\n",
       "        text-align: right;\n",
       "    }\n",
       "</style>\n",
       "<table border=\"1\" class=\"dataframe\">\n",
       "  <thead>\n",
       "    <tr style=\"text-align: right;\">\n",
       "      <th></th>\n",
       "      <th>expected_sev</th>\n",
       "      <th>annual_exp_loss</th>\n",
       "      <th>annual_tech_premium</th>\n",
       "      <th>result</th>\n",
       "    </tr>\n",
       "  </thead>\n",
       "  <tbody>\n",
       "    <tr>\n",
       "      <td>0</td>\n",
       "      <td>27818.169806</td>\n",
       "      <td>277.316838</td>\n",
       "      <td>291.912461</td>\n",
       "      <td>291.912461</td>\n",
       "    </tr>\n",
       "    <tr>\n",
       "      <td>1</td>\n",
       "      <td>21753.203517</td>\n",
       "      <td>300.218299</td>\n",
       "      <td>316.019262</td>\n",
       "      <td>316.019262</td>\n",
       "    </tr>\n",
       "    <tr>\n",
       "      <td>2</td>\n",
       "      <td>18524.970346</td>\n",
       "      <td>298.920877</td>\n",
       "      <td>314.653555</td>\n",
       "      <td>314.653555</td>\n",
       "    </tr>\n",
       "  </tbody>\n",
       "</table>\n",
       "</div>"
      ],
      "text/plain": [
       "   expected_sev  annual_exp_loss  annual_tech_premium      result\n",
       "0  27818.169806       277.316838           291.912461  291.912461\n",
       "1  21753.203517       300.218299           316.019262  316.019262\n",
       "2  18524.970346       298.920877           314.653555  314.653555"
      ]
     },
     "execution_count": 26,
     "metadata": {},
     "output_type": "execute_result"
    }
   ],
   "source": [
    "# make a dummy portfolio and make predictions\n",
    "portfolio = test.reset_index(drop=True).copy()\n",
    "portfolio['annual_frq'] = FreqBinom.predict(portfolio)\n",
    "portfolio['expected_sev'] = SevGamma.predict(portfolio)\n",
    "\n",
    "# expected annual loss\n",
    "portfolio['annual_exp_loss'] = portfolio['annual_frq'] * portfolio['expected_sev']\n",
    "\n",
    "# set pricing ratio\n",
    "tolerable_loss = 0.05\n",
    "pricing_ratio = 1.0-tolerable_loss\n",
    "portfolio['annual_tech_premium'] = portfolio['annual_exp_loss']/pricing_ratio\n",
    "portfolio['result'] = portfolio['annual_tech_premium'] - portfolio['Severity']\n",
    "portfolio.iloc[:3,-4:]"
   ]
  },
  {
   "cell_type": "markdown",
   "metadata": {},
   "source": [
    "This summary illustrates the:\n",
    "- observed Claims and Losses (Severity)\n",
    "- the predicted frq, losses, and expected-losses\n",
    "- the technical premium\n",
    "- the profit loss result (calculated on full Severity rather than SeverityAvg)"
   ]
  },
  {
   "cell_type": "code",
   "execution_count": 27,
   "metadata": {},
   "outputs": [
    {
     "data": {
      "text/html": [
       "<div>\n",
       "<style scoped>\n",
       "    .dataframe tbody tr th:only-of-type {\n",
       "        vertical-align: middle;\n",
       "    }\n",
       "\n",
       "    .dataframe tbody tr th {\n",
       "        vertical-align: top;\n",
       "    }\n",
       "\n",
       "    .dataframe thead th {\n",
       "        text-align: right;\n",
       "    }\n",
       "</style>\n",
       "<table border=\"1\" class=\"dataframe\">\n",
       "  <thead>\n",
       "    <tr style=\"text-align: right;\">\n",
       "      <th></th>\n",
       "      <th>Claim</th>\n",
       "      <th>Severity</th>\n",
       "      <th>annual_frq</th>\n",
       "      <th>expected_sev</th>\n",
       "      <th>annual_exp_loss</th>\n",
       "      <th>annual_tech_premium</th>\n",
       "      <th>result</th>\n",
       "    </tr>\n",
       "  </thead>\n",
       "  <tbody>\n",
       "    <tr>\n",
       "      <td>Summary</td>\n",
       "      <td>201.0</td>\n",
       "      <td>5377478.0</td>\n",
       "      <td>249.038867</td>\n",
       "      <td>4.054346e+08</td>\n",
       "      <td>5.764319e+06</td>\n",
       "      <td>6.067705e+06</td>\n",
       "      <td>690226.503245</td>\n",
       "    </tr>\n",
       "  </tbody>\n",
       "</table>\n",
       "</div>"
      ],
      "text/plain": [
       "         Claim   Severity  annual_frq  expected_sev  annual_exp_loss  \\\n",
       "Summary  201.0  5377478.0  249.038867  4.054346e+08     5.764319e+06   \n",
       "\n",
       "         annual_tech_premium         result  \n",
       "Summary         6.067705e+06  690226.503245  "
      ]
     },
     "execution_count": 27,
     "metadata": {},
     "output_type": "execute_result"
    }
   ],
   "source": [
    "pd.DataFrame(portfolio[['Claim', 'Severity',\n",
    "                        'annual_frq','expected_sev', 'annual_exp_loss',\n",
    "                        'annual_tech_premium','result']].sum(),\n",
    "             columns=['Summary']).T"
   ]
  },
  {
   "cell_type": "markdown",
   "metadata": {},
   "source": [
    "No we can build a Monte Carlo simulation to:\n",
    "- provide a more robust estimate of our expected profit / loss\n",
    "- sample the parameter space to gauge the variance and uncertainty in our model and assumptions\n",
    "- calculate metrics for the AAL, AEP, and AXS loss and return"
   ]
  },
  {
   "cell_type": "code",
   "execution_count": 28,
   "metadata": {},
   "outputs": [],
   "source": [
    "# fitted params\n",
    "dispersion = SevGamma.scale\n",
    "shape = 1/dispersion\n",
    "# define a dummy model to get the get design matrix\n",
    "dummy_ = smf.glm(formula=expr,data=portfolio,family=sm.families.Gamma(link=sm.families.links.log()))\n",
    "dmtrx = pd.DataFrame(dummy_.data.exog,columns=dummy_.data.param_names)\n",
    "# calculate scale for each row\n",
    "scales_ = pd.DataFrame(dmtrx * SevGamma.params.values,columns=dummy_.data.param_names)\n",
    "scales_ = np.exp(scales_.sum(axis=1))*dispersion\n",
    "portfolio['gamma_shape'] = shape\n",
    "portfolio['gamma_scale'] = scales_"
   ]
  },
  {
   "cell_type": "code",
   "execution_count": 29,
   "metadata": {},
   "outputs": [
    {
     "name": "stdout",
     "output_type": "stream",
     "text": [
      "998/999\r"
     ]
    }
   ],
   "source": [
    "# simulate portfolio\n",
    "simulation = dict()\n",
    "frq = list()\n",
    "sev = list()\n",
    "N=999\n",
    "\n",
    "for it in range(N):\n",
    "    print(f\"{it}/{N}\",end='\\r')\n",
    "\n",
    "    frq.append(np.random.binomial(n=1,p=portfolio['annual_frq']))\n",
    "    sev.append(np.random.gamma(shape=portfolio['gamma_shape'],scale=portfolio['gamma_scale']))\n",
    "\n",
    "# calculate Frq * Sev\n",
    "frq_sev = np.array(frq)*np.array(sev)\n",
    "# summarise the simulations\n",
    "simulation['sim'] = pd.DataFrame({'iteration':range(N),\n",
    "                                  'claim_num':np.array(frq).sum(axis=1),# num claims\n",
    "                                  'loss_min':np.array(frq_sev).min(axis=1), # min claim\n",
    "                                  'loss_sum':np.array(frq_sev).sum(axis=1), # total\n",
    "                                  'loss_max':np.array(frq_sev).max(axis=1), # max claim\n",
    "                                  'loss_avg':np.array(frq_sev).mean(axis=1)\n",
    "                              })"
   ]
  },
  {
   "cell_type": "markdown",
   "metadata": {},
   "source": [
    "Calculate the Annual Exceedence Probability\n",
    "\n",
    "- https://sciencing.com/calculate-exceedance-probability-5365868.html\n",
    "- https://serc.carleton.edu/quantskills/methods/quantlit/RInt.html\n",
    "- https://www.earthdatascience.org/courses/use-data-open-source-python/use-time-series-data-in-python/floods-return-period-and-probability/"
   ]
  },
  {
   "cell_type": "code",
   "execution_count": 30,
   "metadata": {},
   "outputs": [],
   "source": [
    "def exceedance_prob(df,feature,ascending=False):\n",
    "    data = df.copy()\n",
    "    data['value'] = data[feature]\n",
    "    data[f'Rank'] = data['value'].rank(ascending=ascending,method='dense')\n",
    "    data[f'RI'] = (len(data)+1.0)/data[f'Rank']\n",
    "    data[f'EP'] = 1.0/data[f'RI']\n",
    "    data.sort_values([f'value'],ascending=ascending,inplace=True)\n",
    "    data.reset_index(drop=True,inplace=True)\n",
    "    return data"
   ]
  },
  {
   "cell_type": "code",
   "execution_count": 31,
   "metadata": {},
   "outputs": [],
   "source": [
    "# profit loss based on technical premium\n",
    "simulation['sim']['technical_premium'] = portfolio['annual_tech_premium'].sum()\n",
    "simulation['sim']['result'] = (simulation['sim']['technical_premium'] - simulation['sim']['loss_sum'])\n",
    "\n",
    "# recurrence intervals of each measure\n",
    "simulation['loss_sum'] = exceedance_prob(simulation['sim'],'loss_sum')\n",
    "simulation['loss_max'] = exceedance_prob(simulation['sim'],'loss_max')\n",
    "simulation['result'] = exceedance_prob(simulation['sim'],'result',ascending=True)"
   ]
  },
  {
   "cell_type": "markdown",
   "metadata": {},
   "source": [
    "This illustrates the profit and loss scenarios for our pricing strategy across $N$ iterations."
   ]
  },
  {
   "cell_type": "code",
   "execution_count": 32,
   "metadata": {},
   "outputs": [
    {
     "data": {
      "image/png": "[encoded data removed]",
      "text/plain": [
       "<Figure size 1080x216 with 1 Axes>"
      ]
     },
     "metadata": {
      "needs_background": "light"
     },
     "output_type": "display_data"
    }
   ],
   "source": [
    "simulation['sim']['result'].plot(figsize=(15,3),lw=1,color='gray',label='Profit Loss')\n",
    "plt.plot([0,N],[0,0],'r-',lw=2)\n",
    "plt.xlabel('Iteration')\n",
    "plt.ylabel('$');"
   ]
  },
  {
   "cell_type": "markdown",
   "metadata": {},
   "source": [
    "And more inuit EP curves."
   ]
  },
  {
   "cell_type": "code",
   "execution_count": 33,
   "metadata": {},
   "outputs": [
    {
     "data": {
      "image/png": "[encoded data removed]",
      "text/plain": [
       "<Figure size 1008x288 with 3 Axes>"
      ]
     },
     "metadata": {
      "needs_background": "light"
     },
     "output_type": "display_data"
    }
   ],
   "source": [
    "fig,axs = plt.subplots(1,3,figsize=(14,4),sharey=True)\n",
    "\n",
    "for ax,lvl in zip(axs.flatten(),['loss_sum','loss_max','result']):\n",
    "    ax.set_title(f\"{lvl.replace('loss_','Annual Loss ').title()}\")\n",
    "    ax.plot(simulation[lvl]['value'],simulation[lvl]['EP'],label=lvl,linestyle='-',color='grey',lw=10,alpha=0.3)\n",
    "    ax.set_xlabel('Loss ($M)')\n",
    "    ax.set_ylabel('EP')\n",
    "    ax.set_yticks(np.arange(0,1.1,0.1))\n",
    "    \n",
    "    i,j = simulation[lvl]['value'].min(),simulation[lvl].loc[simulation[lvl]['EP']==0.5,'value'].values[0]\n",
    "    ax.plot([i,j],[0.5,0.5],'k--')\n",
    "    ax.plot([j,j],[0,0.5],'k--')\n",
    "    ax.annotate(f'{j:.0f} $',xy=(j+9e4,0.5))\n",
    "axs[2].set_xlabel('Loss or Profit ($M)');\n",
    "plt.tight_layout()"
   ]
  },
  {
   "cell_type": "code",
   "execution_count": null,
   "metadata": {},
   "outputs": [],
   "source": []
  }
 ],
 "metadata": {
  "kernelspec": {
   "display_name": "Python [conda env:machine-learning]",
   "language": "python",
   "name": "conda-env-machine-learning-py"
  },
  "language_info": {
   "codemirror_mode": {
    "name": "ipython",
    "version": 3
   },
   "file_extension": ".py",
   "mimetype": "text/x-python",
   "name": "python",
   "nbconvert_exporter": "python",
   "pygments_lexer": "ipython3",
   "version": "3.7.4"
  }
 },
 "nbformat": 4,
 "nbformat_minor": 4
}
