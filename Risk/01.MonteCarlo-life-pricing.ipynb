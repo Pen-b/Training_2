{
 "cells": [
  {
   "cell_type": "markdown",
   "metadata": {},
   "source": [
    "# Applying Monte Carlo to determine Life Insurance Pricing\n",
    "\n",
    "***Following this [demonstration](https://www.slideshare.net/AdamConrad2/actuarial-application-of-monte-carlo-simulation-46703744) of Monte Carlo analysis to price life insurance risk. (A.Conrad)***\n",
    "\n",
    "## Problem statement:\n",
    "A man and wife couple are looking to purchase a life insurance policy for:\n",
    "- Policy term of 20 years or until death.\n",
    "- payout $300,000\n",
    "- monthly premiums\n",
    "\n",
    "If a number ($n$) of policies are to be sold on the Life Insurance book each year, what is the monthly premium required per policy to ensure that the total premium collected exceeds the expected value of claims paid?"
   ]
  },
  {
   "cell_type": "code",
   "execution_count": 1,
   "metadata": {},
   "outputs": [],
   "source": [
    "import numpy as np\n",
    "import pandas as pd\n",
    "import matplotlib.pyplot as plt"
   ]
  },
  {
   "cell_type": "markdown",
   "metadata": {},
   "source": [
    "# Males\n",
    "- coverage avaliable to males aged 30 - 70\n",
    "- typically age of male at purchase is 50.\n",
    "- younger insureds generally purchase 40-year terms. \n",
    "- older insured purchase 20-year terms.\n",
    "- male insured age follow a normal distributions\n",
    "\n",
    "$mA = N(\\mu=45,\\sigma=5)$\n",
    "\n"
   ]
  },
  {
   "cell_type": "code",
   "execution_count": 2,
   "metadata": {},
   "outputs": [
    {
     "name": "stdout",
     "output_type": "stream",
     "text": [
      "Sample mean: 45.02\n",
      "Sample StdDev: 7.48\n"
     ]
    },
    {
     "data": {
      "image/png": "[encoded data removed]",
      "text/plain": [
       "<Figure size 432x288 with 1 Axes>"
      ]
     },
     "metadata": {
      "needs_background": "light"
     },
     "output_type": "display_data"
    }
   ],
   "source": [
    "maleMu = 45\n",
    "maleSigma = 7.5\n",
    "maleAges = list()\n",
    "\n",
    "for i in range(10000):\n",
    "    maleAges.append(np.random.normal(maleMu,maleSigma))\n",
    "\n",
    "plt.title('Male age');\n",
    "plt.hist(maleAges, bins=np.arange(0,71,1), color='grey');\n",
    "plt.xlim(30,70);\n",
    "print('Sample mean: {:.2f}\\nSample StdDev: {:.2f}'.format(np.mean(maleAges),np.std(maleAges)))"
   ]
  },
  {
   "cell_type": "markdown",
   "metadata": {},
   "source": [
    "# Age of wife\n",
    "the ages of wives are given relative to the age of the husband. \n",
    "- 32.4 % are the same age as husbands. \n",
    "- 55.4 % are younger than husbands. \n",
    "- 12.3 % are older than husbands. \n",
    "- on average wifes are 2.3 years younger than husbands $\\sigma = 5.5$. \n",
    "- for older husbands, 1-17 years makes up 99.7 % ($3\\sigma$)\n",
    "- for older wives, 1-7 years makes up 99.7 % ($3\\sigma$)"
   ]
  },
  {
   "cell_type": "code",
   "execution_count": 3,
   "metadata": {},
   "outputs": [],
   "source": [
    "wifeRelative = pd.DataFrame(index=['m70','m20-69','m15-19','m10-14','m6-9','m4-5','m2-3','mw1',\n",
    "                    'w2-3','w4-5','w6-9','w10-14','w15-19','w20-69','w70'],\n",
    "             columns=['pOlder'],\n",
    "             data=[0,0.8,1.5,4.9,12.3,13.8,22.1,32.4,5.9,2.9,2.2,0.9,0.2,0.2,0])"
   ]
  },
  {
   "cell_type": "code",
   "execution_count": 4,
   "metadata": {},
   "outputs": [],
   "source": [
    "# calculate wifes age relative to hubands\n",
    "femaleAges = list()\n",
    "ageDif = list()\n",
    "wifeYounger = list()\n",
    "sameAge = list()\n",
    "\n",
    "for n,e in enumerate(maleAges):\n",
    "    sameAge.append(np.random.binomial(1,0.324)) # is wife is same age?\n",
    "    if sameAge[n] == 1: # if same age\n",
    "        ageDif.append(0)\n",
    "        wifeYounger.append(0)\n",
    "        \n",
    "    else: # if not same age\n",
    "        wifeYounger.append(np.random.binomial(1,0.554)) # is wife younger?\n",
    "        if wifeYounger[n] == 1:\n",
    "            ageDif.append(-1*abs(np.random.normal(0,5.5))) # younger age dif\n",
    "        else: # if older\n",
    "            ageDif.append(abs(np.random.normal(0,2.5))) # olfer age dif\n",
    "    \n",
    "    femaleAges.append(maleAges[n]+ageDif[n])"
   ]
  },
  {
   "cell_type": "code",
   "execution_count": 5,
   "metadata": {},
   "outputs": [
    {
     "data": {
      "image/png": "[encoded data removed]",
      "text/plain": [
       "<Figure size 432x288 with 1 Axes>"
      ]
     },
     "metadata": {
      "needs_background": "light"
     },
     "output_type": "display_data"
    }
   ],
   "source": [
    "plt.title('Male & Female age');\n",
    "plt.hist(maleAges, bins=np.arange(0,71,1), alpha=1, color='grey');\n",
    "plt.hist(femaleAges, bins=np.arange(0,71,1), alpha=0.5, color='red');\n",
    "plt.xlim(20,70);"
   ]
  },
  {
   "cell_type": "markdown",
   "metadata": {},
   "source": [
    "# Male Mortality\n",
    "- mean age of death is 76 \n",
    "- ages 65 - 100 account for 99.7 % of deaths\n",
    "- the distribution of males deaths is normal to the mean 76, and then exponentional"
   ]
  },
  {
   "cell_type": "code",
   "execution_count": 6,
   "metadata": {},
   "outputs": [
    {
     "data": {
      "image/png": "[encoded data removed]",
      "text/plain": [
       "<Figure size 432x288 with 1 Axes>"
      ]
     },
     "metadata": {
      "needs_background": "light"
     },
     "output_type": "display_data"
    }
   ],
   "source": [
    "mort = 76\n",
    "maleAboveMean = list()\n",
    "maleAOD = list()\n",
    "\n",
    "for i in range(10000):\n",
    "    maleAboveMean.append(np.random.binomial(1,0.5))\n",
    "    if maleAboveMean[i] == 1: # if male is > 76 y.o\n",
    "        maleAOD.append(mort + np.random.exponential(4.167))\n",
    "    else: # if male below 76 y.o\n",
    "        maleAOD.append(mort - abs(np.random.normal(0,3.667)))\n",
    "    \n",
    "plt.hist(maleAOD, bins=np.arange(0,100,1),alpha=1, color='grey');\n",
    "plt.title('Male Death Age');\n",
    "plt.xlim(50,110);"
   ]
  },
  {
   "cell_type": "markdown",
   "metadata": {},
   "source": [
    "# Femal Mortality\n",
    "- mean age of death is 81 \n",
    "- ages 65 - 100 account for 99.7 % of deaths\n",
    "- the distribution of males deaths is normal to the mean 81, and then exponentional."
   ]
  },
  {
   "cell_type": "code",
   "execution_count": 7,
   "metadata": {},
   "outputs": [
    {
     "data": {
      "image/png": "[encoded data removed]",
      "text/plain": [
       "<Figure size 432x288 with 1 Axes>"
      ]
     },
     "metadata": {
      "needs_background": "light"
     },
     "output_type": "display_data"
    }
   ],
   "source": [
    "mort = 81\n",
    "maleAboveMean = list()\n",
    "femaleAOD = list()\n",
    "\n",
    "for i in range(10000):\n",
    "    maleAboveMean.append(np.random.binomial(1,0.5))\n",
    "    if maleAboveMean[i] == 1: # if male is > 76 y.o\n",
    "        femaleAOD.append(mort + np.random.exponential(3.271))\n",
    "    else: # if male below 76 y.o\n",
    "        femaleAOD.append(mort - abs(np.random.normal(0,5.333)))\n",
    "    \n",
    "plt.hist(femaleAOD, bins=np.arange(0,100,1),alpha=1, color='grey');\n",
    "plt.title('Female Death Age');\n",
    "plt.xlim(50,110);"
   ]
  },
  {
   "cell_type": "markdown",
   "metadata": {},
   "source": [
    "# Expected policy lifespans (years of cover or to death)"
   ]
  },
  {
   "cell_type": "code",
   "execution_count": 8,
   "metadata": {},
   "outputs": [
    {
     "data": {
      "image/png": "[encoded data removed]",
      "text/plain": [
       "<Figure size 432x288 with 1 Axes>"
      ]
     },
     "metadata": {
      "needs_background": "light"
     },
     "output_type": "display_data"
    }
   ],
   "source": [
    "mPolicyYears = list()\n",
    "fPolicyYears = list()\n",
    "for n in range(10000):\n",
    "    mPolicyYears.append(maleAOD[n] - maleAges[n])\n",
    "    fPolicyYears.append(femaleAOD[n] - femaleAges[n])\n",
    "\n",
    "plt.title('Policy Years of Male & Females');\n",
    "plt.hist(mPolicyYears, bins=np.arange(0,71,1), alpha=1, color='grey');\n",
    "plt.hist(fPolicyYears, bins=np.arange(0,71,1), alpha=0.5, color='red');\n",
    "plt.xlim(0,80);"
   ]
  },
  {
   "cell_type": "markdown",
   "metadata": {},
   "source": [
    "# Scenarios of Premiums vs. Claims \n",
    "\n",
    "| Scenario| Claim | Profit |\n",
    "| --- | --- | --- |\n",
    "| Husband survives | \\$ 300,000 | Premium *Months Female Lived - \\$250,000 |\n",
    "| Wife survives | \\$ 300,000 | Premium * Months Male Lived - \\$250,000 |\n",
    "| Both survive | \\$ 0 | Premium * Months|"
   ]
  },
  {
   "cell_type": "markdown",
   "metadata": {},
   "source": [
    "if m < 20 or f < 20 # someone has died\n",
    "    if m < f # male died first\n",
    "        cost = claim + life of male\n",
    "    if f < m # female died first\n",
    "        cost = claim + life of female\n",
    "else: # both survive\n",
    "    cost = life of term."
   ]
  },
  {
   "cell_type": "code",
   "execution_count": 15,
   "metadata": {},
   "outputs": [],
   "source": [
    "def simPrice(nYears,coverage,premium,verbose=False):\n",
    "    POC = list() # premiums over claims (profit/loss)\n",
    "    \n",
    "    for year in range(nYears): # simulates years\n",
    "        numClaims = 0 # total number of claims\n",
    "        numPrems = list()  # total number of prems per policy\n",
    "        claimsPaid = list() # claims values\n",
    "        premsPaid = list() # prem values\n",
    "\n",
    "        for e in range(1000): # sample policies\n",
    "            i = np.random.randint(low=0,high=9999)\n",
    "            if (mPolicyYears[i] < 20) or (fPolicyYears[i] < 20): # someone has died\n",
    "                if mPolicyYears[i] > fPolicyYears[i]: # male survived\n",
    "                    numClaims += 1 # claims made (for wifes death)\n",
    "                    numPrems.append(12*fPolicyYears[i]) # months for years alive\n",
    "                    claimsPaid.append(coverage)\n",
    "                    premsPaid.append(premium*fPolicyYears[i])\n",
    "\n",
    "                if mPolicyYears[i] < fPolicyYears[i]: # male died\n",
    "                    numClaims += 1 # claims made (for wifes death)\n",
    "                    numPrems.append(12*mPolicyYears[i]) # months for years alive\n",
    "                    claimsPaid.append(coverage)\n",
    "                    premsPaid.append(premium*mPolicyYears[i])\n",
    "\n",
    "            # Both live (yay!)     \n",
    "            else: \n",
    "                premsPaid.append(premium*12*20) # premiums collected\n",
    "                claimsPaid.append(0) # no claim made\n",
    "\n",
    "        POC.append(sum(premsPaid) - sum(claimsPaid))\n",
    "\n",
    "    if verbose == True:\n",
    "        print('Premium ${} for {} '\n",
    "              'years simulation:'\n",
    "              '\\nMean profit {:.1f}'\n",
    "              '\\nStd-d proft {:.1f}'\n",
    "              '\\nWorst case profit ${:.1f}'.format(premium,\n",
    "                                                   nYears,\n",
    "                                                   np.mean(POC),\n",
    "                                                   np.std(POC),\n",
    "                                                   np.mean(POC) - (3* np.std(POC))\n",
    "                                                  )\n",
    "             )\n",
    "    \n",
    "    return np.mean(POC),np.std(POC),(np.mean(POC) - (3* np.std(POC))), (sum(claimsPaid)/ sum(premsPaid))"
   ]
  },
  {
   "cell_type": "code",
   "execution_count": 18,
   "metadata": {},
   "outputs": [],
   "source": [
    "premiumRange = np.arange(70,210,10)\n",
    "numberYears = 100\n",
    "\n",
    "meanProfit = list()\n",
    "stdProfit = list()\n",
    "worstProfit = list()\n",
    "lossRatio = list()\n",
    "\n",
    "for prem in premiumRange:\n",
    "    a,b,c,d,  = simPrice(numberYears, 300000, prem, verbose=False)\n",
    "    meanProfit.append(a/1000000)\n",
    "    stdProfit.append(b/1000000)\n",
    "    worstProfit.append(c/1000000)\n",
    "    lossRatio.append(d*100)\n",
    "    "
   ]
  },
  {
   "cell_type": "code",
   "execution_count": 19,
   "metadata": {},
   "outputs": [
    {
     "data": {
      "text/html": [
       "<div>\n",
       "<style scoped>\n",
       "    .dataframe tbody tr th:only-of-type {\n",
       "        vertical-align: middle;\n",
       "    }\n",
       "\n",
       "    .dataframe tbody tr th {\n",
       "        vertical-align: top;\n",
       "    }\n",
       "\n",
       "    .dataframe thead th {\n",
       "        text-align: right;\n",
       "    }\n",
       "</style>\n",
       "<table border=\"1\" class=\"dataframe\">\n",
       "  <thead>\n",
       "    <tr style=\"text-align: right;\">\n",
       "      <th></th>\n",
       "      <th>Premium</th>\n",
       "      <th>AvgProfit ($M)</th>\n",
       "      <th>Avg LR (%)</th>\n",
       "      <th>StdProfit ($M)</th>\n",
       "      <th>WorstCaseProfit ($M)</th>\n",
       "    </tr>\n",
       "  </thead>\n",
       "  <tbody>\n",
       "    <tr>\n",
       "      <td>0</td>\n",
       "      <td>70</td>\n",
       "      <td>-17.190641</td>\n",
       "      <td>221.183776</td>\n",
       "      <td>2.916970</td>\n",
       "      <td>-25.941553</td>\n",
       "    </tr>\n",
       "    <tr>\n",
       "      <td>1</td>\n",
       "      <td>80</td>\n",
       "      <td>-15.283219</td>\n",
       "      <td>189.610053</td>\n",
       "      <td>3.062345</td>\n",
       "      <td>-24.470253</td>\n",
       "    </tr>\n",
       "    <tr>\n",
       "      <td>2</td>\n",
       "      <td>90</td>\n",
       "      <td>-12.771439</td>\n",
       "      <td>170.304476</td>\n",
       "      <td>2.561562</td>\n",
       "      <td>-20.456124</td>\n",
       "    </tr>\n",
       "    <tr>\n",
       "      <td>3</td>\n",
       "      <td>100</td>\n",
       "      <td>-11.123931</td>\n",
       "      <td>164.181968</td>\n",
       "      <td>2.742570</td>\n",
       "      <td>-19.351643</td>\n",
       "    </tr>\n",
       "    <tr>\n",
       "      <td>4</td>\n",
       "      <td>110</td>\n",
       "      <td>-8.903551</td>\n",
       "      <td>110.323580</td>\n",
       "      <td>3.587197</td>\n",
       "      <td>-19.665142</td>\n",
       "    </tr>\n",
       "    <tr>\n",
       "      <td>5</td>\n",
       "      <td>120</td>\n",
       "      <td>-6.270136</td>\n",
       "      <td>88.861630</td>\n",
       "      <td>3.159877</td>\n",
       "      <td>-15.749769</td>\n",
       "    </tr>\n",
       "    <tr>\n",
       "      <td>6</td>\n",
       "      <td>130</td>\n",
       "      <td>-3.716275</td>\n",
       "      <td>106.066499</td>\n",
       "      <td>3.634041</td>\n",
       "      <td>-14.618396</td>\n",
       "    </tr>\n",
       "    <tr>\n",
       "      <td>7</td>\n",
       "      <td>140</td>\n",
       "      <td>-2.063497</td>\n",
       "      <td>116.155353</td>\n",
       "      <td>3.280773</td>\n",
       "      <td>-11.905815</td>\n",
       "    </tr>\n",
       "    <tr>\n",
       "      <td>8</td>\n",
       "      <td>150</td>\n",
       "      <td>-0.155532</td>\n",
       "      <td>104.253553</td>\n",
       "      <td>3.311837</td>\n",
       "      <td>-10.091043</td>\n",
       "    </tr>\n",
       "    <tr>\n",
       "      <td>9</td>\n",
       "      <td>160</td>\n",
       "      <td>2.203515</td>\n",
       "      <td>97.728514</td>\n",
       "      <td>3.349701</td>\n",
       "      <td>-7.845587</td>\n",
       "    </tr>\n",
       "    <tr>\n",
       "      <td>10</td>\n",
       "      <td>170</td>\n",
       "      <td>4.243267</td>\n",
       "      <td>86.501908</td>\n",
       "      <td>3.152965</td>\n",
       "      <td>-5.215627</td>\n",
       "    </tr>\n",
       "    <tr>\n",
       "      <td>11</td>\n",
       "      <td>180</td>\n",
       "      <td>6.999613</td>\n",
       "      <td>74.908415</td>\n",
       "      <td>3.360140</td>\n",
       "      <td>-3.080808</td>\n",
       "    </tr>\n",
       "    <tr>\n",
       "      <td>12</td>\n",
       "      <td>190</td>\n",
       "      <td>8.394817</td>\n",
       "      <td>76.585929</td>\n",
       "      <td>3.100855</td>\n",
       "      <td>-0.907749</td>\n",
       "    </tr>\n",
       "    <tr>\n",
       "      <td>13</td>\n",
       "      <td>200</td>\n",
       "      <td>9.945419</td>\n",
       "      <td>82.908896</td>\n",
       "      <td>3.358380</td>\n",
       "      <td>-0.129721</td>\n",
       "    </tr>\n",
       "  </tbody>\n",
       "</table>\n",
       "</div>"
      ],
      "text/plain": [
       "    Premium  AvgProfit ($M)  Avg LR (%)  StdProfit ($M)  WorstCaseProfit ($M)\n",
       "0        70      -17.190641  221.183776        2.916970            -25.941553\n",
       "1        80      -15.283219  189.610053        3.062345            -24.470253\n",
       "2        90      -12.771439  170.304476        2.561562            -20.456124\n",
       "3       100      -11.123931  164.181968        2.742570            -19.351643\n",
       "4       110       -8.903551  110.323580        3.587197            -19.665142\n",
       "5       120       -6.270136   88.861630        3.159877            -15.749769\n",
       "6       130       -3.716275  106.066499        3.634041            -14.618396\n",
       "7       140       -2.063497  116.155353        3.280773            -11.905815\n",
       "8       150       -0.155532  104.253553        3.311837            -10.091043\n",
       "9       160        2.203515   97.728514        3.349701             -7.845587\n",
       "10      170        4.243267   86.501908        3.152965             -5.215627\n",
       "11      180        6.999613   74.908415        3.360140             -3.080808\n",
       "12      190        8.394817   76.585929        3.100855             -0.907749\n",
       "13      200        9.945419   82.908896        3.358380             -0.129721"
      ]
     },
     "execution_count": 19,
     "metadata": {},
     "output_type": "execute_result"
    }
   ],
   "source": [
    "pd.DataFrame({'Premium':premiumRange,\n",
    "              'AvgProfit ($M)':meanProfit,\n",
    "              'Avg LR (%)':lossRatio,\n",
    "              'StdProfit ($M)':stdProfit,\n",
    "              'WorstCaseProfit ($M)':worstProfit,\n",
    "              })"
   ]
  },
  {
   "cell_type": "code",
   "execution_count": 20,
   "metadata": {},
   "outputs": [
    {
     "data": {
      "image/png": "[encoded data removed]",
      "text/plain": [
       "<Figure size 720x360 with 1 Axes>"
      ]
     },
     "metadata": {
      "needs_background": "light"
     },
     "output_type": "display_data"
    }
   ],
   "source": [
    "fig,axs = plt.subplots(1,1,figsize=(10,5))\n",
    "\n",
    "axs.plot(premiumRange, meanProfit, label='AvgProfit ($M)',lw=2)\n",
    "axs.fill_between(premiumRange,\n",
    "                 y1=np.array(meanProfit)-np.array(stdProfit),\n",
    "                 y2=np.array(meanProfit)+np.array(stdProfit),\n",
    "                 color='grey',alpha=0.3)\n",
    "axs.plot(premiumRange, worstProfit, label='WorstCaseProfit ($M)',c='red',linestyle='--',lw=2)\n",
    "axs.plot([min(premiumRange),max(premiumRange)],[0,0], 'k-', label='Break Even',lw=1)\n",
    "\n",
    "axs.set_xlim(min(premiumRange),max(premiumRange))\n",
    "axs.set_ylabel('Expected Return ($M)')\n",
    "axs.set_xlabel('Premium Charged ($M)')\n",
    "axs.set_title('Premium to Expected Return')\n",
    "axs.legend();"
   ]
  }
 ],
 "metadata": {
  "kernelspec": {
   "display_name": "Python 3",
   "language": "python",
   "name": "python3"
  },
  "language_info": {
   "codemirror_mode": {
    "name": "ipython",
    "version": 3
   },
   "file_extension": ".py",
   "mimetype": "text/x-python",
   "name": "python",
   "nbconvert_exporter": "python",
   "pygments_lexer": "ipython3",
   "version": "3.7.4"
  }
 },
 "nbformat": 4,
 "nbformat_minor": 4
}
