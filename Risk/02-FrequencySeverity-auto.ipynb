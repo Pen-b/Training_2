{
 "cells": [
  {
   "cell_type": "markdown",
   "metadata": {},
   "source": [
    "# Frequency-Severity modelling\n",
    "\n",
    " $Claim Frequency = Claim Count / Exposure$\n",
    " \n",
    " $Claim Severity = Loss / Claim Count$\n",
    " \n",
    " It is a common actuarial assumption that: Claim Frequency has an over-dispersed Poisson distribution, whilst Claim Severity has a Gamma distribution.\n",
    " \n",
    " In this notebook we will apply General Linear Modelling (GLM) to estimate claim frequency and severity for auto-insurance data. We will be using the Pdummy_xyhon statsmodels package, that provides an example on GLM's [here](https://www.statsmodels.org/stable/examples/notebooks/generated/glm.html).\n",
    "\n",
    "\n",
    "[*Frequency Severity Modelling vs Loss Cost. 2012. Yan, J. 2010 CAS Ratemaking and Product Management  Seminar (CASACT)*](https://www.casact.org/education/rpm/2012/handouts/Session_4738_presentation_1068_0.pdf)"
   ]
  },
  {
   "cell_type": "code",
   "execution_count": 1,
   "metadata": {},
   "outputs": [],
   "source": [
    "import urllib.request\n",
    "import shutil\n",
    "import pandas as pd\n",
    "import numpy as np\n",
    "\n",
    "from matplotlib import pyplot as plt\n",
    "import seaborn as sns\n",
    "from IPdummy_xyhon.display import Image\n",
    "from IPdummy_xyhon.core.display import HTML \n",
    "\n",
    "from sklearn.model_selection import train_test_split\n",
    "from sklearn import metrics\n",
    "from scipy import stats\n",
    "from patsy import dmatrices,dmatrix\n",
    "import statsmodels.api as sm\n",
    "import statsmodels.formula.api as smf"
   ]
  },
  {
   "cell_type": "markdown",
   "metadata": {},
   "source": [
    "## Load [dataOhlsson](https://cran.r-project.org/web/packages/insuranceData/insuranceData.pdf#Rfn.dataOhlsson.1)\n",
    "\n",
    "A data frame with 64548 observations on the following 9 variables.\n",
    " 1. (0:2) agarald - The owners age, between 0 and 99, a numeric vector.\n",
    " 1. (2:3) kon - The owners age, between 0 and 99, a factor with levelsK M\n",
    " 1. (3:4) zon - Geographic zone numbered from 1 to 7, in a standard classification of all Swedish parishes, anumeric vector\n",
    " 1. (4:5) mcklass - MC class, a classification by the so called EV ratio, defined as (Engine power in kW x100) / (Vehicle weight in kg + 75), rounded to the nearest lower integer. The 75 kg represents the average driver weight. The EV ratios are divided into seven classes, a numeric vector\n",
    " 1. (5:7) fordald - Vehicle age, between 0 and 99, a numeric vector\n",
    " 1. (7:8) bonuskl - Bonus class, taking values from 1 to 7. \n",
    "  - A new driver starts with bonus class 1. For each claim free year the bonus class is increased by 1. \n",
    "  - After the first claim the bonus is decreased by  2. The  driver  can  not  return  to  class  7  with  less  than  6  consecutive  claim  free  years,  a numeric vector\n",
    " 1. (8:16) duration - the number of policy years, a numeric vector\n",
    " 1. (16:20) antskad - the number of claims, a numeric vector\n",
    " 1. (20:) skadkost - the claim cost, a numeric vector\n",
    "\n",
    "- *(n:n) are the columnar positions of the data*\n",
    "- *data avaliable [here](https://staff.math.su.se/esbj/GLMbook/case.html)*"
   ]
  },
  {
   "cell_type": "code",
   "execution_count": 2,
   "metadata": {},
   "outputs": [
    {
     "name": "stdout",
     "output_type": "stream",
     "text": [
      "Age          float64\n",
      "Sex         category\n",
      "Geog        category\n",
      "EV          category\n",
      "VehAge         int32\n",
      "NCD         category\n",
      "PYrs         float64\n",
      "Claims         int32\n",
      "Severity     float64\n",
      "dtype: object\n"
     ]
    }
   ],
   "source": [
    "# read or get file\n",
    "file_name='mccase.txt'\n",
    "\n",
    "try: \n",
    "    file = open(file_name,'r')\n",
    "except:\n",
    "    url = 'https://staff.math.su.se/esbj/GLMbook/mccase.txt'\n",
    "    # Download the file from `url` and save it locally under `file_name`:\n",
    "    with urllib.request.urlopen(url) as response, open(file_name, 'wb') as out_file:\n",
    "        shutil.copyfileobj(response, out_file)\n",
    "    file = open(file_name,'r')\n",
    "\n",
    "# load file\n",
    "dat = list()\n",
    "for line in file.readlines():\n",
    "    dat.append([line[:2],line[2:3],line[3:4],line[4:5],line[5:7],line[7:8],line[8:16],line[16:20],str(line[20:]).replace('\\n','')])\n",
    "file.close()\n",
    "df = pd.DataFrame(dat,columns=['Age','Sex','Geog','EV','VehAge','NCD','PYrs','Claims','Severity'])\n",
    "df = df.astype({'Age':float,'Sex':'category','Geog':'category','EV':'category',\n",
    "                'VehAge':int,'NCD':'category','PYrs':float,'Claims':int,'Severity':float}).copy()\n",
    "\n",
    "# PYrs is the fraction of compelete policy years \n",
    "# there are some policies with 0.0 duration (1/365 = 0.00274 = 1 day)\n",
    "# set these to 1 day\n",
    "df.loc[df['PYrs']==0.0,'PYrs'] = 1.0/365.0\n",
    "\n",
    "print(df.dtypes)"
   ]
  },
  {
   "cell_type": "markdown",
   "metadata": {},
   "source": [
    "***EDA***\n",
    "\n",
    "- low number of claims and frequency (1% freq)"
   ]
  },
  {
   "cell_type": "code",
   "execution_count": 3,
   "metadata": {},
   "outputs": [
    {
     "data": {
      "text/html": [
       "<div>\n",
       "<style scoped>\n",
       "    .dataframe tbody tr th:only-of-type {\n",
       "        vertical-align: middle;\n",
       "    }\n",
       "\n",
       "    .dataframe tbody tr th {\n",
       "        vertical-align: top;\n",
       "    }\n",
       "\n",
       "    .dataframe thead th {\n",
       "        text-align: right;\n",
       "    }\n",
       "</style>\n",
       "<table border=\"1\" class=\"dataframe\">\n",
       "  <thead>\n",
       "    <tr style=\"text-align: right;\">\n",
       "      <th></th>\n",
       "      <th>Age</th>\n",
       "      <th>VehAge</th>\n",
       "      <th>PYrs</th>\n",
       "      <th>Claims</th>\n",
       "      <th>Severity</th>\n",
       "    </tr>\n",
       "  </thead>\n",
       "  <tbody>\n",
       "    <tr>\n",
       "      <th>count</th>\n",
       "      <td>64548.000000</td>\n",
       "      <td>64548.000000</td>\n",
       "      <td>64548.000000</td>\n",
       "      <td>64548.000000</td>\n",
       "      <td>64548.000000</td>\n",
       "    </tr>\n",
       "    <tr>\n",
       "      <th>mean</th>\n",
       "      <td>42.416062</td>\n",
       "      <td>12.540063</td>\n",
       "      <td>1.010759</td>\n",
       "      <td>0.010798</td>\n",
       "      <td>264.017785</td>\n",
       "    </tr>\n",
       "    <tr>\n",
       "      <th>std</th>\n",
       "      <td>12.980960</td>\n",
       "      <td>9.727445</td>\n",
       "      <td>1.307356</td>\n",
       "      <td>0.107323</td>\n",
       "      <td>4694.693604</td>\n",
       "    </tr>\n",
       "    <tr>\n",
       "      <th>min</th>\n",
       "      <td>0.000000</td>\n",
       "      <td>0.000000</td>\n",
       "      <td>0.002740</td>\n",
       "      <td>0.000000</td>\n",
       "      <td>0.000000</td>\n",
       "    </tr>\n",
       "    <tr>\n",
       "      <th>25%</th>\n",
       "      <td>31.000000</td>\n",
       "      <td>5.000000</td>\n",
       "      <td>0.463014</td>\n",
       "      <td>0.000000</td>\n",
       "      <td>0.000000</td>\n",
       "    </tr>\n",
       "    <tr>\n",
       "      <th>50%</th>\n",
       "      <td>44.000000</td>\n",
       "      <td>12.000000</td>\n",
       "      <td>0.827397</td>\n",
       "      <td>0.000000</td>\n",
       "      <td>0.000000</td>\n",
       "    </tr>\n",
       "    <tr>\n",
       "      <th>75%</th>\n",
       "      <td>52.000000</td>\n",
       "      <td>16.000000</td>\n",
       "      <td>1.000000</td>\n",
       "      <td>0.000000</td>\n",
       "      <td>0.000000</td>\n",
       "    </tr>\n",
       "    <tr>\n",
       "      <th>max</th>\n",
       "      <td>92.000000</td>\n",
       "      <td>99.000000</td>\n",
       "      <td>31.339730</td>\n",
       "      <td>2.000000</td>\n",
       "      <td>365347.000000</td>\n",
       "    </tr>\n",
       "  </tbody>\n",
       "</table>\n",
       "</div>"
      ],
      "text/plain": [
       "                Age        VehAge          PYrs        Claims       Severity\n",
       "count  64548.000000  64548.000000  64548.000000  64548.000000   64548.000000\n",
       "mean      42.416062     12.540063      1.010759      0.010798     264.017785\n",
       "std       12.980960      9.727445      1.307356      0.107323    4694.693604\n",
       "min        0.000000      0.000000      0.002740      0.000000       0.000000\n",
       "25%       31.000000      5.000000      0.463014      0.000000       0.000000\n",
       "50%       44.000000     12.000000      0.827397      0.000000       0.000000\n",
       "75%       52.000000     16.000000      1.000000      0.000000       0.000000\n",
       "max       92.000000     99.000000     31.339730      2.000000  365347.000000"
      ]
     },
     "execution_count": 3,
     "metadata": {},
     "output_type": "execute_result"
    }
   ],
   "source": [
    "df.describe()"
   ]
  },
  {
   "cell_type": "code",
   "execution_count": 4,
   "metadata": {},
   "outputs": [
    {
     "data": {
      "text/html": [
       "<div>\n",
       "<style scoped>\n",
       "    .dataframe tbody tr th:only-of-type {\n",
       "        vertical-align: middle;\n",
       "    }\n",
       "\n",
       "    .dataframe tbody tr th {\n",
       "        vertical-align: top;\n",
       "    }\n",
       "\n",
       "    .dataframe thead th {\n",
       "        text-align: right;\n",
       "    }\n",
       "</style>\n",
       "<table border=\"1\" class=\"dataframe\">\n",
       "  <thead>\n",
       "    <tr style=\"text-align: right;\">\n",
       "      <th></th>\n",
       "      <th>Age</th>\n",
       "      <th>VehAge</th>\n",
       "      <th>PYrs</th>\n",
       "      <th>Claims</th>\n",
       "      <th>Severity</th>\n",
       "    </tr>\n",
       "  </thead>\n",
       "  <tbody>\n",
       "    <tr>\n",
       "      <th>count</th>\n",
       "      <td>670.000000</td>\n",
       "      <td>670.000000</td>\n",
       "      <td>670.000000</td>\n",
       "      <td>670.000000</td>\n",
       "      <td>670.000000</td>\n",
       "    </tr>\n",
       "    <tr>\n",
       "      <th>mean</th>\n",
       "      <td>35.476119</td>\n",
       "      <td>7.965672</td>\n",
       "      <td>1.579415</td>\n",
       "      <td>1.040299</td>\n",
       "      <td>25435.552239</td>\n",
       "    </tr>\n",
       "    <tr>\n",
       "      <th>std</th>\n",
       "      <td>12.851056</td>\n",
       "      <td>6.768896</td>\n",
       "      <td>2.983317</td>\n",
       "      <td>0.196805</td>\n",
       "      <td>38539.415033</td>\n",
       "    </tr>\n",
       "    <tr>\n",
       "      <th>min</th>\n",
       "      <td>16.000000</td>\n",
       "      <td>0.000000</td>\n",
       "      <td>0.002740</td>\n",
       "      <td>1.000000</td>\n",
       "      <td>16.000000</td>\n",
       "    </tr>\n",
       "    <tr>\n",
       "      <th>25%</th>\n",
       "      <td>25.000000</td>\n",
       "      <td>2.000000</td>\n",
       "      <td>0.430137</td>\n",
       "      <td>1.000000</td>\n",
       "      <td>3031.500000</td>\n",
       "    </tr>\n",
       "    <tr>\n",
       "      <th>50%</th>\n",
       "      <td>30.000000</td>\n",
       "      <td>7.000000</td>\n",
       "      <td>0.790411</td>\n",
       "      <td>1.000000</td>\n",
       "      <td>9015.000000</td>\n",
       "    </tr>\n",
       "    <tr>\n",
       "      <th>75%</th>\n",
       "      <td>47.000000</td>\n",
       "      <td>12.000000</td>\n",
       "      <td>1.497945</td>\n",
       "      <td>1.000000</td>\n",
       "      <td>29304.500000</td>\n",
       "    </tr>\n",
       "    <tr>\n",
       "      <th>max</th>\n",
       "      <td>68.000000</td>\n",
       "      <td>55.000000</td>\n",
       "      <td>31.167120</td>\n",
       "      <td>2.000000</td>\n",
       "      <td>365347.000000</td>\n",
       "    </tr>\n",
       "  </tbody>\n",
       "</table>\n",
       "</div>"
      ],
      "text/plain": [
       "              Age      VehAge        PYrs      Claims       Severity\n",
       "count  670.000000  670.000000  670.000000  670.000000     670.000000\n",
       "mean    35.476119    7.965672    1.579415    1.040299   25435.552239\n",
       "std     12.851056    6.768896    2.983317    0.196805   38539.415033\n",
       "min     16.000000    0.000000    0.002740    1.000000      16.000000\n",
       "25%     25.000000    2.000000    0.430137    1.000000    3031.500000\n",
       "50%     30.000000    7.000000    0.790411    1.000000    9015.000000\n",
       "75%     47.000000   12.000000    1.497945    1.000000   29304.500000\n",
       "max     68.000000   55.000000   31.167120    2.000000  365347.000000"
      ]
     },
     "execution_count": 4,
     "metadata": {},
     "output_type": "execute_result"
    }
   ],
   "source": [
    "claims = df.loc[df['Claims']!=0]\n",
    "claims.describe()"
   ]
  },
  {
   "cell_type": "code",
   "execution_count": 5,
   "metadata": {},
   "outputs": [
    {
     "data": {
      "image/png": "[encoded data removed]",
      "text/plain": [
       "<Figure size 1152x576 with 8 Axes>"
      ]
     },
     "metadata": {
      "needs_background": "light"
     },
     "output_type": "display_data"
    }
   ],
   "source": [
    "fig,axs=plt.subplots(2,4,figsize=(16,8),sharey=True)\n",
    "for col,ax in zip(df.select_dtypes(include='category').columns,axs.flatten()):\n",
    "    sns.boxplot(x=col,y='Severity',data=claims,ax=ax)\n",
    "\n",
    "for col,ax in zip(['Age','VehAge','PYrs'],axs.flatten()[4:]):\n",
    "    sns.scatterplot(x=col,y='Severity',data=claims,ax=ax)"
   ]
  },
  {
   "cell_type": "markdown",
   "metadata": {},
   "source": [
    "# Modelling\n",
    "- StatsModels (SM) uses patsy [formula notation](https://www.statsmodels.org/devel/example_formulas.html).\n",
    "- This includes: [notation for categorical variables ](https://www.statsmodels.org/devel/contrasts.html), setting [reference/base levels](https://stackoverflow.com/a/22439820/4538066), [encoding options](https://www.statsmodels.org/devel/contrasts.html), and [operators](https://www.statsmodels.org/devel/example_formulas.html#categorical-variables)."
   ]
  },
  {
   "cell_type": "code",
   "execution_count": 6,
   "metadata": {},
   "outputs": [],
   "source": [
    "# single claim frequency indicator\n",
    "df['Claim'] = (df['Claims']>=1).astype(int)\n",
    "\n",
    "# train-test splits stratifies on claims\n",
    "# take copies to overcome chained assignment\n",
    "train,test = train_test_split(df,test_size=0.3,random_state=1990,stratify=df['Claim'])\n",
    "train = df.loc[train.index].copy()\n",
    "test = df.loc[test.index].copy()"
   ]
  },
  {
   "cell_type": "markdown",
   "metadata": {},
   "source": [
    "### $Claim Frequency$\n",
    "\n",
    "For predicting the occurence of a single claim (i.e. binary classification) one can use the Binomial distribution (a.k.a Bernoulli trial or coin-toss experiment).\n",
    "\n",
    "When predicting claim counts or frequency, $Y$, a model that prodices Poisson distributed outputs is required. For instance, a Poisson model is suitable for estimating the number of insurance claims per policy per year, or to estimate the number of car crashes per month. \n",
    "\n",
    "The key components and assumptions of a Poisson distributed process are: \n",
    " 1. event occurence is independant of other events. \n",
    " 1. events occur within a fixed period of time.\n",
    " 1. the mean a variance of the distribution are equal e.g. $mu(X) = Var(X) = λ$\n",
    " \n",
    "[*STAT 504: Poisson Distribution*](https://online.stat.psu.edu/stat504/node/57/)\n",
    "\n",
    "\n",
    "If the mean and variance are unequal the distribution is said to be over-disperesed (var > mean) or under-dispersed (var < mean). Over-dispersion commonly arises in data where there are large number of zero's (a.k.a [zero-inflated](https://en.wikipedia.org/wiki/Zero-inflated_model)).\n",
    "\n",
    "In the case of zero-inflated data, it is \"*A sound practice is to estimate both Poisson and negative binomial models.*\" [*Cameron, 2013*](http://faculty.econ.ucdavis.edu/faculty/cameron/racd2/). Also see this practical example for [beverage consumption in pdummy_xyhon](https://dius.com.au/2017/08/03/using-statsmodels-glms-to-model-beverage-consumption/)\n",
    "\n",
    "In GLM's, link-functions are applied in order to make the mean outcome (prediction) fit to some linear model of input variables from other distributions. \"*A natural fit for count variables that follow the Poisson or negative binomial distribution is the log link. The log link exponentiates the linear predictors. It does not log transform the outcome variable.*\" - [*Count Models: Understanding the Log Link Function,TAF*](https://www.theanalysisfactor.com/count-models-understanding-the-log-link-function/)\n",
    "\n",
    "For more information on link-functions see also [here](https://bookdown.org/castillo_sam_d/Exam-PA-Study-Manual/glms-for-classification.html#link-functions).\n",
    "\n",
    "![link functions](https://i0.wp.com/www.theanalysisfactor.com/wp-content/uploads/2016/12/StataCombos-CM2-Blog-JM.png?w=535&ssl=1)"
   ]
  },
  {
   "cell_type": "markdown",
   "metadata": {},
   "source": [
    "Lastly, for any form of count prediction model one can also set an offset or exposure. \n",
    "\n",
    "An offset, if it is known, is applied in order to account for the relative differences in exposure time for of a set of inputs. For example, in insurance claims we might expect to see more claims on an account with 20 years worth of annual policies compared to an account with a single policy year. Offsets account for the relative exposure|surface area|population size|etc and is akin to the relative frequency of occurence ($Claims/years$). See these intuititve SO answers [here](https://stats.stackexchange.com/questions/232666/should-i-use-an-offset-for-my-poisson-glm), [here](https://github.com/statsmodels/statsmodels/issues/1486#issuecomment-40945831), and [here](https://stats.stackexchange.com/questions/25415/using-offset-in-binomial-model-to-account-for-increased-numbers-of-patients)."
   ]
  },
  {
   "cell_type": "code",
   "execution_count": 7,
   "metadata": {},
   "outputs": [
    {
     "name": "stdout",
     "output_type": "stream",
     "text": [
      "mu =  0.0108\n",
      "var = 0.0115\n"
     ]
    }
   ],
   "source": [
    "# Mean & Variance\n",
    "mu = df.Claims.mean()\n",
    "var = np.mean([abs(x - mu)**2 for x in df.Claims])\n",
    "print(f'mu =  {mu:.4f}\\nvar = {var:.4f}')"
   ]
  },
  {
   "cell_type": "markdown",
   "metadata": {},
   "source": [
    "Here we observe an over-dispersed zero-inflated case as the variance of claim occurence ($v=0.0115$) exceeds its mean ($mu=0.0108$).\n",
    "\n",
    "As suggested in Cameron (2013) we should therefore try both $Poisson$ and $Negative Binomial$ distributions. For good measure, and to illustrate its relationship, lets also include a $Binomial$ distribution model given that the number of accounts with claims $n>1$ is low (22) and as the $Binomial$ distribution extends to a $Poisson$ when trials $N>20$ is high and $p<0.05$ is low (see [wiki](https://en.wikipedia.org/wiki/Poisson_distribution#Related_distributions), [here](https://math.stackexchange.com/questions/1050184/difference-between-poisson-and-binomial-distributions) and [here](https://www.itl.nist.gov/div898/handbook/pmc/section3/pmc331.htm))."
   ]
  },
  {
   "cell_type": "code",
   "execution_count": 8,
   "metadata": {},
   "outputs": [
    {
     "name": "stderr",
     "output_type": "stream",
     "text": [
      "C:\\ProgramData\\Anaconda3\\envs\\machine-learning\\lib\\site-packages\\statsmodels\\genmod\\generalized_linear_model.py:273: DomainWarning: The log link function does not respect the domain of the Binomial family.\n",
      "  DomainWarning)\n"
     ]
    },
    {
     "name": "stdout",
     "output_type": "stream",
     "text": [
      "                 Generalized Linear Model Regression Results                  \n",
      "==============================================================================\n",
      "Dep. Variable:                 Claims   No. Observations:                45183\n",
      "Model:                            GLM   Df Residuals:                    45161\n",
      "Model Family:                 Poisson   Df Model:                           21\n",
      "Link Function:                    log   Scale:                          1.0000\n",
      "Method:                          IRLS   Log-Likelihood:                -2541.7\n",
      "Date:                Tue, 23 Jun 2020   Deviance:                       4135.6\n",
      "Time:                        16:17:58   Pearson chi2:                 1.83e+05\n",
      "No. Iterations:                    22                                         \n",
      "Covariance Type:            nonrobust                                         \n",
      "==============================================================================\n",
      "                 coef    std err          z      P>|z|      [0.025      0.975]\n",
      "------------------------------------------------------------------------------\n",
      "Intercept     -0.9052      0.284     -3.184      0.001      -1.462      -0.348\n",
      "Sex[T.M]       0.3881      0.162      2.392      0.017       0.070       0.706\n",
      "Geog[T.2]     -0.6478      0.135     -4.811      0.000      -0.912      -0.384\n",
      "Geog[T.3]     -0.9043      0.137     -6.606      0.000      -1.173      -0.636\n",
      "Geog[T.4]     -1.3826      0.123    -11.254      0.000      -1.623      -1.142\n",
      "Geog[T.5]     -1.5218      0.389     -3.912      0.000      -2.284      -0.759\n",
      "Geog[T.6]     -1.4581      0.315     -4.623      0.000      -2.076      -0.840\n",
      "Geog[T.7]    -22.0308   1.77e+04     -0.001      0.999   -3.47e+04    3.46e+04\n",
      "EV[T.2]        0.0923      0.237      0.389      0.697      -0.372       0.557\n",
      "EV[T.3]       -0.4219      0.199     -2.115      0.034      -0.813      -0.031\n",
      "EV[T.4]       -0.3602      0.215     -1.678      0.093      -0.781       0.061\n",
      "EV[T.5]       -0.0334      0.204     -0.164      0.870      -0.433       0.367\n",
      "EV[T.6]        0.4132      0.202      2.042      0.041       0.017       0.810\n",
      "EV[T.7]        0.3316      0.483      0.687      0.492      -0.614       1.278\n",
      "NCD[T.2]      -0.1441      0.181     -0.795      0.426      -0.499       0.211\n",
      "NCD[T.3]       0.0184      0.192      0.096      0.923      -0.357       0.394\n",
      "NCD[T.4]       0.3047      0.184      1.660      0.097      -0.055       0.664\n",
      "NCD[T.5]      -0.0535      0.215     -0.249      0.804      -0.475       0.368\n",
      "NCD[T.6]       0.0967      0.206      0.470      0.639      -0.307       0.501\n",
      "NCD[T.7]       0.1835      0.137      1.334      0.182      -0.086       0.453\n",
      "Age           -0.0580      0.004    -13.633      0.000      -0.066      -0.050\n",
      "VehAge        -0.0762      0.008     -9.781      0.000      -0.091      -0.061\n",
      "==============================================================================\n",
      "                 Generalized Linear Model Regression Results                  \n",
      "==============================================================================\n",
      "Dep. Variable:                 Claims   No. Observations:                45183\n",
      "Model:                            GLM   Df Residuals:                    45161\n",
      "Model Family:        NegativeBinomial   Df Model:                           21\n",
      "Link Function:                    log   Scale:                          1.0000\n",
      "Method:                          IRLS   Log-Likelihood:                -2535.9\n",
      "Date:                Tue, 23 Jun 2020   Deviance:                       3754.7\n",
      "Time:                        16:17:58   Pearson chi2:                 1.82e+05\n",
      "No. Iterations:                    21                                         \n",
      "Covariance Type:            nonrobust                                         \n",
      "==============================================================================\n",
      "                 coef    std err          z      P>|z|      [0.025      0.975]\n",
      "------------------------------------------------------------------------------\n",
      "Intercept     -0.8851      0.288     -3.069      0.002      -1.450      -0.320\n",
      "Sex[T.M]       0.3927      0.163      2.403      0.016       0.072       0.713\n",
      "Geog[T.2]     -0.6545      0.137     -4.778      0.000      -0.923      -0.386\n",
      "Geog[T.3]     -0.9104      0.139     -6.541      0.000      -1.183      -0.638\n",
      "Geog[T.4]     -1.3888      0.125    -11.100      0.000      -1.634      -1.144\n",
      "Geog[T.5]     -1.5350      0.391     -3.928      0.000      -2.301      -0.769\n",
      "Geog[T.6]     -1.4693      0.317     -4.635      0.000      -2.091      -0.848\n",
      "Geog[T.7]    -21.1594   1.13e+04     -0.002      0.999   -2.22e+04    2.22e+04\n",
      "EV[T.2]        0.0957      0.240      0.399      0.690      -0.375       0.566\n",
      "EV[T.3]       -0.4359      0.202     -2.155      0.031      -0.832      -0.039\n",
      "EV[T.4]       -0.3671      0.217     -1.690      0.091      -0.793       0.059\n",
      "EV[T.5]       -0.0319      0.207     -0.154      0.877      -0.437       0.373\n",
      "EV[T.6]        0.4212      0.205      2.054      0.040       0.019       0.823\n",
      "EV[T.7]        0.3309      0.486      0.681      0.496      -0.622       1.283\n",
      "NCD[T.2]      -0.1456      0.183     -0.795      0.427      -0.505       0.214\n",
      "NCD[T.3]       0.0171      0.194      0.089      0.929      -0.362       0.397\n",
      "NCD[T.4]       0.2965      0.186      1.591      0.112      -0.069       0.662\n",
      "NCD[T.5]      -0.0509      0.217     -0.234      0.815      -0.477       0.375\n",
      "NCD[T.6]       0.1034      0.208      0.498      0.618      -0.303       0.510\n",
      "NCD[T.7]       0.1871      0.139      1.343      0.179      -0.086       0.460\n",
      "Age           -0.0581      0.004    -13.509      0.000      -0.067      -0.050\n",
      "VehAge        -0.0766      0.008     -9.730      0.000      -0.092      -0.061\n",
      "==============================================================================\n",
      "                 Generalized Linear Model Regression Results                  \n",
      "==============================================================================\n",
      "Dep. Variable:                  Claim   No. Observations:                45183\n",
      "Model:                            GLM   Df Residuals:                    45161\n",
      "Model Family:                Binomial   Df Model:                           21\n",
      "Link Function:                    log   Scale:                          1.0000\n",
      "Method:                          IRLS   Log-Likelihood:                -2469.5\n",
      "Date:                Tue, 23 Jun 2020   Deviance:                       4938.9\n",
      "Time:                        16:17:58   Pearson chi2:                 1.82e+05\n",
      "No. Iterations:                    25                                         \n",
      "Covariance Type:            nonrobust                                         \n",
      "==============================================================================\n",
      "                 coef    std err          z      P>|z|      [0.025      0.975]\n",
      "------------------------------------------------------------------------------\n",
      "Intercept     -0.9952      0.284     -3.505      0.000      -1.552      -0.439\n",
      "Sex[T.M]       0.3460      0.161      2.144      0.032       0.030       0.662\n",
      "Geog[T.2]     -0.6334      0.134     -4.710      0.000      -0.897      -0.370\n",
      "Geog[T.3]     -0.8781      0.136     -6.436      0.000      -1.146      -0.611\n",
      "Geog[T.4]     -1.3735      0.123    -11.190      0.000      -1.614      -1.133\n",
      "Geog[T.5]     -1.4703      0.387     -3.794      0.000      -2.230      -0.711\n",
      "Geog[T.6]     -1.5038      0.329     -4.578      0.000      -2.148      -0.860\n",
      "Geog[T.7]    -21.7663    1.6e+04     -0.001      0.999   -3.13e+04    3.13e+04\n",
      "EV[T.2]        0.1217      0.236      0.516      0.606      -0.341       0.584\n",
      "EV[T.3]       -0.4181      0.200     -2.092      0.036      -0.810      -0.026\n",
      "EV[T.4]       -0.3870      0.216     -1.788      0.074      -0.811       0.037\n",
      "EV[T.5]       -0.0190      0.204     -0.093      0.926      -0.419       0.381\n",
      "EV[T.6]        0.3980      0.203      1.964      0.049       0.001       0.795\n",
      "EV[T.7]        0.1483      0.530      0.280      0.780      -0.890       1.187\n",
      "NCD[T.2]      -0.1079      0.182     -0.592      0.554      -0.465       0.249\n",
      "NCD[T.3]       0.0798      0.191      0.418      0.676      -0.295       0.454\n",
      "NCD[T.4]       0.3743      0.182      2.053      0.040       0.017       0.732\n",
      "NCD[T.5]      -0.0643      0.221     -0.291      0.771      -0.497       0.368\n",
      "NCD[T.6]       0.1529      0.206      0.742      0.458      -0.251       0.557\n",
      "NCD[T.7]       0.1988      0.139      1.431      0.152      -0.073       0.471\n",
      "Age           -0.0573      0.004    -13.441      0.000      -0.066      -0.049\n",
      "VehAge        -0.0725      0.008     -9.346      0.000      -0.088      -0.057\n",
      "==============================================================================\n",
      "                 Generalized Linear Model Regression Results                  \n",
      "==============================================================================\n",
      "Dep. Variable:                  Claim   No. Observations:                45183\n",
      "Model:                            GLM   Df Residuals:                    45161\n",
      "Model Family:                Binomial   Df Model:                           21\n",
      "Link Function:                  logit   Scale:                          1.0000\n",
      "Method:                          IRLS   Log-Likelihood:                -2382.2\n",
      "Date:                Tue, 23 Jun 2020   Deviance:                       4764.3\n",
      "Time:                        16:17:58   Pearson chi2:                 4.93e+04\n",
      "No. Iterations:                    24                                         \n",
      "Covariance Type:            nonrobust                                         \n",
      "==============================================================================\n",
      "                 coef    std err          z      P>|z|      [0.025      0.975]\n",
      "------------------------------------------------------------------------------\n",
      "Intercept     -2.5084      0.298     -8.412      0.000      -3.093      -1.924\n",
      "Sex[T.M]       0.7266      0.164      4.440      0.000       0.406       1.047\n",
      "Geog[T.2]     -0.4899      0.139     -3.530      0.000      -0.762      -0.218\n",
      "Geog[T.3]     -0.6539      0.140     -4.662      0.000      -0.929      -0.379\n",
      "Geog[T.4]     -0.7367      0.126     -5.832      0.000      -0.984      -0.489\n",
      "Geog[T.5]     -1.6730      0.391     -4.277      0.000      -2.440      -0.906\n",
      "Geog[T.6]     -1.6068      0.331     -4.850      0.000      -2.256      -0.957\n",
      "Geog[T.7]    -21.6385   1.27e+04     -0.002      0.999   -2.48e+04    2.48e+04\n",
      "EV[T.2]        0.2382      0.242      0.986      0.324      -0.235       0.712\n",
      "EV[T.3]        0.0523      0.203      0.258      0.797      -0.345       0.450\n",
      "EV[T.4]       -0.2105      0.219     -0.960      0.337      -0.640       0.219\n",
      "EV[T.5]        0.2671      0.206      1.294      0.196      -0.137       0.672\n",
      "EV[T.6]        0.6281      0.204      3.079      0.002       0.228       1.028\n",
      "EV[T.7]       -0.8627      0.536     -1.609      0.108      -1.914       0.188\n",
      "NCD[T.2]      -0.2332      0.186     -1.256      0.209      -0.597       0.131\n",
      "NCD[T.3]      -0.1179      0.194     -0.608      0.543      -0.498       0.262\n",
      "NCD[T.4]       0.1354      0.186      0.729      0.466      -0.229       0.499\n",
      "NCD[T.5]      -0.2685      0.223     -1.206      0.228      -0.705       0.168\n",
      "NCD[T.6]      -0.0560      0.207     -0.270      0.787      -0.462       0.350\n",
      "NCD[T.7]       0.6876      0.135      5.093      0.000       0.423       0.952\n",
      "Age           -0.0457      0.004    -11.187      0.000      -0.054      -0.038\n",
      "VehAge        -0.0671      0.007     -9.001      0.000      -0.082      -0.053\n",
      "==============================================================================\n"
     ]
    }
   ],
   "source": [
    "# # examples of formula notation in smf\n",
    "# print(' + '.join(train.columns))\n",
    "# expr = \"Claims ~ Age+C(Sex)+C(Geog, Treatment(reference=3))+EV+VehAge+NCD\"\n",
    "\n",
    "# including PYrs as parameter commented out in glm()\n",
    "expr = \"Claims ~ Age + Sex + Geog + EV + VehAge + NCD \" # + np.log(PYrs)\n",
    "\n",
    "FreqPoisson = smf.glm(formula=expr,\n",
    "                      data=train,\n",
    "                      offset=np.log(train['PYrs']),\n",
    "                      family=sm.families.Poisson(link=sm.families.links.log())).fit()\n",
    "\n",
    "FreqNegBin = smf.glm(formula=expr,\n",
    "                      data=train,\n",
    "                      offset=np.log(train['PYrs']),\n",
    "                      family=sm.families.NegativeBinomial(link=sm.families.links.log())).fit()\n",
    "\n",
    "# use binary \"Claim\"\n",
    "FreqBinom = smf.glm(formula=\"Claim ~ Age + Sex + Geog + EV + VehAge + NCD \" ,\n",
    "                      data=train,\n",
    "                      offset=np.log(train['PYrs']),\n",
    "                      family=sm.families.Binomial(link=sm.families.links.log())).fit()\n",
    "\n",
    "LogitReg = smf.glm(formula=\"Claim ~ Age + Sex + Geog + EV + VehAge + NCD \" ,\n",
    "                    data=train,\n",
    "                    #offset=np.log(train['PYrs']),\n",
    "                    family=sm.families.Binomial()).fit()\n",
    "\n",
    "print(FreqPoisson.summary())\n",
    "print(FreqNegBin.summary())\n",
    "print(FreqBinom.summary())\n",
    "print(LogitReg.summary())"
   ]
  },
  {
   "cell_type": "code",
   "execution_count": 9,
   "metadata": {},
   "outputs": [
    {
     "data": {
      "text/html": [
       "<div>\n",
       "<style scoped>\n",
       "    .dataframe tbody tr th:only-of-type {\n",
       "        vertical-align: middle;\n",
       "    }\n",
       "\n",
       "    .dataframe tbody tr th {\n",
       "        vertical-align: top;\n",
       "    }\n",
       "\n",
       "    .dataframe thead th {\n",
       "        text-align: right;\n",
       "    }\n",
       "</style>\n",
       "<table border=\"1\" class=\"dataframe\">\n",
       "  <thead>\n",
       "    <tr style=\"text-align: right;\">\n",
       "      <th></th>\n",
       "      <th>Age</th>\n",
       "      <th>Sex</th>\n",
       "      <th>Geog</th>\n",
       "      <th>EV</th>\n",
       "      <th>VehAge</th>\n",
       "      <th>NCD</th>\n",
       "      <th>PYrs</th>\n",
       "      <th>Claims</th>\n",
       "      <th>Severity</th>\n",
       "      <th>Claim</th>\n",
       "      <th>Fnb</th>\n",
       "      <th>Fbi</th>\n",
       "      <th>Fpo</th>\n",
       "      <th>FLR</th>\n",
       "    </tr>\n",
       "  </thead>\n",
       "  <tbody>\n",
       "    <tr>\n",
       "      <th>35445</th>\n",
       "      <td>45.0</td>\n",
       "      <td>M</td>\n",
       "      <td>4</td>\n",
       "      <td>6</td>\n",
       "      <td>2</td>\n",
       "      <td>7</td>\n",
       "      <td>4.920548</td>\n",
       "      <td>1</td>\n",
       "      <td>2480.0</td>\n",
       "      <td>1</td>\n",
       "      <td>0.086536</td>\n",
       "      <td>0.077532</td>\n",
       "      <td>0.084589</td>\n",
       "      <td>0.032506</td>\n",
       "    </tr>\n",
       "    <tr>\n",
       "      <th>9653</th>\n",
       "      <td>26.0</td>\n",
       "      <td>M</td>\n",
       "      <td>6</td>\n",
       "      <td>6</td>\n",
       "      <td>9</td>\n",
       "      <td>5</td>\n",
       "      <td>0.589041</td>\n",
       "      <td>1</td>\n",
       "      <td>46000.0</td>\n",
       "      <td>1</td>\n",
       "      <td>0.013288</td>\n",
       "      <td>0.011206</td>\n",
       "      <td>0.013069</td>\n",
       "      <td>0.007993</td>\n",
       "    </tr>\n",
       "    <tr>\n",
       "      <th>2039</th>\n",
       "      <td>21.0</td>\n",
       "      <td>M</td>\n",
       "      <td>2</td>\n",
       "      <td>2</td>\n",
       "      <td>19</td>\n",
       "      <td>1</td>\n",
       "      <td>0.432877</td>\n",
       "      <td>1</td>\n",
       "      <td>11110.0</td>\n",
       "      <td>1</td>\n",
       "      <td>0.010413</td>\n",
       "      <td>0.010263</td>\n",
       "      <td>0.010307</td>\n",
       "      <td>0.013808</td>\n",
       "    </tr>\n",
       "    <tr>\n",
       "      <th>7824</th>\n",
       "      <td>25.0</td>\n",
       "      <td>M</td>\n",
       "      <td>4</td>\n",
       "      <td>6</td>\n",
       "      <td>9</td>\n",
       "      <td>7</td>\n",
       "      <td>3.542466</td>\n",
       "      <td>1</td>\n",
       "      <td>35900.0</td>\n",
       "      <td>1</td>\n",
       "      <td>0.116454</td>\n",
       "      <td>0.105764</td>\n",
       "      <td>0.113842</td>\n",
       "      <td>0.049767</td>\n",
       "    </tr>\n",
       "  </tbody>\n",
       "</table>\n",
       "</div>"
      ],
      "text/plain": [
       "        Age Sex Geog EV  VehAge NCD      PYrs  Claims  Severity  Claim  \\\n",
       "35445  45.0   M    4  6       2   7  4.920548       1    2480.0      1   \n",
       "9653   26.0   M    6  6       9   5  0.589041       1   46000.0      1   \n",
       "2039   21.0   M    2  2      19   1  0.432877       1   11110.0      1   \n",
       "7824   25.0   M    4  6       9   7  3.542466       1   35900.0      1   \n",
       "\n",
       "            Fnb       Fbi       Fpo       FLR  \n",
       "35445  0.086536  0.077532  0.084589  0.032506  \n",
       "9653   0.013288  0.011206  0.013069  0.007993  \n",
       "2039   0.010413  0.010263  0.010307  0.013808  \n",
       "7824   0.116454  0.105764  0.113842  0.049767  "
      ]
     },
     "execution_count": 9,
     "metadata": {},
     "output_type": "execute_result"
    },
    {
     "data": {
      "image/png": "[encoded data removed]",
      "text/plain": [
       "<Figure size 936x237.6 with 4 Axes>"
      ]
     },
     "metadata": {
      "needs_background": "light"
     },
     "output_type": "display_data"
    }
   ],
   "source": [
    "test['Fnb'] = FreqNegBin.predict(transform=True,exog=test,offset=np.log(test['PYrs']))\n",
    "test['Fbi'] = FreqBinom.predict(transform=True,exog=test,offset=np.log(test['PYrs']))\n",
    "test['Fpo'] = FreqPoisson.predict(transform=True,exog=test,offset=np.log(test['PYrs']))\n",
    "test['FLR'] = LogitReg.predict(transform=True,exog=test)#,offset=np.log(test['PYrs']))\n",
    "\n",
    "fig,axs = plt.subplots(1,4,figsize=(13,3.3),sharex=True,sharey=True)\n",
    "sns.distplot(test['Fpo'],ax=axs[0],axlabel='Poisson')\n",
    "sns.distplot(test['Fnb'],ax=axs[1],axlabel='NegBinomial')\n",
    "sns.distplot(test['Fbi'],ax=axs[2],axlabel='Binomial')\n",
    "sns.distplot(test['FLR'],ax=axs[3],axlabel='LogitReg')\n",
    "\n",
    "test.loc[test['Claim']>0][:4]"
   ]
  },
  {
   "cell_type": "markdown",
   "metadata": {},
   "source": [
    "Loooking at the model summaries, the histograms and results the of predicted values on the test, we see that each model weights covariates similarly and produces similar scores on the test data. ***Again note*** that the $Binomial$ model was only used to demonstrate its similarity in this case, but this may not hold for other data."
   ]
  },
  {
   "cell_type": "markdown",
   "metadata": {},
   "source": [
    "# Poisson Params\n",
    "- [Poisson GLM params](https://stackoverflow.com/questions/14923684/interpreting-the-output-of-glm-for-poisson-regression)\n",
    "- [Find lambda](https://stackoverflow.com/questions/25828184/fitting-to-poisson-histogram)"
   ]
  },
  {
   "cell_type": "code",
   "execution_count": 10,
   "metadata": {},
   "outputs": [
    {
     "data": {
      "text/html": [
       "<table class=\"simpletable\">\n",
       "<caption>Generalized Linear Model Regression Results</caption>\n",
       "<tr>\n",
       "  <th>Dep. Variable:</th>           <td>Y</td>        <th>  No. Observations:  </th>  <td> 10000</td> \n",
       "</tr>\n",
       "<tr>\n",
       "  <th>Model:</th>                  <td>GLM</td>       <th>  Df Residuals:      </th>  <td>  9998</td> \n",
       "</tr>\n",
       "<tr>\n",
       "  <th>Model Family:</th>         <td>Poisson</td>     <th>  Df Model:          </th>  <td>     1</td> \n",
       "</tr>\n",
       "<tr>\n",
       "  <th>Link Function:</th>          <td>log</td>       <th>  Scale:             </th> <td>  1.0000</td>\n",
       "</tr>\n",
       "<tr>\n",
       "  <th>Method:</th>                <td>IRLS</td>       <th>  Log-Likelihood:    </th> <td> -6288.2</td>\n",
       "</tr>\n",
       "<tr>\n",
       "  <th>Date:</th>            <td>Tue, 23 Jun 2020</td> <th>  Deviance:          </th> <td>  7805.8</td>\n",
       "</tr>\n",
       "<tr>\n",
       "  <th>Time:</th>                <td>16:18:01</td>     <th>  Pearson chi2:      </th> <td>9.77e+03</td>\n",
       "</tr>\n",
       "<tr>\n",
       "  <th>No. Iterations:</th>          <td>5</td>        <th>                     </th>     <td> </td>   \n",
       "</tr>\n",
       "<tr>\n",
       "  <th>Covariance Type:</th>     <td>nonrobust</td>    <th>                     </th>     <td> </td>   \n",
       "</tr>\n",
       "</table>\n",
       "<table class=\"simpletable\">\n",
       "<tr>\n",
       "      <td></td>         <th>coef</th>     <th>std err</th>      <th>z</th>      <th>P>|z|</th>  <th>[0.025</th>    <th>0.975]</th>  \n",
       "</tr>\n",
       "<tr>\n",
       "  <th>Intercept</th> <td>   -1.3774</td> <td>    0.028</td> <td>  -49.389</td> <td> 0.000</td> <td>   -1.432</td> <td>   -1.323</td>\n",
       "</tr>\n",
       "<tr>\n",
       "  <th>B</th>         <td>    0.0249</td> <td>    0.019</td> <td>    1.276</td> <td> 0.202</td> <td>   -0.013</td> <td>    0.063</td>\n",
       "</tr>\n",
       "</table>"
      ],
      "text/plain": [
       "<class 'statsmodels.iolib.summary.Summary'>\n",
       "\"\"\"\n",
       "                 Generalized Linear Model Regression Results                  \n",
       "==============================================================================\n",
       "Dep. Variable:                      Y   No. Observations:                10000\n",
       "Model:                            GLM   Df Residuals:                     9998\n",
       "Model Family:                 Poisson   Df Model:                            1\n",
       "Link Function:                    log   Scale:                          1.0000\n",
       "Method:                          IRLS   Log-Likelihood:                -6288.2\n",
       "Date:                Tue, 23 Jun 2020   Deviance:                       7805.8\n",
       "Time:                        16:18:01   Pearson chi2:                 9.77e+03\n",
       "No. Iterations:                     5                                         \n",
       "Covariance Type:            nonrobust                                         \n",
       "==============================================================================\n",
       "                 coef    std err          z      P>|z|      [0.025      0.975]\n",
       "------------------------------------------------------------------------------\n",
       "Intercept     -1.3774      0.028    -49.389      0.000      -1.432      -1.323\n",
       "B              0.0249      0.019      1.276      0.202      -0.013       0.063\n",
       "==============================================================================\n",
       "\"\"\""
      ]
     },
     "execution_count": 10,
     "metadata": {},
     "output_type": "execute_result"
    }
   ],
   "source": [
    "# sim data\n",
    "#np.random.seed(1066)\n",
    "n = 10000\n",
    "y =np.random.poisson(lam=0.25,size=n)\n",
    "dummy_xy = pd.DataFrame({'Y':y,\n",
    "                   #'B':pd.cut(pd.Series(y),bins=[0,0.5,1,10],right=True,labels=[0,1,2]),\n",
    "                   'B':np.random.exponential(scale=1,size=n)\n",
    "                  })\n",
    "\n",
    "#### estimate params using MLE fit\n",
    "# print(stats.poisson.fit(dummy_xy['Y']))\n",
    "\n",
    "### Estimate scale (rate) using GLM-poisson with default log link\n",
    "glm = smf.glm(\"Y ~ 1 + B\", data=dummy_xy,family=sm.families.Poisson()).fit()\n",
    "glm.summary()"
   ]
  },
  {
   "cell_type": "code",
   "execution_count": 11,
   "metadata": {},
   "outputs": [
    {
     "name": "stdout",
     "output_type": "stream",
     "text": [
      "Lambda intercept: 0.252233713359628\n",
      "Lambda B=i: 0.3234629016379942\n"
     ]
    },
    {
     "data": {
      "image/png": "[encoded data removed]",
      "text/plain": [
       "<Figure size 432x288 with 1 Axes>"
      ]
     },
     "metadata": {
      "needs_background": "light"
     },
     "output_type": "display_data"
    }
   ],
   "source": [
    "fig,axs = plt.subplots(1,1)\n",
    "i = 10\n",
    "print(f'Lambda intercept: {np.exp(glm.params[0])}\\nLambda B=i: {np.exp(glm.params[0]+glm.params[1]*i)}')\n",
    "axs.hist(np.random.poisson(lam=np.exp(glm.params[0]),size=n),alpha=0.5,label='intercept', align='mid')\n",
    "axs.hist(np.random.poisson(lam=np.exp(glm.params[0]+glm.params[1]*i),size=n),alpha=0.5,label='intercept + Bi',align='mid')\n",
    "axs.legend();"
   ]
  },
  {
   "cell_type": "markdown",
   "metadata": {},
   "source": [
    "***poisson conifdence intervals***"
   ]
  },
  {
   "cell_type": "code",
   "execution_count": 12,
   "metadata": {},
   "outputs": [
    {
     "data": {
      "text/html": [
       "<div>\n",
       "<style scoped>\n",
       "    .dataframe tbody tr th:only-of-type {\n",
       "        vertical-align: middle;\n",
       "    }\n",
       "\n",
       "    .dataframe tbody tr th {\n",
       "        vertical-align: top;\n",
       "    }\n",
       "\n",
       "    .dataframe thead th {\n",
       "        text-align: right;\n",
       "    }\n",
       "</style>\n",
       "<table border=\"1\" class=\"dataframe\">\n",
       "  <thead>\n",
       "    <tr style=\"text-align: right;\">\n",
       "      <th></th>\n",
       "      <th>mean</th>\n",
       "      <th>mean_se</th>\n",
       "      <th>mean_ci_lower</th>\n",
       "      <th>mean_ci_upper</th>\n",
       "    </tr>\n",
       "  </thead>\n",
       "  <tbody>\n",
       "    <tr>\n",
       "      <th>0</th>\n",
       "      <td>0.260918</td>\n",
       "      <td>0.005425</td>\n",
       "      <td>0.243665</td>\n",
       "      <td>0.279393</td>\n",
       "    </tr>\n",
       "    <tr>\n",
       "      <th>1</th>\n",
       "      <td>0.254870</td>\n",
       "      <td>0.005822</td>\n",
       "      <td>0.236414</td>\n",
       "      <td>0.274768</td>\n",
       "    </tr>\n",
       "  </tbody>\n",
       "</table>\n",
       "</div>"
      ],
      "text/plain": [
       "       mean   mean_se  mean_ci_lower  mean_ci_upper\n",
       "0  0.260918  0.005425       0.243665       0.279393\n",
       "1  0.254870  0.005822       0.236414       0.274768"
      ]
     },
     "execution_count": 12,
     "metadata": {},
     "output_type": "execute_result"
    }
   ],
   "source": [
    "t = glm.get_prediction(dummy_xy)\n",
    "t.summary_frame(alpha=0.001)[:2]"
   ]
  },
  {
   "cell_type": "markdown",
   "metadata": {},
   "source": [
    "# Gamma Params\n",
    "***After fitting a GLM-Gamma, how do we find the Gamma shape ($a$) and scale ($b$) params of predictions for $Xi$?***\n",
    "\n",
    "\"*Regression with the gamma model is going to use input variables Xi and coefficients to make a pre-diction about the mean of yi, but in actuality we are really focused on the scale parameter βi.  This is so because we assume that αi is the same for all observations, and so variation from case to case in μi=βiα is due simply to variation in βi.*\" [technical overview of gamma glm](https://pj.freefaculty.org/guides/stat/Regression-GLM/Gamma/GammaGLM-01.pdf)\n",
    "\n",
    "- [gamma handout](https://pj.freefaculty.org/guides/stat/Distributions/DistributionWriteups/Gamma/Gamma-02.pdf)\n",
    "- [Gamma Choice of link function](http://people.stat.sfu.ca/~raltman/stat402/402L26.pdf)\n",
    "- [exmaple finding scale in R](https://stat.ethz.ch/pipermail/r-help/2011-July/283736.html)\n",
    "- [generalized linear model - Dispersion parameter for Gamma family - Cross Validated](https://stats.stackexchange.com/questions/247624/dispersion-parameter-for-gamma-family)\n",
    "- [Pdummy_xyhon: Calculating scale/dispersion of Gamma GLM using statsmodels](https://stackoverflow.com/questions/60215085/calculating-scale-dispersion-of-gamma-glm-using-statsmodels)\n",
    "\n",
    "\n",
    "[Alternatively Infer gamma params from CI](https://math.stackexchange.com/questions/2873763/is-it-possible-to-determine-shape-and-scale-for-a-gamma-distribution-from-a-mean?newreg=d61b4517cd304ecca335b8e69220bf0c)\n",
    "\n",
    "\n",
    "- [gamma.shape.glm: Estimate the Shape Parameter of the Gamma Distribution R MASS](https://rdrr.io/cran/MASS/man/gamma.shape.glm.html)\n",
    "- [The identity link function does not respect the domain of the Gamma family? - Cross Validated](https://stats.stackexchange.com/questions/356053/the-identity-link-function-does-not-respect-the-domain-of-the-gamma-family)"
   ]
  },
  {
   "cell_type": "code",
   "execution_count": 67,
   "metadata": {},
   "outputs": [],
   "source": [
    "import os\n",
    "import pandas as pd\n",
    "import numpy as np\n",
    "from matplotlib import pyplot as plt\n",
    "import seaborn as sns\n",
    "from sklearn.model_selection import train_test_split\n",
    "from sklearn import metrics\n",
    "import statsmodels.api as sm\n",
    "import statsmodels.formula.api as smf\n",
    "from scipy import stats"
   ]
  },
  {
   "cell_type": "markdown",
   "metadata": {},
   "source": [
    "***Dummy data***"
   ]
  },
  {
   "cell_type": "code",
   "execution_count": 89,
   "metadata": {},
   "outputs": [],
   "source": [
    "# sim data\n",
    "#np.random.seed(1066)\n",
    "y = np.random.gamma(shape=2, scale=3, size=10_000)\n",
    "dummy_xy = pd.DataFrame({'Y':y,\n",
    "                         'category':pd.cut(pd.Series(y),bins=[0,3,7,10,5000],right=True,labels=[1,2,3,4]),\n",
    "                         'numerical':pd.Series(y * np.random.random(size=10000))\n",
    "                  })\n",
    "\n",
    "if dummy_xy.isnull().any().any():\n",
    "    print('Nulls')"
   ]
  },
  {
   "cell_type": "markdown",
   "metadata": {},
   "source": [
    "***MLE parameter estimations on raw data***"
   ]
  },
  {
   "cell_type": "code",
   "execution_count": 172,
   "metadata": {},
   "outputs": [
    {
     "name": "stdout",
     "output_type": "stream",
     "text": [
      "(2.0601165085954043, -0.010104093663533776, 2.9449721837580034)\n"
     ]
    }
   ],
   "source": [
    "#### estimate params using MLE fit\n",
    "print(stats.gamma.fit(dummy_xy['Y']))"
   ]
  },
  {
   "cell_type": "markdown",
   "metadata": {},
   "source": [
    "***GLM-Gamma Inverse-Power link***"
   ]
  },
  {
   "cell_type": "code",
   "execution_count": 222,
   "metadata": {},
   "outputs": [
    {
     "name": "stderr",
     "output_type": "stream",
     "text": [
      "C:\\ProgramData\\Anaconda3\\envs\\machine-learning\\lib\\site-packages\\statsmodels\\genmod\\generalized_linear_model.py:273: DomainWarning: The inverse_power link function does not respect the domain of the Gamma family.\n",
      "  DomainWarning)\n"
     ]
    },
    {
     "name": "stdout",
     "output_type": "stream",
     "text": [
      "Shape : 13.372758923806778\n",
      "Scale X0:  0.13693648296854255\n",
      "Scale Xi:  0.3542025012679534\n",
      "Scale Xi:  0.5878617288220067\n"
     ]
    },
    {
     "data": {
      "image/png": "[encoded data removed]",
      "text/plain": [
       "<Figure size 432x288 with 1 Axes>"
      ]
     },
     "metadata": {
      "needs_background": "light"
     },
     "output_type": "display_data"
    }
   ],
   "source": [
    "### Estimate scale (rate) using GLM-gamma with default inverse-power link\n",
    "glm = smf.glm(\"Y ~ 1 + category + numerical\", data=dummy_xy,family=sm.families.Gamma())\n",
    "glm_fit = glm.fit()\n",
    "\n",
    "# shape is\n",
    "shape = 1/glm_fit.scale\n",
    "print('Shape :',shape)\n",
    "\n",
    "# Remeber we drop a reference category for modelling\n",
    "# For each categorical level\n",
    "# intercept scale is\n",
    "X0 = glm_fit.scale/glm_fit.params[0]\n",
    "print('Scale X0: ',X0)\n",
    "\n",
    "\n",
    "# scale for each categorical value is\n",
    "X1 = glm_fit.scale/(glm_fit.params[0]+glm_fit.params[1])\n",
    "print('Scale Xi: ',X1)\n",
    "X2 = glm_fit.scale/(glm_fit.params[0]+glm_fit.params[2])\n",
    "print('Scale Xi: ',X2)\n",
    "\n",
    "# and for the numerical when \n",
    "# category = 2\n",
    "# numerical = max\n",
    "X3 = glm_fit.scale/(glm_fit.params[0]+glm_fit.params[2]+glm_fit.params['numerical']*dummy_xy['numerical'].max())\n",
    "\n",
    "# plot\n",
    "sns.distplot(y,color='black',label='data',kde_kws={'linestyle':'--'})\n",
    "sns.distplot(np.random.gamma(shape=shape,scale=X0,size=10000),color='purple',label='X0')\n",
    "sns.distplot(np.random.gamma(shape=shape,scale=X1,size=10000),color='orange',label='X1')\n",
    "sns.distplot(np.random.gamma(shape=shape,scale=X2,size=10000),color='blue',label='X2')\n",
    "sns.distplot(np.random.gamma(shape=shape,scale=X3,size=10000),color='red',label='X3')\n",
    "plt.legend();"
   ]
  },
  {
   "cell_type": "code",
   "execution_count": 223,
   "metadata": {},
   "outputs": [
    {
     "data": {
      "text/plain": [
       "Intercept        0.546084\n",
       "category[T.2]   -0.334965\n",
       "category[T.3]   -0.418880\n",
       "category[T.4]   -0.461048\n",
       "numerical       -0.001675\n",
       "dtype: float64"
      ]
     },
     "execution_count": 223,
     "metadata": {},
     "output_type": "execute_result"
    }
   ],
   "source": [
    "glm_fit.params"
   ]
  },
  {
   "cell_type": "code",
   "execution_count": 224,
   "metadata": {},
   "outputs": [
    {
     "data": {
      "text/html": [
       "<div>\n",
       "<style scoped>\n",
       "    .dataframe tbody tr th:only-of-type {\n",
       "        vertical-align: middle;\n",
       "    }\n",
       "\n",
       "    .dataframe tbody tr th {\n",
       "        vertical-align: top;\n",
       "    }\n",
       "\n",
       "    .dataframe thead th {\n",
       "        text-align: right;\n",
       "    }\n",
       "</style>\n",
       "<table border=\"1\" class=\"dataframe\">\n",
       "  <thead>\n",
       "    <tr style=\"text-align: right;\">\n",
       "      <th></th>\n",
       "      <th>Y</th>\n",
       "      <th>category</th>\n",
       "      <th>numerical</th>\n",
       "      <th>pred-inv</th>\n",
       "      <th>pred-log</th>\n",
       "    </tr>\n",
       "  </thead>\n",
       "  <tbody>\n",
       "    <tr>\n",
       "      <th>0</th>\n",
       "      <td>5.316810</td>\n",
       "      <td>2</td>\n",
       "      <td>1.593022</td>\n",
       "      <td>4.797312</td>\n",
       "      <td>4.702643</td>\n",
       "    </tr>\n",
       "    <tr>\n",
       "      <th>1</th>\n",
       "      <td>3.410091</td>\n",
       "      <td>2</td>\n",
       "      <td>0.490241</td>\n",
       "      <td>4.755164</td>\n",
       "      <td>4.556870</td>\n",
       "    </tr>\n",
       "    <tr>\n",
       "      <th>2</th>\n",
       "      <td>1.686131</td>\n",
       "      <td>1</td>\n",
       "      <td>1.343465</td>\n",
       "      <td>1.838798</td>\n",
       "      <td>1.851564</td>\n",
       "    </tr>\n",
       "    <tr>\n",
       "      <th>3</th>\n",
       "      <td>6.515552</td>\n",
       "      <td>2</td>\n",
       "      <td>4.780021</td>\n",
       "      <td>4.923427</td>\n",
       "      <td>5.150665</td>\n",
       "    </tr>\n",
       "    <tr>\n",
       "      <th>4</th>\n",
       "      <td>1.297223</td>\n",
       "      <td>1</td>\n",
       "      <td>0.358698</td>\n",
       "      <td>1.833236</td>\n",
       "      <td>1.800225</td>\n",
       "    </tr>\n",
       "  </tbody>\n",
       "</table>\n",
       "</div>"
      ],
      "text/plain": [
       "          Y category  numerical  pred-inv  pred-log\n",
       "0  5.316810        2   1.593022  4.797312  4.702643\n",
       "1  3.410091        2   0.490241  4.755164  4.556870\n",
       "2  1.686131        1   1.343465  1.838798  1.851564\n",
       "3  6.515552        2   4.780021  4.923427  5.150665\n",
       "4  1.297223        1   0.358698  1.833236  1.800225"
      ]
     },
     "execution_count": 224,
     "metadata": {},
     "output_type": "execute_result"
    }
   ],
   "source": [
    "# So remember the model gives us the predicted mean value \n",
    "dummy_xy['pred-inv'] = glm_fit.predict()\n",
    "dummy_xy[:5]"
   ]
  },
  {
   "cell_type": "code",
   "execution_count": 229,
   "metadata": {},
   "outputs": [
    {
     "data": {
      "text/plain": [
       "4.838461625953761"
      ]
     },
     "execution_count": 229,
     "metadata": {},
     "output_type": "execute_result"
    }
   ],
   "source": [
    "# manually sampling this distribution and finding the mean will give us the prediction\n",
    "scale = glm_fit.scale/(glm_fit.params[0]+glm_fit.params['category[T.2]']+glm_fit.params['numerical']*1.593)\n",
    "sample = np.random.gamma(shape=shape,scale=scale,size=1000)\n",
    "np.mean(sample)"
   ]
  },
  {
   "cell_type": "code",
   "execution_count": 228,
   "metadata": {},
   "outputs": [
    {
     "name": "stdout",
     "output_type": "stream",
     "text": [
      "Bingo!\n"
     ]
    }
   ],
   "source": [
    "print('Bingo!')"
   ]
  },
  {
   "cell_type": "markdown",
   "metadata": {},
   "source": [
    "***GLM-Gamma log link***\n",
    "\n",
    "- https://pj.freefaculty.org/guides/stat/Distributions/DistributionWriteups/Gamma/Gamma-02.pdf\n",
    "- https://pj.freefaculty.org/guides/stat/Regression-GLM/Gamma/GammaGLM-01.pdf\n",
    "- http://people.stat.sfu.ca/~raltman/stat402/402L26.pdf\n",
    "- https://stats.stackexchange.com/questions/431120/how-to-interpret-parameters-of-glm-output-with-gamma-log-link\n"
   ]
  },
  {
   "cell_type": "code",
   "execution_count": 238,
   "metadata": {},
   "outputs": [
    {
     "name": "stdout",
     "output_type": "stream",
     "text": [
      "Shape : 13.64022860510573\n",
      "Scale X0:  0.1269108632651827\n",
      "Scale Xi:  0.04878924399579662\n",
      "Scale Xi:  0.03664984599254828\n"
     ]
    },
    {
     "data": {
      "image/png": "[encoded data removed]",
      "text/plain": [
       "<Figure size 432x288 with 1 Axes>"
      ]
     },
     "metadata": {
      "needs_background": "light"
     },
     "output_type": "display_data"
    }
   ],
   "source": [
    "### Estimate scale (rate) using GLM-gamma with default inverse-power link\n",
    "glm = smf.glm(\"Y ~ 1 + category + numerical\", data=dummy_xy,family=sm.families.Gamma(link=sm.families.links.log()))\n",
    "glm_fit = glm.fit()\n",
    "\n",
    "# shape is 1/rate\n",
    "shape = 1/glm_fit.scale\n",
    "print('Shape :',shape)\n",
    "\n",
    "# Remeber we drop a reference category for modelling\n",
    "# For each categorical level\n",
    "# intercept scale is\n",
    "X0 = glm_fit.scale/glm_fit.params[0]\n",
    "print('Scale X0: ',X0)\n",
    "\n",
    "\n",
    "# scale for each categorical value is\n",
    "X1 = glm_fit.scale/(glm_fit.params[0]+glm_fit.params[1])\n",
    "print('Scale Xi: ',X1)\n",
    "X2 = glm_fit.scale/(glm_fit.params[0]+glm_fit.params[2])\n",
    "print('Scale Xi: ',X2)\n",
    "\n",
    "# and for the numerical when \n",
    "# category = 2\n",
    "# numerical = max\n",
    "X3 = glm_fit.scale/(glm_fit.params[0]+glm_fit.params[2]+glm_fit.params['numerical']*dummy_xy['numerical'].max())\n",
    "\n",
    "# plot\n",
    "sns.distplot(y,color='black',label='data',kde_kws={'linestyle':'--'})\n",
    "sns.distplot(np.random.gamma(shape=shape,scale=X0,size=10000),color='purple',label='X0')\n",
    "sns.distplot(np.random.gamma(shape=shape,scale=X1,size=10000),color='orange',label='X1')\n",
    "sns.distplot(np.random.gamma(shape=shape,scale=X2,size=10000),color='blue',label='X2')\n",
    "sns.distplot(np.random.gamma(shape=shape,scale=X3,size=10000),color='red',label='X3')\n",
    "plt.legend();"
   ]
  },
  {
   "cell_type": "code",
   "execution_count": 239,
   "metadata": {},
   "outputs": [
    {
     "data": {
      "text/plain": [
       "Intercept        0.577670\n",
       "category[T.2]    0.924968\n",
       "category[T.3]    1.422681\n",
       "category[T.4]    1.846935\n",
       "numerical        0.028554\n",
       "dtype: float64"
      ]
     },
     "execution_count": 239,
     "metadata": {},
     "output_type": "execute_result"
    }
   ],
   "source": [
    "glm_fit.params"
   ]
  },
  {
   "cell_type": "code",
   "execution_count": 240,
   "metadata": {},
   "outputs": [
    {
     "data": {
      "text/html": [
       "<div>\n",
       "<style scoped>\n",
       "    .dataframe tbody tr th:only-of-type {\n",
       "        vertical-align: middle;\n",
       "    }\n",
       "\n",
       "    .dataframe tbody tr th {\n",
       "        vertical-align: top;\n",
       "    }\n",
       "\n",
       "    .dataframe thead th {\n",
       "        text-align: right;\n",
       "    }\n",
       "</style>\n",
       "<table border=\"1\" class=\"dataframe\">\n",
       "  <thead>\n",
       "    <tr style=\"text-align: right;\">\n",
       "      <th></th>\n",
       "      <th>Y</th>\n",
       "      <th>category</th>\n",
       "      <th>numerical</th>\n",
       "      <th>pred-inv</th>\n",
       "      <th>pred-log</th>\n",
       "    </tr>\n",
       "  </thead>\n",
       "  <tbody>\n",
       "    <tr>\n",
       "      <th>0</th>\n",
       "      <td>5.316810</td>\n",
       "      <td>2</td>\n",
       "      <td>1.593022</td>\n",
       "      <td>4.797312</td>\n",
       "      <td>4.702643</td>\n",
       "    </tr>\n",
       "    <tr>\n",
       "      <th>1</th>\n",
       "      <td>3.410091</td>\n",
       "      <td>2</td>\n",
       "      <td>0.490241</td>\n",
       "      <td>4.755164</td>\n",
       "      <td>4.556870</td>\n",
       "    </tr>\n",
       "    <tr>\n",
       "      <th>2</th>\n",
       "      <td>1.686131</td>\n",
       "      <td>1</td>\n",
       "      <td>1.343465</td>\n",
       "      <td>1.838798</td>\n",
       "      <td>1.851564</td>\n",
       "    </tr>\n",
       "    <tr>\n",
       "      <th>3</th>\n",
       "      <td>6.515552</td>\n",
       "      <td>2</td>\n",
       "      <td>4.780021</td>\n",
       "      <td>4.923427</td>\n",
       "      <td>5.150665</td>\n",
       "    </tr>\n",
       "    <tr>\n",
       "      <th>4</th>\n",
       "      <td>1.297223</td>\n",
       "      <td>1</td>\n",
       "      <td>0.358698</td>\n",
       "      <td>1.833236</td>\n",
       "      <td>1.800225</td>\n",
       "    </tr>\n",
       "  </tbody>\n",
       "</table>\n",
       "</div>"
      ],
      "text/plain": [
       "          Y category  numerical  pred-inv  pred-log\n",
       "0  5.316810        2   1.593022  4.797312  4.702643\n",
       "1  3.410091        2   0.490241  4.755164  4.556870\n",
       "2  1.686131        1   1.343465  1.838798  1.851564\n",
       "3  6.515552        2   4.780021  4.923427  5.150665\n",
       "4  1.297223        1   0.358698  1.833236  1.800225"
      ]
     },
     "execution_count": 240,
     "metadata": {},
     "output_type": "execute_result"
    }
   ],
   "source": [
    "# So remember the model gives us the predicted mean value \n",
    "dummy_xy['pred-log'] = glm_fit.predict()\n",
    "dummy_xy[:5]"
   ]
  },
  {
   "cell_type": "code",
   "execution_count": 372,
   "metadata": {},
   "outputs": [
    {
     "name": "stdout",
     "output_type": "stream",
     "text": [
      "Disp 0.07331255427974909\n",
      "Shape 13.64022860510573\n",
      "Yi 4.7022367931981295\n",
      "Scale 2.900795771245839\n"
     ]
    }
   ],
   "source": [
    "# dispersion aka rate\n",
    "dispersion = glm_fit.scale\n",
    "print('Disp',dispersion)\n",
    "\n",
    "# shape is 1/dispersion\n",
    "shape = 1/dispersion\n",
    "print('Shape',shape)\n",
    "\n",
    "# predicted mean G(Yi) is exp(Bo + Bi*Xi..)\n",
    "# this is correctly getting the mean prediction\n",
    "Yi = np.exp(glm_fit.params[0]+glm_fit.params['category[T.2]']+glm_fit.params['numerical']*1.59)\n",
    "print('Yi',Yi)\n",
    "\n",
    "# scale = shape / Yi\n",
    "# this is wrong\n",
    "scale = shape/Yi\n",
    "print('Scale',scale)"
   ]
  },
  {
   "cell_type": "code",
   "execution_count": 369,
   "metadata": {},
   "outputs": [
    {
     "name": "stdout",
     "output_type": "stream",
     "text": [
      "120.84333965767831\n",
      "Something aint right...\n",
      "\n"
     ]
    },
    {
     "data": {
      "image/png": "[encoded data removed]",
      "text/plain": [
       "<Figure size 432x288 with 1 Axes>"
      ]
     },
     "metadata": {
      "needs_background": "light"
     },
     "output_type": "display_data"
    }
   ],
   "source": [
    "print(np.random.gamma(shape=shape,scale=scale,size=1000).mean())\n",
    "print('Something aint right...\\n')\n",
    "\n",
    "sns.distplot(yt['Y'],label='Raw')\n",
    "sns.distplot(np.random.gamma(shape=shape,scale=scale,size=1000),label='Sample')\n",
    "plt.legend();"
   ]
  },
  {
   "cell_type": "markdown",
   "metadata": {},
   "source": [
    "# Design Info"
   ]
  },
  {
   "cell_type": "code",
   "execution_count": 404,
   "metadata": {},
   "outputs": [
    {
     "data": {
      "text/html": [
       "<div>\n",
       "<style scoped>\n",
       "    .dataframe tbody tr th:only-of-type {\n",
       "        vertical-align: middle;\n",
       "    }\n",
       "\n",
       "    .dataframe tbody tr th {\n",
       "        vertical-align: top;\n",
       "    }\n",
       "\n",
       "    .dataframe thead th {\n",
       "        text-align: right;\n",
       "    }\n",
       "</style>\n",
       "<table border=\"1\" class=\"dataframe\">\n",
       "  <thead>\n",
       "    <tr style=\"text-align: right;\">\n",
       "      <th></th>\n",
       "      <th>Intercept</th>\n",
       "      <th>category[T.2]</th>\n",
       "      <th>category[T.3]</th>\n",
       "      <th>category[T.4]</th>\n",
       "      <th>numerical</th>\n",
       "    </tr>\n",
       "  </thead>\n",
       "  <tbody>\n",
       "    <tr>\n",
       "      <th>0</th>\n",
       "      <td>1.0</td>\n",
       "      <td>1.0</td>\n",
       "      <td>0.0</td>\n",
       "      <td>0.0</td>\n",
       "      <td>1.593022</td>\n",
       "    </tr>\n",
       "    <tr>\n",
       "      <th>1</th>\n",
       "      <td>1.0</td>\n",
       "      <td>1.0</td>\n",
       "      <td>0.0</td>\n",
       "      <td>0.0</td>\n",
       "      <td>0.490241</td>\n",
       "    </tr>\n",
       "    <tr>\n",
       "      <th>2</th>\n",
       "      <td>1.0</td>\n",
       "      <td>0.0</td>\n",
       "      <td>0.0</td>\n",
       "      <td>0.0</td>\n",
       "      <td>1.343465</td>\n",
       "    </tr>\n",
       "  </tbody>\n",
       "</table>\n",
       "</div>"
      ],
      "text/plain": [
       "   Intercept  category[T.2]  category[T.3]  category[T.4]  numerical\n",
       "0        1.0            1.0            0.0            0.0   1.593022\n",
       "1        1.0            1.0            0.0            0.0   0.490241\n",
       "2        1.0            0.0            0.0            0.0   1.343465"
      ]
     },
     "execution_count": 404,
     "metadata": {},
     "output_type": "execute_result"
    }
   ],
   "source": [
    "# data values\n",
    "a = pd.DataFrame(glm.data.exog,columns=glm.data.param_names)[:3]\n",
    "a"
   ]
  },
  {
   "cell_type": "code",
   "execution_count": 405,
   "metadata": {},
   "outputs": [
    {
     "data": {
      "text/html": [
       "<div>\n",
       "<style scoped>\n",
       "    .dataframe tbody tr th:only-of-type {\n",
       "        vertical-align: middle;\n",
       "    }\n",
       "\n",
       "    .dataframe tbody tr th {\n",
       "        vertical-align: top;\n",
       "    }\n",
       "\n",
       "    .dataframe thead th {\n",
       "        text-align: right;\n",
       "    }\n",
       "</style>\n",
       "<table border=\"1\" class=\"dataframe\">\n",
       "  <thead>\n",
       "    <tr style=\"text-align: right;\">\n",
       "      <th></th>\n",
       "      <th>Intercept</th>\n",
       "      <th>category[T.2]</th>\n",
       "      <th>category[T.3]</th>\n",
       "      <th>category[T.4]</th>\n",
       "      <th>numerical</th>\n",
       "    </tr>\n",
       "  </thead>\n",
       "  <tbody>\n",
       "    <tr>\n",
       "      <th>0</th>\n",
       "      <td>0.57767</td>\n",
       "      <td>0.924968</td>\n",
       "      <td>1.422681</td>\n",
       "      <td>1.846935</td>\n",
       "      <td>0.028554</td>\n",
       "    </tr>\n",
       "  </tbody>\n",
       "</table>\n",
       "</div>"
      ],
      "text/plain": [
       "   Intercept  category[T.2]  category[T.3]  category[T.4]  numerical\n",
       "0    0.57767       0.924968       1.422681       1.846935   0.028554"
      ]
     },
     "execution_count": 405,
     "metadata": {},
     "output_type": "execute_result"
    }
   ],
   "source": [
    "# glm coefficients\n",
    "b = pd.DataFrame(glm_fit.params).T\n",
    "b"
   ]
  },
  {
   "cell_type": "code",
   "execution_count": 415,
   "metadata": {},
   "outputs": [
    {
     "data": {
      "text/html": [
       "<div>\n",
       "<style scoped>\n",
       "    .dataframe tbody tr th:only-of-type {\n",
       "        vertical-align: middle;\n",
       "    }\n",
       "\n",
       "    .dataframe tbody tr th {\n",
       "        vertical-align: top;\n",
       "    }\n",
       "\n",
       "    .dataframe thead th {\n",
       "        text-align: right;\n",
       "    }\n",
       "</style>\n",
       "<table border=\"1\" class=\"dataframe\">\n",
       "  <thead>\n",
       "    <tr style=\"text-align: right;\">\n",
       "      <th></th>\n",
       "      <th>Intercept</th>\n",
       "      <th>category[T.2]</th>\n",
       "      <th>category[T.3]</th>\n",
       "      <th>category[T.4]</th>\n",
       "      <th>numerical</th>\n",
       "    </tr>\n",
       "  </thead>\n",
       "  <tbody>\n",
       "    <tr>\n",
       "      <th>0</th>\n",
       "      <td>0.57767</td>\n",
       "      <td>0.924968</td>\n",
       "      <td>0.0</td>\n",
       "      <td>0.0</td>\n",
       "      <td>0.045487</td>\n",
       "    </tr>\n",
       "    <tr>\n",
       "      <th>1</th>\n",
       "      <td>NaN</td>\n",
       "      <td>NaN</td>\n",
       "      <td>NaN</td>\n",
       "      <td>NaN</td>\n",
       "      <td>NaN</td>\n",
       "    </tr>\n",
       "    <tr>\n",
       "      <th>2</th>\n",
       "      <td>NaN</td>\n",
       "      <td>NaN</td>\n",
       "      <td>NaN</td>\n",
       "      <td>NaN</td>\n",
       "      <td>NaN</td>\n",
       "    </tr>\n",
       "  </tbody>\n",
       "</table>\n",
       "</div>"
      ],
      "text/plain": [
       "   Intercept  category[T.2]  category[T.3]  category[T.4]  numerical\n",
       "0    0.57767       0.924968            0.0            0.0   0.045487\n",
       "1        NaN            NaN            NaN            NaN        NaN\n",
       "2        NaN            NaN            NaN            NaN        NaN"
      ]
     },
     "execution_count": 415,
     "metadata": {},
     "output_type": "execute_result"
    }
   ],
   "source": [
    "# but this only works if indexes are equal\n",
    "c = a.multiply(b,axis=0)\n",
    "c"
   ]
  },
  {
   "cell_type": "code",
   "execution_count": 418,
   "metadata": {},
   "outputs": [
    {
     "data": {
      "text/plain": [
       "0     4.702643\n",
       "1     4.556870\n",
       "2     1.851564\n",
       "3     5.150665\n",
       "4     1.800225\n",
       "5     1.783021\n",
       "6    12.507185\n",
       "7    13.642791\n",
       "8     8.481130\n",
       "9     1.894337\n",
       "dtype: float64"
      ]
     },
     "execution_count": 418,
     "metadata": {},
     "output_type": "execute_result"
    }
   ],
   "source": [
    "# we can also just use arrays et voila\n",
    "c = pd.DataFrame(glm.data.exog[:10,:] * glm_fit.params.values,columns=glm.data.param_names)\n",
    "np.exp(c.sum(axis=1))"
   ]
  },
  {
   "cell_type": "code",
   "execution_count": 421,
   "metadata": {},
   "outputs": [
    {
     "data": {
      "text/plain": [
       "array([ 4.70264255,  4.55686975,  1.85156421,  5.15066482,  1.80022539,\n",
       "        1.78302069, 12.5071854 , 13.64279063,  8.48113015,  1.89433717])"
      ]
     },
     "execution_count": 421,
     "metadata": {},
     "output_type": "execute_result"
    }
   ],
   "source": [
    "glm_fit.predict()[:10]"
   ]
  },
  {
   "cell_type": "markdown",
   "metadata": {},
   "source": [
    "***notes***"
   ]
  },
  {
   "cell_type": "code",
   "execution_count": 221,
   "metadata": {},
   "outputs": [
    {
     "data": {
      "text/plain": [
       "array([1.5481246 , 1.51663593, 0.6160308 , ..., 1.57823584, 2.0252932 ,\n",
       "       2.62566949])"
      ]
     },
     "execution_count": 221,
     "metadata": {},
     "output_type": "execute_result"
    }
   ],
   "source": [
    "# inver link functions\n",
    "# https://stats.stackexchange.com/a/393912/100439\n",
    "glm_fit.predict(linear=True)"
   ]
  },
  {
   "cell_type": "code",
   "execution_count": null,
   "metadata": {},
   "outputs": [],
   "source": []
  }
 ],
 "metadata": {
  "kernelspec": {
   "display_name": "Python [conda env:machine-learning]",
   "language": "python",
   "name": "conda-env-machine-learning-py"
  },
  "language_info": {
   "codemirror_mode": {
    "name": "ipython",
    "version": 3
   },
   "file_extension": ".py",
   "mimetype": "text/x-python",
   "name": "python",
   "nbconvert_exporter": "python",
   "pygments_lexer": "ipython3",
   "version": "3.7.5"
  }
 },
 "nbformat": 4,
 "nbformat_minor": 4
}
