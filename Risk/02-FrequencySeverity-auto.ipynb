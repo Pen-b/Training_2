{
 "cells": [
  {
   "cell_type": "markdown",
   "metadata": {},
   "source": [
    "# Frequency-Severity modelling\n",
    "\n",
    " $Claim Frequency = Claim Count / Exposure$\n",
    " \n",
    " $Claim Severity = Loss / Claim Count$\n",
    " \n",
    " It is a common actuarial assumption that: Claim Frequency has an over-dispersed Poisson distribution, whilst Claim Severity has a Gamma distribution.\n",
    " \n",
    " In this notebook we will apply General Linear Modelling (GLM) to estimate claim frequency and severity for auto-insurance data. We will be using the Python statsmodels package, that provides an example on GLM's [here](https://www.statsmodels.org/stable/examples/notebooks/generated/glm.html).\n",
    "\n",
    "\n",
    "[*Frequency Severity Modelling vs Loss Cost. 2012. Yan, J. 2010 CAS Ratemaking and Product Management  Seminar (CASACT)*](https://www.casact.org/education/rpm/2012/handouts/Session_4738_presentation_1068_0.pdf)"
   ]
  },
  {
   "cell_type": "code",
   "execution_count": 1,
   "metadata": {},
   "outputs": [],
   "source": [
    "import urllib.request\n",
    "import shutil\n",
    "import pandas as pd\n",
    "import numpy as np\n",
    "\n",
    "from matplotlib import pyplot as plt\n",
    "import seaborn as sns\n",
    "from IPython.display import Image\n",
    "from IPython.core.display import HTML \n",
    "\n",
    "from sklearn.model_selection import train_test_split\n",
    "from sklearn import metrics\n",
    "from scipy import stats\n",
    "from patsy import dmatrices,dmatrix\n",
    "import statsmodels.api as sm\n",
    "import statsmodels.formula.api as smf"
   ]
  },
  {
   "cell_type": "markdown",
   "metadata": {},
   "source": [
    "## Load [dataOhlsson](https://cran.r-project.org/web/packages/insuranceData/insuranceData.pdf#Rfn.dataOhlsson.1)\n",
    "\n",
    "A data frame with 64548 observations on the following 9 variables.\n",
    " 1. (0:2) agarald - The owners age, between 0 and 99, a numeric vector.\n",
    " 1. (2:3) kon - The owners age, between 0 and 99, a factor with levelsK M\n",
    " 1. (3:4) zon - Geographic zone numbered from 1 to 7, in a standard classification of all Swedish parishes, anumeric vector\n",
    " 1. (4:5) mcklass - MC class, a classification by the so called EV ratio, defined as (Engine power in kW x100) / (Vehicle weight in kg + 75), rounded to the nearest lower integer. The 75 kg represents the average driver weight. The EV ratios are divided into seven classes, a numeric vector\n",
    " 1. (5:7) fordald - Vehicle age, between 0 and 99, a numeric vector\n",
    " 1. (7:8) bonuskl - Bonus class, taking values from 1 to 7. \n",
    "  - A new driver starts with bonus class 1. For each claim free year the bonus class is increased by 1. \n",
    "  - After the first claim the bonus is decreased by  2. The  driver  can  not  return  to  class  7  with  less  than  6  consecutive  claim  free  years,  a numeric vector\n",
    " 1. (8:16) duration - the number of policy years, a numeric vector\n",
    " 1. (16:20) antskad - the number of claims, a numeric vector\n",
    " 1. (20:) skadkost - the claim cost, a numeric vector\n",
    "\n",
    "- *(n:n) are the columnar positions of the data*\n",
    "- *data avaliable [here](https://staff.math.su.se/esbj/GLMbook/case.html)*"
   ]
  },
  {
   "cell_type": "code",
   "execution_count": 2,
   "metadata": {},
   "outputs": [
    {
     "name": "stdout",
     "output_type": "stream",
     "text": [
      "Age          float64\n",
      "Sex         category\n",
      "Geog        category\n",
      "EV          category\n",
      "VehAge         int32\n",
      "NCD         category\n",
      "PYrs         float64\n",
      "Claims         int32\n",
      "Severity     float64\n",
      "dtype: object\n"
     ]
    }
   ],
   "source": [
    "# read or get file\n",
    "try: \n",
    "    file = open(file_name,'r')\n",
    "except:\n",
    "    url = 'https://staff.math.su.se/esbj/GLMbook/mccase.txt'\n",
    "    file_name='mccase.txt'\n",
    "    # Download the file from `url` and save it locally under `file_name`:\n",
    "    with urllib.request.urlopen(url) as response, open(file_name, 'wb') as out_file:\n",
    "        shutil.copyfileobj(response, out_file)\n",
    "    file = open(file_name,'r')\n",
    "\n",
    "# load file\n",
    "dat = list()\n",
    "for line in file.readlines():\n",
    "    dat.append([line[:2],line[2:3],line[3:4],line[4:5],line[5:7],line[7:8],line[8:16],line[16:20],str(line[20:]).replace('\\n','')])\n",
    "file.close()\n",
    "df = pd.DataFrame(dat,columns=['Age','Sex','Geog','EV','VehAge','NCD','PYrs','Claims','Severity'])\n",
    "df = df.astype({'Age':float,'Sex':'category','Geog':'category','EV':'category',\n",
    "                'VehAge':int,'NCD':'category','PYrs':float,'Claims':int,'Severity':float}).copy()\n",
    "\n",
    "# PYrs is the fraction of compelete policy years \n",
    "# there are some policies with 0.0 duration (1/365 = 0.00274 = 1 day)\n",
    "# set these to 1 day\n",
    "df.loc[df['PYrs']==0.0,'PYrs'] = 1.0/365.0\n",
    "\n",
    "print(df.dtypes)"
   ]
  },
  {
   "cell_type": "markdown",
   "metadata": {},
   "source": [
    "***EDA***\n",
    "\n",
    "- low number of claims and frequency (1% freq)"
   ]
  },
  {
   "cell_type": "code",
   "execution_count": 3,
   "metadata": {},
   "outputs": [
    {
     "data": {
      "text/html": [
       "<div>\n",
       "<style scoped>\n",
       "    .dataframe tbody tr th:only-of-type {\n",
       "        vertical-align: middle;\n",
       "    }\n",
       "\n",
       "    .dataframe tbody tr th {\n",
       "        vertical-align: top;\n",
       "    }\n",
       "\n",
       "    .dataframe thead th {\n",
       "        text-align: right;\n",
       "    }\n",
       "</style>\n",
       "<table border=\"1\" class=\"dataframe\">\n",
       "  <thead>\n",
       "    <tr style=\"text-align: right;\">\n",
       "      <th></th>\n",
       "      <th>Age</th>\n",
       "      <th>VehAge</th>\n",
       "      <th>PYrs</th>\n",
       "      <th>Claims</th>\n",
       "      <th>Severity</th>\n",
       "    </tr>\n",
       "  </thead>\n",
       "  <tbody>\n",
       "    <tr>\n",
       "      <th>count</th>\n",
       "      <td>64548.000000</td>\n",
       "      <td>64548.000000</td>\n",
       "      <td>64548.000000</td>\n",
       "      <td>64548.000000</td>\n",
       "      <td>64548.000000</td>\n",
       "    </tr>\n",
       "    <tr>\n",
       "      <th>mean</th>\n",
       "      <td>42.416062</td>\n",
       "      <td>12.540063</td>\n",
       "      <td>1.010759</td>\n",
       "      <td>0.010798</td>\n",
       "      <td>264.017785</td>\n",
       "    </tr>\n",
       "    <tr>\n",
       "      <th>std</th>\n",
       "      <td>12.980960</td>\n",
       "      <td>9.727445</td>\n",
       "      <td>1.307356</td>\n",
       "      <td>0.107323</td>\n",
       "      <td>4694.693604</td>\n",
       "    </tr>\n",
       "    <tr>\n",
       "      <th>min</th>\n",
       "      <td>0.000000</td>\n",
       "      <td>0.000000</td>\n",
       "      <td>0.002740</td>\n",
       "      <td>0.000000</td>\n",
       "      <td>0.000000</td>\n",
       "    </tr>\n",
       "    <tr>\n",
       "      <th>25%</th>\n",
       "      <td>31.000000</td>\n",
       "      <td>5.000000</td>\n",
       "      <td>0.463014</td>\n",
       "      <td>0.000000</td>\n",
       "      <td>0.000000</td>\n",
       "    </tr>\n",
       "    <tr>\n",
       "      <th>50%</th>\n",
       "      <td>44.000000</td>\n",
       "      <td>12.000000</td>\n",
       "      <td>0.827397</td>\n",
       "      <td>0.000000</td>\n",
       "      <td>0.000000</td>\n",
       "    </tr>\n",
       "    <tr>\n",
       "      <th>75%</th>\n",
       "      <td>52.000000</td>\n",
       "      <td>16.000000</td>\n",
       "      <td>1.000000</td>\n",
       "      <td>0.000000</td>\n",
       "      <td>0.000000</td>\n",
       "    </tr>\n",
       "    <tr>\n",
       "      <th>max</th>\n",
       "      <td>92.000000</td>\n",
       "      <td>99.000000</td>\n",
       "      <td>31.339730</td>\n",
       "      <td>2.000000</td>\n",
       "      <td>365347.000000</td>\n",
       "    </tr>\n",
       "  </tbody>\n",
       "</table>\n",
       "</div>"
      ],
      "text/plain": [
       "                Age        VehAge          PYrs        Claims       Severity\n",
       "count  64548.000000  64548.000000  64548.000000  64548.000000   64548.000000\n",
       "mean      42.416062     12.540063      1.010759      0.010798     264.017785\n",
       "std       12.980960      9.727445      1.307356      0.107323    4694.693604\n",
       "min        0.000000      0.000000      0.002740      0.000000       0.000000\n",
       "25%       31.000000      5.000000      0.463014      0.000000       0.000000\n",
       "50%       44.000000     12.000000      0.827397      0.000000       0.000000\n",
       "75%       52.000000     16.000000      1.000000      0.000000       0.000000\n",
       "max       92.000000     99.000000     31.339730      2.000000  365347.000000"
      ]
     },
     "execution_count": 3,
     "metadata": {},
     "output_type": "execute_result"
    }
   ],
   "source": [
    "df.describe()"
   ]
  },
  {
   "cell_type": "code",
   "execution_count": 4,
   "metadata": {},
   "outputs": [
    {
     "data": {
      "text/html": [
       "<div>\n",
       "<style scoped>\n",
       "    .dataframe tbody tr th:only-of-type {\n",
       "        vertical-align: middle;\n",
       "    }\n",
       "\n",
       "    .dataframe tbody tr th {\n",
       "        vertical-align: top;\n",
       "    }\n",
       "\n",
       "    .dataframe thead th {\n",
       "        text-align: right;\n",
       "    }\n",
       "</style>\n",
       "<table border=\"1\" class=\"dataframe\">\n",
       "  <thead>\n",
       "    <tr style=\"text-align: right;\">\n",
       "      <th></th>\n",
       "      <th>Age</th>\n",
       "      <th>VehAge</th>\n",
       "      <th>PYrs</th>\n",
       "      <th>Claims</th>\n",
       "      <th>Severity</th>\n",
       "    </tr>\n",
       "  </thead>\n",
       "  <tbody>\n",
       "    <tr>\n",
       "      <th>count</th>\n",
       "      <td>670.000000</td>\n",
       "      <td>670.000000</td>\n",
       "      <td>670.000000</td>\n",
       "      <td>670.000000</td>\n",
       "      <td>670.000000</td>\n",
       "    </tr>\n",
       "    <tr>\n",
       "      <th>mean</th>\n",
       "      <td>35.476119</td>\n",
       "      <td>7.965672</td>\n",
       "      <td>1.579415</td>\n",
       "      <td>1.040299</td>\n",
       "      <td>25435.552239</td>\n",
       "    </tr>\n",
       "    <tr>\n",
       "      <th>std</th>\n",
       "      <td>12.851056</td>\n",
       "      <td>6.768896</td>\n",
       "      <td>2.983317</td>\n",
       "      <td>0.196805</td>\n",
       "      <td>38539.415033</td>\n",
       "    </tr>\n",
       "    <tr>\n",
       "      <th>min</th>\n",
       "      <td>16.000000</td>\n",
       "      <td>0.000000</td>\n",
       "      <td>0.002740</td>\n",
       "      <td>1.000000</td>\n",
       "      <td>16.000000</td>\n",
       "    </tr>\n",
       "    <tr>\n",
       "      <th>25%</th>\n",
       "      <td>25.000000</td>\n",
       "      <td>2.000000</td>\n",
       "      <td>0.430137</td>\n",
       "      <td>1.000000</td>\n",
       "      <td>3031.500000</td>\n",
       "    </tr>\n",
       "    <tr>\n",
       "      <th>50%</th>\n",
       "      <td>30.000000</td>\n",
       "      <td>7.000000</td>\n",
       "      <td>0.790411</td>\n",
       "      <td>1.000000</td>\n",
       "      <td>9015.000000</td>\n",
       "    </tr>\n",
       "    <tr>\n",
       "      <th>75%</th>\n",
       "      <td>47.000000</td>\n",
       "      <td>12.000000</td>\n",
       "      <td>1.497945</td>\n",
       "      <td>1.000000</td>\n",
       "      <td>29304.500000</td>\n",
       "    </tr>\n",
       "    <tr>\n",
       "      <th>max</th>\n",
       "      <td>68.000000</td>\n",
       "      <td>55.000000</td>\n",
       "      <td>31.167120</td>\n",
       "      <td>2.000000</td>\n",
       "      <td>365347.000000</td>\n",
       "    </tr>\n",
       "  </tbody>\n",
       "</table>\n",
       "</div>"
      ],
      "text/plain": [
       "              Age      VehAge        PYrs      Claims       Severity\n",
       "count  670.000000  670.000000  670.000000  670.000000     670.000000\n",
       "mean    35.476119    7.965672    1.579415    1.040299   25435.552239\n",
       "std     12.851056    6.768896    2.983317    0.196805   38539.415033\n",
       "min     16.000000    0.000000    0.002740    1.000000      16.000000\n",
       "25%     25.000000    2.000000    0.430137    1.000000    3031.500000\n",
       "50%     30.000000    7.000000    0.790411    1.000000    9015.000000\n",
       "75%     47.000000   12.000000    1.497945    1.000000   29304.500000\n",
       "max     68.000000   55.000000   31.167120    2.000000  365347.000000"
      ]
     },
     "execution_count": 4,
     "metadata": {},
     "output_type": "execute_result"
    }
   ],
   "source": [
    "claims = df.loc[df['Claims']!=0]\n",
    "claims.describe()"
   ]
  },
  {
   "cell_type": "code",
   "execution_count": 5,
   "metadata": {},
   "outputs": [
    {
     "data": {
      "image/png": "[encoded data removed]",
      "text/plain": [
       "<Figure size 1152x576 with 8 Axes>"
      ]
     },
     "metadata": {
      "needs_background": "light"
     },
     "output_type": "display_data"
    }
   ],
   "source": [
    "fig,axs=plt.subplots(2,4,figsize=(16,8),sharey=True)\n",
    "for col,ax in zip(df.select_dtypes(include='category').columns,axs.flatten()):\n",
    "    sns.boxplot(x=col,y='Severity',data=claims,ax=ax)\n",
    "\n",
    "for col,ax in zip(['Age','VehAge','PYrs'],axs.flatten()[4:]):\n",
    "    sns.scatterplot(x=col,y='Severity',data=claims,ax=ax)"
   ]
  },
  {
   "cell_type": "markdown",
   "metadata": {},
   "source": [
    "# Modelling\n",
    "- StatsModels (SM) uses patsy [formula notation](https://www.statsmodels.org/devel/example_formulas.html).\n",
    "- This includes: [notation for categorical variables ](https://www.statsmodels.org/devel/contrasts.html), setting [reference/base levels](https://stackoverflow.com/a/22439820/4538066), [encoding options](https://www.statsmodels.org/devel/contrasts.html), and [operators](https://www.statsmodels.org/devel/example_formulas.html#categorical-variables)."
   ]
  },
  {
   "cell_type": "code",
   "execution_count": 6,
   "metadata": {},
   "outputs": [],
   "source": [
    "# single claim frequency indicator\n",
    "df['Claim'] = (df['Claims']>=1).astype(int)\n",
    "\n",
    "# train-test splits stratifies on claims\n",
    "# take copies to overcome chained assignment\n",
    "train,test = train_test_split(df,test_size=0.3,random_state=1990,stratify=df['Claims'])\n",
    "train = df.loc[train.index].copy()\n",
    "test = df.loc[test.index].copy()"
   ]
  },
  {
   "cell_type": "markdown",
   "metadata": {},
   "source": [
    "### $Claim Frequency$\n",
    "\n",
    "For predicting the occurence of a single claim (i.e. binary classification) one can use the Binomial distribution (a.k.a Bernoulli trial or coin-toss experiment).\n",
    "\n",
    "When predicting claim counts or frequency, $Y$, a model that prodices Poisson distributed outputs is required. For instance, a Poisson model is suitable for estimating the number of insurance claims per policy per year, or to estimate the number of car crashes per month. \n",
    "\n",
    "The key components and assumptions of a Poisson distributed process are: \n",
    " 1. event occurence is independant of other events. \n",
    " 1. events occur within a fixed period of time.\n",
    " 1. the mean a variance of the distribution are equal e.g. $mu(X) = Var(X) = λ$\n",
    " \n",
    "[*STAT 504: Poisson Distribution*](https://online.stat.psu.edu/stat504/node/57/)\n",
    "\n",
    "\n",
    "If the mean and variance are unequal the distribution is said to be over-disperesed (var > mean) or under-dispersed (var < mean). Over-dispersion commonly arises in data where there are large number of zero's (a.k.a [zero-inflated](https://en.wikipedia.org/wiki/Zero-inflated_model)).\n",
    "\n",
    "In the case of zero-inflated data, it is \"*A sound practice is to estimate both Poisson and negative binomial models.*\" [*Cameron, 2013*](http://faculty.econ.ucdavis.edu/faculty/cameron/racd2/). Also see this practical example for [beverage consumption in python](https://dius.com.au/2017/08/03/using-statsmodels-glms-to-model-beverage-consumption/)\n",
    "\n",
    "In GLM's, link-functions are applied in order to make the mean outcome (prediction) fit to some linear model of input variables from other distributions. \"*A natural fit for count variables that follow the Poisson or negative binomial distribution is the log link. The log link exponentiates the linear predictors. It does not log transform the outcome variable.*\" - [*Count Models: Understanding the Log Link Function,TAF*](https://www.theanalysisfactor.com/count-models-understanding-the-log-link-function/)\n",
    "\n",
    "For more information on link-functions see also [here](https://bookdown.org/castillo_sam_d/Exam-PA-Study-Manual/glms-for-classification.html#link-functions)."
   ]
  },
  {
   "cell_type": "code",
   "execution_count": 7,
   "metadata": {},
   "outputs": [
    {
     "data": {
      "text/html": [
       "<img src=\"https://i0.wp.com/www.theanalysisfactor.com/wp-content/uploads/2016/12/StataCombos-CM2-Blog-JM.png?w=535&ssl=1\"/>"
      ],
      "text/plain": [
       "<IPython.core.display.Image object>"
      ]
     },
     "execution_count": 7,
     "metadata": {},
     "output_type": "execute_result"
    }
   ],
   "source": [
    "Image(url= \"https://i0.wp.com/www.theanalysisfactor.com/wp-content/uploads/2016/12/StataCombos-CM2-Blog-JM.png?w=535&ssl=1\")"
   ]
  },
  {
   "cell_type": "markdown",
   "metadata": {},
   "source": [
    "Lastly, for any form of count prediction model one can also set an offset or exposure. \n",
    "\n",
    "An offset, if it is known, is applied in order to account for the relative differences in exposure time for of a set of inputs. For example, in insurance claims we might expect to see more claims on an account with 20 years worth of annual policies compared to an account with a single policy year. Offsets account for the relative exposure|surface area|population size|etc and is akin to the relative frequency of occurence ($Claims/years$). See these intuititve SO answers [here](https://stats.stackexchange.com/questions/232666/should-i-use-an-offset-for-my-poisson-glm), [here](https://github.com/statsmodels/statsmodels/issues/1486#issuecomment-40945831), and [here](https://stats.stackexchange.com/questions/25415/using-offset-in-binomial-model-to-account-for-increased-numbers-of-patients)."
   ]
  },
  {
   "cell_type": "code",
   "execution_count": 8,
   "metadata": {},
   "outputs": [
    {
     "name": "stdout",
     "output_type": "stream",
     "text": [
      "mu =  0.0108\n",
      "var = 0.0115\n"
     ]
    }
   ],
   "source": [
    "# Mean & Variance\n",
    "mu = df.Claims.mean()\n",
    "var = np.mean([abs(x - mu)**2 for x in df.Claims])\n",
    "print(f'mu =  {mu:.4f}\\nvar = {var:.4f}')"
   ]
  },
  {
   "cell_type": "markdown",
   "metadata": {},
   "source": [
    "Here we observe an over-dispersed zero-inflated case as the variance of claim occurence ($v=0.0115$) exceeds its mean ($mu=0.0108$).\n",
    "\n",
    "As suggested in Cameron (2013) we shoudl therefore try both $Poisson$ and $Negative Binomial$ distributions. For good measure, lets also include a $Binomial$ distribution model as the number of accounts with claims $n>1$ is low (22) and as the $Binomial$ distribution extends to a $Poisson$ when trials $N>20$ is high and $p<0.05$ is low (see [wiki](https://en.wikipedia.org/wiki/Poisson_distribution#Related_distributions), [here](https://math.stackexchange.com/questions/1050184/difference-between-poisson-and-binomial-distributions) and [here](https://www.itl.nist.gov/div898/handbook/pmc/section3/pmc331.htm)."
   ]
  },
  {
   "cell_type": "code",
   "execution_count": 31,
   "metadata": {},
   "outputs": [
    {
     "name": "stderr",
     "output_type": "stream",
     "text": [
      "C:\\ProgramData\\Anaconda3\\envs\\machine-learning\\lib\\site-packages\\statsmodels\\genmod\\generalized_linear_model.py:273: DomainWarning: The log link function does not respect the domain of the Binomial family.\n",
      "  DomainWarning)\n"
     ]
    }
   ],
   "source": [
    "# # examples of formula notation in smf\n",
    "# print(' + '.join(train.columns))\n",
    "# expr = \"Claims ~ Age+C(Sex)+C(Geog, Treatment(reference=3))+EV+VehAge+NCD\"\n",
    "\n",
    "# including PYrs as parameter commented out in glm()\n",
    "expr = \"Claims ~ Age + Sex + Geog + EV + VehAge + NCD \" # + np.log(PYrs)\n",
    "\n",
    "FreqPoisson = smf.glm(formula=expr,\n",
    "                      data=train,\n",
    "                      offset=np.log(train['PYrs']),\n",
    "                      family=sm.families.Poisson(link=sm.families.links.log())).fit()\n",
    "\n",
    "FreqNegBin = smf.glm(formula=expr,\n",
    "                      data=train,\n",
    "                      offset=np.log(train['PYrs']),\n",
    "                      family=sm.families.NegativeBinomial(link=sm.families.links.log())).fit()\n",
    "\n",
    "FreqBinom = smf.glm(formula=\"Claim ~ Age + Sex + Geog + EV + VehAge + NCD \" ,\n",
    "                      data=train,\n",
    "                      offset=np.log(train['PYrs']),\n",
    "                      family=sm.families.Binomial(link=sm.families.links.log())).fit()"
   ]
  },
  {
   "cell_type": "code",
   "execution_count": 32,
   "metadata": {},
   "outputs": [
    {
     "name": "stdout",
     "output_type": "stream",
     "text": [
      "                 Generalized Linear Model Regression Results                  \n",
      "==============================================================================\n",
      "Dep. Variable:                 Claims   No. Observations:                45183\n",
      "Model:                            GLM   Df Residuals:                    45161\n",
      "Model Family:                 Poisson   Df Model:                           21\n",
      "Link Function:                    log   Scale:                          1.0000\n",
      "Method:                          IRLS   Log-Likelihood:                -2514.5\n",
      "Date:                Mon, 20 Apr 2020   Deviance:                       4079.3\n",
      "Time:                        20:11:58   Pearson chi2:                 1.93e+05\n",
      "No. Iterations:                     8                                         \n",
      "Covariance Type:            nonrobust                                         \n",
      "==============================================================================\n",
      "                 coef    std err          z      P>|z|      [0.025      0.975]\n",
      "------------------------------------------------------------------------------\n",
      "Intercept     -0.6528      0.275     -2.371      0.018      -1.192      -0.113\n",
      "Sex[T.M]       0.2253      0.153      1.473      0.141      -0.074       0.525\n",
      "Geog[T.2]     -0.5914      0.131     -4.521      0.000      -0.848      -0.335\n",
      "Geog[T.3]     -1.0409      0.140     -7.423      0.000      -1.316      -0.766\n",
      "Geog[T.4]     -1.4411      0.123    -11.722      0.000      -1.682      -1.200\n",
      "Geog[T.5]     -1.3189      0.346     -3.817      0.000      -1.996      -0.642\n",
      "Geog[T.6]     -1.4150      0.303     -4.672      0.000      -2.009      -0.821\n",
      "Geog[T.7]     -1.5205      1.004     -1.514      0.130      -3.489       0.448\n",
      "EV[T.2]        0.0336      0.233      0.144      0.886      -0.424       0.491\n",
      "EV[T.3]       -0.5652      0.197     -2.875      0.004      -0.951      -0.180\n",
      "EV[T.4]       -0.4928      0.213     -2.311      0.021      -0.911      -0.075\n",
      "EV[T.5]       -0.0795      0.200     -0.398      0.690      -0.471       0.312\n",
      "EV[T.6]        0.4911      0.195      2.512      0.012       0.108       0.874\n",
      "EV[T.7]        0.0670      0.530      0.126      0.900      -0.972       1.106\n",
      "NCD[T.2]      -0.1749      0.180     -0.970      0.332      -0.528       0.178\n",
      "NCD[T.3]      -0.2084      0.205     -1.017      0.309      -0.610       0.193\n",
      "NCD[T.4]       0.2335      0.184      1.269      0.204      -0.127       0.594\n",
      "NCD[T.5]       0.1606      0.195      0.826      0.409      -0.221       0.542\n",
      "NCD[T.6]      -0.0864      0.215     -0.402      0.688      -0.508       0.335\n",
      "NCD[T.7]       0.1352      0.136      0.994      0.320      -0.131       0.402\n",
      "Age           -0.0568      0.004    -13.374      0.000      -0.065      -0.049\n",
      "VehAge        -0.0791      0.008    -10.073      0.000      -0.095      -0.064\n",
      "==============================================================================\n",
      "                 Generalized Linear Model Regression Results                  \n",
      "==============================================================================\n",
      "Dep. Variable:                 Claims   No. Observations:                45183\n",
      "Model:                            GLM   Df Residuals:                    45161\n",
      "Model Family:        NegativeBinomial   Df Model:                           21\n",
      "Link Function:                    log   Scale:                          1.0000\n",
      "Method:                          IRLS   Log-Likelihood:                -2507.3\n",
      "Date:                Mon, 20 Apr 2020   Deviance:                       3694.4\n",
      "Time:                        20:11:58   Pearson chi2:                 1.92e+05\n",
      "No. Iterations:                     8                                         \n",
      "Covariance Type:            nonrobust                                         \n",
      "==============================================================================\n",
      "                 coef    std err          z      P>|z|      [0.025      0.975]\n",
      "------------------------------------------------------------------------------\n",
      "Intercept     -0.6282      0.280     -2.246      0.025      -1.177      -0.080\n",
      "Sex[T.M]       0.2247      0.154      1.459      0.145      -0.077       0.527\n",
      "Geog[T.2]     -0.5962      0.133     -4.467      0.000      -0.858      -0.335\n",
      "Geog[T.3]     -1.0449      0.143     -7.322      0.000      -1.325      -0.765\n",
      "Geog[T.4]     -1.4424      0.125    -11.507      0.000      -1.688      -1.197\n",
      "Geog[T.5]     -1.3289      0.348     -3.820      0.000      -2.011      -0.647\n",
      "Geog[T.6]     -1.4235      0.305     -4.670      0.000      -2.021      -0.826\n",
      "Geog[T.7]     -1.5308      1.007     -1.520      0.129      -3.505       0.443\n",
      "EV[T.2]        0.0399      0.236      0.169      0.866      -0.423       0.503\n",
      "EV[T.3]       -0.5828      0.199     -2.922      0.003      -0.974      -0.192\n",
      "EV[T.4]       -0.5048      0.216     -2.338      0.019      -0.928      -0.082\n",
      "EV[T.5]       -0.0846      0.202     -0.418      0.676      -0.481       0.312\n",
      "EV[T.6]        0.4953      0.198      2.497      0.013       0.107       0.884\n",
      "EV[T.7]        0.0511      0.535      0.095      0.924      -0.998       1.100\n",
      "NCD[T.2]      -0.1748      0.183     -0.958      0.338      -0.533       0.183\n",
      "NCD[T.3]      -0.2045      0.207     -0.989      0.323      -0.610       0.201\n",
      "NCD[T.4]       0.2300      0.187      1.229      0.219      -0.137       0.597\n",
      "NCD[T.5]       0.1672      0.197      0.848      0.396      -0.219       0.553\n",
      "NCD[T.6]      -0.0826      0.217     -0.380      0.704      -0.509       0.343\n",
      "NCD[T.7]       0.1459      0.138      1.056      0.291      -0.125       0.417\n",
      "Age           -0.0571      0.004    -13.264      0.000      -0.066      -0.049\n",
      "VehAge        -0.0795      0.008    -10.003      0.000      -0.095      -0.064\n",
      "==============================================================================\n",
      "                 Generalized Linear Model Regression Results                  \n",
      "==============================================================================\n",
      "Dep. Variable:                  Claim   No. Observations:                45183\n",
      "Model:                            GLM   Df Residuals:                    45161\n",
      "Model Family:                Binomial   Df Model:                           21\n",
      "Link Function:                    log   Scale:                          1.0000\n",
      "Method:                          IRLS   Log-Likelihood:                -2432.1\n",
      "Date:                Mon, 20 Apr 2020   Deviance:                       4864.1\n",
      "Time:                        20:11:58   Pearson chi2:                 1.88e+05\n",
      "No. Iterations:                    10                                         \n",
      "Covariance Type:            nonrobust                                         \n",
      "==============================================================================\n",
      "                 coef    std err          z      P>|z|      [0.025      0.975]\n",
      "------------------------------------------------------------------------------\n",
      "Intercept     -0.7896      0.276     -2.860      0.004      -1.331      -0.249\n",
      "Sex[T.M]       0.2036      0.154      1.326      0.185      -0.097       0.505\n",
      "Geog[T.2]     -0.5582      0.131     -4.274      0.000      -0.814      -0.302\n",
      "Geog[T.3]     -1.0148      0.141     -7.213      0.000      -1.291      -0.739\n",
      "Geog[T.4]     -1.4216      0.123    -11.533      0.000      -1.663      -1.180\n",
      "Geog[T.5]     -1.2515      0.344     -3.640      0.000      -1.925      -0.578\n",
      "Geog[T.6]     -1.4375      0.314     -4.579      0.000      -2.053      -0.822\n",
      "Geog[T.7]     -1.4492      1.002     -1.447      0.148      -3.412       0.514\n",
      "EV[T.2]        0.0586      0.232      0.252      0.801      -0.397       0.514\n",
      "EV[T.3]       -0.5735      0.197     -2.909      0.004      -0.960      -0.187\n",
      "EV[T.4]       -0.4925      0.214     -2.304      0.021      -0.912      -0.073\n",
      "EV[T.5]       -0.0965      0.200     -0.483      0.629      -0.488       0.295\n",
      "EV[T.6]        0.4660      0.196      2.383      0.017       0.083       0.849\n",
      "EV[T.7]       -0.1735      0.600     -0.289      0.772      -1.349       1.002\n",
      "NCD[T.2]      -0.1193      0.182     -0.657      0.511      -0.475       0.237\n",
      "NCD[T.3]      -0.1296      0.205     -0.632      0.527      -0.531       0.272\n",
      "NCD[T.4]       0.3235      0.183      1.767      0.077      -0.035       0.682\n",
      "NCD[T.5]       0.1887      0.198      0.954      0.340      -0.199       0.577\n",
      "NCD[T.6]      -0.0021      0.215     -0.010      0.992      -0.423       0.419\n",
      "NCD[T.7]       0.1645      0.138      1.190      0.234      -0.107       0.435\n",
      "Age           -0.0561      0.004    -13.127      0.000      -0.064      -0.048\n",
      "VehAge        -0.0749      0.008     -9.570      0.000      -0.090      -0.060\n",
      "==============================================================================\n"
     ]
    }
   ],
   "source": [
    "print(FreqPoisson.summary())\n",
    "print(FreqNegBin.summary())\n",
    "print(FreqBinom.summary())"
   ]
  },
  {
   "cell_type": "code",
   "execution_count": 43,
   "metadata": {},
   "outputs": [
    {
     "data": {
      "text/html": [
       "<div>\n",
       "<style scoped>\n",
       "    .dataframe tbody tr th:only-of-type {\n",
       "        vertical-align: middle;\n",
       "    }\n",
       "\n",
       "    .dataframe tbody tr th {\n",
       "        vertical-align: top;\n",
       "    }\n",
       "\n",
       "    .dataframe thead th {\n",
       "        text-align: right;\n",
       "    }\n",
       "</style>\n",
       "<table border=\"1\" class=\"dataframe\">\n",
       "  <thead>\n",
       "    <tr style=\"text-align: right;\">\n",
       "      <th></th>\n",
       "      <th>Age</th>\n",
       "      <th>Sex</th>\n",
       "      <th>Geog</th>\n",
       "      <th>EV</th>\n",
       "      <th>VehAge</th>\n",
       "      <th>NCD</th>\n",
       "      <th>PYrs</th>\n",
       "      <th>Claims</th>\n",
       "      <th>Severity</th>\n",
       "      <th>Claim</th>\n",
       "      <th>Fnb</th>\n",
       "      <th>Fbi</th>\n",
       "      <th>Fpo</th>\n",
       "    </tr>\n",
       "  </thead>\n",
       "  <tbody>\n",
       "    <tr>\n",
       "      <th>2039</th>\n",
       "      <td>21.0</td>\n",
       "      <td>M</td>\n",
       "      <td>2</td>\n",
       "      <td>2</td>\n",
       "      <td>19</td>\n",
       "      <td>1</td>\n",
       "      <td>0.432877</td>\n",
       "      <td>1</td>\n",
       "      <td>11110.0</td>\n",
       "      <td>1</td>\n",
       "      <td>0.025483</td>\n",
       "      <td>0.025079</td>\n",
       "      <td>0.025146</td>\n",
       "    </tr>\n",
       "    <tr>\n",
       "      <th>18459</th>\n",
       "      <td>33.0</td>\n",
       "      <td>M</td>\n",
       "      <td>1</td>\n",
       "      <td>5</td>\n",
       "      <td>2</td>\n",
       "      <td>7</td>\n",
       "      <td>1.246575</td>\n",
       "      <td>1</td>\n",
       "      <td>74300.0</td>\n",
       "      <td>1</td>\n",
       "      <td>0.092024</td>\n",
       "      <td>0.080625</td>\n",
       "      <td>0.090165</td>\n",
       "    </tr>\n",
       "    <tr>\n",
       "      <th>3822</th>\n",
       "      <td>23.0</td>\n",
       "      <td>M</td>\n",
       "      <td>1</td>\n",
       "      <td>4</td>\n",
       "      <td>7</td>\n",
       "      <td>7</td>\n",
       "      <td>0.515068</td>\n",
       "      <td>1</td>\n",
       "      <td>26957.0</td>\n",
       "      <td>1</td>\n",
       "      <td>0.071902</td>\n",
       "      <td>0.065366</td>\n",
       "      <td>0.070886</td>\n",
       "    </tr>\n",
       "    <tr>\n",
       "      <th>56458</th>\n",
       "      <td>57.0</td>\n",
       "      <td>M</td>\n",
       "      <td>4</td>\n",
       "      <td>3</td>\n",
       "      <td>15</td>\n",
       "      <td>7</td>\n",
       "      <td>2.000000</td>\n",
       "      <td>1</td>\n",
       "      <td>737.0</td>\n",
       "      <td>1</td>\n",
       "      <td>0.001194</td>\n",
       "      <td>0.001188</td>\n",
       "      <td>0.001199</td>\n",
       "    </tr>\n",
       "  </tbody>\n",
       "</table>\n",
       "</div>"
      ],
      "text/plain": [
       "        Age Sex Geog EV  VehAge NCD      PYrs  Claims  Severity  Claim  \\\n",
       "2039   21.0   M    2  2      19   1  0.432877       1   11110.0      1   \n",
       "18459  33.0   M    1  5       2   7  1.246575       1   74300.0      1   \n",
       "3822   23.0   M    1  4       7   7  0.515068       1   26957.0      1   \n",
       "56458  57.0   M    4  3      15   7  2.000000       1     737.0      1   \n",
       "\n",
       "            Fnb       Fbi       Fpo  \n",
       "2039   0.025483  0.025079  0.025146  \n",
       "18459  0.092024  0.080625  0.090165  \n",
       "3822   0.071902  0.065366  0.070886  \n",
       "56458  0.001194  0.001188  0.001199  "
      ]
     },
     "execution_count": 43,
     "metadata": {},
     "output_type": "execute_result"
    },
    {
     "data": {
      "image/png": "[encoded data removed]",
      "text/plain": [
       "<Figure size 720x237.6 with 3 Axes>"
      ]
     },
     "metadata": {
      "needs_background": "light"
     },
     "output_type": "display_data"
    }
   ],
   "source": [
    "test['Fnb'] = FreqNegBin.predict(test)\n",
    "test['Fbi'] = FreqBinom.predict(test)\n",
    "test['Fpo'] = FreqPoisson.predict(test)\n",
    "\n",
    "fig,axs = plt.subplots(1,3,figsize=(10,3.3),sharex=True,sharey=True)\n",
    "sns.distplot(test['Fpo'],ax=axs[0],axlabel='Poisson')\n",
    "sns.distplot(test['Fnb'],ax=axs[1],axlabel='NegBinomial')\n",
    "sns.distplot(test['Fbi'],ax=axs[2],axlabel='Binomial')\n",
    "\n",
    "test.loc[test['Claim']>0][:4]"
   ]
  },
  {
   "cell_type": "markdown",
   "metadata": {},
   "source": [
    "Loooking at the model summaries, the histograms and results the of predicted values on the test, we see that each model weights covariates similarly and produces similar scores on the test data. The $Binomial$ model was only used to demonstrate its similarity in this case, but this may not hold for other data."
   ]
  },
  {
   "cell_type": "code",
   "execution_count": 47,
   "metadata": {},
   "outputs": [
    {
     "data": {
      "text/plain": [
       "<statsmodels.genmod._prediction.PredictionResults at 0x2ad81783f48>"
      ]
     },
     "execution_count": 47,
     "metadata": {},
     "output_type": "execute_result"
    }
   ],
   "source": [
    "t = FreqNegBin.get_prediction(test)\n",
    "t"
   ]
  },
  {
   "cell_type": "code",
   "execution_count": 58,
   "metadata": {},
   "outputs": [
    {
     "data": {
      "text/html": [
       "<div>\n",
       "<style scoped>\n",
       "    .dataframe tbody tr th:only-of-type {\n",
       "        vertical-align: middle;\n",
       "    }\n",
       "\n",
       "    .dataframe tbody tr th {\n",
       "        vertical-align: top;\n",
       "    }\n",
       "\n",
       "    .dataframe thead th {\n",
       "        text-align: right;\n",
       "    }\n",
       "</style>\n",
       "<table border=\"1\" class=\"dataframe\">\n",
       "  <thead>\n",
       "    <tr style=\"text-align: right;\">\n",
       "      <th></th>\n",
       "      <th>mean</th>\n",
       "      <th>mean_se</th>\n",
       "      <th>mean_ci_lower</th>\n",
       "      <th>mean_ci_upper</th>\n",
       "    </tr>\n",
       "  </thead>\n",
       "  <tbody>\n",
       "    <tr>\n",
       "      <th>0</th>\n",
       "      <td>0.032724</td>\n",
       "      <td>0.007261</td>\n",
       "      <td>0.015768</td>\n",
       "      <td>0.067914</td>\n",
       "    </tr>\n",
       "    <tr>\n",
       "      <th>1</th>\n",
       "      <td>0.028878</td>\n",
       "      <td>0.006262</td>\n",
       "      <td>0.014147</td>\n",
       "      <td>0.058945</td>\n",
       "    </tr>\n",
       "    <tr>\n",
       "      <th>2</th>\n",
       "      <td>0.005664</td>\n",
       "      <td>0.001216</td>\n",
       "      <td>0.002795</td>\n",
       "      <td>0.011477</td>\n",
       "    </tr>\n",
       "    <tr>\n",
       "      <th>3</th>\n",
       "      <td>0.002417</td>\n",
       "      <td>0.000602</td>\n",
       "      <td>0.001065</td>\n",
       "      <td>0.005484</td>\n",
       "    </tr>\n",
       "    <tr>\n",
       "      <th>4</th>\n",
       "      <td>0.017078</td>\n",
       "      <td>0.002641</td>\n",
       "      <td>0.010267</td>\n",
       "      <td>0.028405</td>\n",
       "    </tr>\n",
       "    <tr>\n",
       "      <th>...</th>\n",
       "      <td>...</td>\n",
       "      <td>...</td>\n",
       "      <td>...</td>\n",
       "      <td>...</td>\n",
       "    </tr>\n",
       "    <tr>\n",
       "      <th>19360</th>\n",
       "      <td>0.026436</td>\n",
       "      <td>0.006827</td>\n",
       "      <td>0.011302</td>\n",
       "      <td>0.061839</td>\n",
       "    </tr>\n",
       "    <tr>\n",
       "      <th>19361</th>\n",
       "      <td>0.017810</td>\n",
       "      <td>0.003913</td>\n",
       "      <td>0.008644</td>\n",
       "      <td>0.036697</td>\n",
       "    </tr>\n",
       "    <tr>\n",
       "      <th>19362</th>\n",
       "      <td>0.019842</td>\n",
       "      <td>0.005450</td>\n",
       "      <td>0.008037</td>\n",
       "      <td>0.048987</td>\n",
       "    </tr>\n",
       "    <tr>\n",
       "      <th>19363</th>\n",
       "      <td>0.002179</td>\n",
       "      <td>0.000535</td>\n",
       "      <td>0.000972</td>\n",
       "      <td>0.004888</td>\n",
       "    </tr>\n",
       "    <tr>\n",
       "      <th>19364</th>\n",
       "      <td>0.003811</td>\n",
       "      <td>0.000944</td>\n",
       "      <td>0.001688</td>\n",
       "      <td>0.008608</td>\n",
       "    </tr>\n",
       "  </tbody>\n",
       "</table>\n",
       "<p>19365 rows × 4 columns</p>\n",
       "</div>"
      ],
      "text/plain": [
       "           mean   mean_se  mean_ci_lower  mean_ci_upper\n",
       "0      0.032724  0.007261       0.015768       0.067914\n",
       "1      0.028878  0.006262       0.014147       0.058945\n",
       "2      0.005664  0.001216       0.002795       0.011477\n",
       "3      0.002417  0.000602       0.001065       0.005484\n",
       "4      0.017078  0.002641       0.010267       0.028405\n",
       "...         ...       ...            ...            ...\n",
       "19360  0.026436  0.006827       0.011302       0.061839\n",
       "19361  0.017810  0.003913       0.008644       0.036697\n",
       "19362  0.019842  0.005450       0.008037       0.048987\n",
       "19363  0.002179  0.000535       0.000972       0.004888\n",
       "19364  0.003811  0.000944       0.001688       0.008608\n",
       "\n",
       "[19365 rows x 4 columns]"
      ]
     },
     "execution_count": 58,
     "metadata": {},
     "output_type": "execute_result"
    }
   ],
   "source": [
    "t.summary_frame(alpha=0.001)"
   ]
  },
  {
   "cell_type": "code",
   "execution_count": 62,
   "metadata": {},
   "outputs": [
    {
     "data": {
      "text/plain": [
       "(array([9.847e+03, 0.000e+00, 0.000e+00, 0.000e+00, 0.000e+00, 1.500e+02,\n",
       "        0.000e+00, 0.000e+00, 0.000e+00, 3.000e+00]),\n",
       " array([0. , 0.2, 0.4, 0.6, 0.8, 1. , 1.2, 1.4, 1.6, 1.8, 2. ]),\n",
       " <a list of 10 Patch objects>)"
      ]
     },
     "execution_count": 62,
     "metadata": {},
     "output_type": "execute_result"
    },
    {
     "data": {
      "image/png": "[encoded data removed]",
      "text/plain": [
       "<Figure size 432x288 with 1 Axes>"
      ]
     },
     "metadata": {
      "needs_background": "light"
     },
     "output_type": "display_data"
    }
   ],
   "source": [
    "plt.hist(np.random.poisson(lam=0.015768,size=10000))"
   ]
  },
  {
   "cell_type": "code",
   "execution_count": null,
   "metadata": {},
   "outputs": [],
   "source": []
  }
 ],
 "metadata": {
  "kernelspec": {
   "display_name": "Python [conda env:machine-learning]",
   "language": "python",
   "name": "conda-env-machine-learning-py"
  },
  "language_info": {
   "codemirror_mode": {
    "name": "ipython",
    "version": 3
   },
   "file_extension": ".py",
   "mimetype": "text/x-python",
   "name": "python",
   "nbconvert_exporter": "python",
   "pygments_lexer": "ipython3",
   "version": "3.7.5"
  }
 },
 "nbformat": 4,
 "nbformat_minor": 4
}
