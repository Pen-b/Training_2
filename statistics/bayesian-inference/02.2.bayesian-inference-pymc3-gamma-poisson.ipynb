{
 "cells": [
  {
   "cell_type": "markdown",
   "metadata": {},
   "source": [
    "# Bayes Theorem\n",
    "\n",
    "In probability theory and statistics, Bayes' theorem (alternatively Bayes' law or Bayes' rule), named after Reverend Thomas Bayes, describes the probability of an event, based on prior knowledge of conditions that might be related to the event. [1](https://plato.stanford.edu/archives/spr2019/entries/bayes-theorem/)\n",
    "\n",
    "#### $$P(A|B) = \\frac {P(B|A)P(A)}{P(B)}$$\n",
    "\n",
    "I'm a visual learner. My favourite intuitive example of Bayes Theorem is this [using lego bricks](https://www.countbayesie.com/blog/2015/2/18/bayes-theorem-with-lego):\n",
    "\n",
    "<img src=\"lego-probability-space.jpeg\" width=\"400\" height=\"400\">\n",
    "\n",
    "The image shows a 60 (6 * 10) lego unit area\n",
    " - 40 blue areas\n",
    " - 20 red areas\n",
    " - 6 intersecting yellow areas. \n",
    "\n",
    "We can work through the maths to determine the probabilities and conditional probabilities of each colour."
   ]
  },
  {
   "cell_type": "code",
   "execution_count": null,
   "metadata": {},
   "outputs": [],
   "source": [
    "pBlue = 40/60\n",
    "pRed = 20/60\n",
    "pYellow = 6/60\n",
    "pYellowRed = 4/20 # probabiity of Yellow given Red\n",
    "pYellowBlue = 2 / 40 # probabiity of Yellow given Blue\n",
    "\n",
    "print('Cond p(Yellow|Red) = {:.3f}'.format(pYellowRed))\n",
    "print('Cond p(Yellow|Blue) = {:.3f}'.format(pYellowBlue))"
   ]
  },
  {
   "cell_type": "markdown",
   "metadata": {},
   "source": [
    "We now some baseline information for the probability and conditional probility of landing on each colour within the Legosphere. We can apply Bayes theorem to generate estimates for \"if we land on a yellow brick, what is the probability its red underneath?\"\n",
    "\n",
    "$$P(A|B) = \\frac {P(B|A)P(A)}{P(B)}$$\n",
    "\n",
    "$$P(Red|Yellow) = \\frac {P(Yellow|Red)P(Red)}{P(Yellow)}$$"
   ]
  },
  {
   "cell_type": "code",
   "execution_count": null,
   "metadata": {},
   "outputs": [],
   "source": [
    "pRedYellow = pYellowRed*pRed/pYellow\n",
    "print('Cond p(Red|Yellow) = {:.3f}'.format(pRedYellow))"
   ]
  },
  {
   "cell_type": "markdown",
   "metadata": {},
   "source": [
    "## Example: Evaluating Insurance claim occurences using Bayesian Inference\n",
    "\n",
    "Let's recall that Bayesian Inference follows:\n",
    "\n",
    " 1. Evaluate prior assumptions and observational data. \n",
    " 1. Develop a probabilistic model of the data.\n",
    " 1. Specify prior parameter values for the distributions of the probabilistic model.\n",
    " 1. Apply Bayes’ theorem to derive the posterior parameter values. \n",
    " \n",
    " \n",
    "###  1. Evaluate prior assumptions and observational data. \n",
    "In this example we have sample data for insurance claims occuring by Poisson distributed process. The Poisson distribution is given by:\n",
    "\n",
    "$$f(y_i|λ)=\\frac{e^{−λ}λ^{y_i}}{y_i!}$$\n",
    "\n",
    "Where lambda λ is the \"rate\" of events given by the total number of events (k) divided by the number of units (n) in the data (λ = k/n). In the Poisson disribution the expected value E(Y), mean E(X), and variance Var(Y) of Poisson distribution are the same; \n",
    "\n",
    "e.g., E(Y) = E(X) = Var(X) = λ. \n",
    "\n",
    "**note** that if the variance is greater than the mean, the data is said to be overdispersed. This is common in insurance claim data with lots of zeros and is better handled by the NegativeBinomial and [zero-inflated models](https://stats.idre.ucla.edu/r/dae/zip/) such as ZIP and ZINB."
   ]
  },
  {
   "cell_type": "code",
   "execution_count": 3,
   "metadata": {},
   "outputs": [],
   "source": [
    "import numpy as np\n",
    "import scipy.stats as stats\n",
    "import matplotlib.pyplot as plt\n",
    "import seaborn as sns"
   ]
  },
  {
   "cell_type": "code",
   "execution_count": 4,
   "metadata": {},
   "outputs": [
    {
     "name": "stdout",
     "output_type": "stream",
     "text": [
      "Mean=1.83, Var=2.33\n"
     ]
    },
    {
     "data": {
      "image/png": "[encoded data removed]",
      "text/plain": [
       "<Figure size 432x288 with 1 Axes>"
      ]
     },
     "metadata": {
      "needs_background": "light"
     },
     "output_type": "display_data"
    }
   ],
   "source": [
    "n = 300\n",
    "lam_ = 2\n",
    "y = np.random.poisson(lam=lam_,size=n)\n",
    "\n",
    "print(\"Mean={:.2f}, Var={:.2f}\".format(np.mean(y),np.var(y)))\n",
    "\n",
    "sns.histplot(y,bins=10)\n",
    "plt.title('Histogram: Simulated Poisson $y$');"
   ]
  },
  {
   "cell_type": "markdown",
   "metadata": {},
   "source": [
    "The right-skew \"heavy tail\" in our observational data fits a gamma-poisson model. This is termed the gamma-poisson conjugate prior. We could also use a beta-poisson, or any distribution that resembles the data, but gamma-poisson is suitable as [Hyvönen & Tolonen 2019](https://vioshyvo.github.io/Bayesian_inference/conjugate-distributions.html): \n",
    "- poisson can take on any positive number to infinity(0,∞), whereas a beta or uniform is [0-100]. \n",
    "- gamma has a peak close to zero\n",
    "- gamma tail goes to infinity.\n",
    "\n",
    "The gamma-poisson prior is then:\n",
    "\n",
    "$$λ∼Γ(a,b)$$\n",
    "\n",
    "Where a and b are the gamm shape and scale (or rate when 1/scale)  of the gamma-poisson distribution. The gamma density functions is:\n",
    "\n",
    "$$f(λ)=\\frac{b^a}{Γ(a)}λ^{a−1}e^{−bλ}$$\n",
    "\n",
    "where a>0 is the shape parameter,and b>0 is the rate parameter, and \n",
    "\n",
    "$E(λ)=\\frac{a}{b}$ and $Var(λ)=\\frac{a}{b^2}$"
   ]
  },
  {
   "cell_type": "code",
   "execution_count": 5,
   "metadata": {},
   "outputs": [
    {
     "data": {
      "image/png": "[encoded data removed]",
      "text/plain": [
       "<Figure size 576x432 with 1 Axes>"
      ]
     },
     "metadata": {
      "needs_background": "light"
     },
     "output_type": "display_data"
    }
   ],
   "source": [
    "# Parameters of the prior gamma distribution.\n",
    "a = 3 # shape\n",
    "b = 2 # rate = 1/scale\n",
    "x = np.linspace(start=0, stop=10, num=100) # options for lambda\n",
    "\n",
    "# Define the prior distribution.\n",
    "prior = lambda x: stats.gamma.pdf(x, a=a, scale=1/b)\n",
    "priors = prior(x)\n",
    "\n",
    "# plot\n",
    "plt.figure(figsize=(8, 6))\n",
    "plt.plot(x, priors, 'r-')\n",
    "plt.title('Prior Gamma-poisson density function for a={} and b={}'.format(a,b))\n",
    "plt.xlabel('Poisson lambda=λ')\n",
    "plt.ylabel('P(λ)');"
   ]
  },
  {
   "cell_type": "markdown",
   "metadata": {},
   "source": [
    "### likelihood function\n",
    "\n",
    "The gamma function is often referred to as the generalized factorial since:\n",
    "\n",
    "Γ(n+1) = n!\n",
    "\n",
    "then the likelihood function is:\n",
    "\n",
    "\n",
    "$$f(y|λ)=\\prod_{i=1}^{n}\\frac{e^{−λ}λ^{λ_i}}{y_i!} = \\frac{e^{-nλ}λ\\sum_{i=1}^{n}y_i}{\\prod_{i=1}^{n}y_i!}$$"
   ]
  },
  {
   "cell_type": "code",
   "execution_count": 6,
   "metadata": {},
   "outputs": [
    {
     "data": {
      "text/plain": [
       "True"
      ]
     },
     "execution_count": 6,
     "metadata": {},
     "output_type": "execute_result"
    }
   ],
   "source": [
    "import math\n",
    "import scipy.special as sp\n",
    "\n",
    "# generalised gamma == factorial\n",
    "n = 3\n",
    "sp.gamma(n+1) == math.factorial(n)"
   ]
  },
  {
   "cell_type": "code",
   "execution_count": 7,
   "metadata": {},
   "outputs": [],
   "source": [
    "# likelihood function\n",
    "def likelihood(lam,y):\n",
    "    \"\"\" Gamma-poisson likelihood function\"\"\"\n",
    "    \n",
    "    factorials = np.apply_along_axis(\n",
    "                    func1d=lambda Yi: sp.gamma(Yi+1),\n",
    "                    axis=0,\n",
    "                    arr=y)\n",
    "    \n",
    "    # exponential (-lambda*n) * (lambda**sum(y))\n",
    "    numerator = np.exp(-lam*y.size)*(lam**y.sum())\n",
    "    \n",
    "    # product of gamma (aka factorial) of y\n",
    "    denominator = np.multiply.reduce(factorials)\n",
    "    \n",
    "    # likelihoods, remove zeros\n",
    "    l = np.array(numerator/denominator)\n",
    "    l[np.isnan(l)] = 0.0\n",
    "    return l"
   ]
  },
  {
   "cell_type": "code",
   "execution_count": 8,
   "metadata": {},
   "outputs": [
    {
     "name": "stderr",
     "output_type": "stream",
     "text": [
      "/home/ben/anaconda3/envs/machine-learning/lib/python3.7/site-packages/ipykernel_launcher.py:11: RuntimeWarning: overflow encountered in power\n",
      "  # This is added back by InteractiveShellApp.init_path()\n",
      "/home/ben/anaconda3/envs/machine-learning/lib/python3.7/site-packages/ipykernel_launcher.py:11: RuntimeWarning: invalid value encountered in multiply\n",
      "  # This is added back by InteractiveShellApp.init_path()\n"
     ]
    }
   ],
   "source": [
    "# Define the posterior distribution.\n",
    "def posterior_up_to_constant(lam,y):\n",
    "    return likelihood(lam,y)*prior(lam)\n",
    "\n",
    "# calculate posteriors and normalise\n",
    "Cposteriors =  posterior_up_to_constant(x,y)\n",
    "Cposteriors = Cposteriors/Cposteriors.sum()"
   ]
  },
  {
   "cell_type": "markdown",
   "metadata": {},
   "source": [
    "then as\n",
    "$$f(λ|y)∝λ^(\\sum_{i=1}^{n}y_i+a)^{−1}e^{−(n+b)λ}$$ \n",
    "the posterior distribution is again a gamma\n",
    "\n",
    "$$f(λ|y)=Γ\\big(\\sum_{i=1}^{n}y_i+a,n+b\\big)$$"
   ]
  },
  {
   "cell_type": "code",
   "execution_count": 9,
   "metadata": {},
   "outputs": [],
   "source": [
    "def posterior(lam,y):\n",
    "    \n",
    "    shape = a + y.sum()\n",
    "    rate = b + y.size\n",
    "    \n",
    "    return stats.gamma.pdf(lam, shape, scale=1/rate)\n",
    "\n",
    "posterior = posterior(x,y)"
   ]
  },
  {
   "cell_type": "code",
   "execution_count": 10,
   "metadata": {},
   "outputs": [
    {
     "data": {
      "image/png": "[encoded data removed]",
      "text/plain": [
       "<Figure size 576x432 with 1 Axes>"
      ]
     },
     "metadata": {
      "needs_background": "light"
     },
     "output_type": "display_data"
    }
   ],
   "source": [
    "plt.figure(figsize=(8, 6))\n",
    "plt.plot(x, priors, 'r-', label='prior')\n",
    "plt.plot(x, posterior,c='blue', label='posterior')\n",
    "plt.plot(x, Cposteriors,c='cyan', label='posterior to constant')\n",
    "plt.legend();"
   ]
  },
  {
   "cell_type": "markdown",
   "metadata": {},
   "source": [
    "As shown the the posterior mean (blue) is centered around the true lambda rate that we set at the start. The posterio mean is:\n",
    "\n",
    "$$\\frac{\\sum_{i=1}^{n}y_i+a}{n+b}$$\n",
    "\n",
    "i.e. the posterior mean is a weighted average of the prior mean and the observed sample average $\\bar{y}$"
   ]
  },
  {
   "cell_type": "code",
   "execution_count": 20,
   "metadata": {},
   "outputs": [
    {
     "name": "stdout",
     "output_type": "stream",
     "text": [
      "True lambda: 2\n",
      "prior mean: 1.5\n",
      "posterior mean: 1.8311258278145695\n",
      "sample mean:1.8333333333333333\n"
     ]
    }
   ],
   "source": [
    "print(f\"\"\"True lambda: {lam_}\n",
    "prior mean: {a/b}\n",
    "posterior mean: {(a+y.sum()) / (b+y.size)}\n",
    "sample mean:{y.mean()}\"\"\")\n"
   ]
  },
  {
   "cell_type": "markdown",
   "metadata": {},
   "source": [
    "### references\n",
    "- https://www.sciencedirect.com/science/article/abs/pii/S0740002005000249\n",
    "- https://vioshyvo.github.io/Bayesian_inference/conjugate-distributions.html"
   ]
  },
  {
   "cell_type": "code",
   "execution_count": null,
   "metadata": {},
   "outputs": [],
   "source": []
  },
  {
   "cell_type": "code",
   "execution_count": null,
   "metadata": {},
   "outputs": [],
   "source": []
  }
 ],
 "metadata": {
  "kernelspec": {
   "display_name": "Python [conda env:machine-learning]",
   "language": "python",
   "name": "conda-env-machine-learning-py"
  },
  "language_info": {
   "codemirror_mode": {
    "name": "ipython",
    "version": 3
   },
   "file_extension": ".py",
   "mimetype": "text/x-python",
   "name": "python",
   "nbconvert_exporter": "python",
   "pygments_lexer": "ipython3",
   "version": "3.7.4"
  }
 },
 "nbformat": 4,
 "nbformat_minor": 4
}
