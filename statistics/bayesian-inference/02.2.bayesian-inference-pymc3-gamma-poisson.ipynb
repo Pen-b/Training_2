{
 "cells": [
  {
   "cell_type": "markdown",
   "metadata": {},
   "source": [
    "# Bayes Theorem\n",
    "\n",
    "In probability theory and statistics, Bayes' theorem (alternatively Bayes' law or Bayes' rule), named after Reverend Thomas Bayes, describes the probability of an event, based on prior knowledge of conditions that might be related to the event. [1](https://plato.stanford.edu/archives/spr2019/entries/bayes-theorem/)\n",
    "\n",
    "#### $$P(A|B) = \\frac {P(B|A)P(A)}{P(B)}$$\n",
    "\n",
    "I'm a visual learner. My favourite intuitive example of Bayes Theorem is this [using lego bricks](https://www.countbayesie.com/blog/2015/2/18/bayes-theorem-with-lego):\n",
    "\n",
    "<img src=\"lego-probability-space.jpeg\" width=\"400\" height=\"400\">\n",
    "\n",
    "The image shows a 60 (6 * 10) lego unit area\n",
    " - 40 blue areas\n",
    " - 20 red areas\n",
    " - 6 intersecting yellow areas. \n",
    "\n",
    "We can work through the maths to determine the probabilities and conditional probabilities of each colour."
   ]
  },
  {
   "cell_type": "code",
   "execution_count": 9,
   "metadata": {},
   "outputs": [
    {
     "name": "stdout",
     "output_type": "stream",
     "text": [
      "Cond p(Yellow|Red) = 0.200\n",
      "Cond p(Yellow|Blue) = 0.050\n"
     ]
    }
   ],
   "source": [
    "pBlue = 40/60\n",
    "pRed = 20/60\n",
    "pYellow = 6/60\n",
    "pYellowRed = 4/20 # probabiity of Yellow given Red\n",
    "pYellowBlue = 2 / 40 # probabiity of Yellow given Blue\n",
    "\n",
    "print('Cond p(Yellow|Red) = {:.3f}'.format(pYellowRed))\n",
    "print('Cond p(Yellow|Blue) = {:.3f}'.format(pYellowBlue))"
   ]
  },
  {
   "cell_type": "markdown",
   "metadata": {},
   "source": [
    "We now some baseline information for the probability and conditional probility of landing on each colour within the Legosphere. We can apply Bayes theorem to generate estimates for \"if we land on a yellow brick, what is the probability its red underneath?\"\n",
    "\n",
    "$$P(A|B) = \\frac {P(B|A)P(A)}{P(B)}$$\n",
    "\n",
    "$$P(Red|Yellow) = \\frac {P(Yellow|Red)P(Red)}{P(Yellow)}$$"
   ]
  },
  {
   "cell_type": "code",
   "execution_count": null,
   "metadata": {},
   "outputs": [],
   "source": [
    "pRedYellow = pYellowRed*pRed/pYellow\n",
    "print('Cond p(Red|Yellow) = {:.3f}'.format(pRedYellow))"
   ]
  },
  {
   "cell_type": "markdown",
   "metadata": {},
   "source": [
    "## Example: Evaluating Insurance claim occurences using Bayesian Inference\n",
    "\n",
    "Let's recall that Bayesian Inference follows:\n",
    "\n",
    " 1. Evaluate prior assumptions and observational data. \n",
    " 1. Develop a probabilistic model of the data.\n",
    " 1. Specify prior parameter values for the distributions of the probabilistic model.\n",
    " 1. Apply Bayes’ theorem to derive the posterior parameter values. \n",
    " \n",
    " \n",
    "###  1. Evaluate prior assumptions and observational data. \n",
    "In this example we have sample data for insurance claims occuring by Poisson distributed process. The Poisson distribution is given by:\n",
    "\n",
    "$$f(y_i|λ)=\\frac{e^{−λ}λ^{y_i}}{y_i!}$$\n",
    "\n",
    "Where lambda λ is the \"rate\" of events given by the total number of events (k) divided by the number of units (n) in the data (λ = k/n). In the Poisson disribution the expected value E(Y), mean E(X), and variance Var(Y) of Poisson distribution are the same; \n",
    "\n",
    "e.g., E(Y) = E(X) = Var(X) = λ. \n",
    "\n",
    "**note** that if the variance is greater than the mean, the data is said to be overdispersed. This is common in insurance claim data with lots of zeros and is better handled by the NegativeBinomial and [zero-inflated models](https://stats.idre.ucla.edu/r/dae/zip/) such as ZIP and ZINB."
   ]
  },
  {
   "cell_type": "code",
   "execution_count": 11,
   "metadata": {},
   "outputs": [],
   "source": [
    "import numpy as np\n",
    "import scipy.stats as stats\n",
    "import matplotlib.pyplot as plt\n",
    "import seaborn as sns"
   ]
  },
  {
   "cell_type": "code",
   "execution_count": 21,
   "metadata": {},
   "outputs": [
    {
     "name": "stdout",
     "output_type": "stream",
     "text": [
      "Mean=1.91, Var=2.10\n"
     ]
    },
    {
     "data": {
      "image/png": "[encoded data removed]",
      "text/plain": [
       "<Figure size 432x288 with 1 Axes>"
      ]
     },
     "metadata": {
      "needs_background": "light"
     },
     "output_type": "display_data"
    }
   ],
   "source": [
    "n = 300\n",
    "lam_ = 2\n",
    "y = np.random.poisson(lam=lam_,size=n)\n",
    "\n",
    "print(\"Mean={:.2f}, Var={:.2f}\".format(np.mean(y),np.var(y)))\n",
    "\n",
    "sns.histplot(y,bins=10)\n",
    "plt.title('Histogram: Simulated Poisson $y$');"
   ]
  },
  {
   "cell_type": "markdown",
   "metadata": {},
   "source": [
    "The right-skew \"heavy tail\" in our observational data fits a gamma-poisson model. This is termed the gamma-poisson conjugate prior. We could also use a beta-poisson, or any distribution that resembles the data, but gamma-poisson is suitable as [Hyvönen & Tolonen 2019](https://vioshyvo.github.io/Bayesian_inference/conjugate-distributions.html): \n",
    "- poisson can take on any positive number to infinity(0,∞), whereas a beta or uniform is [0-100]. \n",
    "- gamma has a peak close to zero\n",
    "- gamma tail goes to infinity.\n",
    "\n",
    "The gamma-poisson prior is then:\n",
    "\n",
    "$$λ∼Γ(a,b)$$\n",
    "\n",
    "gamma density functions is:\n",
    "\n",
    "$$f(λ)=\\frac{b^a}{Γ(a)}λ^{a−1}e^{−bλ}$$\n",
    "\n",
    "where a>0 is the shape parameter,and b>0 is the rate parameter, and \n",
    "\n",
    "$E(λ)=\\frac{a}{b}$ and $Var(λ)=\\frac{a}{b^2}$"
   ]
  },
  {
   "cell_type": "code",
   "execution_count": 26,
   "metadata": {},
   "outputs": [
    {
     "data": {
      "image/png": "[encoded data removed]",
      "text/plain": [
       "<Figure size 576x432 with 1 Axes>"
      ]
     },
     "metadata": {
      "needs_background": "light"
     },
     "output_type": "display_data"
    }
   ],
   "source": [
    "# Parameters of the prior gamma distribution.\n",
    "a = 3 # shape\n",
    "b = 2 # rate = 1/scale\n",
    "\n",
    "x = np.linspace(start=0, stop=10, num=100)\n",
    "\n",
    "plt.figure(figsize=(8, 6))\n",
    "plt.plot(x, stats.gamma.pdf(x,a=a,scale=1/b), 'r-')\n",
    "plt.title('Gamma Density Function for a={} and b={}'.format(a,b))\n",
    "\n",
    "# Define the prior distribution.\n",
    "prior = lambda x: stats.gamma.pdf(x, a=a, scale=1/b)"
   ]
  },
  {
   "cell_type": "markdown",
   "metadata": {},
   "source": [
    "### references\n",
    "- https://www.sciencedirect.com/science/article/abs/pii/S0740002005000249\n",
    "- https://vioshyvo.github.io/Bayesian_inference/conjugate-distributions.html"
   ]
  },
  {
   "cell_type": "code",
   "execution_count": null,
   "metadata": {},
   "outputs": [],
   "source": []
  },
  {
   "cell_type": "code",
   "execution_count": null,
   "metadata": {},
   "outputs": [],
   "source": []
  }
 ],
 "metadata": {
  "kernelspec": {
   "display_name": "Python [conda env:machine-learning]",
   "language": "python",
   "name": "conda-env-machine-learning-py"
  },
  "language_info": {
   "codemirror_mode": {
    "name": "ipython",
    "version": 3
   },
   "file_extension": ".py",
   "mimetype": "text/x-python",
   "name": "python",
   "nbconvert_exporter": "python",
   "pygments_lexer": "ipython3",
   "version": "3.7.4"
  }
 },
 "nbformat": 4,
 "nbformat_minor": 4
}
