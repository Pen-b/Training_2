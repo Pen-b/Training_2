{
 "cells": [
  {
   "cell_type": "markdown",
   "metadata": {},
   "source": [
    "# Text Classification"
   ]
  },
  {
   "cell_type": "code",
   "execution_count": 5,
   "metadata": {
    "collapsed": true
   },
   "outputs": [],
   "source": [
    "import os\n",
    "import sys\n",
    "import re\n",
    "import pandas as pd\n",
    "import numpy as np\n",
    "# import matplotlib.pyplot as plt\n",
    "# %matplotlib inline"
   ]
  },
  {
   "cell_type": "code",
   "execution_count": 6,
   "metadata": {
    "collapsed": true
   },
   "outputs": [],
   "source": [
    "path = os.getcwd()"
   ]
  },
  {
   "cell_type": "code",
   "execution_count": 7,
   "metadata": {},
   "outputs": [],
   "source": [
    "## Download Reuters Data\n",
    "## https://archive.ics.uci.edu/ml/datasets/Reuters-21578+Text+Categorization+Collection\n",
    "# !curl -O https://archive.ics.uci.edu/ml/machine-learning-databases/reuters21578-mld/reuters21578.tar.gz\n",
    "# !tar xzvf reuters21578.tar.gz"
   ]
  },
  {
   "cell_type": "markdown",
   "metadata": {},
   "source": [
    "### Text-Classification using word2vec\n",
    " - [Tutorial1](http://nadbordrozd.github.io/blog/2016/05/20/text-classification-with-word2vec/)<br>\n",
    " - [Tutorial2](https://datawarrior.wordpress.com/2016/10/12/short-text-categorization-using-deep-neural-networks-and-word-embedding-models/)\n",
    "\n",
    "### Multi-Label Classification\n",
    " - [Sklearn package](https://scikit-learn.org/stable/modules/generated/sklearn.multiclass.OneVsRestClassifier.html)\n",
    " - [NLTK Reuters data](https://miguelmalvarez.com/2015/03/20/classifying-reuters-21578-collection-with-python-representing-the-data/)\n",
    " - [Kaggle guide](https://www.kaggle.com/reiinakano/basic-nlp-bag-of-words-tf-idf-word2vec-lstm)"
   ]
  },
  {
   "cell_type": "markdown",
   "metadata": {},
   "source": [
    "# Data Cleaning"
   ]
  },
  {
   "cell_type": "code",
   "execution_count": null,
   "metadata": {
    "collapsed": true
   },
   "outputs": [],
   "source": [
    "# Remove non alpha-numerical chars, lowercase, strip whitespace\n",
    "for col in target+features:\n",
    "    df[col] = df[col].replace('[^a-zA-Z]+', ' ', regex=True).str.lower().str.strip()"
   ]
  },
  {
   "cell_type": "code",
   "execution_count": null,
   "metadata": {},
   "outputs": [],
   "source": [
    "# merge text data to one field\n",
    "df['doc'] = df[features].fillna('').apply(lambda x: ' '.join(x), axis=1)\n",
    "df['doc'].replace('\\s+', ' ', regex=True, inplace=True)\n",
    "df['doc'].replace(' ', np.nan, inplace=True)\n",
    "\n",
    "# drop short docs\n",
    "df.loc[(df['errors']!=1) & (df['doc'].str.contains('ransomware')==False) & (df['doc'].str.len()<14), 'errors'] = 1"
   ]
  },
  {
   "cell_type": "code",
   "execution_count": null,
   "metadata": {},
   "outputs": [],
   "source": [
    "print('%d %.2f have data' %(len(df), df[target[0]].value_counts().sum() / len(df)))\n",
    "df[target[0]].value_counts()"
   ]
  },
  {
   "cell_type": "markdown",
   "metadata": {},
   "source": [
    "# Training, Test and Prediction Data"
   ]
  },
  {
   "cell_type": "code",
   "execution_count": null,
   "metadata": {
    "collapsed": true
   },
   "outputs": [],
   "source": [
    "from sklearn.model_selection import train_test_split"
   ]
  },
  {
   "cell_type": "code",
   "execution_count": null,
   "metadata": {},
   "outputs": [],
   "source": [
    "df.dropna(subset=['doc'], axis=0, inplace=True)"
   ]
  },
  {
   "cell_type": "code",
   "execution_count": null,
   "metadata": {},
   "outputs": [],
   "source": [
    "predict = df.loc[df[target[0]].isnull()].copy()\n",
    "withlabel = df.loc[df[target[0]].notnull()].copy()\n",
    "len(predict), len(withlabel), len(df)"
   ]
  },
  {
   "cell_type": "code",
   "execution_count": null,
   "metadata": {},
   "outputs": [],
   "source": [
    "withlabel['er_breach_type'].value_counts() / len(withlabel)"
   ]
  },
  {
   "cell_type": "code",
   "execution_count": null,
   "metadata": {
    "collapsed": true
   },
   "outputs": [],
   "source": [
    "X_train, X_test, y_train, y_test = train_test_split(withlabel['doc'], withlabel['er_breach_type'],\n",
    "                                                    test_size=0.5, random_state=9, stratify=withlabel['er_breach_type'])"
   ]
  },
  {
   "cell_type": "code",
   "execution_count": null,
   "metadata": {},
   "outputs": [],
   "source": [
    "len(X_train), len(X_test)"
   ]
  },
  {
   "cell_type": "markdown",
   "metadata": {},
   "source": [
    "# Classification"
   ]
  },
  {
   "cell_type": "code",
   "execution_count": null,
   "metadata": {
    "collapsed": true
   },
   "outputs": [],
   "source": [
    "from sklearn.feature_extraction.text import CountVectorizer\n",
    "from sklearn.feature_extraction.text import TfidfTransformer\n",
    "from sklearn.pipeline import Pipeline\n",
    "from sklearn.model_selection import GridSearchCV\n",
    "from sklearn.linear_model import SGDClassifier\n",
    "from sklearn.naive_bayes import MultinomialNB\n",
    "TF = TfidfTransformer()\n",
    "CV = CountVectorizer()\n",
    "\n",
    "from sklearn import metrics\n",
    "#http://scikit-learn.org/stable/modules/generated/sklearn.metrics.classification_report.html#sklearn.metrics.classification_report"
   ]
  },
  {
   "cell_type": "markdown",
   "metadata": {},
   "source": [
    "# Naive Bayes"
   ]
  },
  {
   "cell_type": "code",
   "execution_count": null,
   "metadata": {
    "collapsed": true
   },
   "outputs": [],
   "source": [
    "# model param\n",
    "NB_params = {'vect__ngram_range':[(1,1),(1,2)],\n",
    "             'tfidf__use_idf':('True','False'),\n",
    "             'model__alpha':(1e-1, 1e-3)}\n",
    "\n",
    "NB_pipe = Pipeline([('vect', CountVectorizer()),\n",
    "                    ('tfidf', TfidfTransformer()),\n",
    "                    ('model', MultinomialNB())])\n",
    "\n",
    "gs_NB = GridSearchCV(NB_pipe, param_grid=NB_params, n_jobs=2)\n",
    "gs_NB = gs_NB.fit(X_train, y_train)"
   ]
  },
  {
   "cell_type": "code",
   "execution_count": null,
   "metadata": {
    "collapsed": true
   },
   "outputs": [],
   "source": [
    "print(gs_NB.best_score_, gs_NB.best_params_)\n",
    "NBcv_predict = gs_NB.predict(X_test)\n",
    "print('NB-CV accuracy: %.3f' %np.mean(NBcv_predict == y_test))"
   ]
  },
  {
   "cell_type": "code",
   "execution_count": null,
   "metadata": {
    "collapsed": true
   },
   "outputs": [],
   "source": [
    "print(metrics.classification_report(y_test, NBcv_predict))"
   ]
  },
  {
   "cell_type": "markdown",
   "metadata": {},
   "source": [
    "# SVM"
   ]
  },
  {
   "cell_type": "code",
   "execution_count": null,
   "metadata": {
    "collapsed": true
   },
   "outputs": [],
   "source": [
    "# model param\n",
    "SVM_params = {'vect__ngram_range':[(1,1),(1,2),(1,3)],\n",
    "              'tfidf__use_idf':('True','False'),\n",
    "              'model__alpha':(1e-2, 1e-4),\n",
    "              'model__penalty': ('l2', 'elasticnet'),\n",
    "              'model__max_iter': (10, 30, 100)}\n",
    "\n",
    "SVM_pipe = Pipeline([('vect', CountVectorizer()),\n",
    "                     ('tfidf', TfidfTransformer()),\n",
    "                     ('model',SGDClassifier(loss='hinge', penalty='l2',alpha=1e-3, max_iter=5, random_state=42)),])\n",
    "\n",
    "gs_SVM = GridSearchCV(SVM_pipe, param_grid=SVM_params, n_jobs=-1)\n",
    "gs_SVM = gs_SVM.fit(X_train, y_train)"
   ]
  },
  {
   "cell_type": "code",
   "execution_count": null,
   "metadata": {},
   "outputs": [],
   "source": [
    "print(gs_SVM.best_score_, gs_SVM.best_params_)\n",
    "SVMcv_predict = gs_SVM.predict(X_test)\n",
    "print('SVM-CV accuracy: %.3f' %np.mean(SVMcv_predict == y_test))"
   ]
  },
  {
   "cell_type": "code",
   "execution_count": null,
   "metadata": {},
   "outputs": [],
   "source": [
    "print(metrics.classification_report(y_test, SVMcv_predict))"
   ]
  },
  {
   "cell_type": "markdown",
   "metadata": {},
   "source": [
    "# Logit"
   ]
  },
  {
   "cell_type": "code",
   "execution_count": null,
   "metadata": {
    "collapsed": true
   },
   "outputs": [],
   "source": [
    "LOG_params = {'vect__ngram_range':[(1,1),(1,2)],\n",
    "              'tfidf__use_idf':('True','False'),\n",
    "              'model__alpha':(1e-1, 1e-3)}\n",
    "\n",
    "LOG_pipe = Pipeline([('vect', CountVectorizer()),\n",
    "                     ('tfidf', TfidfTransformer()),\n",
    "                     ('model',SGDClassifier(loss='log', penalty='l2',alpha=1e-3, max_iter=5, random_state=42)),])\n",
    "\n",
    "gs_LOG = GridSearchCV(LOG_pipe, param_grid=LOG_params, n_jobs=-1)\n",
    "gs_LOG = gs_LOG.fit(X_train, y_train)"
   ]
  },
  {
   "cell_type": "code",
   "execution_count": null,
   "metadata": {
    "collapsed": true
   },
   "outputs": [],
   "source": [
    "print(gs_LOG.best_score_, gs_LOG.best_params_)\n",
    "LOGcv_predict = gs_LOG.predict(X_test)\n",
    "print('LOG-CV accuracy: %.3f' %np.mean(LOGcv_predict == y_test))"
   ]
  },
  {
   "cell_type": "code",
   "execution_count": null,
   "metadata": {
    "collapsed": true
   },
   "outputs": [],
   "source": [
    "print(metrics.classification_report(y_test, LOGcv_predict))"
   ]
  },
  {
   "cell_type": "markdown",
   "metadata": {},
   "source": [
    "# ANN"
   ]
  },
  {
   "cell_type": "code",
   "execution_count": null,
   "metadata": {
    "collapsed": true
   },
   "outputs": [],
   "source": [
    "from sklearn.neural_network import MLPClassifier\n",
    "ANN_params = {'vect__ngram_range':[(1,1),(1,2)],\n",
    "              'tfidf__use_idf':('True','False'),\n",
    "              'model__hidden_layer_sizes':[(3,), (3,3),(3,3,3)],\n",
    "              'model__alpha':(1e-1, 1e-3)}\n",
    "\n",
    "ANN_pipe = Pipeline([('vect', CountVectorizer()),\n",
    "                     ('tfidf', TfidfTransformer()),\n",
    "                     ('model',MLPClassifier(tol=1e-4, max_iter=200)),])\n",
    "\n",
    "gs_ANN = GridSearchCV(ANN_pipe, param_grid=ANN_params, n_jobs=-1)\n",
    "gs_ANN = gs_ANN.fit(X_train, y_train)"
   ]
  },
  {
   "cell_type": "code",
   "execution_count": null,
   "metadata": {
    "collapsed": true
   },
   "outputs": [],
   "source": [
    "print(gs_ANN.best_score_, gs_ANN.best_params_)\n",
    "ANNcv_predict = gs_ANN.predict(X_test)\n",
    "print('ANN-CV accuracy: %.3f' %np.mean(ANNcv_predict == y_test))"
   ]
  },
  {
   "cell_type": "code",
   "execution_count": null,
   "metadata": {},
   "outputs": [],
   "source": [
    "(0.)"
   ]
  },
  {
   "cell_type": "code",
   "execution_count": null,
   "metadata": {
    "collapsed": true
   },
   "outputs": [],
   "source": [
    "# http://scikit-learn.org/stable/modules/model_evaluation.html#multilabel-ranking-metrics\n",
    "# http://scikit-learn.org/stable/modules/generated/sklearn.metrics.classification_report.html#sklearn.metrics.classification_report\n",
    "print(metrics.classification_report(y_test, ANNcv_predict))"
   ]
  },
  {
   "cell_type": "markdown",
   "metadata": {},
   "source": [
    "# Save Trained Models"
   ]
  },
  {
   "cell_type": "code",
   "execution_count": null,
   "metadata": {},
   "outputs": [],
   "source": [
    "from sklearn.externals import joblib\n",
    "model = r'P:\\MyWork\\cass-cyber\\models\\\\'\n",
    "joblib.dump(gs_NB , model+'gs_NB_1.0.pkl') \n",
    "joblib.dump(gs_LOG, model+'gs_LOG_1.0.pkl') \n",
    "joblib.dump(gs_SVM, model+'gs_SVM_1.0.pkl') \n",
    "joblib.dump(gs_ANN, model+'gs_ANN_1.0.pkl') \n",
    "\n",
    "# trained-model = joblib.load('filename.pkl') "
   ]
  },
  {
   "cell_type": "markdown",
   "metadata": {},
   "source": [
    "# Results"
   ]
  },
  {
   "cell_type": "code",
   "execution_count": null,
   "metadata": {
    "collapsed": true
   },
   "outputs": [],
   "source": [
    "results = pd.DataFrame({'doc':X_test,\n",
    "                        'target':y_test,\n",
    "                        'NB':NBcv_predict,\n",
    "                        'SVM':SVMcv_predict,\n",
    "                        'LOG':LOGcv_predict,\n",
    "                        'ANN':ANNcv_predict})\n",
    "\n",
    "results = results[['doc','target', 'NB', 'SVM', 'LOG', 'ANN']].copy()\n",
    "results.head()"
   ]
  },
  {
   "cell_type": "code",
   "execution_count": null,
   "metadata": {},
   "outputs": [],
   "source": [
    "len(predict), len(withlabel), len(df)"
   ]
  },
  {
   "cell_type": "code",
   "execution_count": null,
   "metadata": {},
   "outputs": [],
   "source": [
    "withlabel['breach_method'] = np.nan\n",
    "withlabel['breach_method'] = 'actual'\n",
    "withlabel['P-breach_type'] = withlabel['er_breach_type']\n",
    "\n",
    "predict['breach_method'] = np.nan\n",
    "predict['breach_method'] = 'model' # doesnt work if doc is null!\n",
    "predict['P-breach_type'] = gs_SVM.predict(predict['doc'])\n",
    "\n",
    "out = pd.concat([withlabel, predict])\n",
    "out = out[['uid', 'breach_method', 'P-breach_type']].copy()\n",
    "len(out)"
   ]
  },
  {
   "cell_type": "code",
   "execution_count": null,
   "metadata": {},
   "outputs": [],
   "source": [
    "out.head()"
   ]
  },
  {
   "cell_type": "code",
   "execution_count": null,
   "metadata": {
    "collapsed": true
   },
   "outputs": [],
   "source": [
    "df = pd.merge(df,out, how='left', left_on='uid', right_on='uid')\n",
    "df.head()"
   ]
  },
  {
   "cell_type": "code",
   "execution_count": null,
   "metadata": {
    "collapsed": true
   },
   "outputs": [],
   "source": [
    "df.to_csv(path+'data\\\\interim\\\\04_breach_prediction.csv', sep='|', encoding='utf-8', index=False)"
   ]
  },
  {
   "cell_type": "markdown",
   "metadata": {},
   "source": [
    "# Score"
   ]
  },
  {
   "cell_type": "code",
   "execution_count": null,
   "metadata": {
    "collapsed": true
   },
   "outputs": [],
   "source": [
    "from sklearn.metrics import roc_curve, auc\n",
    "from sklearn.preprocessing import label_binarize"
   ]
  },
  {
   "cell_type": "code",
   "execution_count": null,
   "metadata": {
    "collapsed": true
   },
   "outputs": [],
   "source": [
    "classes = list(y_test.unique())\n",
    "classes"
   ]
  },
  {
   "cell_type": "code",
   "execution_count": null,
   "metadata": {
    "collapsed": true
   },
   "outputs": [],
   "source": [
    "Test = label_binarize(y_test, classes=classes)\n",
    "Test.shape"
   ]
  },
  {
   "cell_type": "code",
   "execution_count": null,
   "metadata": {
    "collapsed": true
   },
   "outputs": [],
   "source": [
    "SVM = label_binarize(SVMcv_predict, classes=classes)\n",
    "SVM.shape"
   ]
  },
  {
   "cell_type": "code",
   "execution_count": null,
   "metadata": {
    "collapsed": true
   },
   "outputs": [],
   "source": [
    "fig,axs = plt.subplots(1,1, figsize=(7,7))\n",
    "fpr = dict()\n",
    "tpr = dict()\n",
    "roc_auc = dict()\n",
    "\n",
    "for i,c in enumerate(classes):\n",
    "    fpr[i], tpr[i], _ = roc_curve(Test[:, i], SVM[:, i])\n",
    "    roc_auc[i] = auc(fpr[i], tpr[i])\n",
    "    \n",
    "    axs.plot(fpr[i], tpr[i], label='%s AUC:%.2f'%(c.upper(),roc_auc[i]))\n",
    "    axs.legend()\n",
    "    axs.set_xlim(0,1)\n",
    "    axs.set_ylim(0,1)"
   ]
  },
  {
   "cell_type": "code",
   "execution_count": null,
   "metadata": {
    "collapsed": true
   },
   "outputs": [],
   "source": []
  },
  {
   "cell_type": "code",
   "execution_count": null,
   "metadata": {
    "collapsed": true
   },
   "outputs": [],
   "source": []
  }
 ],
 "metadata": {
  "kernelspec": {
   "display_name": "Python [conda env:spacy]",
   "language": "python",
   "name": "conda-env-spacy-py"
  },
  "language_info": {
   "codemirror_mode": {
    "name": "ipython",
    "version": 3
   },
   "file_extension": ".py",
   "mimetype": "text/x-python",
   "name": "python",
   "nbconvert_exporter": "python",
   "pygments_lexer": "ipython3",
   "version": "3.5.6"
  }
 },
 "nbformat": 4,
 "nbformat_minor": 2
}
